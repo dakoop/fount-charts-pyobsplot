{
 "cells": [
  {
   "cell_type": "markdown",
   "id": "5c276189-4039-4a9c-9b14-7c99d1982502",
   "metadata": {
    "id": "5c276189-4039-4a9c-9b14-7c99d1982502"
   },
   "source": [
    "# Charts\n",
    "\n",
    "* Authors: Ramakrishna Reddy Loka, David Koop\n",
    "* Last Updated: 2025-04-15"
   ]
  },
  {
   "cell_type": "markdown",
   "id": "5bf68de7-a102-40d0-926d-e768002fde2b",
   "metadata": {
    "id": "5bf68de7-a102-40d0-926d-e768002fde2b"
   },
   "source": [
    "## Introduction\n",
    "\n",
    "Data visualization is a field that concerns the representation and presentation of data in the visual form. Such visualizations can reveal patterns, trends, and relationships in data, and there are many important guidelines about how to best represent and communicate data. While custom visualizations can be eye-catching and memorable, there a number of standard chart types that are commonly used to visualize data. Sometimes these charts are also known as *plots* (e.g. line plots) or *graphs* (e.g. bar graphs). In this courselet, we will explore different types of charts using the pyobsplot library."
   ]
  },
  {
   "cell_type": "markdown",
   "id": "ab2eaa35-2044-41ad-833b-ec2654b0fd50",
   "metadata": {
    "id": "ab2eaa35-2044-41ad-833b-ec2654b0fd50"
   },
   "source": [
    "\n",
    "## Python Data Visualization Libraries\n",
    "\n",
    "To begin constructing data visualizations in python, we need to select a library to use to create the visualizations. There is a sprawling [landscape](https://pyviz.org/overviews/) of visualizaiton libraries in python. One of the newest and promising libraries is [pyobsplot](https://juba.github.io/pyobsplot/), and we will use that library for this courselet. Pyobsplot is a Python interface to the Observable Plot JavaScript library, allowing to create modern, interactive visualizations using a concise and intuitive API. However, there are a number of alternatives that may be useful depending on your needs, both in terms of types of charts and options, and for eventually deploying the visualizations. Some other popular charting libraries include:\n",
    "\n",
    "* [Matplotlib](https://matplotlib.org/): Matplotlib is a comprehensive library for creating static, animated, and interactive visualizations in Python. It provides a MATLAB-like interface for creating a wide variety of plots and figures. Matplotlib is highly customizable and can produce publication-quality figures in a variety of formats. It serves as the foundation for many other Python visualization libraries.\n",
    "\n",
    "* [Plotly](https://plotly.com/python/): Plotly is a library that allows you to create interactive and dynamic visualizations that can be embedded in web applications or dashboards. It provides a range of chart types and customization options, and allows you to create animations and interactive controls. Plotly is a good choice if you need to create web-based interactive visualizations.\n",
    "\n",
    "* [Vega-Altair](https://altair-viz.github.io/): Vega-Altair is a library that allows you to create declarative visualizations that are based on a grammar of graphics. It provides a concise and intuitive syntax for creating charts, and allows you to easily customize the look and feel of your charts. Vega-Altair is a good choice if you want to create complex visualizations using a declarative, grammar-based approach."
   ]
  },
  {
   "cell_type": "markdown",
   "id": "d49b3c5f-b029-4420-ae4b-d12adf3bedc2",
   "metadata": {
    "id": "d49b3c5f-b029-4420-ae4b-d12adf3bedc2"
   },
   "source": [
    "## Installing the required libraries\n",
    "\n",
    "In this courselet, we will be using pyobsplot, a Python interface to the Observable Plot JavaScript library, for creating our data visualizations. In order to create charts in this courselet, it is necessary to install [pyobsplot](https://juba.github.io/pyobsplot/). To install pyobsplot, simply run the following command in your Python environment:\n",
    "```sh\n",
    "pip install pyobsplot\n",
    "```\n",
    "While pyobsplot supports building visualizations in a number of different ways, the most straightforward method is by using the `Plot` class. This is often imported as follows:"
   ]
  },
  {
   "cell_type": "code",
   "execution_count": 2,
   "id": "d2fd79fd-40a1-45e1-b375-f37ed673de60",
   "metadata": {
    "id": "d2fd79fd-40a1-45e1-b375-f37ed673de60"
   },
   "outputs": [],
   "source": [
    "from pyobsplot import Plot"
   ]
  },
  {
   "cell_type": "markdown",
   "id": "b44cae77",
   "metadata": {},
   "source": [
    "### Viewing Outputs\n",
    "\n",
    "In order to view the outputs of this notebook without running it, you must set it to be [trusted](https://jupyterlab.readthedocs.io/en/latest/user/notebook.html#trust). Some notebook viewers (e.g. Visual Studio Code) will ask you about this for a workspace. In JupyterLab, you can set the notebook to trusted by going to the Command Palette and running the \"Trust Notebook\" command. "
   ]
  },
  {
   "cell_type": "markdown",
   "id": "ce92be16-21bc-4bbe-aa64-812bb2bfd119",
   "metadata": {
    "id": "ce92be16-21bc-4bbe-aa64-812bb2bfd119"
   },
   "source": [
    "## Datasets\n",
    "\n",
    "For this courselet, we will be using the [Gapminder](https://www.gapminder.org/tools/#$chart-type=bubbles&url=v2) data as persisted by [vega-datasets](https://github.com/vega/vega-datasets). Run the next cells to download this data and parse this data locally."
   ]
  },
  {
   "cell_type": "code",
   "execution_count": 4,
   "id": "b29e30e5-c8e1-45c6-b238-afd079210f14",
   "metadata": {
    "id": "b29e30e5-c8e1-45c6-b238-afd079210f14"
   },
   "outputs": [],
   "source": [
    "import os\n",
    "import json\n",
    "from urllib.request import urlretrieve\n",
    "\n",
    "url = \"https://raw.githubusercontent.com/vega/vega-datasets/refs/heads/main/data/gapminder.json\"\n",
    "local_fname = \"gapminder.json\"\n",
    "if not os.path.exists(local_fname):\n",
    "    urlretrieve(url, local_fname)"
   ]
  },
  {
   "cell_type": "code",
   "execution_count": 5,
   "id": "77f15f9d-c7cc-4e22-a29d-35987e11106b",
   "metadata": {
    "colab": {
     "base_uri": "https://localhost:8080/",
     "height": 443
    },
    "id": "77f15f9d-c7cc-4e22-a29d-35987e11106b",
    "outputId": "c240c74a-1731-459c-8c97-c7a4e5eda648",
    "scrolled": true
   },
   "outputs": [
    {
     "data": {
      "text/html": [
       "<div><style>\n",
       ".dataframe > thead > tr,\n",
       ".dataframe > tbody > tr {\n",
       "  text-align: right;\n",
       "  white-space: pre-wrap;\n",
       "}\n",
       "</style>\n",
       "<small>shape: (682, 7)</small><table border=\"1\" class=\"dataframe\"><thead><tr><th>year</th><th>country</th><th>cluster</th><th>pop</th><th>life_expect</th><th>fertility</th><th>region</th></tr><tr><td>i64</td><td>str</td><td>i64</td><td>i64</td><td>f64</td><td>f64</td><td>str</td></tr></thead><tbody><tr><td>1955</td><td>&quot;Afghanistan&quot;</td><td>0</td><td>7971931</td><td>43.88</td><td>7.42</td><td>&quot;S. Asia&quot;</td></tr><tr><td>1960</td><td>&quot;Afghanistan&quot;</td><td>0</td><td>8622466</td><td>45.03</td><td>7.38</td><td>&quot;S. Asia&quot;</td></tr><tr><td>1965</td><td>&quot;Afghanistan&quot;</td><td>0</td><td>9565147</td><td>46.13</td><td>7.35</td><td>&quot;S. Asia&quot;</td></tr><tr><td>1970</td><td>&quot;Afghanistan&quot;</td><td>0</td><td>10752971</td><td>47.08</td><td>7.4</td><td>&quot;S. Asia&quot;</td></tr><tr><td>1975</td><td>&quot;Afghanistan&quot;</td><td>0</td><td>12157386</td><td>47.55</td><td>7.54</td><td>&quot;S. Asia&quot;</td></tr><tr><td>&hellip;</td><td>&hellip;</td><td>&hellip;</td><td>&hellip;</td><td>&hellip;</td><td>&hellip;</td><td>&hellip;</td></tr><tr><td>1985</td><td>&quot;Venezuela&quot;</td><td>3</td><td>17402304</td><td>71.56</td><td>3.79</td><td>&quot;Americas&quot;</td></tr><tr><td>1990</td><td>&quot;Venezuela&quot;</td><td>3</td><td>19750579</td><td>72.44</td><td>3.45</td><td>&quot;Americas&quot;</td></tr><tr><td>1995</td><td>&quot;Venezuela&quot;</td><td>3</td><td>22107286</td><td>72.61</td><td>3.08</td><td>&quot;Americas&quot;</td></tr><tr><td>2000</td><td>&quot;Venezuela&quot;</td><td>3</td><td>24427729</td><td>74.17</td><td>2.82</td><td>&quot;Americas&quot;</td></tr><tr><td>2005</td><td>&quot;Venezuela&quot;</td><td>3</td><td>26668785</td><td>75.01</td><td>2.63</td><td>&quot;Americas&quot;</td></tr></tbody></table></div>"
      ],
      "text/plain": [
       "shape: (682, 7)\n",
       "┌──────┬─────────────┬─────────┬──────────┬─────────────┬───────────┬──────────┐\n",
       "│ year ┆ country     ┆ cluster ┆ pop      ┆ life_expect ┆ fertility ┆ region   │\n",
       "│ ---  ┆ ---         ┆ ---     ┆ ---      ┆ ---         ┆ ---       ┆ ---      │\n",
       "│ i64  ┆ str         ┆ i64     ┆ i64      ┆ f64         ┆ f64       ┆ str      │\n",
       "╞══════╪═════════════╪═════════╪══════════╪═════════════╪═══════════╪══════════╡\n",
       "│ 1955 ┆ Afghanistan ┆ 0       ┆ 7971931  ┆ 43.88       ┆ 7.42      ┆ S. Asia  │\n",
       "│ 1960 ┆ Afghanistan ┆ 0       ┆ 8622466  ┆ 45.03       ┆ 7.38      ┆ S. Asia  │\n",
       "│ 1965 ┆ Afghanistan ┆ 0       ┆ 9565147  ┆ 46.13       ┆ 7.35      ┆ S. Asia  │\n",
       "│ 1970 ┆ Afghanistan ┆ 0       ┆ 10752971 ┆ 47.08       ┆ 7.4       ┆ S. Asia  │\n",
       "│ 1975 ┆ Afghanistan ┆ 0       ┆ 12157386 ┆ 47.55       ┆ 7.54      ┆ S. Asia  │\n",
       "│ …    ┆ …           ┆ …       ┆ …        ┆ …           ┆ …         ┆ …        │\n",
       "│ 1985 ┆ Venezuela   ┆ 3       ┆ 17402304 ┆ 71.56       ┆ 3.79      ┆ Americas │\n",
       "│ 1990 ┆ Venezuela   ┆ 3       ┆ 19750579 ┆ 72.44       ┆ 3.45      ┆ Americas │\n",
       "│ 1995 ┆ Venezuela   ┆ 3       ┆ 22107286 ┆ 72.61       ┆ 3.08      ┆ Americas │\n",
       "│ 2000 ┆ Venezuela   ┆ 3       ┆ 24427729 ┆ 74.17       ┆ 2.82      ┆ Americas │\n",
       "│ 2005 ┆ Venezuela   ┆ 3       ┆ 26668785 ┆ 75.01       ┆ 2.63      ┆ Americas │\n",
       "└──────┴─────────────┴─────────┴──────────┴─────────────┴───────────┴──────────┘"
      ]
     },
     "execution_count": 5,
     "metadata": {},
     "output_type": "execute_result"
    }
   ],
   "source": [
    "import polars as pl\n",
    "\n",
    "df = pl.read_json(\"gapminder.json\")\n",
    "\n",
    "# adding new 'region' column from 'cluster' for descriptive labels.\n",
    "cluster_mapping = {\n",
    "    0: \"S. Asia\",\n",
    "    1: \"Europe\",\n",
    "    2: \"Africa\",\n",
    "    3: \"Americas\",\n",
    "    4: \"E. Asia & Pacific\",\n",
    "    5: \"Mid. East\",\n",
    "}\n",
    "df = df.with_columns(pl.col(\"cluster\").replace_strict(cluster_mapping).alias(\"region\"))\n",
    "\n",
    "df"
   ]
  },
  {
   "cell_type": "markdown",
   "id": "f64cc69a-d004-4aeb-92ac-380d6e77b9f7",
   "metadata": {
    "id": "f64cc69a-d004-4aeb-92ac-380d6e77b9f7"
   },
   "source": [
    "## Line Graph\n",
    "\n",
    "A [line chart](https://juba.github.io/pyobsplot/usage.html) is a chart that displays information as a series of data **points** connected by straight **lines**. Line charts can be used to show trends over time, and they are particularly useful for visualizing data that changes continuously. This is the default plot in matplotlib and therefore is constructed using the `plot` method. Here, we examine the life expectancy in the United States from 1955-2005. The data we start with is composed of two paired sequences, one for the years and another for the values."
   ]
  },
  {
   "cell_type": "code",
   "execution_count": 6,
   "id": "248521ed-f2a6-44df-b7e4-ef5a55fe3874",
   "metadata": {
    "colab": {
     "base_uri": "https://localhost:8080/",
     "height": 443
    },
    "id": "248521ed-f2a6-44df-b7e4-ef5a55fe3874",
    "outputId": "fb39fabd-e342-4f80-d27a-8d0504b52e1b"
   },
   "outputs": [
    {
     "data": {
      "text/html": [
       "<div><style>\n",
       ".dataframe > thead > tr,\n",
       ".dataframe > tbody > tr {\n",
       "  text-align: right;\n",
       "  white-space: pre-wrap;\n",
       "}\n",
       "</style>\n",
       "<small>shape: (11, 7)</small><table border=\"1\" class=\"dataframe\"><thead><tr><th>year</th><th>country</th><th>cluster</th><th>pop</th><th>life_expect</th><th>fertility</th><th>region</th></tr><tr><td>i64</td><td>str</td><td>i64</td><td>i64</td><td>f64</td><td>f64</td><td>str</td></tr></thead><tbody><tr><td>1955</td><td>&quot;United States&quot;</td><td>3</td><td>161136449</td><td>69.86</td><td>3.47</td><td>&quot;Americas&quot;</td></tr><tr><td>1960</td><td>&quot;United States&quot;</td><td>3</td><td>176188578</td><td>70.06</td><td>3.58</td><td>&quot;Americas&quot;</td></tr><tr><td>1965</td><td>&quot;United States&quot;</td><td>3</td><td>189703283</td><td>70.37</td><td>2.87</td><td>&quot;Americas&quot;</td></tr><tr><td>1970</td><td>&quot;United States&quot;</td><td>3</td><td>200328340</td><td>70.93</td><td>2.47</td><td>&quot;Americas&quot;</td></tr><tr><td>1975</td><td>&quot;United States&quot;</td><td>3</td><td>211274535</td><td>72.73</td><td>1.77</td><td>&quot;Americas&quot;</td></tr><tr><td>&hellip;</td><td>&hellip;</td><td>&hellip;</td><td>&hellip;</td><td>&hellip;</td><td>&hellip;</td><td>&hellip;</td></tr><tr><td>1985</td><td>&quot;United States&quot;</td><td>3</td><td>235146182</td><td>74.91</td><td>1.84</td><td>&quot;Americas&quot;</td></tr><tr><td>1990</td><td>&quot;United States&quot;</td><td>3</td><td>248083732</td><td>75.72</td><td>2.07</td><td>&quot;Americas&quot;</td></tr><tr><td>1995</td><td>&quot;United States&quot;</td><td>3</td><td>265660556</td><td>76.08</td><td>1.97</td><td>&quot;Americas&quot;</td></tr><tr><td>2000</td><td>&quot;United States&quot;</td><td>3</td><td>282398554</td><td>77.03</td><td>2.05</td><td>&quot;Americas&quot;</td></tr><tr><td>2005</td><td>&quot;United States&quot;</td><td>3</td><td>296842670</td><td>77.73</td><td>2.06</td><td>&quot;Americas&quot;</td></tr></tbody></table></div>"
      ],
      "text/plain": [
       "shape: (11, 7)\n",
       "┌──────┬───────────────┬─────────┬───────────┬─────────────┬───────────┬──────────┐\n",
       "│ year ┆ country       ┆ cluster ┆ pop       ┆ life_expect ┆ fertility ┆ region   │\n",
       "│ ---  ┆ ---           ┆ ---     ┆ ---       ┆ ---         ┆ ---       ┆ ---      │\n",
       "│ i64  ┆ str           ┆ i64     ┆ i64       ┆ f64         ┆ f64       ┆ str      │\n",
       "╞══════╪═══════════════╪═════════╪═══════════╪═════════════╪═══════════╪══════════╡\n",
       "│ 1955 ┆ United States ┆ 3       ┆ 161136449 ┆ 69.86       ┆ 3.47      ┆ Americas │\n",
       "│ 1960 ┆ United States ┆ 3       ┆ 176188578 ┆ 70.06       ┆ 3.58      ┆ Americas │\n",
       "│ 1965 ┆ United States ┆ 3       ┆ 189703283 ┆ 70.37       ┆ 2.87      ┆ Americas │\n",
       "│ 1970 ┆ United States ┆ 3       ┆ 200328340 ┆ 70.93       ┆ 2.47      ┆ Americas │\n",
       "│ 1975 ┆ United States ┆ 3       ┆ 211274535 ┆ 72.73       ┆ 1.77      ┆ Americas │\n",
       "│ …    ┆ …             ┆ …       ┆ …         ┆ …           ┆ …         ┆ …        │\n",
       "│ 1985 ┆ United States ┆ 3       ┆ 235146182 ┆ 74.91       ┆ 1.84      ┆ Americas │\n",
       "│ 1990 ┆ United States ┆ 3       ┆ 248083732 ┆ 75.72       ┆ 2.07      ┆ Americas │\n",
       "│ 1995 ┆ United States ┆ 3       ┆ 265660556 ┆ 76.08       ┆ 1.97      ┆ Americas │\n",
       "│ 2000 ┆ United States ┆ 3       ┆ 282398554 ┆ 77.03       ┆ 2.05      ┆ Americas │\n",
       "│ 2005 ┆ United States ┆ 3       ┆ 296842670 ┆ 77.73       ┆ 2.06      ┆ Americas │\n",
       "└──────┴───────────────┴─────────┴───────────┴─────────────┴───────────┴──────────┘"
      ]
     },
     "execution_count": 6,
     "metadata": {},
     "output_type": "execute_result"
    }
   ],
   "source": [
    "life_expect_US_df = df.filter(pl.col(\"country\") == \"United States\")\n",
    "life_expect_US_df"
   ]
  },
  {
   "cell_type": "markdown",
   "id": "Dh6NYaMqwOgD",
   "metadata": {
    "id": "Dh6NYaMqwOgD"
   },
   "source": [
    "The line chart will be generated using the **life_expect_US_df** DataFrame. Within the `Plot.lineY()` function, we can directly reference column names for data mapping. For instance, *year* and *life_expect* will be mapped to the x and y axes, respectively."
   ]
  },
  {
   "cell_type": "code",
   "execution_count": 7,
   "id": "7f6f195a-bf5b-4650-9afd-8ba66786c70f",
   "metadata": {
    "colab": {
     "base_uri": "https://localhost:8080/",
     "height": 463
    },
    "dfmetadata": {
     "inputVars": {
      "ref": {},
      "tag_refs": {}
     },
     "outputVars": [],
     "persistentCode": "",
     "tag": ""
    },
    "id": "7f6f195a-bf5b-4650-9afd-8ba66786c70f",
    "outputId": "3a632983-6913-4824-aac6-48143dcba0f7"
   },
   "outputs": [
    {
     "data": {
      "text/html": [
       "<figure class=\"plot-d6a7b5-figure\" style=\"max-width: initial; padding: 0px 5px 5px 5px; color: rgb(0, 0, 0); background-color: rgb(255, 255, 255);\" typstbg=\"#FFFFFF\" typstfg=\"#000000\" typstcaption=\"#777777\"><svg class=\"plot-d6a7b5\" fill=\"currentColor\" font-family=\"system-ui, sans-serif\" font-size=\"10\" text-anchor=\"middle\" width=\"640\" height=\"400\" viewBox=\"0 0 640 400\" xmlns=\"http://www.w3.org/2000/svg\" xmlns:xlink=\"http://www.w3.org/1999/xlink\" style=\"color: rgb(0, 0, 0); background-color: rgb(255, 255, 255);\"><style>:where(.plot-d6a7b5) {\n",
       "  --plot-background: white;\n",
       "  display: block;\n",
       "  height: auto;\n",
       "  height: intrinsic;\n",
       "  max-width: 100%;\n",
       "}\n",
       ":where(.plot-d6a7b5 text),\n",
       ":where(.plot-d6a7b5 tspan) {\n",
       "  white-space: pre;\n",
       "}</style><g aria-label=\"y-axis tick\" aria-hidden=\"true\" fill=\"none\" stroke=\"currentColor\"><path transform=\"translate(40,363.7738246505718)\" d=\"M0,0L-6,0\"></path><path transform=\"translate(40,319.3011435832275)\" d=\"M0,0L-6,0\"></path><path transform=\"translate(40,274.8284625158832)\" d=\"M0,0L-6,0\"></path><path transform=\"translate(40,230.3557814485388)\" d=\"M0,0L-6,0\"></path><path transform=\"translate(40,185.88310038119448)\" d=\"M0,0L-6,0\"></path><path transform=\"translate(40,141.41041931385018)\" d=\"M0,0L-6,0\"></path><path transform=\"translate(40,96.93773824650584)\" d=\"M0,0L-6,0\"></path><path transform=\"translate(40,52.46505717916155)\" d=\"M0,0L-6,0\"></path></g><g aria-label=\"y-axis tick label\" text-anchor=\"end\" font-variant=\"tabular-nums\" transform=\"translate(-9,0)\"><text y=\"0.32em\" transform=\"translate(40,363.7738246505718)\">70</text><text y=\"0.32em\" transform=\"translate(40,319.3011435832275)\">71</text><text y=\"0.32em\" transform=\"translate(40,274.8284625158832)\">72</text><text y=\"0.32em\" transform=\"translate(40,230.3557814485388)\">73</text><text y=\"0.32em\" transform=\"translate(40,185.88310038119448)\">74</text><text y=\"0.32em\" transform=\"translate(40,141.41041931385018)\">75</text><text y=\"0.32em\" transform=\"translate(40,96.93773824650584)\">76</text><text y=\"0.32em\" transform=\"translate(40,52.46505717916155)\">77</text></g><g aria-label=\"y-axis label\" text-anchor=\"start\" transform=\"translate(-37,-17)\"><text y=\"0.71em\" transform=\"translate(40,20)\">↑ life_expect</text></g><g aria-label=\"x-axis tick\" aria-hidden=\"true\" fill=\"none\" stroke=\"currentColor\"><path transform=\"translate(40,370)\" d=\"M0,0L0,6\"></path><path transform=\"translate(98,370)\" d=\"M0,0L0,6\"></path><path transform=\"translate(156,370)\" d=\"M0,0L0,6\"></path><path transform=\"translate(214,370)\" d=\"M0,0L0,6\"></path><path transform=\"translate(272,370)\" d=\"M0,0L0,6\"></path><path transform=\"translate(330,370)\" d=\"M0,0L0,6\"></path><path transform=\"translate(388,370)\" d=\"M0,0L0,6\"></path><path transform=\"translate(446,370)\" d=\"M0,0L0,6\"></path><path transform=\"translate(504,370)\" d=\"M0,0L0,6\"></path><path transform=\"translate(562,370)\" d=\"M0,0L0,6\"></path><path transform=\"translate(620,370)\" d=\"M0,0L0,6\"></path></g><g aria-label=\"x-axis tick label\" font-variant=\"tabular-nums\" transform=\"translate(0,9)\"><text y=\"0.71em\" transform=\"translate(40,370)\">1955</text><text y=\"0.71em\" transform=\"translate(98,370)\">1960</text><text y=\"0.71em\" transform=\"translate(156,370)\">1965</text><text y=\"0.71em\" transform=\"translate(214,370)\">1970</text><text y=\"0.71em\" transform=\"translate(272,370)\">1975</text><text y=\"0.71em\" transform=\"translate(330,370)\">1980</text><text y=\"0.71em\" transform=\"translate(388,370)\">1985</text><text y=\"0.71em\" transform=\"translate(446,370)\">1990</text><text y=\"0.71em\" transform=\"translate(504,370)\">1995</text><text y=\"0.71em\" transform=\"translate(562,370)\">2000</text><text y=\"0.71em\" transform=\"translate(620,370)\">2005</text></g><g aria-label=\"x-axis label\" text-anchor=\"end\" transform=\"translate(17,27)\"><text transform=\"translate(620,370)\">year →</text></g><g aria-label=\"line\" fill=\"none\" stroke=\"currentColor\" stroke-width=\"1.5\" stroke-linejoin=\"round\" stroke-linecap=\"round\"><path d=\"M40,370L98,361.105L156,347.319L214,322.414L272,242.363L330,187.662L388,145.413L446,109.39L504,93.38L562,51.131L620,20\"></path></g></svg></figure>"
      ],
      "text/plain": [
       "<IPython.core.display.HTML object>"
      ]
     },
     "metadata": {},
     "output_type": "display_data"
    }
   ],
   "source": [
    "Plot.plot(\n",
    "    {\n",
    "        \"x\": {\"tickFormat\": \"d\"},\n",
    "        \"marks\": [\n",
    "            Plot.lineY(\n",
    "                life_expect_US_df,\n",
    "                {\n",
    "                    \"x\": \"year\",  # Map 'year' column to x-axis\n",
    "                    \"y\": \"life_expect\",  # Map 'life_expect' column to y-axis\n",
    "                },\n",
    "            )\n",
    "        ],\n",
    "    }\n",
    ")"
   ]
  },
  {
   "cell_type": "markdown",
   "id": "70e587b3-e775-4b25-afee-3e13964f6bd5",
   "metadata": {
    "id": "70e587b3-e775-4b25-afee-3e13964f6bd5"
   },
   "source": [
    "A line plot places points according to an x-position (left-to-right) which in our case represents the year and according to a y-position (bottom-to-top) which in our case represents the average life expectancy in that year. Those dots are connected by straight lines so we can see the trends over time. The implication of the line segements is that the values continuously change from one measurement to another.\n",
    "\n",
    "Besides the line segments, the plot also shows two **axes**, the x-axis and the y-axis. The axes have **labeled tick marks** that help viewers read the values for a particular location along the line. Since we already know the data we are plotting, understanding the visualization is straightforward--we see a trend of increasing life expectancy over the years. However, suppose you were just shown this graph without that background information. We might guess that the x-axis shows years, but the y-axis could be any number of different measures.\n",
    "\n",
    "## Adding Labels\n",
    "\n",
    "Before publishing a line plot, we should label the axes in the graph and provide a title for the visualization. Pyobsplot uses a declarative approach where we define all aspects of the plot in a single configuration. To add labels to the axes and a title to the plot, we include these elements directly in the plot configuration by using the `label` and `title` key.\n",
    "\n",
    "To set the labels for the horizontal and vertical axes, define the `label` key within the `x` and `y` values, to set the labels for the horizontal and vertical axes respectively. We can add a title to the plot by using the `title` key at the top level of the configuration.\n",
    "\n",
    "Additionally, you can use the `labelAnchor` key to set the position of the label to top, right, bottom, left, or center."
   ]
  },
  {
   "cell_type": "code",
   "execution_count": 8,
   "id": "a56fdb41-1a17-46d3-9725-39aa4dd62960",
   "metadata": {
    "colab": {
     "base_uri": "https://localhost:8080/",
     "height": 484
    },
    "id": "a56fdb41-1a17-46d3-9725-39aa4dd62960",
    "outputId": "ef5b87c3-7eb9-4114-f07f-542ff71033d0"
   },
   "outputs": [
    {
     "data": {
      "text/html": [
       "<figure class=\"plot-d6a7b5-figure\" style=\"max-width: initial; padding: 0px 5px 5px 5px; color: rgb(0, 0, 0); background-color: rgb(255, 255, 255);\" typstbg=\"#FFFFFF\" typstfg=\"#000000\" typstcaption=\"#777777\"><h2 style=\"line-height: 28px; font-size: 20px; font-weight: 600; margin: 0px;\">Life Expectancy in the United States</h2><svg class=\"plot-d6a7b5\" fill=\"currentColor\" font-family=\"system-ui, sans-serif\" font-size=\"10\" text-anchor=\"middle\" width=\"640\" height=\"400\" viewBox=\"0 0 640 400\" xmlns=\"http://www.w3.org/2000/svg\" xmlns:xlink=\"http://www.w3.org/1999/xlink\" style=\"color: rgb(0, 0, 0); background-color: rgb(255, 255, 255);\"><style>:where(.plot-d6a7b5) {\n",
       "  --plot-background: white;\n",
       "  display: block;\n",
       "  height: auto;\n",
       "  height: intrinsic;\n",
       "  max-width: 100%;\n",
       "}\n",
       ":where(.plot-d6a7b5 text),\n",
       ":where(.plot-d6a7b5 tspan) {\n",
       "  white-space: pre;\n",
       "}</style><g aria-label=\"y-axis tick\" aria-hidden=\"true\" fill=\"none\" stroke=\"currentColor\"><path transform=\"translate(40,363.7738246505718)\" d=\"M0,0L-6,0\"></path><path transform=\"translate(40,319.3011435832275)\" d=\"M0,0L-6,0\"></path><path transform=\"translate(40,274.8284625158832)\" d=\"M0,0L-6,0\"></path><path transform=\"translate(40,230.3557814485388)\" d=\"M0,0L-6,0\"></path><path transform=\"translate(40,185.88310038119448)\" d=\"M0,0L-6,0\"></path><path transform=\"translate(40,141.41041931385018)\" d=\"M0,0L-6,0\"></path><path transform=\"translate(40,96.93773824650584)\" d=\"M0,0L-6,0\"></path><path transform=\"translate(40,52.46505717916155)\" d=\"M0,0L-6,0\"></path></g><g aria-label=\"y-axis tick label\" text-anchor=\"end\" font-variant=\"tabular-nums\" transform=\"translate(-9,0)\"><text y=\"0.32em\" transform=\"translate(40,363.7738246505718)\">70</text><text y=\"0.32em\" transform=\"translate(40,319.3011435832275)\">71</text><text y=\"0.32em\" transform=\"translate(40,274.8284625158832)\">72</text><text y=\"0.32em\" transform=\"translate(40,230.3557814485388)\">73</text><text y=\"0.32em\" transform=\"translate(40,185.88310038119448)\">74</text><text y=\"0.32em\" transform=\"translate(40,141.41041931385018)\">75</text><text y=\"0.32em\" transform=\"translate(40,96.93773824650584)\">76</text><text y=\"0.32em\" transform=\"translate(40,52.46505717916155)\">77</text></g><g aria-label=\"y-axis label\" transform=\"translate(-37,0)\"><text y=\"0.71em\" transform=\"translate(40,195) rotate(-90)\">Life Expectancy →</text></g><g aria-label=\"x-axis tick\" aria-hidden=\"true\" fill=\"none\" stroke=\"currentColor\"><path transform=\"translate(40,370)\" d=\"M0,0L0,6\"></path><path transform=\"translate(98,370)\" d=\"M0,0L0,6\"></path><path transform=\"translate(156,370)\" d=\"M0,0L0,6\"></path><path transform=\"translate(214,370)\" d=\"M0,0L0,6\"></path><path transform=\"translate(272,370)\" d=\"M0,0L0,6\"></path><path transform=\"translate(330,370)\" d=\"M0,0L0,6\"></path><path transform=\"translate(388,370)\" d=\"M0,0L0,6\"></path><path transform=\"translate(446,370)\" d=\"M0,0L0,6\"></path><path transform=\"translate(504,370)\" d=\"M0,0L0,6\"></path><path transform=\"translate(562,370)\" d=\"M0,0L0,6\"></path><path transform=\"translate(620,370)\" d=\"M0,0L0,6\"></path></g><g aria-label=\"x-axis tick label\" font-variant=\"tabular-nums\" transform=\"translate(0,9)\"><text y=\"0.71em\" transform=\"translate(40,370)\">1955</text><text y=\"0.71em\" transform=\"translate(98,370)\">1960</text><text y=\"0.71em\" transform=\"translate(156,370)\">1965</text><text y=\"0.71em\" transform=\"translate(214,370)\">1970</text><text y=\"0.71em\" transform=\"translate(272,370)\">1975</text><text y=\"0.71em\" transform=\"translate(330,370)\">1980</text><text y=\"0.71em\" transform=\"translate(388,370)\">1985</text><text y=\"0.71em\" transform=\"translate(446,370)\">1990</text><text y=\"0.71em\" transform=\"translate(504,370)\">1995</text><text y=\"0.71em\" transform=\"translate(562,370)\">2000</text><text y=\"0.71em\" transform=\"translate(620,370)\">2005</text></g><g aria-label=\"x-axis label\" transform=\"translate(0,27)\"><text transform=\"translate(330,370)\">Year →</text></g><g aria-label=\"line\" fill=\"none\" stroke=\"currentColor\" stroke-width=\"1.5\" stroke-linejoin=\"round\" stroke-linecap=\"round\"><path d=\"M40,370L98,361.105L156,347.319L214,322.414L272,242.363L330,187.662L388,145.413L446,109.39L504,93.38L562,51.131L620,20\"></path></g></svg></figure>"
      ],
      "text/plain": [
       "<IPython.core.display.HTML object>"
      ]
     },
     "metadata": {},
     "output_type": "display_data"
    }
   ],
   "source": [
    "Plot.plot(\n",
    "    {\n",
    "        \"title\": \"Life Expectancy in the United States\",\n",
    "        \"x\": {\"tickFormat\": \"d\", \"label\": \"Year\", \"labelAnchor\": \"center\"},\n",
    "        \"y\": {\"label\": \"Life Expectancy\", \"labelAnchor\": \"center\"},\n",
    "        \"marks\": [Plot.lineY(life_expect_US_df, {\"x\": \"year\", \"y\": \"life_expect\"})],\n",
    "    }\n",
    ")"
   ]
  },
  {
   "cell_type": "markdown",
   "id": "3d48deaf-399c-4611-b3ce-71b0dc677954",
   "metadata": {
    "id": "3d48deaf-399c-4611-b3ce-71b0dc677954"
   },
   "source": [
    "## Changing Plot Appearance\n",
    "\n",
    "You may have noted that the line is draw in a black color. That is pyobsplot default line color, but we can change it if we wish by modifying the `stroke` key."
   ]
  },
  {
   "cell_type": "code",
   "execution_count": 9,
   "id": "b8d9716e-3fb7-45fd-a21c-81dfa8f5b6ea",
   "metadata": {
    "colab": {
     "base_uri": "https://localhost:8080/",
     "height": 484
    },
    "id": "b8d9716e-3fb7-45fd-a21c-81dfa8f5b6ea",
    "outputId": "f7f4174b-9552-48d6-b98e-bdce661c5dab"
   },
   "outputs": [
    {
     "data": {
      "text/html": [
       "<figure class=\"plot-d6a7b5-figure\" style=\"max-width: initial; padding: 0px 5px 5px 5px; color: rgb(0, 0, 0); background-color: rgb(255, 255, 255);\" typstbg=\"#FFFFFF\" typstfg=\"#000000\" typstcaption=\"#777777\"><h2 style=\"line-height: 28px; font-size: 20px; font-weight: 600; margin: 0px;\">Life Expectancy in the United States</h2><svg class=\"plot-d6a7b5\" fill=\"currentColor\" font-family=\"system-ui, sans-serif\" font-size=\"10\" text-anchor=\"middle\" width=\"640\" height=\"400\" viewBox=\"0 0 640 400\" xmlns=\"http://www.w3.org/2000/svg\" xmlns:xlink=\"http://www.w3.org/1999/xlink\" style=\"color: rgb(0, 0, 0); background-color: rgb(255, 255, 255);\"><style>:where(.plot-d6a7b5) {\n",
       "  --plot-background: white;\n",
       "  display: block;\n",
       "  height: auto;\n",
       "  height: intrinsic;\n",
       "  max-width: 100%;\n",
       "}\n",
       ":where(.plot-d6a7b5 text),\n",
       ":where(.plot-d6a7b5 tspan) {\n",
       "  white-space: pre;\n",
       "}</style><g aria-label=\"y-axis tick\" aria-hidden=\"true\" fill=\"none\" stroke=\"currentColor\"><path transform=\"translate(40,363.7738246505718)\" d=\"M0,0L-6,0\"></path><path transform=\"translate(40,319.3011435832275)\" d=\"M0,0L-6,0\"></path><path transform=\"translate(40,274.8284625158832)\" d=\"M0,0L-6,0\"></path><path transform=\"translate(40,230.3557814485388)\" d=\"M0,0L-6,0\"></path><path transform=\"translate(40,185.88310038119448)\" d=\"M0,0L-6,0\"></path><path transform=\"translate(40,141.41041931385018)\" d=\"M0,0L-6,0\"></path><path transform=\"translate(40,96.93773824650584)\" d=\"M0,0L-6,0\"></path><path transform=\"translate(40,52.46505717916155)\" d=\"M0,0L-6,0\"></path></g><g aria-label=\"y-axis tick label\" text-anchor=\"end\" font-variant=\"tabular-nums\" transform=\"translate(-9,0)\"><text y=\"0.32em\" transform=\"translate(40,363.7738246505718)\">70</text><text y=\"0.32em\" transform=\"translate(40,319.3011435832275)\">71</text><text y=\"0.32em\" transform=\"translate(40,274.8284625158832)\">72</text><text y=\"0.32em\" transform=\"translate(40,230.3557814485388)\">73</text><text y=\"0.32em\" transform=\"translate(40,185.88310038119448)\">74</text><text y=\"0.32em\" transform=\"translate(40,141.41041931385018)\">75</text><text y=\"0.32em\" transform=\"translate(40,96.93773824650584)\">76</text><text y=\"0.32em\" transform=\"translate(40,52.46505717916155)\">77</text></g><g aria-label=\"y-axis label\" text-anchor=\"start\" transform=\"translate(-37,-17)\"><text y=\"0.71em\" transform=\"translate(40,20)\">↑ Life Expectancy</text></g><g aria-label=\"x-axis tick\" aria-hidden=\"true\" fill=\"none\" stroke=\"currentColor\"><path transform=\"translate(40,370)\" d=\"M0,0L0,6\"></path><path transform=\"translate(98,370)\" d=\"M0,0L0,6\"></path><path transform=\"translate(156,370)\" d=\"M0,0L0,6\"></path><path transform=\"translate(214,370)\" d=\"M0,0L0,6\"></path><path transform=\"translate(272,370)\" d=\"M0,0L0,6\"></path><path transform=\"translate(330,370)\" d=\"M0,0L0,6\"></path><path transform=\"translate(388,370)\" d=\"M0,0L0,6\"></path><path transform=\"translate(446,370)\" d=\"M0,0L0,6\"></path><path transform=\"translate(504,370)\" d=\"M0,0L0,6\"></path><path transform=\"translate(562,370)\" d=\"M0,0L0,6\"></path><path transform=\"translate(620,370)\" d=\"M0,0L0,6\"></path></g><g aria-label=\"x-axis tick label\" font-variant=\"tabular-nums\" transform=\"translate(0,9)\"><text y=\"0.71em\" transform=\"translate(40,370)\">1955</text><text y=\"0.71em\" transform=\"translate(98,370)\">1960</text><text y=\"0.71em\" transform=\"translate(156,370)\">1965</text><text y=\"0.71em\" transform=\"translate(214,370)\">1970</text><text y=\"0.71em\" transform=\"translate(272,370)\">1975</text><text y=\"0.71em\" transform=\"translate(330,370)\">1980</text><text y=\"0.71em\" transform=\"translate(388,370)\">1985</text><text y=\"0.71em\" transform=\"translate(446,370)\">1990</text><text y=\"0.71em\" transform=\"translate(504,370)\">1995</text><text y=\"0.71em\" transform=\"translate(562,370)\">2000</text><text y=\"0.71em\" transform=\"translate(620,370)\">2005</text></g><g aria-label=\"x-axis label\" text-anchor=\"end\" transform=\"translate(17,27)\"><text transform=\"translate(620,370)\">Year →</text></g><g aria-label=\"line\" fill=\"none\" stroke=\"red\" stroke-width=\"1.5\" stroke-linejoin=\"round\" stroke-linecap=\"round\"><path d=\"M40,370L98,361.105L156,347.319L214,322.414L272,242.363L330,187.662L388,145.413L446,109.39L504,93.38L562,51.131L620,20\"></path></g></svg></figure>"
      ],
      "text/plain": [
       "<IPython.core.display.HTML object>"
      ]
     },
     "metadata": {},
     "output_type": "display_data"
    }
   ],
   "source": [
    "Plot.plot(\n",
    "    {\n",
    "        \"title\": \"Life Expectancy in the United States\",\n",
    "        \"x\": {\"tickFormat\": \"d\", \"label\": \"Year\"},\n",
    "        \"y\": {\n",
    "            \"label\": \"Life Expectancy\",\n",
    "        },\n",
    "        \"marks\": [\n",
    "            Plot.lineY(\n",
    "                life_expect_US_df, {\"x\": \"year\", \"y\": \"life_expect\", \"stroke\": \"red\"}\n",
    "            )\n",
    "        ],\n",
    "    }\n",
    ")"
   ]
  },
  {
   "cell_type": "markdown",
   "id": "9dd05bb0-830e-4c12-9346-c8564f3af145",
   "metadata": {
    "id": "9dd05bb0-830e-4c12-9346-c8564f3af145"
   },
   "source": [
    "Similarly, we can change the line style using the `strokeDasharray` which is used to create the dashed or dotted lines. It accepts a list of numbers representing alternating dash and gap lengths. Shorter values result in more frequent dashes or dots, while larger values create longer dashes with bigger gaps. For example, \"5,5\" here creates evenly spaced dashes, while \"10,5\" produces longer dashes with shorter gaps. The pattern repeats along the entire length of the line, allowing for a wide range of visual styles\n",
    "\n",
    "The following code snippet changes the line style to a dashed line:"
   ]
  },
  {
   "cell_type": "code",
   "execution_count": 10,
   "id": "e343a982-1d6e-413b-aaf3-5cffe3fcf5ca",
   "metadata": {
    "colab": {
     "base_uri": "https://localhost:8080/",
     "height": 484
    },
    "id": "e343a982-1d6e-413b-aaf3-5cffe3fcf5ca",
    "outputId": "6a738469-2892-4d1a-a114-1883f0a1b0f2"
   },
   "outputs": [
    {
     "data": {
      "text/html": [
       "<figure class=\"plot-d6a7b5-figure\" style=\"max-width: initial; padding: 0px 5px 5px 5px; color: rgb(0, 0, 0); background-color: rgb(255, 255, 255);\" typstbg=\"#FFFFFF\" typstfg=\"#000000\" typstcaption=\"#777777\"><h2 style=\"line-height: 28px; font-size: 20px; font-weight: 600; margin: 0px;\">Life Expectancy in the United States</h2><svg class=\"plot-d6a7b5\" fill=\"currentColor\" font-family=\"system-ui, sans-serif\" font-size=\"10\" text-anchor=\"middle\" width=\"640\" height=\"400\" viewBox=\"0 0 640 400\" xmlns=\"http://www.w3.org/2000/svg\" xmlns:xlink=\"http://www.w3.org/1999/xlink\" style=\"color: rgb(0, 0, 0); background-color: rgb(255, 255, 255);\"><style>:where(.plot-d6a7b5) {\n",
       "  --plot-background: white;\n",
       "  display: block;\n",
       "  height: auto;\n",
       "  height: intrinsic;\n",
       "  max-width: 100%;\n",
       "}\n",
       ":where(.plot-d6a7b5 text),\n",
       ":where(.plot-d6a7b5 tspan) {\n",
       "  white-space: pre;\n",
       "}</style><g aria-label=\"y-axis tick\" aria-hidden=\"true\" fill=\"none\" stroke=\"currentColor\"><path transform=\"translate(40,363.7738246505718)\" d=\"M0,0L-6,0\"></path><path transform=\"translate(40,319.3011435832275)\" d=\"M0,0L-6,0\"></path><path transform=\"translate(40,274.8284625158832)\" d=\"M0,0L-6,0\"></path><path transform=\"translate(40,230.3557814485388)\" d=\"M0,0L-6,0\"></path><path transform=\"translate(40,185.88310038119448)\" d=\"M0,0L-6,0\"></path><path transform=\"translate(40,141.41041931385018)\" d=\"M0,0L-6,0\"></path><path transform=\"translate(40,96.93773824650584)\" d=\"M0,0L-6,0\"></path><path transform=\"translate(40,52.46505717916155)\" d=\"M0,0L-6,0\"></path></g><g aria-label=\"y-axis tick label\" text-anchor=\"end\" font-variant=\"tabular-nums\" transform=\"translate(-9,0)\"><text y=\"0.32em\" transform=\"translate(40,363.7738246505718)\">70</text><text y=\"0.32em\" transform=\"translate(40,319.3011435832275)\">71</text><text y=\"0.32em\" transform=\"translate(40,274.8284625158832)\">72</text><text y=\"0.32em\" transform=\"translate(40,230.3557814485388)\">73</text><text y=\"0.32em\" transform=\"translate(40,185.88310038119448)\">74</text><text y=\"0.32em\" transform=\"translate(40,141.41041931385018)\">75</text><text y=\"0.32em\" transform=\"translate(40,96.93773824650584)\">76</text><text y=\"0.32em\" transform=\"translate(40,52.46505717916155)\">77</text></g><g aria-label=\"y-axis label\" text-anchor=\"start\" transform=\"translate(-37,-17)\"><text y=\"0.71em\" transform=\"translate(40,20)\">↑ Life Expectancy</text></g><g aria-label=\"x-axis tick\" aria-hidden=\"true\" fill=\"none\" stroke=\"currentColor\"><path transform=\"translate(40,370)\" d=\"M0,0L0,6\"></path><path transform=\"translate(98,370)\" d=\"M0,0L0,6\"></path><path transform=\"translate(156,370)\" d=\"M0,0L0,6\"></path><path transform=\"translate(214,370)\" d=\"M0,0L0,6\"></path><path transform=\"translate(272,370)\" d=\"M0,0L0,6\"></path><path transform=\"translate(330,370)\" d=\"M0,0L0,6\"></path><path transform=\"translate(388,370)\" d=\"M0,0L0,6\"></path><path transform=\"translate(446,370)\" d=\"M0,0L0,6\"></path><path transform=\"translate(504,370)\" d=\"M0,0L0,6\"></path><path transform=\"translate(562,370)\" d=\"M0,0L0,6\"></path><path transform=\"translate(620,370)\" d=\"M0,0L0,6\"></path></g><g aria-label=\"x-axis tick label\" font-variant=\"tabular-nums\" transform=\"translate(0,9)\"><text y=\"0.71em\" transform=\"translate(40,370)\">1955</text><text y=\"0.71em\" transform=\"translate(98,370)\">1960</text><text y=\"0.71em\" transform=\"translate(156,370)\">1965</text><text y=\"0.71em\" transform=\"translate(214,370)\">1970</text><text y=\"0.71em\" transform=\"translate(272,370)\">1975</text><text y=\"0.71em\" transform=\"translate(330,370)\">1980</text><text y=\"0.71em\" transform=\"translate(388,370)\">1985</text><text y=\"0.71em\" transform=\"translate(446,370)\">1990</text><text y=\"0.71em\" transform=\"translate(504,370)\">1995</text><text y=\"0.71em\" transform=\"translate(562,370)\">2000</text><text y=\"0.71em\" transform=\"translate(620,370)\">2005</text></g><g aria-label=\"x-axis label\" text-anchor=\"end\" transform=\"translate(17,27)\"><text transform=\"translate(620,370)\">Year →</text></g><g aria-label=\"line\" fill=\"none\" stroke=\"red\" stroke-width=\"1.5\" stroke-linejoin=\"round\" stroke-linecap=\"round\" stroke-dasharray=\"5,5\"><path d=\"M40,370L98,361.105L156,347.319L214,322.414L272,242.363L330,187.662L388,145.413L446,109.39L504,93.38L562,51.131L620,20\"></path></g></svg></figure>"
      ],
      "text/plain": [
       "<IPython.core.display.HTML object>"
      ]
     },
     "metadata": {},
     "output_type": "display_data"
    }
   ],
   "source": [
    "Plot.plot(\n",
    "    {\n",
    "        \"title\": \"Life Expectancy in the United States\",\n",
    "        \"x\": {\"tickFormat\": \"d\", \"label\": \"Year\"},\n",
    "        \"y\": {\"label\": \"Life Expectancy\"},\n",
    "        \"marks\": [\n",
    "            Plot.lineY(\n",
    "                life_expect_US_df,\n",
    "                {\n",
    "                    \"x\": \"year\",\n",
    "                    \"y\": \"life_expect\",\n",
    "                    \"stroke\": \"red\",\n",
    "                    \"strokeDasharray\": [5, 5],\n",
    "                },\n",
    "            )\n",
    "        ],\n",
    "    }\n",
    ")"
   ]
  },
  {
   "cell_type": "markdown",
   "id": "7f18c67d-ee22-4c1f-ab78-9b5b89a797c3",
   "metadata": {
    "id": "7f18c67d-ee22-4c1f-ab78-9b5b89a797c3"
   },
   "source": [
    "Sometimes, it is useful to know the points that were used to create the line plot. This may be important in understanding how fine-grained the data is and how the values are distributed. For example, if the data had one measurement between 1955 and 1995 and ten measurements from 1995 to 2005, we may be missing subtle trends in the earlier time period. In Plot.lineY, we can change the `marker` type to emphasize the recorded points. The marker option supports arrow, arrow-reverse, circle, circle-stroke, dot, tick, tick-x, tick-y. The [documentation](https://observablehq.com/plot/features/markers#markers) provides the definitions of the available markers."
   ]
  },
  {
   "cell_type": "code",
   "execution_count": 11,
   "id": "123454d7-4950-472c-bc75-3859d0f24405",
   "metadata": {
    "colab": {
     "base_uri": "https://localhost:8080/",
     "height": 484
    },
    "id": "123454d7-4950-472c-bc75-3859d0f24405",
    "outputId": "fcb81d39-6e7e-4a85-9590-68b4c53df637"
   },
   "outputs": [
    {
     "data": {
      "text/html": [
       "<figure class=\"plot-d6a7b5-figure\" style=\"max-width: initial; padding: 0px 5px 5px 5px; color: rgb(0, 0, 0); background-color: rgb(255, 255, 255);\" typstbg=\"#FFFFFF\" typstfg=\"#000000\" typstcaption=\"#777777\"><h2 style=\"line-height: 28px; font-size: 20px; font-weight: 600; margin: 0px;\">Life Expectancy in the United States</h2><svg class=\"plot-d6a7b5\" fill=\"currentColor\" font-family=\"system-ui, sans-serif\" font-size=\"10\" text-anchor=\"middle\" width=\"640\" height=\"400\" viewBox=\"0 0 640 400\" xmlns=\"http://www.w3.org/2000/svg\" xmlns:xlink=\"http://www.w3.org/1999/xlink\" style=\"color: rgb(0, 0, 0); background-color: rgb(255, 255, 255);\"><style>:where(.plot-d6a7b5) {\n",
       "  --plot-background: white;\n",
       "  display: block;\n",
       "  height: auto;\n",
       "  height: intrinsic;\n",
       "  max-width: 100%;\n",
       "}\n",
       ":where(.plot-d6a7b5 text),\n",
       ":where(.plot-d6a7b5 tspan) {\n",
       "  white-space: pre;\n",
       "}</style><g aria-label=\"y-axis tick\" aria-hidden=\"true\" fill=\"none\" stroke=\"currentColor\"><path transform=\"translate(40,363.7738246505718)\" d=\"M0,0L-6,0\"></path><path transform=\"translate(40,319.3011435832275)\" d=\"M0,0L-6,0\"></path><path transform=\"translate(40,274.8284625158832)\" d=\"M0,0L-6,0\"></path><path transform=\"translate(40,230.3557814485388)\" d=\"M0,0L-6,0\"></path><path transform=\"translate(40,185.88310038119448)\" d=\"M0,0L-6,0\"></path><path transform=\"translate(40,141.41041931385018)\" d=\"M0,0L-6,0\"></path><path transform=\"translate(40,96.93773824650584)\" d=\"M0,0L-6,0\"></path><path transform=\"translate(40,52.46505717916155)\" d=\"M0,0L-6,0\"></path></g><g aria-label=\"y-axis tick label\" text-anchor=\"end\" font-variant=\"tabular-nums\" transform=\"translate(-9,0)\"><text y=\"0.32em\" transform=\"translate(40,363.7738246505718)\">70</text><text y=\"0.32em\" transform=\"translate(40,319.3011435832275)\">71</text><text y=\"0.32em\" transform=\"translate(40,274.8284625158832)\">72</text><text y=\"0.32em\" transform=\"translate(40,230.3557814485388)\">73</text><text y=\"0.32em\" transform=\"translate(40,185.88310038119448)\">74</text><text y=\"0.32em\" transform=\"translate(40,141.41041931385018)\">75</text><text y=\"0.32em\" transform=\"translate(40,96.93773824650584)\">76</text><text y=\"0.32em\" transform=\"translate(40,52.46505717916155)\">77</text></g><g aria-label=\"y-axis label\" text-anchor=\"start\" transform=\"translate(-37,-17)\"><text y=\"0.71em\" transform=\"translate(40,20)\">↑ Life Expectancy</text></g><g aria-label=\"x-axis tick\" aria-hidden=\"true\" fill=\"none\" stroke=\"currentColor\"><path transform=\"translate(40,370)\" d=\"M0,0L0,6\"></path><path transform=\"translate(98,370)\" d=\"M0,0L0,6\"></path><path transform=\"translate(156,370)\" d=\"M0,0L0,6\"></path><path transform=\"translate(214,370)\" d=\"M0,0L0,6\"></path><path transform=\"translate(272,370)\" d=\"M0,0L0,6\"></path><path transform=\"translate(330,370)\" d=\"M0,0L0,6\"></path><path transform=\"translate(388,370)\" d=\"M0,0L0,6\"></path><path transform=\"translate(446,370)\" d=\"M0,0L0,6\"></path><path transform=\"translate(504,370)\" d=\"M0,0L0,6\"></path><path transform=\"translate(562,370)\" d=\"M0,0L0,6\"></path><path transform=\"translate(620,370)\" d=\"M0,0L0,6\"></path></g><g aria-label=\"x-axis tick label\" font-variant=\"tabular-nums\" transform=\"translate(0,9)\"><text y=\"0.71em\" transform=\"translate(40,370)\">1955</text><text y=\"0.71em\" transform=\"translate(98,370)\">1960</text><text y=\"0.71em\" transform=\"translate(156,370)\">1965</text><text y=\"0.71em\" transform=\"translate(214,370)\">1970</text><text y=\"0.71em\" transform=\"translate(272,370)\">1975</text><text y=\"0.71em\" transform=\"translate(330,370)\">1980</text><text y=\"0.71em\" transform=\"translate(388,370)\">1985</text><text y=\"0.71em\" transform=\"translate(446,370)\">1990</text><text y=\"0.71em\" transform=\"translate(504,370)\">1995</text><text y=\"0.71em\" transform=\"translate(562,370)\">2000</text><text y=\"0.71em\" transform=\"translate(620,370)\">2005</text></g><g aria-label=\"x-axis label\" text-anchor=\"end\" transform=\"translate(17,27)\"><text transform=\"translate(620,370)\">Year →</text></g><g aria-label=\"line\" fill=\"none\" stroke=\"red\" stroke-width=\"1.5\" stroke-linejoin=\"round\" stroke-linecap=\"round\" stroke-dasharray=\"8,8\"><marker viewBox=\"-5 -5 10 10\" markerWidth=\"6.67\" markerHeight=\"6.67\" fill=\"red\" stroke=\"var(--plot-background)\" stroke-width=\"1.5\" id=\"plot-marker-1\"><circle r=\"3\"></circle></marker><path marker-start=\"url(#plot-marker-1)\" marker-mid=\"url(#plot-marker-1)\" marker-end=\"url(#plot-marker-1)\" d=\"M40,370L98,361.105L156,347.319L214,322.414L272,242.363L330,187.662L388,145.413L446,109.39L504,93.38L562,51.131L620,20\"></path></g></svg></figure>"
      ],
      "text/plain": [
       "<IPython.core.display.HTML object>"
      ]
     },
     "metadata": {},
     "output_type": "display_data"
    }
   ],
   "source": [
    "Plot.plot(\n",
    "    {\n",
    "        \"title\": \"Life Expectancy in the United States\",\n",
    "        \"x\": {\"tickFormat\": \"d\", \"label\": \"Year\"},\n",
    "        \"y\": {\"label\": \"Life Expectancy\"},\n",
    "        \"marks\": [\n",
    "            Plot.lineY(\n",
    "                life_expect_US_df,\n",
    "                {\n",
    "                    \"x\": \"year\",\n",
    "                    \"y\": \"life_expect\",\n",
    "                    \"stroke\": \"red\",\n",
    "                    \"strokeDasharray\": [8, 8],\n",
    "                    \"marker\": \"circle\",\n",
    "                },\n",
    "            )\n",
    "        ],\n",
    "    }\n",
    ")"
   ]
  },
  {
   "cell_type": "markdown",
   "id": "924482e0-555e-4655-992c-e8e9a9bf2158",
   "metadata": {
    "id": "924482e0-555e-4655-992c-e8e9a9bf2158"
   },
   "source": [
    "For non-linear curves, markers may not align with the exact data positions specified by x and y, as their placement is influenced by the curve’s path segments. To ensure symbols are accurately placed at the specified x and y positions, use a [dot mark](https://juba.github.io/pyobsplot/getting_started.html) instead."
   ]
  },
  {
   "cell_type": "code",
   "execution_count": 12,
   "id": "e919673a-4670-4ad1-acc2-3d396af873fb",
   "metadata": {
    "colab": {
     "base_uri": "https://localhost:8080/",
     "height": 484
    },
    "id": "e919673a-4670-4ad1-acc2-3d396af873fb",
    "outputId": "455d8b7d-78ae-438b-d19c-9591ccc9429c"
   },
   "outputs": [
    {
     "data": {
      "text/html": [
       "<figure class=\"plot-d6a7b5-figure\" style=\"max-width: initial; padding: 0px 5px 5px 5px; color: rgb(0, 0, 0); background-color: rgb(255, 255, 255);\" typstbg=\"#FFFFFF\" typstfg=\"#000000\" typstcaption=\"#777777\"><h2 style=\"line-height: 28px; font-size: 20px; font-weight: 600; margin: 0px;\">Life Expectancy in the United States</h2><svg class=\"plot-d6a7b5\" fill=\"currentColor\" font-family=\"system-ui, sans-serif\" font-size=\"10\" text-anchor=\"middle\" width=\"640\" height=\"400\" viewBox=\"0 0 640 400\" xmlns=\"http://www.w3.org/2000/svg\" xmlns:xlink=\"http://www.w3.org/1999/xlink\" style=\"color: rgb(0, 0, 0); background-color: rgb(255, 255, 255);\"><style>:where(.plot-d6a7b5) {\n",
       "  --plot-background: white;\n",
       "  display: block;\n",
       "  height: auto;\n",
       "  height: intrinsic;\n",
       "  max-width: 100%;\n",
       "}\n",
       ":where(.plot-d6a7b5 text),\n",
       ":where(.plot-d6a7b5 tspan) {\n",
       "  white-space: pre;\n",
       "}</style><g aria-label=\"y-axis tick\" aria-hidden=\"true\" fill=\"none\" stroke=\"currentColor\"><path transform=\"translate(40,363.7738246505718)\" d=\"M0,0L-6,0\"></path><path transform=\"translate(40,319.3011435832275)\" d=\"M0,0L-6,0\"></path><path transform=\"translate(40,274.8284625158832)\" d=\"M0,0L-6,0\"></path><path transform=\"translate(40,230.3557814485388)\" d=\"M0,0L-6,0\"></path><path transform=\"translate(40,185.88310038119448)\" d=\"M0,0L-6,0\"></path><path transform=\"translate(40,141.41041931385018)\" d=\"M0,0L-6,0\"></path><path transform=\"translate(40,96.93773824650584)\" d=\"M0,0L-6,0\"></path><path transform=\"translate(40,52.46505717916155)\" d=\"M0,0L-6,0\"></path></g><g aria-label=\"y-axis tick label\" text-anchor=\"end\" font-variant=\"tabular-nums\" transform=\"translate(-9,0)\"><text y=\"0.32em\" transform=\"translate(40,363.7738246505718)\">70</text><text y=\"0.32em\" transform=\"translate(40,319.3011435832275)\">71</text><text y=\"0.32em\" transform=\"translate(40,274.8284625158832)\">72</text><text y=\"0.32em\" transform=\"translate(40,230.3557814485388)\">73</text><text y=\"0.32em\" transform=\"translate(40,185.88310038119448)\">74</text><text y=\"0.32em\" transform=\"translate(40,141.41041931385018)\">75</text><text y=\"0.32em\" transform=\"translate(40,96.93773824650584)\">76</text><text y=\"0.32em\" transform=\"translate(40,52.46505717916155)\">77</text></g><g aria-label=\"y-axis label\" text-anchor=\"start\" transform=\"translate(-37,-17)\"><text y=\"0.71em\" transform=\"translate(40,20)\">↑ Life Expectancy</text></g><g aria-label=\"x-axis tick\" aria-hidden=\"true\" fill=\"none\" stroke=\"currentColor\"><path transform=\"translate(40,370)\" d=\"M0,0L0,6\"></path><path transform=\"translate(98,370)\" d=\"M0,0L0,6\"></path><path transform=\"translate(156,370)\" d=\"M0,0L0,6\"></path><path transform=\"translate(214,370)\" d=\"M0,0L0,6\"></path><path transform=\"translate(272,370)\" d=\"M0,0L0,6\"></path><path transform=\"translate(330,370)\" d=\"M0,0L0,6\"></path><path transform=\"translate(388,370)\" d=\"M0,0L0,6\"></path><path transform=\"translate(446,370)\" d=\"M0,0L0,6\"></path><path transform=\"translate(504,370)\" d=\"M0,0L0,6\"></path><path transform=\"translate(562,370)\" d=\"M0,0L0,6\"></path><path transform=\"translate(620,370)\" d=\"M0,0L0,6\"></path></g><g aria-label=\"x-axis tick label\" font-variant=\"tabular-nums\" transform=\"translate(0,9)\"><text y=\"0.71em\" transform=\"translate(40,370)\">1955</text><text y=\"0.71em\" transform=\"translate(98,370)\">1960</text><text y=\"0.71em\" transform=\"translate(156,370)\">1965</text><text y=\"0.71em\" transform=\"translate(214,370)\">1970</text><text y=\"0.71em\" transform=\"translate(272,370)\">1975</text><text y=\"0.71em\" transform=\"translate(330,370)\">1980</text><text y=\"0.71em\" transform=\"translate(388,370)\">1985</text><text y=\"0.71em\" transform=\"translate(446,370)\">1990</text><text y=\"0.71em\" transform=\"translate(504,370)\">1995</text><text y=\"0.71em\" transform=\"translate(562,370)\">2000</text><text y=\"0.71em\" transform=\"translate(620,370)\">2005</text></g><g aria-label=\"x-axis label\" text-anchor=\"end\" transform=\"translate(17,27)\"><text transform=\"translate(620,370)\">Year →</text></g><g aria-label=\"line\" fill=\"none\" stroke=\"red\" stroke-width=\"1.5\" stroke-linejoin=\"round\" stroke-linecap=\"round\" stroke-dasharray=\"8,8\"><path d=\"M40,370L98,361.105L156,347.319L214,322.414L272,242.363L330,187.662L388,145.413L446,109.39L504,93.38L562,51.131L620,20\"></path></g><g aria-label=\"dot\" fill=\"none\" stroke=\"currentColor\" stroke-width=\"1.5\"><circle cx=\"40\" cy=\"370\" r=\"5\"></circle><circle cx=\"98\" cy=\"361.10546378653106\" r=\"5\"></circle><circle cx=\"156\" cy=\"347.3189326556542\" r=\"5\"></circle><circle cx=\"214\" cy=\"322.41423125794125\" r=\"5\"></circle><circle cx=\"272\" cy=\"242.3634053367216\" r=\"5\"></circle><circle cx=\"330\" cy=\"187.66200762388854\" r=\"5\"></circle><circle cx=\"388\" cy=\"145.4129606099113\" r=\"5\"></circle><circle cx=\"446\" cy=\"109.39008894536234\" r=\"5\"></circle><circle cx=\"504\" cy=\"93.37992376111839\" r=\"5\"></circle><circle cx=\"562\" cy=\"51.13087674714113\" r=\"5\"></circle><circle cx=\"620\" cy=\"20\" r=\"5\"></circle></g></svg></figure>"
      ],
      "text/plain": [
       "<IPython.core.display.HTML object>"
      ]
     },
     "metadata": {},
     "output_type": "display_data"
    }
   ],
   "source": [
    "Plot.plot(\n",
    "    {\n",
    "        \"title\": \"Life Expectancy in the United States\",\n",
    "        \"x\": {\"tickFormat\": \"d\", \"label\": \"Year\"},\n",
    "        \"y\": {\"label\": \"Life Expectancy\"},\n",
    "        \"marks\": [\n",
    "            Plot.lineY(\n",
    "                life_expect_US_df,\n",
    "                {\n",
    "                    \"x\": \"year\",\n",
    "                    \"y\": \"life_expect\",\n",
    "                    \"stroke\": \"red\",\n",
    "                    \"strokeDasharray\": [8, 8],\n",
    "                },\n",
    "            ),\n",
    "            Plot.dot(life_expect_US_df, {\"x\": \"year\", \"y\": \"life_expect\", \"r\": 5}),\n",
    "        ],\n",
    "    }\n",
    ")"
   ]
  },
  {
   "cell_type": "markdown",
   "id": "5c321461-b6ac-426c-9969-7d2444e31f60",
   "metadata": {
    "id": "5c321461-b6ac-426c-9969-7d2444e31f60"
   },
   "source": [
    "In the example above, using `Plot.dot()`, we get points as circles, by default, unfilled. We use the `r` attribute to set the radius of dot, allowing us to control the size of the dots plotted on the graph."
   ]
  },
  {
   "cell_type": "markdown",
   "id": "3c3a398e-50e0-45d8-9e39-087ea2c1e3fc",
   "metadata": {
    "id": "3c3a398e-50e0-45d8-9e39-087ea2c1e3fc"
   },
   "source": [
    "### Excercise\n",
    "\n",
    "In our example plot, change the marker type to a square, and the line style to dotted line style. Finally, keep the line color red but change the marker color to the green. Use the `Plot.dot` to plot the marker. For more details, refer to [documentation](https://observablehq.com/plot/marks/dot#dot-mark) for on dot plot.\n",
    "\n",
    "Hint: Use strokeDasharray for creating the dotted line style."
   ]
  },
  {
   "cell_type": "markdown",
   "id": "281022ea-49a6-45ee-84ae-880b1008cd60",
   "metadata": {
    "id": "281022ea-49a6-45ee-84ae-880b1008cd60"
   },
   "source": [
    "### Solutions"
   ]
  },
  {
   "cell_type": "code",
   "execution_count": 13,
   "id": "c8a1b539-58da-444b-bfda-bf15b9a2a101",
   "metadata": {
    "colab": {
     "base_uri": "https://localhost:8080/",
     "height": 484
    },
    "id": "c8a1b539-58da-444b-bfda-bf15b9a2a101",
    "outputId": "14b69771-45a0-4553-aab9-b6a00c8cdaf6"
   },
   "outputs": [
    {
     "data": {
      "text/html": [
       "<figure class=\"plot-d6a7b5-figure\" style=\"max-width: initial; padding: 0px 5px 5px 5px; color: rgb(0, 0, 0); background-color: rgb(255, 255, 255);\" typstbg=\"#FFFFFF\" typstfg=\"#000000\" typstcaption=\"#777777\"><h2 style=\"line-height: 28px; font-size: 20px; font-weight: 600; margin: 0px;\">Life Expectancy in the United States</h2><svg class=\"plot-d6a7b5\" fill=\"currentColor\" font-family=\"system-ui, sans-serif\" font-size=\"10\" text-anchor=\"middle\" width=\"640\" height=\"400\" viewBox=\"0 0 640 400\" xmlns=\"http://www.w3.org/2000/svg\" xmlns:xlink=\"http://www.w3.org/1999/xlink\" style=\"color: rgb(0, 0, 0); background-color: rgb(255, 255, 255);\"><style>:where(.plot-d6a7b5) {\n",
       "  --plot-background: white;\n",
       "  display: block;\n",
       "  height: auto;\n",
       "  height: intrinsic;\n",
       "  max-width: 100%;\n",
       "}\n",
       ":where(.plot-d6a7b5 text),\n",
       ":where(.plot-d6a7b5 tspan) {\n",
       "  white-space: pre;\n",
       "}</style><g aria-label=\"y-axis tick\" aria-hidden=\"true\" fill=\"none\" stroke=\"currentColor\"><path transform=\"translate(40,363.7738246505718)\" d=\"M0,0L-6,0\"></path><path transform=\"translate(40,319.3011435832275)\" d=\"M0,0L-6,0\"></path><path transform=\"translate(40,274.8284625158832)\" d=\"M0,0L-6,0\"></path><path transform=\"translate(40,230.3557814485388)\" d=\"M0,0L-6,0\"></path><path transform=\"translate(40,185.88310038119448)\" d=\"M0,0L-6,0\"></path><path transform=\"translate(40,141.41041931385018)\" d=\"M0,0L-6,0\"></path><path transform=\"translate(40,96.93773824650584)\" d=\"M0,0L-6,0\"></path><path transform=\"translate(40,52.46505717916155)\" d=\"M0,0L-6,0\"></path></g><g aria-label=\"y-axis tick label\" text-anchor=\"end\" font-variant=\"tabular-nums\" transform=\"translate(-9,0)\"><text y=\"0.32em\" transform=\"translate(40,363.7738246505718)\">70</text><text y=\"0.32em\" transform=\"translate(40,319.3011435832275)\">71</text><text y=\"0.32em\" transform=\"translate(40,274.8284625158832)\">72</text><text y=\"0.32em\" transform=\"translate(40,230.3557814485388)\">73</text><text y=\"0.32em\" transform=\"translate(40,185.88310038119448)\">74</text><text y=\"0.32em\" transform=\"translate(40,141.41041931385018)\">75</text><text y=\"0.32em\" transform=\"translate(40,96.93773824650584)\">76</text><text y=\"0.32em\" transform=\"translate(40,52.46505717916155)\">77</text></g><g aria-label=\"y-axis label\" text-anchor=\"start\" transform=\"translate(-37,-17)\"><text y=\"0.71em\" transform=\"translate(40,20)\">↑ Life Expectancy</text></g><g aria-label=\"x-axis tick\" aria-hidden=\"true\" fill=\"none\" stroke=\"currentColor\"><path transform=\"translate(40,370)\" d=\"M0,0L0,6\"></path><path transform=\"translate(98,370)\" d=\"M0,0L0,6\"></path><path transform=\"translate(156,370)\" d=\"M0,0L0,6\"></path><path transform=\"translate(214,370)\" d=\"M0,0L0,6\"></path><path transform=\"translate(272,370)\" d=\"M0,0L0,6\"></path><path transform=\"translate(330,370)\" d=\"M0,0L0,6\"></path><path transform=\"translate(388,370)\" d=\"M0,0L0,6\"></path><path transform=\"translate(446,370)\" d=\"M0,0L0,6\"></path><path transform=\"translate(504,370)\" d=\"M0,0L0,6\"></path><path transform=\"translate(562,370)\" d=\"M0,0L0,6\"></path><path transform=\"translate(620,370)\" d=\"M0,0L0,6\"></path></g><g aria-label=\"x-axis tick label\" font-variant=\"tabular-nums\" transform=\"translate(0,9)\"><text y=\"0.71em\" transform=\"translate(40,370)\">1955</text><text y=\"0.71em\" transform=\"translate(98,370)\">1960</text><text y=\"0.71em\" transform=\"translate(156,370)\">1965</text><text y=\"0.71em\" transform=\"translate(214,370)\">1970</text><text y=\"0.71em\" transform=\"translate(272,370)\">1975</text><text y=\"0.71em\" transform=\"translate(330,370)\">1980</text><text y=\"0.71em\" transform=\"translate(388,370)\">1985</text><text y=\"0.71em\" transform=\"translate(446,370)\">1990</text><text y=\"0.71em\" transform=\"translate(504,370)\">1995</text><text y=\"0.71em\" transform=\"translate(562,370)\">2000</text><text y=\"0.71em\" transform=\"translate(620,370)\">2005</text></g><g aria-label=\"x-axis label\" text-anchor=\"end\" transform=\"translate(17,27)\"><text transform=\"translate(620,370)\">Year →</text></g><g aria-label=\"line\" fill=\"none\" stroke=\"red\" stroke-width=\"1.5\" stroke-linejoin=\"round\" stroke-linecap=\"round\" stroke-dasharray=\"1,3\"><path d=\"M40,370L98,361.105L156,347.319L214,322.414L272,242.363L330,187.662L388,145.413L446,109.39L504,93.38L562,51.131L620,20\"></path></g><g aria-label=\"dot\" fill=\"green\"><path transform=\"translate(40,370)\" d=\"M-4.431,-4.431h8.862v8.862h-8.862Z\"></path><path transform=\"translate(98,361.10546378653106)\" d=\"M-4.431,-4.431h8.862v8.862h-8.862Z\"></path><path transform=\"translate(156,347.3189326556542)\" d=\"M-4.431,-4.431h8.862v8.862h-8.862Z\"></path><path transform=\"translate(214,322.41423125794125)\" d=\"M-4.431,-4.431h8.862v8.862h-8.862Z\"></path><path transform=\"translate(272,242.3634053367216)\" d=\"M-4.431,-4.431h8.862v8.862h-8.862Z\"></path><path transform=\"translate(330,187.66200762388854)\" d=\"M-4.431,-4.431h8.862v8.862h-8.862Z\"></path><path transform=\"translate(388,145.4129606099113)\" d=\"M-4.431,-4.431h8.862v8.862h-8.862Z\"></path><path transform=\"translate(446,109.39008894536234)\" d=\"M-4.431,-4.431h8.862v8.862h-8.862Z\"></path><path transform=\"translate(504,93.37992376111839)\" d=\"M-4.431,-4.431h8.862v8.862h-8.862Z\"></path><path transform=\"translate(562,51.13087674714113)\" d=\"M-4.431,-4.431h8.862v8.862h-8.862Z\"></path><path transform=\"translate(620,20)\" d=\"M-4.431,-4.431h8.862v8.862h-8.862Z\"></path></g></svg></figure>"
      ],
      "text/plain": [
       "<IPython.core.display.HTML object>"
      ]
     },
     "metadata": {},
     "output_type": "display_data"
    }
   ],
   "source": [
    "Plot.plot(\n",
    "    {\n",
    "        \"title\": \"Life Expectancy in the United States\",\n",
    "        \"x\": {\"tickFormat\": \"d\", \"label\": \"Year\"},\n",
    "        \"y\": {\"label\": \"Life Expectancy\"},\n",
    "        \"marks\": [\n",
    "            Plot.lineY(\n",
    "                life_expect_US_df,\n",
    "                {\n",
    "                    \"x\": \"year\",\n",
    "                    \"y\": \"life_expect\",\n",
    "                    \"stroke\": \"red\",\n",
    "                    \"strokeDasharray\": [1, 3],\n",
    "                },\n",
    "            ),\n",
    "            Plot.dot(\n",
    "                life_expect_US_df,\n",
    "                {\n",
    "                    \"x\": \"year\",\n",
    "                    \"y\": \"life_expect\",\n",
    "                    \"symbol\": \"square\",\n",
    "                    \"fill\": \"green\",\n",
    "                    \"r\": 5,\n",
    "                },\n",
    "            ),\n",
    "        ],\n",
    "    }\n",
    ")"
   ]
  },
  {
   "cell_type": "markdown",
   "id": "adb4fa5b-4d28-47e7-82f3-47dc9e714562",
   "metadata": {
    "id": "adb4fa5b-4d28-47e7-82f3-47dc9e714562"
   },
   "source": [
    "### Multiple Lines\n",
    "\n",
    "Suppose we wished to compare life expectancy across different countries. In order to do this, we need to plot multiple lines. One way of doing this is to simple add column `country` for z-axis."
   ]
  },
  {
   "cell_type": "code",
   "execution_count": 14,
   "id": "f115e40e-1959-4c5d-b480-ff05d53d6f6e",
   "metadata": {
    "colab": {
     "base_uri": "https://localhost:8080/",
     "height": 443
    },
    "id": "f115e40e-1959-4c5d-b480-ff05d53d6f6e",
    "outputId": "a7c26ab2-ddc0-47ef-ec6e-019be35dbc5b",
    "scrolled": true
   },
   "outputs": [
    {
     "data": {
      "text/html": [
       "<div><style>\n",
       ".dataframe > thead > tr,\n",
       ".dataframe > tbody > tr {\n",
       "  text-align: right;\n",
       "  white-space: pre-wrap;\n",
       "}\n",
       "</style>\n",
       "<small>shape: (44, 7)</small><table border=\"1\" class=\"dataframe\"><thead><tr><th>year</th><th>country</th><th>cluster</th><th>pop</th><th>life_expect</th><th>fertility</th><th>region</th></tr><tr><td>i64</td><td>str</td><td>i64</td><td>i64</td><td>f64</td><td>f64</td><td>str</td></tr></thead><tbody><tr><td>1955</td><td>&quot;China&quot;</td><td>4</td><td>603320147</td><td>53.92</td><td>6.16</td><td>&quot;E. Asia &amp; Pacific&quot;</td></tr><tr><td>1960</td><td>&quot;China&quot;</td><td>4</td><td>654170692</td><td>27.79</td><td>4.33</td><td>&quot;E. Asia &amp; Pacific&quot;</td></tr><tr><td>1965</td><td>&quot;China&quot;</td><td>4</td><td>723846349</td><td>58.47</td><td>6.53</td><td>&quot;E. Asia &amp; Pacific&quot;</td></tr><tr><td>1970</td><td>&quot;China&quot;</td><td>4</td><td>822534450</td><td>60.88</td><td>6.09</td><td>&quot;E. Asia &amp; Pacific&quot;</td></tr><tr><td>1975</td><td>&quot;China&quot;</td><td>4</td><td>915124661</td><td>62.81</td><td>3.57</td><td>&quot;E. Asia &amp; Pacific&quot;</td></tr><tr><td>&hellip;</td><td>&hellip;</td><td>&hellip;</td><td>&hellip;</td><td>&hellip;</td><td>&hellip;</td><td>&hellip;</td></tr><tr><td>1985</td><td>&quot;United States&quot;</td><td>3</td><td>235146182</td><td>74.91</td><td>1.84</td><td>&quot;Americas&quot;</td></tr><tr><td>1990</td><td>&quot;United States&quot;</td><td>3</td><td>248083732</td><td>75.72</td><td>2.07</td><td>&quot;Americas&quot;</td></tr><tr><td>1995</td><td>&quot;United States&quot;</td><td>3</td><td>265660556</td><td>76.08</td><td>1.97</td><td>&quot;Americas&quot;</td></tr><tr><td>2000</td><td>&quot;United States&quot;</td><td>3</td><td>282398554</td><td>77.03</td><td>2.05</td><td>&quot;Americas&quot;</td></tr><tr><td>2005</td><td>&quot;United States&quot;</td><td>3</td><td>296842670</td><td>77.73</td><td>2.06</td><td>&quot;Americas&quot;</td></tr></tbody></table></div>"
      ],
      "text/plain": [
       "shape: (44, 7)\n",
       "┌──────┬───────────────┬─────────┬───────────┬─────────────┬───────────┬───────────────────┐\n",
       "│ year ┆ country       ┆ cluster ┆ pop       ┆ life_expect ┆ fertility ┆ region            │\n",
       "│ ---  ┆ ---           ┆ ---     ┆ ---       ┆ ---         ┆ ---       ┆ ---               │\n",
       "│ i64  ┆ str           ┆ i64     ┆ i64       ┆ f64         ┆ f64       ┆ str               │\n",
       "╞══════╪═══════════════╪═════════╪═══════════╪═════════════╪═══════════╪═══════════════════╡\n",
       "│ 1955 ┆ China         ┆ 4       ┆ 603320147 ┆ 53.92       ┆ 6.16      ┆ E. Asia & Pacific │\n",
       "│ 1960 ┆ China         ┆ 4       ┆ 654170692 ┆ 27.79       ┆ 4.33      ┆ E. Asia & Pacific │\n",
       "│ 1965 ┆ China         ┆ 4       ┆ 723846349 ┆ 58.47       ┆ 6.53      ┆ E. Asia & Pacific │\n",
       "│ 1970 ┆ China         ┆ 4       ┆ 822534450 ┆ 60.88       ┆ 6.09      ┆ E. Asia & Pacific │\n",
       "│ 1975 ┆ China         ┆ 4       ┆ 915124661 ┆ 62.81       ┆ 3.57      ┆ E. Asia & Pacific │\n",
       "│ …    ┆ …             ┆ …       ┆ …         ┆ …           ┆ …         ┆ …                 │\n",
       "│ 1985 ┆ United States ┆ 3       ┆ 235146182 ┆ 74.91       ┆ 1.84      ┆ Americas          │\n",
       "│ 1990 ┆ United States ┆ 3       ┆ 248083732 ┆ 75.72       ┆ 2.07      ┆ Americas          │\n",
       "│ 1995 ┆ United States ┆ 3       ┆ 265660556 ┆ 76.08       ┆ 1.97      ┆ Americas          │\n",
       "│ 2000 ┆ United States ┆ 3       ┆ 282398554 ┆ 77.03       ┆ 2.05      ┆ Americas          │\n",
       "│ 2005 ┆ United States ┆ 3       ┆ 296842670 ┆ 77.73       ┆ 2.06      ┆ Americas          │\n",
       "└──────┴───────────────┴─────────┴───────────┴─────────────┴───────────┴───────────────────┘"
      ]
     },
     "execution_count": 14,
     "metadata": {},
     "output_type": "execute_result"
    }
   ],
   "source": [
    "countries = [\"United States\", \"China\", \"France\", \"Nigeria\"]\n",
    "life_expect_df = df.filter(pl.col(\"country\").is_in(countries))\n",
    "life_expect_df"
   ]
  },
  {
   "cell_type": "code",
   "execution_count": 15,
   "id": "71266153-40bb-42da-9c9c-17164b9718d1",
   "metadata": {
    "colab": {
     "base_uri": "https://localhost:8080/",
     "height": 484
    },
    "id": "71266153-40bb-42da-9c9c-17164b9718d1",
    "outputId": "cfcf1f52-8c40-4bf2-db2e-bfd7a8ff2499"
   },
   "outputs": [
    {
     "data": {
      "text/html": [
       "<figure class=\"plot-d6a7b5-figure\" style=\"max-width: initial; padding: 0px 5px 5px 5px; color: rgb(0, 0, 0); background-color: rgb(255, 255, 255);\" typstbg=\"#FFFFFF\" typstfg=\"#000000\" typstcaption=\"#777777\"><h2 style=\"line-height: 28px; font-size: 20px; font-weight: 600; margin: 0px;\">Life Expectancy in the United States</h2><svg class=\"plot-d6a7b5\" fill=\"currentColor\" font-family=\"system-ui, sans-serif\" font-size=\"10\" text-anchor=\"middle\" width=\"640\" height=\"400\" viewBox=\"0 0 640 400\" xmlns=\"http://www.w3.org/2000/svg\" xmlns:xlink=\"http://www.w3.org/1999/xlink\" style=\"color: rgb(0, 0, 0); background-color: rgb(255, 255, 255);\"><style>:where(.plot-d6a7b5) {\n",
       "  --plot-background: white;\n",
       "  display: block;\n",
       "  height: auto;\n",
       "  height: intrinsic;\n",
       "  max-width: 100%;\n",
       "}\n",
       ":where(.plot-d6a7b5 text),\n",
       ":where(.plot-d6a7b5 tspan) {\n",
       "  white-space: pre;\n",
       "}</style><g aria-label=\"y-axis tick\" aria-hidden=\"true\" fill=\"none\" stroke=\"currentColor\"><path transform=\"translate(40,355.3420504074284)\" d=\"M0,0L-6,0\"></path><path transform=\"translate(40,322.1792685237824)\" d=\"M0,0L-6,0\"></path><path transform=\"translate(40,289.01648664013646)\" d=\"M0,0L-6,0\"></path><path transform=\"translate(40,255.85370475649043)\" d=\"M0,0L-6,0\"></path><path transform=\"translate(40,222.69092287284445)\" d=\"M0,0L-6,0\"></path><path transform=\"translate(40,189.52814098919845)\" d=\"M0,0L-6,0\"></path><path transform=\"translate(40,156.36535910555241)\" d=\"M0,0L-6,0\"></path><path transform=\"translate(40,123.20257722190638)\" d=\"M0,0L-6,0\"></path><path transform=\"translate(40,90.03979533826036)\" d=\"M0,0L-6,0\"></path><path transform=\"translate(40,56.877013454614385)\" d=\"M0,0L-6,0\"></path><path transform=\"translate(40,23.71423157096837)\" d=\"M0,0L-6,0\"></path></g><g aria-label=\"y-axis tick label\" text-anchor=\"end\" font-variant=\"tabular-nums\" transform=\"translate(-9,0)\"><text y=\"0.32em\" transform=\"translate(40,355.3420504074284)\">30</text><text y=\"0.32em\" transform=\"translate(40,322.1792685237824)\">35</text><text y=\"0.32em\" transform=\"translate(40,289.01648664013646)\">40</text><text y=\"0.32em\" transform=\"translate(40,255.85370475649043)\">45</text><text y=\"0.32em\" transform=\"translate(40,222.69092287284445)\">50</text><text y=\"0.32em\" transform=\"translate(40,189.52814098919845)\">55</text><text y=\"0.32em\" transform=\"translate(40,156.36535910555241)\">60</text><text y=\"0.32em\" transform=\"translate(40,123.20257722190638)\">65</text><text y=\"0.32em\" transform=\"translate(40,90.03979533826036)\">70</text><text y=\"0.32em\" transform=\"translate(40,56.877013454614385)\">75</text><text y=\"0.32em\" transform=\"translate(40,23.71423157096837)\">80</text></g><g aria-label=\"y-axis label\" text-anchor=\"start\" transform=\"translate(-37,-17)\"><text y=\"0.71em\" transform=\"translate(40,20)\">↑ Life Expectancy</text></g><g aria-label=\"x-axis tick\" aria-hidden=\"true\" fill=\"none\" stroke=\"currentColor\"><path transform=\"translate(40,370)\" d=\"M0,0L0,6\"></path><path transform=\"translate(98,370)\" d=\"M0,0L0,6\"></path><path transform=\"translate(156,370)\" d=\"M0,0L0,6\"></path><path transform=\"translate(214,370)\" d=\"M0,0L0,6\"></path><path transform=\"translate(272,370)\" d=\"M0,0L0,6\"></path><path transform=\"translate(330,370)\" d=\"M0,0L0,6\"></path><path transform=\"translate(388,370)\" d=\"M0,0L0,6\"></path><path transform=\"translate(446,370)\" d=\"M0,0L0,6\"></path><path transform=\"translate(504,370)\" d=\"M0,0L0,6\"></path><path transform=\"translate(562,370)\" d=\"M0,0L0,6\"></path><path transform=\"translate(620,370)\" d=\"M0,0L0,6\"></path></g><g aria-label=\"x-axis tick label\" font-variant=\"tabular-nums\" transform=\"translate(0,9)\"><text y=\"0.71em\" transform=\"translate(40,370)\">1955</text><text y=\"0.71em\" transform=\"translate(98,370)\">1960</text><text y=\"0.71em\" transform=\"translate(156,370)\">1965</text><text y=\"0.71em\" transform=\"translate(214,370)\">1970</text><text y=\"0.71em\" transform=\"translate(272,370)\">1975</text><text y=\"0.71em\" transform=\"translate(330,370)\">1980</text><text y=\"0.71em\" transform=\"translate(388,370)\">1985</text><text y=\"0.71em\" transform=\"translate(446,370)\">1990</text><text y=\"0.71em\" transform=\"translate(504,370)\">1995</text><text y=\"0.71em\" transform=\"translate(562,370)\">2000</text><text y=\"0.71em\" transform=\"translate(620,370)\">2005</text></g><g aria-label=\"x-axis label\" text-anchor=\"end\" transform=\"translate(17,27)\"><text transform=\"translate(620,370)\">Year →</text></g><g aria-label=\"line\" fill=\"none\" stroke=\"currentColor\" stroke-width=\"1.5\" stroke-linejoin=\"round\" stroke-linecap=\"round\"><path d=\"M40,196.691L98,370L156,166.513L214,150.529L272,137.728L330,127.116L388,112.657L446,102.708L504,91.698L562,81.218L620,70.275\"></path><path d=\"M40,94.484L98,82.147L156,77.902L214,72.795L272,67.887L330,58.999L388,51.77L446,42.219L504,35.719L562,29.087L620,20\"></path><path d=\"M40,250.15L98,243.849L156,234.961L214,228.992L272,209.359L330,195.763L388,190.125L446,191.584L504,191.982L562,191.982L620,178.717\"></path><path d=\"M40,90.968L98,89.642L156,87.586L214,83.872L272,71.933L330,63.775L388,57.474L446,52.102L504,49.714L562,43.413L620,38.77\"></path></g></svg></figure>"
      ],
      "text/plain": [
       "<IPython.core.display.HTML object>"
      ]
     },
     "metadata": {},
     "output_type": "display_data"
    }
   ],
   "source": [
    "Plot.plot(\n",
    "    {\n",
    "        \"title\": \"Life Expectancy in the United States\",\n",
    "        \"x\": {\"tickFormat\": \"d\", \"label\": \"Year\"},\n",
    "        \"y\": {\"label\": \"Life Expectancy\"},\n",
    "        \"marks\": [\n",
    "            Plot.lineY(\n",
    "                life_expect_df,\n",
    "                {\n",
    "                    \"x\": \"year\",\n",
    "                    \"y\": \"life_expect\",\n",
    "                    \"z\": \"country\",\n",
    "                },\n",
    "            )\n",
    "        ],\n",
    "    }\n",
    ")"
   ]
  },
  {
   "cell_type": "markdown",
   "id": "6e5eadf6-d694-4480-87ae-2c1ec8a09042",
   "metadata": {
    "id": "6e5eadf6-d694-4480-87ae-2c1ec8a09042"
   },
   "source": [
    "This looks interesting in that there are some potentially interesting trends here.  However, we cannot identify which line represents which country in the plot. Let’s add a different color for each country. From the previous line charts, we know that the `stroke` key is used to add color to the line. Since we have multiple countries and want to add a different color for each one, we can achieve this by setting the “country” column as the value for `stroke`. Pyobsplot will then automatically assign a unique color to each country.."
   ]
  },
  {
   "cell_type": "code",
   "execution_count": 16,
   "id": "ae9be315-042b-43d1-bff9-15a7452460ad",
   "metadata": {
    "colab": {
     "base_uri": "https://localhost:8080/",
     "height": 484
    },
    "id": "ae9be315-042b-43d1-bff9-15a7452460ad",
    "outputId": "72a99d80-2b76-4258-ec44-f88e7d63507c"
   },
   "outputs": [
    {
     "data": {
      "text/html": [
       "<figure class=\"plot-d6a7b5-figure\" style=\"max-width: initial; padding: 0px 5px 5px 5px; color: rgb(0, 0, 0); background-color: rgb(255, 255, 255);\" typstbg=\"#FFFFFF\" typstfg=\"#000000\" typstcaption=\"#777777\"><h2 style=\"line-height: 28px; font-size: 20px; font-weight: 600; margin: 0px;\">Life Expectancy in the United States</h2><svg class=\"plot-d6a7b5\" fill=\"currentColor\" font-family=\"system-ui, sans-serif\" font-size=\"10\" text-anchor=\"middle\" width=\"640\" height=\"400\" viewBox=\"0 0 640 400\" xmlns=\"http://www.w3.org/2000/svg\" xmlns:xlink=\"http://www.w3.org/1999/xlink\" style=\"color: rgb(0, 0, 0); background-color: rgb(255, 255, 255);\"><style>:where(.plot-d6a7b5) {\n",
       "  --plot-background: white;\n",
       "  display: block;\n",
       "  height: auto;\n",
       "  height: intrinsic;\n",
       "  max-width: 100%;\n",
       "}\n",
       ":where(.plot-d6a7b5 text),\n",
       ":where(.plot-d6a7b5 tspan) {\n",
       "  white-space: pre;\n",
       "}</style><g aria-label=\"y-axis tick\" aria-hidden=\"true\" fill=\"none\" stroke=\"currentColor\"><path transform=\"translate(40,355.3420504074284)\" d=\"M0,0L-6,0\"></path><path transform=\"translate(40,322.1792685237824)\" d=\"M0,0L-6,0\"></path><path transform=\"translate(40,289.01648664013646)\" d=\"M0,0L-6,0\"></path><path transform=\"translate(40,255.85370475649043)\" d=\"M0,0L-6,0\"></path><path transform=\"translate(40,222.69092287284445)\" d=\"M0,0L-6,0\"></path><path transform=\"translate(40,189.52814098919845)\" d=\"M0,0L-6,0\"></path><path transform=\"translate(40,156.36535910555241)\" d=\"M0,0L-6,0\"></path><path transform=\"translate(40,123.20257722190638)\" d=\"M0,0L-6,0\"></path><path transform=\"translate(40,90.03979533826036)\" d=\"M0,0L-6,0\"></path><path transform=\"translate(40,56.877013454614385)\" d=\"M0,0L-6,0\"></path><path transform=\"translate(40,23.71423157096837)\" d=\"M0,0L-6,0\"></path></g><g aria-label=\"y-axis tick label\" text-anchor=\"end\" font-variant=\"tabular-nums\" transform=\"translate(-9,0)\"><text y=\"0.32em\" transform=\"translate(40,355.3420504074284)\">30</text><text y=\"0.32em\" transform=\"translate(40,322.1792685237824)\">35</text><text y=\"0.32em\" transform=\"translate(40,289.01648664013646)\">40</text><text y=\"0.32em\" transform=\"translate(40,255.85370475649043)\">45</text><text y=\"0.32em\" transform=\"translate(40,222.69092287284445)\">50</text><text y=\"0.32em\" transform=\"translate(40,189.52814098919845)\">55</text><text y=\"0.32em\" transform=\"translate(40,156.36535910555241)\">60</text><text y=\"0.32em\" transform=\"translate(40,123.20257722190638)\">65</text><text y=\"0.32em\" transform=\"translate(40,90.03979533826036)\">70</text><text y=\"0.32em\" transform=\"translate(40,56.877013454614385)\">75</text><text y=\"0.32em\" transform=\"translate(40,23.71423157096837)\">80</text></g><g aria-label=\"y-axis label\" text-anchor=\"start\" transform=\"translate(-37,-17)\"><text y=\"0.71em\" transform=\"translate(40,20)\">↑ Life Expectancy</text></g><g aria-label=\"x-axis tick\" aria-hidden=\"true\" fill=\"none\" stroke=\"currentColor\"><path transform=\"translate(40,370)\" d=\"M0,0L0,6\"></path><path transform=\"translate(98,370)\" d=\"M0,0L0,6\"></path><path transform=\"translate(156,370)\" d=\"M0,0L0,6\"></path><path transform=\"translate(214,370)\" d=\"M0,0L0,6\"></path><path transform=\"translate(272,370)\" d=\"M0,0L0,6\"></path><path transform=\"translate(330,370)\" d=\"M0,0L0,6\"></path><path transform=\"translate(388,370)\" d=\"M0,0L0,6\"></path><path transform=\"translate(446,370)\" d=\"M0,0L0,6\"></path><path transform=\"translate(504,370)\" d=\"M0,0L0,6\"></path><path transform=\"translate(562,370)\" d=\"M0,0L0,6\"></path><path transform=\"translate(620,370)\" d=\"M0,0L0,6\"></path></g><g aria-label=\"x-axis tick label\" font-variant=\"tabular-nums\" transform=\"translate(0,9)\"><text y=\"0.71em\" transform=\"translate(40,370)\">1955</text><text y=\"0.71em\" transform=\"translate(98,370)\">1960</text><text y=\"0.71em\" transform=\"translate(156,370)\">1965</text><text y=\"0.71em\" transform=\"translate(214,370)\">1970</text><text y=\"0.71em\" transform=\"translate(272,370)\">1975</text><text y=\"0.71em\" transform=\"translate(330,370)\">1980</text><text y=\"0.71em\" transform=\"translate(388,370)\">1985</text><text y=\"0.71em\" transform=\"translate(446,370)\">1990</text><text y=\"0.71em\" transform=\"translate(504,370)\">1995</text><text y=\"0.71em\" transform=\"translate(562,370)\">2000</text><text y=\"0.71em\" transform=\"translate(620,370)\">2005</text></g><g aria-label=\"x-axis label\" text-anchor=\"end\" transform=\"translate(17,27)\"><text transform=\"translate(620,370)\">Year →</text></g><g aria-label=\"line\" fill=\"none\" stroke-width=\"1.5\" stroke-linejoin=\"round\" stroke-linecap=\"round\"><path stroke=\"#4269d0\" d=\"M40,196.691L98,370L156,166.513L214,150.529L272,137.728L330,127.116L388,112.657L446,102.708L504,91.698L562,81.218L620,70.275\"></path><path stroke=\"#efb118\" d=\"M40,94.484L98,82.147L156,77.902L214,72.795L272,67.887L330,58.999L388,51.77L446,42.219L504,35.719L562,29.087L620,20\"></path><path stroke=\"#ff725c\" d=\"M40,250.15L98,243.849L156,234.961L214,228.992L272,209.359L330,195.763L388,190.125L446,191.584L504,191.982L562,191.982L620,178.717\"></path><path stroke=\"#6cc5b0\" d=\"M40,90.968L98,89.642L156,87.586L214,83.872L272,71.933L330,63.775L388,57.474L446,52.102L504,49.714L562,43.413L620,38.77\"></path></g></svg></figure>"
      ],
      "text/plain": [
       "<IPython.core.display.HTML object>"
      ]
     },
     "metadata": {},
     "output_type": "display_data"
    }
   ],
   "source": [
    "Plot.plot(\n",
    "    {\n",
    "        \"title\": \"Life Expectancy in the United States\",\n",
    "        \"x\": {\"tickFormat\": \"d\", \"label\": \"Year\"},\n",
    "        \"y\": {\"label\": \"Life Expectancy\"},\n",
    "        \"marks\": [\n",
    "            Plot.lineY(\n",
    "                life_expect_df, {\"x\": \"year\", \"y\": \"life_expect\", \"stroke\": \"country\"}\n",
    "            )\n",
    "        ],\n",
    "    }\n",
    ")"
   ]
  },
  {
   "cell_type": "markdown",
   "id": "37ac16f0-a631-4023-902f-1c41af1f4e54",
   "metadata": {
    "id": "37ac16f0-a631-4023-902f-1c41af1f4e54"
   },
   "source": [
    "We have dropped the `z` key because using the `stroke` key with the “country” column will automatically assign different colors to each country. This makes it easy to distinguish between the lines representing different countries without needing the `z` key."
   ]
  },
  {
   "cell_type": "markdown",
   "id": "5829b0e5-b35c-4567-8be7-151b7f931ebc",
   "metadata": {
    "id": "5829b0e5-b35c-4567-8be7-151b7f931ebc"
   },
   "source": [
    "### Legend\n",
    "\n",
    "A **legend** provides the mapping from each color being shown to a label that helps a user understand the different lines. In our case, we want the legend to map from the color to the country name (stored in the variable `country`). To add a legend in pyobsplot, we need to use the `color`key in plot configuration. Inside the `color`, there is an option to enable the legend by setting `legend` to true. This will add legends based on the stroke key, which assigns different colors to each country."
   ]
  },
  {
   "cell_type": "code",
   "execution_count": 17,
   "id": "c4120a06-397b-40c5-b00e-a469ad8b2265",
   "metadata": {
    "colab": {
     "base_uri": "https://localhost:8080/",
     "height": 505
    },
    "id": "c4120a06-397b-40c5-b00e-a469ad8b2265",
    "outputId": "47f87f2b-fdcd-45e5-fea9-f649b01563ca"
   },
   "outputs": [
    {
     "data": {
      "text/html": [
       "<figure class=\"plot-d6a7b5-figure\" style=\"max-width: initial; padding: 0px 5px 5px 5px; color: rgb(0, 0, 0); background-color: rgb(255, 255, 255);\" typstbg=\"#FFFFFF\" typstfg=\"#000000\" typstcaption=\"#777777\"><h2 style=\"line-height: 28px; font-size: 20px; font-weight: 600; margin: 0px;\">Life Expectancy in the United States</h2><div class=\"plot-d6a7b5-swatches plot-d6a7b5-swatches-wrap\"><style>:where(.plot-d6a7b5-swatches) {\n",
       "  font-family: system-ui, sans-serif;\n",
       "  font-size: 10px;\n",
       "  margin-bottom: 0.5em;\n",
       "}\n",
       ":where(.plot-d6a7b5-swatch > svg) {\n",
       "  margin-right: 0.5em;\n",
       "  overflow: visible;\n",
       "}\n",
       ":where(.plot-d6a7b5-swatches-wrap) {\n",
       "  display: flex;\n",
       "  align-items: center;\n",
       "  min-height: 33px;\n",
       "  flex-wrap: wrap;\n",
       "}\n",
       ":where(.plot-d6a7b5-swatches-wrap .plot-d6a7b5-swatch) {\n",
       "  display: inline-flex;\n",
       "  align-items: center;\n",
       "  margin-right: 1em;\n",
       "}</style><span class=\"plot-d6a7b5-swatch\"><svg width=\"15\" height=\"15\" fill=\"#4269d0\" xmlns=\"http://www.w3.org/2000/svg\" xmlns:xlink=\"http://www.w3.org/1999/xlink\" style=\"color: rgb(0, 0, 0); background-color: rgb(255, 255, 255);\"><rect width=\"100%\" height=\"100%\"></rect></svg>China</span><span class=\"plot-d6a7b5-swatch\"><svg width=\"15\" height=\"15\" fill=\"#efb118\" xmlns=\"http://www.w3.org/2000/svg\" xmlns:xlink=\"http://www.w3.org/1999/xlink\" style=\"color: rgb(0, 0, 0); background-color: rgb(255, 255, 255);\"><rect width=\"100%\" height=\"100%\"></rect></svg>France</span><span class=\"plot-d6a7b5-swatch\"><svg width=\"15\" height=\"15\" fill=\"#ff725c\" xmlns=\"http://www.w3.org/2000/svg\" xmlns:xlink=\"http://www.w3.org/1999/xlink\" style=\"color: rgb(0, 0, 0); background-color: rgb(255, 255, 255);\"><rect width=\"100%\" height=\"100%\"></rect></svg>Nigeria</span><span class=\"plot-d6a7b5-swatch\"><svg width=\"15\" height=\"15\" fill=\"#6cc5b0\" xmlns=\"http://www.w3.org/2000/svg\" xmlns:xlink=\"http://www.w3.org/1999/xlink\" style=\"color: rgb(0, 0, 0); background-color: rgb(255, 255, 255);\"><rect width=\"100%\" height=\"100%\"></rect></svg>United States</span></div><svg class=\"plot-d6a7b5\" fill=\"currentColor\" font-family=\"system-ui, sans-serif\" font-size=\"10\" text-anchor=\"middle\" width=\"640\" height=\"400\" viewBox=\"0 0 640 400\" xmlns=\"http://www.w3.org/2000/svg\" xmlns:xlink=\"http://www.w3.org/1999/xlink\" style=\"color: rgb(0, 0, 0); background-color: rgb(255, 255, 255);\"><style>:where(.plot-d6a7b5) {\n",
       "  --plot-background: white;\n",
       "  display: block;\n",
       "  height: auto;\n",
       "  height: intrinsic;\n",
       "  max-width: 100%;\n",
       "}\n",
       ":where(.plot-d6a7b5 text),\n",
       ":where(.plot-d6a7b5 tspan) {\n",
       "  white-space: pre;\n",
       "}</style><g aria-label=\"y-axis tick\" aria-hidden=\"true\" fill=\"none\" stroke=\"currentColor\"><path transform=\"translate(40,355.3420504074284)\" d=\"M0,0L-6,0\"></path><path transform=\"translate(40,322.1792685237824)\" d=\"M0,0L-6,0\"></path><path transform=\"translate(40,289.01648664013646)\" d=\"M0,0L-6,0\"></path><path transform=\"translate(40,255.85370475649043)\" d=\"M0,0L-6,0\"></path><path transform=\"translate(40,222.69092287284445)\" d=\"M0,0L-6,0\"></path><path transform=\"translate(40,189.52814098919845)\" d=\"M0,0L-6,0\"></path><path transform=\"translate(40,156.36535910555241)\" d=\"M0,0L-6,0\"></path><path transform=\"translate(40,123.20257722190638)\" d=\"M0,0L-6,0\"></path><path transform=\"translate(40,90.03979533826036)\" d=\"M0,0L-6,0\"></path><path transform=\"translate(40,56.877013454614385)\" d=\"M0,0L-6,0\"></path><path transform=\"translate(40,23.71423157096837)\" d=\"M0,0L-6,0\"></path></g><g aria-label=\"y-axis tick label\" text-anchor=\"end\" font-variant=\"tabular-nums\" transform=\"translate(-9,0)\"><text y=\"0.32em\" transform=\"translate(40,355.3420504074284)\">30</text><text y=\"0.32em\" transform=\"translate(40,322.1792685237824)\">35</text><text y=\"0.32em\" transform=\"translate(40,289.01648664013646)\">40</text><text y=\"0.32em\" transform=\"translate(40,255.85370475649043)\">45</text><text y=\"0.32em\" transform=\"translate(40,222.69092287284445)\">50</text><text y=\"0.32em\" transform=\"translate(40,189.52814098919845)\">55</text><text y=\"0.32em\" transform=\"translate(40,156.36535910555241)\">60</text><text y=\"0.32em\" transform=\"translate(40,123.20257722190638)\">65</text><text y=\"0.32em\" transform=\"translate(40,90.03979533826036)\">70</text><text y=\"0.32em\" transform=\"translate(40,56.877013454614385)\">75</text><text y=\"0.32em\" transform=\"translate(40,23.71423157096837)\">80</text></g><g aria-label=\"y-axis label\" text-anchor=\"start\" transform=\"translate(-37,-17)\"><text y=\"0.71em\" transform=\"translate(40,20)\">↑ Life Expectancy</text></g><g aria-label=\"x-axis tick\" aria-hidden=\"true\" fill=\"none\" stroke=\"currentColor\"><path transform=\"translate(40,370)\" d=\"M0,0L0,6\"></path><path transform=\"translate(98,370)\" d=\"M0,0L0,6\"></path><path transform=\"translate(156,370)\" d=\"M0,0L0,6\"></path><path transform=\"translate(214,370)\" d=\"M0,0L0,6\"></path><path transform=\"translate(272,370)\" d=\"M0,0L0,6\"></path><path transform=\"translate(330,370)\" d=\"M0,0L0,6\"></path><path transform=\"translate(388,370)\" d=\"M0,0L0,6\"></path><path transform=\"translate(446,370)\" d=\"M0,0L0,6\"></path><path transform=\"translate(504,370)\" d=\"M0,0L0,6\"></path><path transform=\"translate(562,370)\" d=\"M0,0L0,6\"></path><path transform=\"translate(620,370)\" d=\"M0,0L0,6\"></path></g><g aria-label=\"x-axis tick label\" font-variant=\"tabular-nums\" transform=\"translate(0,9)\"><text y=\"0.71em\" transform=\"translate(40,370)\">1955</text><text y=\"0.71em\" transform=\"translate(98,370)\">1960</text><text y=\"0.71em\" transform=\"translate(156,370)\">1965</text><text y=\"0.71em\" transform=\"translate(214,370)\">1970</text><text y=\"0.71em\" transform=\"translate(272,370)\">1975</text><text y=\"0.71em\" transform=\"translate(330,370)\">1980</text><text y=\"0.71em\" transform=\"translate(388,370)\">1985</text><text y=\"0.71em\" transform=\"translate(446,370)\">1990</text><text y=\"0.71em\" transform=\"translate(504,370)\">1995</text><text y=\"0.71em\" transform=\"translate(562,370)\">2000</text><text y=\"0.71em\" transform=\"translate(620,370)\">2005</text></g><g aria-label=\"x-axis label\" text-anchor=\"end\" transform=\"translate(17,27)\"><text transform=\"translate(620,370)\">Year →</text></g><g aria-label=\"line\" fill=\"none\" stroke-width=\"1.5\" stroke-linejoin=\"round\" stroke-linecap=\"round\"><path stroke=\"#4269d0\" d=\"M40,196.691L98,370L156,166.513L214,150.529L272,137.728L330,127.116L388,112.657L446,102.708L504,91.698L562,81.218L620,70.275\"></path><path stroke=\"#efb118\" d=\"M40,94.484L98,82.147L156,77.902L214,72.795L272,67.887L330,58.999L388,51.77L446,42.219L504,35.719L562,29.087L620,20\"></path><path stroke=\"#ff725c\" d=\"M40,250.15L98,243.849L156,234.961L214,228.992L272,209.359L330,195.763L388,190.125L446,191.584L504,191.982L562,191.982L620,178.717\"></path><path stroke=\"#6cc5b0\" d=\"M40,90.968L98,89.642L156,87.586L214,83.872L272,71.933L330,63.775L388,57.474L446,52.102L504,49.714L562,43.413L620,38.77\"></path></g></svg></figure>"
      ],
      "text/plain": [
       "<IPython.core.display.HTML object>"
      ]
     },
     "metadata": {},
     "output_type": "display_data"
    }
   ],
   "source": [
    "Plot.plot(\n",
    "    {\n",
    "        \"title\": \"Life Expectancy in the United States\",\n",
    "        \"x\": {\"tickFormat\": \"d\", \"label\": \"Year\"},\n",
    "        \"y\": {\"label\": \"Life Expectancy\"},\n",
    "        \"color\": {\"legend\": True},\n",
    "        \"marks\": [\n",
    "            Plot.lineY(\n",
    "                life_expect_df, {\"x\": \"year\", \"y\": \"life_expect\", \"stroke\": \"country\"}\n",
    "            )\n",
    "        ],\n",
    "    }\n",
    ")"
   ]
  },
  {
   "cell_type": "markdown",
   "id": "dd0c563c-9a3a-4359-91fa-7ab463e4df51",
   "metadata": {
    "id": "dd0c563c-9a3a-4359-91fa-7ab463e4df51"
   },
   "source": [
    "## Scatterplots\n",
    "\n",
    "We use `Plot.dot` for scatterplots in pyobsplot."
   ]
  },
  {
   "cell_type": "code",
   "execution_count": 18,
   "id": "1f0881b1-9f7c-4fdf-84d0-494185c234d9",
   "metadata": {
    "colab": {
     "base_uri": "https://localhost:8080/",
     "height": 484
    },
    "id": "1f0881b1-9f7c-4fdf-84d0-494185c234d9",
    "outputId": "778b1694-45ea-47fb-c845-b692a0ddbad5"
   },
   "outputs": [
    {
     "data": {
      "text/html": [
       "<figure class=\"plot-d6a7b5-figure\" style=\"max-width: initial; padding: 0px 5px 5px 5px; color: rgb(0, 0, 0); background-color: rgb(255, 255, 255);\" typstbg=\"#FFFFFF\" typstfg=\"#000000\" typstcaption=\"#777777\"><h2 style=\"line-height: 28px; font-size: 20px; font-weight: 600; margin: 0px;\">Life Expectancy in the United States</h2><svg class=\"plot-d6a7b5\" fill=\"currentColor\" font-family=\"system-ui, sans-serif\" font-size=\"10\" text-anchor=\"middle\" width=\"640\" height=\"400\" viewBox=\"0 0 640 400\" xmlns=\"http://www.w3.org/2000/svg\" xmlns:xlink=\"http://www.w3.org/1999/xlink\" style=\"color: rgb(0, 0, 0); background-color: rgb(255, 255, 255);\"><style>:where(.plot-d6a7b5) {\n",
       "  --plot-background: white;\n",
       "  display: block;\n",
       "  height: auto;\n",
       "  height: intrinsic;\n",
       "  max-width: 100%;\n",
       "}\n",
       ":where(.plot-d6a7b5 text),\n",
       ":where(.plot-d6a7b5 tspan) {\n",
       "  white-space: pre;\n",
       "}</style><g aria-label=\"y-axis tick\" aria-hidden=\"true\" fill=\"none\" stroke=\"currentColor\"><path transform=\"translate(40,363.7738246505718)\" d=\"M0,0L-6,0\"></path><path transform=\"translate(40,319.3011435832275)\" d=\"M0,0L-6,0\"></path><path transform=\"translate(40,274.8284625158832)\" d=\"M0,0L-6,0\"></path><path transform=\"translate(40,230.3557814485388)\" d=\"M0,0L-6,0\"></path><path transform=\"translate(40,185.88310038119448)\" d=\"M0,0L-6,0\"></path><path transform=\"translate(40,141.41041931385018)\" d=\"M0,0L-6,0\"></path><path transform=\"translate(40,96.93773824650584)\" d=\"M0,0L-6,0\"></path><path transform=\"translate(40,52.46505717916155)\" d=\"M0,0L-6,0\"></path></g><g aria-label=\"y-axis tick label\" text-anchor=\"end\" font-variant=\"tabular-nums\" transform=\"translate(-9,0)\"><text y=\"0.32em\" transform=\"translate(40,363.7738246505718)\">70</text><text y=\"0.32em\" transform=\"translate(40,319.3011435832275)\">71</text><text y=\"0.32em\" transform=\"translate(40,274.8284625158832)\">72</text><text y=\"0.32em\" transform=\"translate(40,230.3557814485388)\">73</text><text y=\"0.32em\" transform=\"translate(40,185.88310038119448)\">74</text><text y=\"0.32em\" transform=\"translate(40,141.41041931385018)\">75</text><text y=\"0.32em\" transform=\"translate(40,96.93773824650584)\">76</text><text y=\"0.32em\" transform=\"translate(40,52.46505717916155)\">77</text></g><g aria-label=\"y-axis label\" text-anchor=\"start\" transform=\"translate(-37,-17)\"><text y=\"0.71em\" transform=\"translate(40,20)\">↑ Life Expectancy</text></g><g aria-label=\"x-axis tick\" aria-hidden=\"true\" fill=\"none\" stroke=\"currentColor\"><path transform=\"translate(40,370)\" d=\"M0,0L0,6\"></path><path transform=\"translate(98,370)\" d=\"M0,0L0,6\"></path><path transform=\"translate(156,370)\" d=\"M0,0L0,6\"></path><path transform=\"translate(214,370)\" d=\"M0,0L0,6\"></path><path transform=\"translate(272,370)\" d=\"M0,0L0,6\"></path><path transform=\"translate(330,370)\" d=\"M0,0L0,6\"></path><path transform=\"translate(388,370)\" d=\"M0,0L0,6\"></path><path transform=\"translate(446,370)\" d=\"M0,0L0,6\"></path><path transform=\"translate(504,370)\" d=\"M0,0L0,6\"></path><path transform=\"translate(562,370)\" d=\"M0,0L0,6\"></path><path transform=\"translate(620,370)\" d=\"M0,0L0,6\"></path></g><g aria-label=\"x-axis tick label\" font-variant=\"tabular-nums\" transform=\"translate(0,9)\"><text y=\"0.71em\" transform=\"translate(40,370)\">1955</text><text y=\"0.71em\" transform=\"translate(98,370)\">1960</text><text y=\"0.71em\" transform=\"translate(156,370)\">1965</text><text y=\"0.71em\" transform=\"translate(214,370)\">1970</text><text y=\"0.71em\" transform=\"translate(272,370)\">1975</text><text y=\"0.71em\" transform=\"translate(330,370)\">1980</text><text y=\"0.71em\" transform=\"translate(388,370)\">1985</text><text y=\"0.71em\" transform=\"translate(446,370)\">1990</text><text y=\"0.71em\" transform=\"translate(504,370)\">1995</text><text y=\"0.71em\" transform=\"translate(562,370)\">2000</text><text y=\"0.71em\" transform=\"translate(620,370)\">2005</text></g><g aria-label=\"x-axis label\" text-anchor=\"end\" transform=\"translate(17,27)\"><text transform=\"translate(620,370)\">Year →</text></g><g aria-label=\"dot\" fill=\"none\" stroke=\"currentColor\" stroke-width=\"1.5\"><circle cx=\"40\" cy=\"370\" r=\"5\"></circle><circle cx=\"98\" cy=\"361.10546378653106\" r=\"5\"></circle><circle cx=\"156\" cy=\"347.3189326556542\" r=\"5\"></circle><circle cx=\"214\" cy=\"322.41423125794125\" r=\"5\"></circle><circle cx=\"272\" cy=\"242.3634053367216\" r=\"5\"></circle><circle cx=\"330\" cy=\"187.66200762388854\" r=\"5\"></circle><circle cx=\"388\" cy=\"145.4129606099113\" r=\"5\"></circle><circle cx=\"446\" cy=\"109.39008894536234\" r=\"5\"></circle><circle cx=\"504\" cy=\"93.37992376111839\" r=\"5\"></circle><circle cx=\"562\" cy=\"51.13087674714113\" r=\"5\"></circle><circle cx=\"620\" cy=\"20\" r=\"5\"></circle></g></svg></figure>"
      ],
      "text/plain": [
       "<IPython.core.display.HTML object>"
      ]
     },
     "metadata": {},
     "output_type": "display_data"
    }
   ],
   "source": [
    "Plot.plot(\n",
    "    {\n",
    "        \"title\": \"Life Expectancy in the United States\",\n",
    "        \"x\": {\"tickFormat\": \"d\", \"label\": \"Year\"},\n",
    "        \"y\": {\"label\": \"Life Expectancy\"},\n",
    "        \"marks\": [\n",
    "            Plot.dot(life_expect_US_df, {\"x\": \"year\", \"y\": \"life_expect\", \"r\": 5})\n",
    "        ],\n",
    "    }\n",
    ")"
   ]
  },
  {
   "cell_type": "markdown",
   "id": "f91f9be2-917b-4218-a10a-867534f5c822",
   "metadata": {
    "id": "f91f9be2-917b-4218-a10a-867534f5c822"
   },
   "source": [
    "Technically, this is **dot plot** beacuse there is only one entry per year. If we wanted to examine life expectancy versus income for each country, we could instead produce a scatterplot as two countries might have the same values for one or both axes."
   ]
  },
  {
   "cell_type": "code",
   "execution_count": 19,
   "id": "23be1ecc-b103-4348-87bd-e9c2787fcd20",
   "metadata": {
    "colab": {
     "base_uri": "https://localhost:8080/",
     "height": 443
    },
    "id": "23be1ecc-b103-4348-87bd-e9c2787fcd20",
    "outputId": "239bfeff-6aed-4f0f-9c7a-97a1615e8d43"
   },
   "outputs": [
    {
     "data": {
      "text/html": [
       "<div><style>\n",
       ".dataframe > thead > tr,\n",
       ".dataframe > tbody > tr {\n",
       "  text-align: right;\n",
       "  white-space: pre-wrap;\n",
       "}\n",
       "</style>\n",
       "<small>shape: (62, 7)</small><table border=\"1\" class=\"dataframe\"><thead><tr><th>year</th><th>country</th><th>cluster</th><th>pop</th><th>life_expect</th><th>fertility</th><th>region</th></tr><tr><td>i64</td><td>str</td><td>i64</td><td>i64</td><td>f64</td><td>f64</td><td>str</td></tr></thead><tbody><tr><td>2005</td><td>&quot;Afghanistan&quot;</td><td>0</td><td>24411191</td><td>57.63</td><td>6.91</td><td>&quot;S. Asia&quot;</td></tr><tr><td>2005</td><td>&quot;Argentina&quot;</td><td>3</td><td>39070501</td><td>75.28</td><td>2.43</td><td>&quot;Americas&quot;</td></tr><tr><td>2005</td><td>&quot;Australia&quot;</td><td>4</td><td>20171731</td><td>81.24</td><td>1.84</td><td>&quot;E. Asia &amp; Pacific&quot;</td></tr><tr><td>2005</td><td>&quot;Austria&quot;</td><td>1</td><td>8227034</td><td>79.75</td><td>1.41</td><td>&quot;Europe&quot;</td></tr><tr><td>2005</td><td>&quot;Bahamas&quot;</td><td>3</td><td>347804</td><td>73.18</td><td>2.05</td><td>&quot;Americas&quot;</td></tr><tr><td>&hellip;</td><td>&hellip;</td><td>&hellip;</td><td>&hellip;</td><td>&hellip;</td><td>&hellip;</td><td>&hellip;</td></tr><tr><td>2005</td><td>&quot;Switzerland&quot;</td><td>1</td><td>7428435</td><td>81.69</td><td>1.42</td><td>&quot;Europe&quot;</td></tr><tr><td>2005</td><td>&quot;Turkey&quot;</td><td>1</td><td>68704715</td><td>76.81</td><td>2.22</td><td>&quot;Europe&quot;</td></tr><tr><td>2005</td><td>&quot;United Kingdom&quot;</td><td>1</td><td>60383741</td><td>79.33</td><td>1.76</td><td>&quot;Europe&quot;</td></tr><tr><td>2005</td><td>&quot;United States&quot;</td><td>3</td><td>296842670</td><td>77.73</td><td>2.06</td><td>&quot;Americas&quot;</td></tr><tr><td>2005</td><td>&quot;Venezuela&quot;</td><td>3</td><td>26668785</td><td>75.01</td><td>2.63</td><td>&quot;Americas&quot;</td></tr></tbody></table></div>"
      ],
      "text/plain": [
       "shape: (62, 7)\n",
       "┌──────┬────────────────┬─────────┬───────────┬─────────────┬───────────┬───────────────────┐\n",
       "│ year ┆ country        ┆ cluster ┆ pop       ┆ life_expect ┆ fertility ┆ region            │\n",
       "│ ---  ┆ ---            ┆ ---     ┆ ---       ┆ ---         ┆ ---       ┆ ---               │\n",
       "│ i64  ┆ str            ┆ i64     ┆ i64       ┆ f64         ┆ f64       ┆ str               │\n",
       "╞══════╪════════════════╪═════════╪═══════════╪═════════════╪═══════════╪═══════════════════╡\n",
       "│ 2005 ┆ Afghanistan    ┆ 0       ┆ 24411191  ┆ 57.63       ┆ 6.91      ┆ S. Asia           │\n",
       "│ 2005 ┆ Argentina      ┆ 3       ┆ 39070501  ┆ 75.28       ┆ 2.43      ┆ Americas          │\n",
       "│ 2005 ┆ Australia      ┆ 4       ┆ 20171731  ┆ 81.24       ┆ 1.84      ┆ E. Asia & Pacific │\n",
       "│ 2005 ┆ Austria        ┆ 1       ┆ 8227034   ┆ 79.75       ┆ 1.41      ┆ Europe            │\n",
       "│ 2005 ┆ Bahamas        ┆ 3       ┆ 347804    ┆ 73.18       ┆ 2.05      ┆ Americas          │\n",
       "│ …    ┆ …              ┆ …       ┆ …         ┆ …           ┆ …         ┆ …                 │\n",
       "│ 2005 ┆ Switzerland    ┆ 1       ┆ 7428435   ┆ 81.69       ┆ 1.42      ┆ Europe            │\n",
       "│ 2005 ┆ Turkey         ┆ 1       ┆ 68704715  ┆ 76.81       ┆ 2.22      ┆ Europe            │\n",
       "│ 2005 ┆ United Kingdom ┆ 1       ┆ 60383741  ┆ 79.33       ┆ 1.76      ┆ Europe            │\n",
       "│ 2005 ┆ United States  ┆ 3       ┆ 296842670 ┆ 77.73       ┆ 2.06      ┆ Americas          │\n",
       "│ 2005 ┆ Venezuela      ┆ 3       ┆ 26668785  ┆ 75.01       ┆ 2.63      ┆ Americas          │\n",
       "└──────┴────────────────┴─────────┴───────────┴─────────────┴───────────┴───────────────────┘"
      ]
     },
     "execution_count": 19,
     "metadata": {},
     "output_type": "execute_result"
    }
   ],
   "source": [
    "life_expect_2005_df = df.filter(pl.col(\"year\") == 2005)\n",
    "life_expect_2005_df"
   ]
  },
  {
   "cell_type": "code",
   "execution_count": 20,
   "id": "ff49c706-4d13-461a-ac97-333400bd0933",
   "metadata": {
    "colab": {
     "base_uri": "https://localhost:8080/",
     "height": 484
    },
    "id": "ff49c706-4d13-461a-ac97-333400bd0933",
    "outputId": "c832f6b0-6408-4bb3-8a79-997c49bda50d"
   },
   "outputs": [
    {
     "data": {
      "text/html": [
       "<figure class=\"plot-d6a7b5-figure\" style=\"max-width: initial; padding: 0px 5px 5px 5px; color: rgb(0, 0, 0); background-color: rgb(255, 255, 255);\" typstbg=\"#FFFFFF\" typstfg=\"#000000\" typstcaption=\"#777777\"><h2 style=\"line-height: 28px; font-size: 20px; font-weight: 600; margin: 0px;\">Population vs Life Expectancy in 2005</h2><svg class=\"plot-d6a7b5\" fill=\"currentColor\" font-family=\"system-ui, sans-serif\" font-size=\"10\" text-anchor=\"middle\" width=\"640\" height=\"400\" viewBox=\"0 0 640 400\" xmlns=\"http://www.w3.org/2000/svg\" xmlns:xlink=\"http://www.w3.org/1999/xlink\" style=\"color: rgb(0, 0, 0); background-color: rgb(255, 255, 255);\"><style>:where(.plot-d6a7b5) {\n",
       "  --plot-background: white;\n",
       "  display: block;\n",
       "  height: auto;\n",
       "  height: intrinsic;\n",
       "  max-width: 100%;\n",
       "}\n",
       ":where(.plot-d6a7b5 text),\n",
       ":where(.plot-d6a7b5 tspan) {\n",
       "  white-space: pre;\n",
       "}</style><g aria-label=\"y-axis tick\" aria-hidden=\"true\" fill=\"none\" stroke=\"currentColor\"><path transform=\"translate(40,348.125)\" d=\"M0,0L-6,0\"></path><path transform=\"translate(40,325.09868421052636)\" d=\"M0,0L-6,0\"></path><path transform=\"translate(40,302.07236842105266)\" d=\"M0,0L-6,0\"></path><path transform=\"translate(40,279.04605263157896)\" d=\"M0,0L-6,0\"></path><path transform=\"translate(40,256.01973684210526)\" d=\"M0,0L-6,0\"></path><path transform=\"translate(40,232.99342105263156)\" d=\"M0,0L-6,0\"></path><path transform=\"translate(40,209.96710526315792)\" d=\"M0,0L-6,0\"></path><path transform=\"translate(40,186.94078947368422)\" d=\"M0,0L-6,0\"></path><path transform=\"translate(40,163.91447368421052)\" d=\"M0,0L-6,0\"></path><path transform=\"translate(40,140.88815789473685)\" d=\"M0,0L-6,0\"></path><path transform=\"translate(40,117.8618421052632)\" d=\"M0,0L-6,0\"></path><path transform=\"translate(40,94.83552631578947)\" d=\"M0,0L-6,0\"></path><path transform=\"translate(40,71.80921052631578)\" d=\"M0,0L-6,0\"></path><path transform=\"translate(40,48.78289473684211)\" d=\"M0,0L-6,0\"></path><path transform=\"translate(40,25.75657894736843)\" d=\"M0,0L-6,0\"></path></g><g aria-label=\"y-axis tick label\" text-anchor=\"end\" font-variant=\"tabular-nums\" transform=\"translate(-9,0)\"><text y=\"0.32em\" transform=\"translate(40,348.125)\">54</text><text y=\"0.32em\" transform=\"translate(40,325.09868421052636)\">56</text><text y=\"0.32em\" transform=\"translate(40,302.07236842105266)\">58</text><text y=\"0.32em\" transform=\"translate(40,279.04605263157896)\">60</text><text y=\"0.32em\" transform=\"translate(40,256.01973684210526)\">62</text><text y=\"0.32em\" transform=\"translate(40,232.99342105263156)\">64</text><text y=\"0.32em\" transform=\"translate(40,209.96710526315792)\">66</text><text y=\"0.32em\" transform=\"translate(40,186.94078947368422)\">68</text><text y=\"0.32em\" transform=\"translate(40,163.91447368421052)\">70</text><text y=\"0.32em\" transform=\"translate(40,140.88815789473685)\">72</text><text y=\"0.32em\" transform=\"translate(40,117.8618421052632)\">74</text><text y=\"0.32em\" transform=\"translate(40,94.83552631578947)\">76</text><text y=\"0.32em\" transform=\"translate(40,71.80921052631578)\">78</text><text y=\"0.32em\" transform=\"translate(40,48.78289473684211)\">80</text><text y=\"0.32em\" transform=\"translate(40,25.75657894736843)\">82</text></g><g aria-label=\"y-axis label\" text-anchor=\"start\" transform=\"translate(-37,-17)\"><text y=\"0.71em\" transform=\"translate(40,20)\">↑ Life Expectancy</text></g><g aria-label=\"x-axis tick\" aria-hidden=\"true\" fill=\"none\" stroke=\"currentColor\"><path transform=\"translate(128.85504979980846,370)\" d=\"M0,0L0,6\"></path><path transform=\"translate(217.75910974074054,370)\" d=\"M0,0L0,6\"></path><path transform=\"translate(306.66316968167257,370)\" d=\"M0,0L0,6\"></path><path transform=\"translate(395.5672296226047,370)\" d=\"M0,0L0,6\"></path><path transform=\"translate(484.47128956353674,370)\" d=\"M0,0L0,6\"></path><path transform=\"translate(573.3753495044689,370)\" d=\"M0,0L0,6\"></path></g><g aria-label=\"x-axis tick label\" font-variant=\"tabular-nums\" transform=\"translate(0,9)\"><text y=\"0.71em\" transform=\"translate(128.85504979980846,370)\">200,000,000</text><text y=\"0.71em\" transform=\"translate(217.75910974074054,370)\">400,000,000</text><text y=\"0.71em\" transform=\"translate(306.66316968167257,370)\">600,000,000</text><text y=\"0.71em\" transform=\"translate(395.5672296226047,370)\">800,000,000</text><text y=\"0.71em\" transform=\"translate(484.47128956353674,370)\">1,000,000,000</text><text y=\"0.71em\" transform=\"translate(573.3753495044689,370)\">1,200,000,000</text></g><g aria-label=\"x-axis label\" text-anchor=\"end\" transform=\"translate(17,27)\"><text transform=\"translate(620,370)\">Population →</text></g><g aria-label=\"dot\" fill=\"none\" stroke=\"currentColor\" stroke-width=\"1.5\"><circle cx=\"50.80225979834407\" cy=\"306.3322368421052\" r=\"5\"></circle><circle cx=\"57.318620673007594\" cy=\"103.12499999999997\" r=\"5\"></circle><circle cx=\"48.91773376855815\" cy=\"34.506578947368475\" r=\"5\"></circle><circle cx=\"43.60807347823679\" cy=\"51.661184210526315\" r=\"5\"></circle><circle cx=\"40.10559579719484\" cy=\"127.30263157894728\" r=\"5\"></circle><circle cx=\"102.58949659783629\" cy=\"193.38815789473685\" r=\"5\"></circle><circle cx=\"40.07077785567988\" cy=\"103.58552631578955\" r=\"5\"></circle><circle cx=\"44.62600007142368\" cy=\"56.611842105263236\" r=\"5\"></circle><circle cx=\"44.11942918308325\" cy=\"175.77302631578948\" r=\"5\"></circle><circle cx=\"122.98619675258792\" cy=\"131.5625\" r=\"5\"></circle><circle cx=\"54.27161849445652\" cy=\"43.83223684210519\" r=\"5\"></circle><circle cx=\"47.14124395241245\" cy=\"73.07565789473682\" r=\"5\"></circle><circle cx=\"620\" cy=\"129.60526315789468\" r=\"5\"></circle><circle cx=\"58.71905476148885\" cy=\"88.84868421052639\" r=\"5\"></circle><circle cx=\"41.86948924160781\" cy=\"55.23026315789476\" r=\"5\"></circle><circle cx=\"41.9200729845924\" cy=\"99.78618421052639\" r=\"5\"></circle><circle cx=\"44.95011582466914\" cy=\"75.4934210526315\" r=\"5\"></circle><circle cx=\"44.024915276960044\" cy=\"134.44078947368422\" r=\"5\"></circle><circle cx=\"46.072039720053134\" cy=\"122.35197368421053\" r=\"5\"></circle><circle cx=\"75.10157035931529\" cy=\"177.96052631578948\" r=\"5\"></circle><circle cx=\"42.634922081278255\" cy=\"122.69736842105266\" r=\"5\"></circle><circle cx=\"42.28297491206829\" cy=\"56.611842105263236\" r=\"5\"></circle><circle cx=\"66.84894831110904\" cy=\"42.33552631578945\" r=\"5\"></circle><circle cx=\"41.71181566870107\" cy=\"151.8256578947369\" r=\"5\"></circle><circle cx=\"76.0514471179016\" cy=\"52.92763157894737\" r=\"5\"></circle><circle cx=\"44.89114309458853\" cy=\"55.345394736842046\" r=\"5\"></circle><circle cx=\"40\" cy=\"136.5131578947369\" r=\"5\"></circle><circle cx=\"44.00141437775526\" cy=\"289.98355263157896\" r=\"5\"></circle><circle cx=\"43.03457116836983\" cy=\"28.404605263157954\" r=\"5\"></circle><circle cx=\"40.08302527897734\" cy=\"30.24671052631578\" r=\"5\"></circle><circle cx=\"553.2113366122397\" cy=\"216.99013157894737\" r=\"5\"></circle><circle cx=\"141.65952104372434\" cy=\"183.94736842105257\" r=\"5\"></circle><circle cx=\"71.14857757780686\" cy=\"123.04276315789478\" r=\"5\"></circle><circle cx=\"52.7081374716857\" cy=\"190.62499999999994\" r=\"5\"></circle><circle cx=\"41.78295403034401\" cy=\"59.14473684210533\" r=\"5\"></circle><circle cx=\"42.93555427161062\" cy=\"45.67434210526321\" r=\"5\"></circle><circle cx=\"65.82201618117044\" cy=\"37.38486842105269\" r=\"5\"></circle><circle cx=\"41.140909801904684\" cy=\"78.48684210526312\" r=\"5\"></circle><circle cx=\"96.75996092660435\" cy=\"20\" r=\"5\"></circle><circle cx=\"55.883935406393505\" cy=\"319.2269736842106\" r=\"5\"></circle><circle cx=\"42.014917169298286\" cy=\"101.28289473684217\" r=\"5\"></circle><circle cx=\"86.82227799749565\" cy=\"106.23355263157887\" r=\"5\"></circle><circle cx=\"47.179703848742896\" cy=\"53.04276315789481\" r=\"5\"></circle><circle cx=\"41.78809490761009\" cy=\"51.0855263157895\" r=\"5\"></circle><circle cx=\"102.40196770804047\" cy=\"317.8453947368421\" r=\"5\"></circle><circle cx=\"50.66436560069298\" cy=\"163.7993421052631\" r=\"5\"></circle><circle cx=\"42.0063134788975\" cy=\"44.52302631578941\" r=\"5\"></circle><circle cx=\"117.46292712196679\" cy=\"266.95723684210526\" r=\"5\"></circle><circle cx=\"52.46302142158346\" cy=\"81.48026315789478\" r=\"5\"></circle><circle cx=\"78.295866561775\" cy=\"160.3453947368421\" r=\"5\"></circle><circle cx=\"57.09876537797667\" cy=\"104.16118421052633\" r=\"5\"></circle><circle cx=\"44.62881699656292\" cy=\"63.174342105263136\" r=\"5\"></circle><circle cx=\"43.96336299558023\" cy=\"299.5394736842106\" r=\"5\"></circle><circle cx=\"50.79623788184397\" cy=\"150.5592105263158\" r=\"5\"></circle><circle cx=\"61.74010673398376\" cy=\"370\" r=\"5\"></circle><circle cx=\"61.23887720156458\" cy=\"62.82894736842105\" r=\"5\"></circle><circle cx=\"59.370025402066545\" cy=\"42.10526315789477\" r=\"5\"></circle><circle cx=\"43.25308001141295\" cy=\"29.325657894736867\" r=\"5\"></circle><circle cx=\"70.49163036179965\" cy=\"85.5098684210526\" r=\"5\"></circle><circle cx=\"66.79278850548495\" cy=\"56.4967105263158\" r=\"5\"></circle><circle cx=\"171.90358249240796\" cy=\"74.91776315789468\" r=\"5\"></circle><circle cx=\"51.80580615983551\" cy=\"106.23355263157887\" r=\"5\"></circle></g></svg></figure>"
      ],
      "text/plain": [
       "<IPython.core.display.HTML object>"
      ]
     },
     "metadata": {},
     "output_type": "display_data"
    }
   ],
   "source": [
    "Plot.plot(\n",
    "    {\n",
    "        \"title\": \"Population vs Life Expectancy in 2005\",\n",
    "        \"x\": {\"label\": \"Population\"},\n",
    "        \"y\": {\"label\": \"Life Expectancy\"},\n",
    "        \"marks\": [\n",
    "            Plot.dot(life_expect_2005_df, {\"x\": \"pop\", \"y\": \"life_expect\", \"r\": 5})\n",
    "        ],\n",
    "    }\n",
    ")"
   ]
  },
  {
   "cell_type": "markdown",
   "id": "701d1d99-ace4-49d5-b8e5-0e58a4a4c305",
   "metadata": {
    "id": "701d1d99-ace4-49d5-b8e5-0e58a4a4c305"
   },
   "source": [
    "Because China and India's populations dwarfed other countries, this plot clusters most of the points on the left side. We can change this by using **log scaling** on the x-axis."
   ]
  },
  {
   "cell_type": "code",
   "execution_count": 21,
   "id": "2996d47c-3537-4d96-9a8e-ad781041dcde",
   "metadata": {
    "colab": {
     "base_uri": "https://localhost:8080/",
     "height": 484
    },
    "id": "2996d47c-3537-4d96-9a8e-ad781041dcde",
    "outputId": "0e9e75a8-579e-4211-927d-8f3708ac355a"
   },
   "outputs": [
    {
     "data": {
      "text/html": [
       "<figure class=\"plot-d6a7b5-figure\" style=\"max-width: initial; padding: 0px 5px 5px 5px; color: rgb(0, 0, 0); background-color: rgb(255, 255, 255);\" typstbg=\"#FFFFFF\" typstfg=\"#000000\" typstcaption=\"#777777\"><h2 style=\"line-height: 28px; font-size: 20px; font-weight: 600; margin: 0px;\">Population vs Life Expectancy in 2005</h2><svg class=\"plot-d6a7b5\" fill=\"currentColor\" font-family=\"system-ui, sans-serif\" font-size=\"10\" text-anchor=\"middle\" width=\"640\" height=\"400\" viewBox=\"0 0 640 400\" xmlns=\"http://www.w3.org/2000/svg\" xmlns:xlink=\"http://www.w3.org/1999/xlink\" style=\"color: rgb(0, 0, 0); background-color: rgb(255, 255, 255);\"><style>:where(.plot-d6a7b5) {\n",
       "  --plot-background: white;\n",
       "  display: block;\n",
       "  height: auto;\n",
       "  height: intrinsic;\n",
       "  max-width: 100%;\n",
       "}\n",
       ":where(.plot-d6a7b5 text),\n",
       ":where(.plot-d6a7b5 tspan) {\n",
       "  white-space: pre;\n",
       "}</style><g aria-label=\"y-axis tick\" aria-hidden=\"true\" fill=\"none\" stroke=\"currentColor\"><path transform=\"translate(40,348.125)\" d=\"M0,0L-6,0\"></path><path transform=\"translate(40,325.09868421052636)\" d=\"M0,0L-6,0\"></path><path transform=\"translate(40,302.07236842105266)\" d=\"M0,0L-6,0\"></path><path transform=\"translate(40,279.04605263157896)\" d=\"M0,0L-6,0\"></path><path transform=\"translate(40,256.01973684210526)\" d=\"M0,0L-6,0\"></path><path transform=\"translate(40,232.99342105263156)\" d=\"M0,0L-6,0\"></path><path transform=\"translate(40,209.96710526315792)\" d=\"M0,0L-6,0\"></path><path transform=\"translate(40,186.94078947368422)\" d=\"M0,0L-6,0\"></path><path transform=\"translate(40,163.91447368421052)\" d=\"M0,0L-6,0\"></path><path transform=\"translate(40,140.88815789473685)\" d=\"M0,0L-6,0\"></path><path transform=\"translate(40,117.8618421052632)\" d=\"M0,0L-6,0\"></path><path transform=\"translate(40,94.83552631578947)\" d=\"M0,0L-6,0\"></path><path transform=\"translate(40,71.80921052631578)\" d=\"M0,0L-6,0\"></path><path transform=\"translate(40,48.78289473684211)\" d=\"M0,0L-6,0\"></path><path transform=\"translate(40,25.75657894736843)\" d=\"M0,0L-6,0\"></path></g><g aria-label=\"y-axis tick label\" text-anchor=\"end\" font-variant=\"tabular-nums\" transform=\"translate(-9,0)\"><text y=\"0.32em\" transform=\"translate(40,348.125)\">54</text><text y=\"0.32em\" transform=\"translate(40,325.09868421052636)\">56</text><text y=\"0.32em\" transform=\"translate(40,302.07236842105266)\">58</text><text y=\"0.32em\" transform=\"translate(40,279.04605263157896)\">60</text><text y=\"0.32em\" transform=\"translate(40,256.01973684210526)\">62</text><text y=\"0.32em\" transform=\"translate(40,232.99342105263156)\">64</text><text y=\"0.32em\" transform=\"translate(40,209.96710526315792)\">66</text><text y=\"0.32em\" transform=\"translate(40,186.94078947368422)\">68</text><text y=\"0.32em\" transform=\"translate(40,163.91447368421052)\">70</text><text y=\"0.32em\" transform=\"translate(40,140.88815789473685)\">72</text><text y=\"0.32em\" transform=\"translate(40,117.8618421052632)\">74</text><text y=\"0.32em\" transform=\"translate(40,94.83552631578947)\">76</text><text y=\"0.32em\" transform=\"translate(40,71.80921052631578)\">78</text><text y=\"0.32em\" transform=\"translate(40,48.78289473684211)\">80</text><text y=\"0.32em\" transform=\"translate(40,25.75657894736843)\">82</text></g><g aria-label=\"y-axis label\" text-anchor=\"start\" transform=\"translate(-37,-17)\"><text y=\"0.71em\" transform=\"translate(40,20)\">↑ Life Expectancy</text></g><g aria-label=\"x-axis tick\" aria-hidden=\"true\" fill=\"none\" stroke=\"currentColor\"><path transform=\"translate(76.8284039376621,370)\" d=\"M0,0L0,6\"></path><path transform=\"translate(101.90290639587572,370)\" d=\"M0,0L0,6\"></path><path transform=\"translate(119.69354901499818,370)\" d=\"M0,0L0,6\"></path><path transform=\"translate(133.49304350681533,370)\" d=\"M0,0L0,6\"></path><path transform=\"translate(144.7680514732118,370)\" d=\"M0,0L0,6\"></path><path transform=\"translate(154.30093487789875,370)\" d=\"M0,0L0,6\"></path><path transform=\"translate(162.5586940923343,370)\" d=\"M0,0L0,6\"></path><path transform=\"translate(169.84255393142558,370)\" d=\"M0,0L0,6\"></path><path transform=\"translate(176.35818858415143,370)\" d=\"M0,0L0,6\"></path><path transform=\"translate(219.22333366148754,370)\" d=\"M0,0L0,6\"></path><path transform=\"translate(244.2978361197013,370)\" d=\"M0,0L0,6\"></path><path transform=\"translate(262.08847873882365,370)\" d=\"M0,0L0,6\"></path><path transform=\"translate(275.88797323064085,370)\" d=\"M0,0L0,6\"></path><path transform=\"translate(287.16298119703737,370)\" d=\"M0,0L0,6\"></path><path transform=\"translate(296.6958646017242,370)\" d=\"M0,0L0,6\"></path><path transform=\"translate(304.95362381615973,370)\" d=\"M0,0L0,6\"></path><path transform=\"translate(312.2374836552509,370)\" d=\"M0,0L0,6\"></path><path transform=\"translate(318.753118307977,370)\" d=\"M0,0L0,6\"></path><path transform=\"translate(361.61826338531296,370)\" d=\"M0,0L0,6\"></path><path transform=\"translate(386.6927658435267,370)\" d=\"M0,0L0,6\"></path><path transform=\"translate(404.48340846264915,370)\" d=\"M0,0L0,6\"></path><path transform=\"translate(418.2829029544663,370)\" d=\"M0,0L0,6\"></path><path transform=\"translate(429.5579109208628,370)\" d=\"M0,0L0,6\"></path><path transform=\"translate(439.0907943255496,370)\" d=\"M0,0L0,6\"></path><path transform=\"translate(447.3485535399852,370)\" d=\"M0,0L0,6\"></path><path transform=\"translate(454.63241337907647,370)\" d=\"M0,0L0,6\"></path><path transform=\"translate(461.1480480318025,370)\" d=\"M0,0L0,6\"></path><path transform=\"translate(504.0131931091385,370)\" d=\"M0,0L0,6\"></path><path transform=\"translate(529.0876955673522,370)\" d=\"M0,0L0,6\"></path><path transform=\"translate(546.8783381864746,370)\" d=\"M0,0L0,6\"></path><path transform=\"translate(560.6778326782919,370)\" d=\"M0,0L0,6\"></path><path transform=\"translate(571.9528406446884,370)\" d=\"M0,0L0,6\"></path><path transform=\"translate(581.4857240493752,370)\" d=\"M0,0L0,6\"></path><path transform=\"translate(589.7434832638107,370)\" d=\"M0,0L0,6\"></path><path transform=\"translate(597.0273431029019,370)\" d=\"M0,0L0,6\"></path><path transform=\"translate(603.5429777556279,370)\" d=\"M0,0L0,6\"></path></g><g aria-label=\"x-axis tick label\" font-variant=\"tabular-nums\" transform=\"translate(0,9)\"><text y=\"0.71em\" transform=\"translate(76.8284039376621,370)\">200k</text><text y=\"0.71em\" transform=\"translate(101.90290639587572,370)\"></text><text y=\"0.71em\" transform=\"translate(119.69354901499818,370)\"></text><text y=\"0.71em\" transform=\"translate(133.49304350681533,370)\"></text><text y=\"0.71em\" transform=\"translate(144.7680514732118,370)\"></text><text y=\"0.71em\" transform=\"translate(154.30093487789875,370)\"></text><text y=\"0.71em\" transform=\"translate(162.5586940923343,370)\"></text><text y=\"0.71em\" transform=\"translate(169.84255393142558,370)\"></text><text y=\"0.71em\" transform=\"translate(176.35818858415143,370)\">1M</text><text y=\"0.71em\" transform=\"translate(219.22333366148754,370)\">2M</text><text y=\"0.71em\" transform=\"translate(244.2978361197013,370)\"></text><text y=\"0.71em\" transform=\"translate(262.08847873882365,370)\"></text><text y=\"0.71em\" transform=\"translate(275.88797323064085,370)\"></text><text y=\"0.71em\" transform=\"translate(287.16298119703737,370)\"></text><text y=\"0.71em\" transform=\"translate(296.6958646017242,370)\"></text><text y=\"0.71em\" transform=\"translate(304.95362381615973,370)\"></text><text y=\"0.71em\" transform=\"translate(312.2374836552509,370)\"></text><text y=\"0.71em\" transform=\"translate(318.753118307977,370)\">10M</text><text y=\"0.71em\" transform=\"translate(361.61826338531296,370)\">20M</text><text y=\"0.71em\" transform=\"translate(386.6927658435267,370)\"></text><text y=\"0.71em\" transform=\"translate(404.48340846264915,370)\"></text><text y=\"0.71em\" transform=\"translate(418.2829029544663,370)\"></text><text y=\"0.71em\" transform=\"translate(429.5579109208628,370)\"></text><text y=\"0.71em\" transform=\"translate(439.0907943255496,370)\"></text><text y=\"0.71em\" transform=\"translate(447.3485535399852,370)\"></text><text y=\"0.71em\" transform=\"translate(454.63241337907647,370)\"></text><text y=\"0.71em\" transform=\"translate(461.1480480318025,370)\">100M</text><text y=\"0.71em\" transform=\"translate(504.0131931091385,370)\">200M</text><text y=\"0.71em\" transform=\"translate(529.0876955673522,370)\"></text><text y=\"0.71em\" transform=\"translate(546.8783381864746,370)\"></text><text y=\"0.71em\" transform=\"translate(560.6778326782919,370)\"></text><text y=\"0.71em\" transform=\"translate(571.9528406446884,370)\"></text><text y=\"0.71em\" transform=\"translate(581.4857240493752,370)\"></text><text y=\"0.71em\" transform=\"translate(589.7434832638107,370)\"></text><text y=\"0.71em\" transform=\"translate(597.0273431029019,370)\"></text><text y=\"0.71em\" transform=\"translate(603.5429777556279,370)\">1G</text></g><g aria-label=\"x-axis label\" text-anchor=\"end\" transform=\"translate(17,27)\"><text transform=\"translate(620,370)\">Population →</text></g><g aria-label=\"dot\" fill=\"none\" stroke=\"currentColor\" stroke-width=\"1.5\"><circle cx=\"373.9438222777558\" cy=\"306.3322368421052\" r=\"5\"></circle><circle cx=\"403.02941225168956\" cy=\"103.12499999999997\" r=\"5\"></circle><circle cx=\"362.14700029832767\" cy=\"34.506578947368475\" r=\"5\"></circle><circle cx=\"306.6841928466244\" cy=\"51.661184210526315\" r=\"5\"></circle><circle cx=\"111.04655725417587\" cy=\"127.30263157894728\" r=\"5\"></circle><circle cx=\"482.35774396364593\" cy=\"193.38815789473685\" r=\"5\"></circle><circle cx=\"95.26736662434458\" cy=\"103.58552631578955\" r=\"5\"></circle><circle cx=\"321.87028079320544\" cy=\"56.611842105263236\" r=\"5\"></circle><circle cx=\"314.7777203989547\" cy=\"175.77302631578948\" r=\"5\"></circle><circle cx=\"499.7898560312171\" cy=\"131.5625\" r=\"5\"></circle><circle cx=\"391.09977920301236\" cy=\"43.83223684210519\" r=\"5\"></circle><circle cx=\"348.4926752362589\" cy=\"73.07565789473682\" r=\"5\"></circle><circle cx=\"620\" cy=\"129.60526315789468\" r=\"5\"></circle><circle cx=\"407.8251194038478\" cy=\"88.84868421052639\" r=\"5\"></circle><circle cx=\"266.78894590453416\" cy=\"55.23026315789476\" r=\"5\"></circle><circle cx=\"268.3983484582564\" cy=\"99.78618421052639\" r=\"5\"></circle><circle cx=\"326.01561308646825\" cy=\"75.4934210526315\" r=\"5\"></circle><circle cx=\"313.3594084825471\" cy=\"134.44078947368422\" r=\"5\"></circle><circle cx=\"338.53666085932076\" cy=\"122.35197368421053\" r=\"5\"></circle><circle cx=\"446.6295896027922\" cy=\"177.96052631578948\" r=\"5\"></circle><circle cx=\"287.5515335989352\" cy=\"122.69736842105266\" r=\"5\"></circle><circle cx=\"278.8589237809832\" cy=\"56.611842105263236\" r=\"5\"></circle><circle cx=\"430.0814215440623\" cy=\"42.33552631578945\" r=\"5\"></circle><circle cx=\"261.48540852669123\" cy=\"151.8256578947369\" r=\"5\"></circle><circle cx=\"448.27855153810185\" cy=\"52.92763157894737\" r=\"5\"></circle><circle cx=\"325.28175806212903\" cy=\"55.345394736842046\" r=\"5\"></circle><circle cx=\"40\" cy=\"136.5131578947369\" r=\"5\"></circle><circle cx=\"313.0016368502912\" cy=\"289.98355263157896\" r=\"5\"></circle><circle cx=\"296.1356496446229\" cy=\"28.404605263157954\" r=\"5\"></circle><circle cx=\"101.28741832179315\" cy=\"30.24671052631578\" r=\"5\"></circle><circle cx=\"612.4349878463483\" cy=\"216.99013157894737\" r=\"5\"></circle><circle cx=\"512.3341530889402\" cy=\"183.94736842105257\" r=\"5\"></circle><circle cx=\"439.2518965320507\" cy=\"123.04276315789478\" r=\"5\"></circle><circle cx=\"383.95034309887967\" cy=\"190.62499999999994\" r=\"5\"></circle><circle cx=\"263.93468395459416\" cy=\"59.14473684210533\" r=\"5\"></circle><circle cx=\"294.1172800656915\" cy=\"45.67434210526321\" r=\"5\"></circle><circle cx=\"427.67414119303146\" cy=\"37.38486842105269\" r=\"5\"></circle><circle cx=\"237.24998343012865\" cy=\"78.48684210526312\" r=\"5\"></circle><circle cx=\"476.3167141787964\" cy=\"20\" r=\"5\"></circle><circle cx=\"397.6975043376517\" cy=\"319.2269736842106\" r=\"5\"></circle><circle cx=\"271.307526329475\" cy=\"101.28289473684217\" r=\"5\"></circle><circle cx=\"464.42530873102123\" cy=\"106.23355263157887\" r=\"5\"></circle><circle cx=\"348.82257635722937\" cy=\"53.04276315789481\" r=\"5\"></circle><circle cx=\"264.1079807162147\" cy=\"51.0855263157895\" r=\"5\"></circle><circle cx=\"482.1723239804585\" cy=\"317.8453947368421\" r=\"5\"></circle><circle cx=\"373.1529280292285\" cy=\"163.7993421052631\" r=\"5\"></circle><circle cx=\"271.04919564791635\" cy=\"44.52302631578941\" r=\"5\"></circle><circle cx=\"495.53314746587813\" cy=\"266.95723684210526\" r=\"5\"></circle><circle cx=\"382.7505590896564\" cy=\"81.48026315789478\" r=\"5\"></circle><circle cx=\"452.0085358589315\" cy=\"160.3453947368421\" r=\"5\"></circle><circle cx=\"402.24157112943254\" cy=\"104.16118421052633\" r=\"5\"></circle><circle cx=\"321.9075320362554\" cy=\"63.174342105263136\" r=\"5\"></circle><circle cx=\"312.4179273891759\" cy=\"299.5394736842106\" r=\"5\"></circle><circle cx=\"373.9094938800698\" cy=\"150.5592105263158\" r=\"5\"></circle><circle cx=\"417.0551775138\" cy=\"370\" r=\"5\"></circle><circle cx=\"415.61598267740044\" cy=\"62.82894736842105\" r=\"5\"></circle><circle cx=\"409.93372630835165\" cy=\"42.10526315789477\" r=\"5\"></circle><circle cx=\"300.3695523390247\" cy=\"29.325657894736867\" r=\"5\"></circle><circle cx=\"437.9357581955651\" cy=\"85.5098684210526\" r=\"5\"></circle><circle cx=\"429.95216906324197\" cy=\"56.4967105263158\" r=\"5\"></circle><circle cx=\"528.4334014804739\" cy=\"74.91776315789468\" r=\"5\"></circle><circle cx=\"379.41381833015566\" cy=\"106.23355263157887\" r=\"5\"></circle></g></svg></figure>"
      ],
      "text/plain": [
       "<IPython.core.display.HTML object>"
      ]
     },
     "metadata": {},
     "output_type": "display_data"
    }
   ],
   "source": [
    "Plot.plot(\n",
    "    {\n",
    "        \"title\": \"Population vs Life Expectancy in 2005\",\n",
    "        \"x\": {\"type\": \"log\", \"base\": 10, \"label\": \"Population\"},\n",
    "        \"y\": {\"label\": \"Life Expectancy\"},\n",
    "        \"marks\": [\n",
    "            Plot.dot(life_expect_2005_df, {\"x\": \"pop\", \"y\": \"life_expect\", \"r\": 5})\n",
    "        ],\n",
    "    }\n",
    ")"
   ]
  },
  {
   "cell_type": "markdown",
   "id": "4e3cb335-37e4-4395-96a1-54b3a8037c81",
   "metadata": {
    "id": "4e3cb335-37e4-4395-96a1-54b3a8037c81"
   },
   "source": [
    "This is interesting, but we may be able to see other differences if we know something about the regions where these countries are located in. To do, we might wish to add color. We can do this by adding **region** column to the `fill`"
   ]
  },
  {
   "cell_type": "code",
   "execution_count": 22,
   "id": "8740529f-f17f-4a20-a91a-189d32b124f3",
   "metadata": {
    "colab": {
     "base_uri": "https://localhost:8080/",
     "height": 505
    },
    "id": "8740529f-f17f-4a20-a91a-189d32b124f3",
    "outputId": "4afca37a-d871-457e-a237-bd70d1c1d18f"
   },
   "outputs": [
    {
     "data": {
      "text/html": [
       "<figure class=\"plot-d6a7b5-figure\" style=\"max-width: initial; padding: 0px 5px 5px 5px; color: rgb(0, 0, 0); background-color: rgb(255, 255, 255);\" typstbg=\"#FFFFFF\" typstfg=\"#000000\" typstcaption=\"#777777\"><h2 style=\"line-height: 28px; font-size: 20px; font-weight: 600; margin: 0px;\">Population vs Life Expectancy in 2005</h2><div class=\"plot-d6a7b5-swatches plot-d6a7b5-swatches-wrap\"><style>:where(.plot-d6a7b5-swatches) {\n",
       "  font-family: system-ui, sans-serif;\n",
       "  font-size: 10px;\n",
       "  margin-bottom: 0.5em;\n",
       "}\n",
       ":where(.plot-d6a7b5-swatch > svg) {\n",
       "  margin-right: 0.5em;\n",
       "  overflow: visible;\n",
       "}\n",
       ":where(.plot-d6a7b5-swatches-wrap) {\n",
       "  display: flex;\n",
       "  align-items: center;\n",
       "  min-height: 33px;\n",
       "  flex-wrap: wrap;\n",
       "}\n",
       ":where(.plot-d6a7b5-swatches-wrap .plot-d6a7b5-swatch) {\n",
       "  display: inline-flex;\n",
       "  align-items: center;\n",
       "  margin-right: 1em;\n",
       "}</style><span class=\"plot-d6a7b5-swatch\"><svg width=\"15\" height=\"15\" fill=\"#4269d0\" xmlns=\"http://www.w3.org/2000/svg\" xmlns:xlink=\"http://www.w3.org/1999/xlink\" style=\"color: rgb(0, 0, 0); background-color: rgb(255, 255, 255);\"><rect width=\"100%\" height=\"100%\"></rect></svg>Africa</span><span class=\"plot-d6a7b5-swatch\"><svg width=\"15\" height=\"15\" fill=\"#efb118\" xmlns=\"http://www.w3.org/2000/svg\" xmlns:xlink=\"http://www.w3.org/1999/xlink\" style=\"color: rgb(0, 0, 0); background-color: rgb(255, 255, 255);\"><rect width=\"100%\" height=\"100%\"></rect></svg>Americas</span><span class=\"plot-d6a7b5-swatch\"><svg width=\"15\" height=\"15\" fill=\"#ff725c\" xmlns=\"http://www.w3.org/2000/svg\" xmlns:xlink=\"http://www.w3.org/1999/xlink\" style=\"color: rgb(0, 0, 0); background-color: rgb(255, 255, 255);\"><rect width=\"100%\" height=\"100%\"></rect></svg>E. Asia &amp; Pacific</span><span class=\"plot-d6a7b5-swatch\"><svg width=\"15\" height=\"15\" fill=\"#6cc5b0\" xmlns=\"http://www.w3.org/2000/svg\" xmlns:xlink=\"http://www.w3.org/1999/xlink\" style=\"color: rgb(0, 0, 0); background-color: rgb(255, 255, 255);\"><rect width=\"100%\" height=\"100%\"></rect></svg>Europe</span><span class=\"plot-d6a7b5-swatch\"><svg width=\"15\" height=\"15\" fill=\"#3ca951\" xmlns=\"http://www.w3.org/2000/svg\" xmlns:xlink=\"http://www.w3.org/1999/xlink\" style=\"color: rgb(0, 0, 0); background-color: rgb(255, 255, 255);\"><rect width=\"100%\" height=\"100%\"></rect></svg>Mid. East</span><span class=\"plot-d6a7b5-swatch\"><svg width=\"15\" height=\"15\" fill=\"#ff8ab7\" xmlns=\"http://www.w3.org/2000/svg\" xmlns:xlink=\"http://www.w3.org/1999/xlink\" style=\"color: rgb(0, 0, 0); background-color: rgb(255, 255, 255);\"><rect width=\"100%\" height=\"100%\"></rect></svg>S. Asia</span></div><svg class=\"plot-d6a7b5\" fill=\"currentColor\" font-family=\"system-ui, sans-serif\" font-size=\"10\" text-anchor=\"middle\" width=\"640\" height=\"400\" viewBox=\"0 0 640 400\" xmlns=\"http://www.w3.org/2000/svg\" xmlns:xlink=\"http://www.w3.org/1999/xlink\" style=\"color: rgb(0, 0, 0); background-color: rgb(255, 255, 255);\"><style>:where(.plot-d6a7b5) {\n",
       "  --plot-background: white;\n",
       "  display: block;\n",
       "  height: auto;\n",
       "  height: intrinsic;\n",
       "  max-width: 100%;\n",
       "}\n",
       ":where(.plot-d6a7b5 text),\n",
       ":where(.plot-d6a7b5 tspan) {\n",
       "  white-space: pre;\n",
       "}</style><g aria-label=\"y-axis tick\" aria-hidden=\"true\" fill=\"none\" stroke=\"currentColor\"><path transform=\"translate(40,348.125)\" d=\"M0,0L-6,0\"></path><path transform=\"translate(40,325.09868421052636)\" d=\"M0,0L-6,0\"></path><path transform=\"translate(40,302.07236842105266)\" d=\"M0,0L-6,0\"></path><path transform=\"translate(40,279.04605263157896)\" d=\"M0,0L-6,0\"></path><path transform=\"translate(40,256.01973684210526)\" d=\"M0,0L-6,0\"></path><path transform=\"translate(40,232.99342105263156)\" d=\"M0,0L-6,0\"></path><path transform=\"translate(40,209.96710526315792)\" d=\"M0,0L-6,0\"></path><path transform=\"translate(40,186.94078947368422)\" d=\"M0,0L-6,0\"></path><path transform=\"translate(40,163.91447368421052)\" d=\"M0,0L-6,0\"></path><path transform=\"translate(40,140.88815789473685)\" d=\"M0,0L-6,0\"></path><path transform=\"translate(40,117.8618421052632)\" d=\"M0,0L-6,0\"></path><path transform=\"translate(40,94.83552631578947)\" d=\"M0,0L-6,0\"></path><path transform=\"translate(40,71.80921052631578)\" d=\"M0,0L-6,0\"></path><path transform=\"translate(40,48.78289473684211)\" d=\"M0,0L-6,0\"></path><path transform=\"translate(40,25.75657894736843)\" d=\"M0,0L-6,0\"></path></g><g aria-label=\"y-axis tick label\" text-anchor=\"end\" font-variant=\"tabular-nums\" transform=\"translate(-9,0)\"><text y=\"0.32em\" transform=\"translate(40,348.125)\">54</text><text y=\"0.32em\" transform=\"translate(40,325.09868421052636)\">56</text><text y=\"0.32em\" transform=\"translate(40,302.07236842105266)\">58</text><text y=\"0.32em\" transform=\"translate(40,279.04605263157896)\">60</text><text y=\"0.32em\" transform=\"translate(40,256.01973684210526)\">62</text><text y=\"0.32em\" transform=\"translate(40,232.99342105263156)\">64</text><text y=\"0.32em\" transform=\"translate(40,209.96710526315792)\">66</text><text y=\"0.32em\" transform=\"translate(40,186.94078947368422)\">68</text><text y=\"0.32em\" transform=\"translate(40,163.91447368421052)\">70</text><text y=\"0.32em\" transform=\"translate(40,140.88815789473685)\">72</text><text y=\"0.32em\" transform=\"translate(40,117.8618421052632)\">74</text><text y=\"0.32em\" transform=\"translate(40,94.83552631578947)\">76</text><text y=\"0.32em\" transform=\"translate(40,71.80921052631578)\">78</text><text y=\"0.32em\" transform=\"translate(40,48.78289473684211)\">80</text><text y=\"0.32em\" transform=\"translate(40,25.75657894736843)\">82</text></g><g aria-label=\"y-axis label\" text-anchor=\"start\" transform=\"translate(-37,-17)\"><text y=\"0.71em\" transform=\"translate(40,20)\">↑ Life Expectancy</text></g><g aria-label=\"x-axis tick\" aria-hidden=\"true\" fill=\"none\" stroke=\"currentColor\"><path transform=\"translate(76.8284039376621,370)\" d=\"M0,0L0,6\"></path><path transform=\"translate(101.90290639587572,370)\" d=\"M0,0L0,6\"></path><path transform=\"translate(119.69354901499818,370)\" d=\"M0,0L0,6\"></path><path transform=\"translate(133.49304350681533,370)\" d=\"M0,0L0,6\"></path><path transform=\"translate(144.7680514732118,370)\" d=\"M0,0L0,6\"></path><path transform=\"translate(154.30093487789875,370)\" d=\"M0,0L0,6\"></path><path transform=\"translate(162.5586940923343,370)\" d=\"M0,0L0,6\"></path><path transform=\"translate(169.84255393142558,370)\" d=\"M0,0L0,6\"></path><path transform=\"translate(176.35818858415143,370)\" d=\"M0,0L0,6\"></path><path transform=\"translate(219.22333366148754,370)\" d=\"M0,0L0,6\"></path><path transform=\"translate(244.2978361197013,370)\" d=\"M0,0L0,6\"></path><path transform=\"translate(262.08847873882365,370)\" d=\"M0,0L0,6\"></path><path transform=\"translate(275.88797323064085,370)\" d=\"M0,0L0,6\"></path><path transform=\"translate(287.16298119703737,370)\" d=\"M0,0L0,6\"></path><path transform=\"translate(296.6958646017242,370)\" d=\"M0,0L0,6\"></path><path transform=\"translate(304.95362381615973,370)\" d=\"M0,0L0,6\"></path><path transform=\"translate(312.2374836552509,370)\" d=\"M0,0L0,6\"></path><path transform=\"translate(318.753118307977,370)\" d=\"M0,0L0,6\"></path><path transform=\"translate(361.61826338531296,370)\" d=\"M0,0L0,6\"></path><path transform=\"translate(386.6927658435267,370)\" d=\"M0,0L0,6\"></path><path transform=\"translate(404.48340846264915,370)\" d=\"M0,0L0,6\"></path><path transform=\"translate(418.2829029544663,370)\" d=\"M0,0L0,6\"></path><path transform=\"translate(429.5579109208628,370)\" d=\"M0,0L0,6\"></path><path transform=\"translate(439.0907943255496,370)\" d=\"M0,0L0,6\"></path><path transform=\"translate(447.3485535399852,370)\" d=\"M0,0L0,6\"></path><path transform=\"translate(454.63241337907647,370)\" d=\"M0,0L0,6\"></path><path transform=\"translate(461.1480480318025,370)\" d=\"M0,0L0,6\"></path><path transform=\"translate(504.0131931091385,370)\" d=\"M0,0L0,6\"></path><path transform=\"translate(529.0876955673522,370)\" d=\"M0,0L0,6\"></path><path transform=\"translate(546.8783381864746,370)\" d=\"M0,0L0,6\"></path><path transform=\"translate(560.6778326782919,370)\" d=\"M0,0L0,6\"></path><path transform=\"translate(571.9528406446884,370)\" d=\"M0,0L0,6\"></path><path transform=\"translate(581.4857240493752,370)\" d=\"M0,0L0,6\"></path><path transform=\"translate(589.7434832638107,370)\" d=\"M0,0L0,6\"></path><path transform=\"translate(597.0273431029019,370)\" d=\"M0,0L0,6\"></path><path transform=\"translate(603.5429777556279,370)\" d=\"M0,0L0,6\"></path></g><g aria-label=\"x-axis tick label\" font-variant=\"tabular-nums\" transform=\"translate(0,9)\"><text y=\"0.71em\" transform=\"translate(76.8284039376621,370)\">200k</text><text y=\"0.71em\" transform=\"translate(101.90290639587572,370)\"></text><text y=\"0.71em\" transform=\"translate(119.69354901499818,370)\"></text><text y=\"0.71em\" transform=\"translate(133.49304350681533,370)\"></text><text y=\"0.71em\" transform=\"translate(144.7680514732118,370)\"></text><text y=\"0.71em\" transform=\"translate(154.30093487789875,370)\"></text><text y=\"0.71em\" transform=\"translate(162.5586940923343,370)\"></text><text y=\"0.71em\" transform=\"translate(169.84255393142558,370)\"></text><text y=\"0.71em\" transform=\"translate(176.35818858415143,370)\">1M</text><text y=\"0.71em\" transform=\"translate(219.22333366148754,370)\">2M</text><text y=\"0.71em\" transform=\"translate(244.2978361197013,370)\"></text><text y=\"0.71em\" transform=\"translate(262.08847873882365,370)\"></text><text y=\"0.71em\" transform=\"translate(275.88797323064085,370)\"></text><text y=\"0.71em\" transform=\"translate(287.16298119703737,370)\"></text><text y=\"0.71em\" transform=\"translate(296.6958646017242,370)\"></text><text y=\"0.71em\" transform=\"translate(304.95362381615973,370)\"></text><text y=\"0.71em\" transform=\"translate(312.2374836552509,370)\"></text><text y=\"0.71em\" transform=\"translate(318.753118307977,370)\">10M</text><text y=\"0.71em\" transform=\"translate(361.61826338531296,370)\">20M</text><text y=\"0.71em\" transform=\"translate(386.6927658435267,370)\"></text><text y=\"0.71em\" transform=\"translate(404.48340846264915,370)\"></text><text y=\"0.71em\" transform=\"translate(418.2829029544663,370)\"></text><text y=\"0.71em\" transform=\"translate(429.5579109208628,370)\"></text><text y=\"0.71em\" transform=\"translate(439.0907943255496,370)\"></text><text y=\"0.71em\" transform=\"translate(447.3485535399852,370)\"></text><text y=\"0.71em\" transform=\"translate(454.63241337907647,370)\"></text><text y=\"0.71em\" transform=\"translate(461.1480480318025,370)\">100M</text><text y=\"0.71em\" transform=\"translate(504.0131931091385,370)\">200M</text><text y=\"0.71em\" transform=\"translate(529.0876955673522,370)\"></text><text y=\"0.71em\" transform=\"translate(546.8783381864746,370)\"></text><text y=\"0.71em\" transform=\"translate(560.6778326782919,370)\"></text><text y=\"0.71em\" transform=\"translate(571.9528406446884,370)\"></text><text y=\"0.71em\" transform=\"translate(581.4857240493752,370)\"></text><text y=\"0.71em\" transform=\"translate(589.7434832638107,370)\"></text><text y=\"0.71em\" transform=\"translate(597.0273431029019,370)\"></text><text y=\"0.71em\" transform=\"translate(603.5429777556279,370)\">1G</text></g><g aria-label=\"x-axis label\" text-anchor=\"end\" transform=\"translate(17,27)\"><text transform=\"translate(620,370)\">Population →</text></g><g aria-label=\"dot\"><circle cx=\"373.9438222777558\" cy=\"306.3322368421052\" r=\"5\" fill=\"#ff8ab7\"></circle><circle cx=\"403.02941225168956\" cy=\"103.12499999999997\" r=\"5\" fill=\"#efb118\"></circle><circle cx=\"362.14700029832767\" cy=\"34.506578947368475\" r=\"5\" fill=\"#ff725c\"></circle><circle cx=\"306.6841928466244\" cy=\"51.661184210526315\" r=\"5\" fill=\"#6cc5b0\"></circle><circle cx=\"111.04655725417587\" cy=\"127.30263157894728\" r=\"5\" fill=\"#efb118\"></circle><circle cx=\"482.35774396364593\" cy=\"193.38815789473685\" r=\"5\" fill=\"#ff8ab7\"></circle><circle cx=\"95.26736662434458\" cy=\"103.58552631578955\" r=\"5\" fill=\"#efb118\"></circle><circle cx=\"321.87028079320544\" cy=\"56.611842105263236\" r=\"5\" fill=\"#6cc5b0\"></circle><circle cx=\"314.7777203989547\" cy=\"175.77302631578948\" r=\"5\" fill=\"#efb118\"></circle><circle cx=\"499.7898560312171\" cy=\"131.5625\" r=\"5\" fill=\"#efb118\"></circle><circle cx=\"391.09977920301236\" cy=\"43.83223684210519\" r=\"5\" fill=\"#efb118\"></circle><circle cx=\"348.4926752362589\" cy=\"73.07565789473682\" r=\"5\" fill=\"#efb118\"></circle><circle cx=\"620\" cy=\"129.60526315789468\" r=\"5\" fill=\"#ff725c\"></circle><circle cx=\"407.8251194038478\" cy=\"88.84868421052639\" r=\"5\" fill=\"#efb118\"></circle><circle cx=\"266.78894590453416\" cy=\"55.23026315789476\" r=\"5\" fill=\"#efb118\"></circle><circle cx=\"268.3983484582564\" cy=\"99.78618421052639\" r=\"5\" fill=\"#6cc5b0\"></circle><circle cx=\"326.01561308646825\" cy=\"75.4934210526315\" r=\"5\" fill=\"#efb118\"></circle><circle cx=\"313.3594084825471\" cy=\"134.44078947368422\" r=\"5\" fill=\"#efb118\"></circle><circle cx=\"338.53666085932076\" cy=\"122.35197368421053\" r=\"5\" fill=\"#efb118\"></circle><circle cx=\"446.6295896027922\" cy=\"177.96052631578948\" r=\"5\" fill=\"#3ca951\"></circle><circle cx=\"287.5515335989352\" cy=\"122.69736842105266\" r=\"5\" fill=\"#efb118\"></circle><circle cx=\"278.8589237809832\" cy=\"56.611842105263236\" r=\"5\" fill=\"#6cc5b0\"></circle><circle cx=\"430.0814215440623\" cy=\"42.33552631578945\" r=\"5\" fill=\"#6cc5b0\"></circle><circle cx=\"261.48540852669123\" cy=\"151.8256578947369\" r=\"5\" fill=\"#6cc5b0\"></circle><circle cx=\"448.27855153810185\" cy=\"52.92763157894737\" r=\"5\" fill=\"#6cc5b0\"></circle><circle cx=\"325.28175806212903\" cy=\"55.345394736842046\" r=\"5\" fill=\"#6cc5b0\"></circle><circle cx=\"40\" cy=\"136.5131578947369\" r=\"5\" fill=\"#efb118\"></circle><circle cx=\"313.0016368502912\" cy=\"289.98355263157896\" r=\"5\" fill=\"#efb118\"></circle><circle cx=\"296.1356496446229\" cy=\"28.404605263157954\" r=\"5\" fill=\"#ff725c\"></circle><circle cx=\"101.28741832179315\" cy=\"30.24671052631578\" r=\"5\" fill=\"#6cc5b0\"></circle><circle cx=\"612.4349878463483\" cy=\"216.99013157894737\" r=\"5\" fill=\"#ff8ab7\"></circle><circle cx=\"512.3341530889402\" cy=\"183.94736842105257\" r=\"5\" fill=\"#ff725c\"></circle><circle cx=\"439.2518965320507\" cy=\"123.04276315789478\" r=\"5\" fill=\"#3ca951\"></circle><circle cx=\"383.95034309887967\" cy=\"190.62499999999994\" r=\"5\" fill=\"#3ca951\"></circle><circle cx=\"263.93468395459416\" cy=\"59.14473684210533\" r=\"5\" fill=\"#6cc5b0\"></circle><circle cx=\"294.1172800656915\" cy=\"45.67434210526321\" r=\"5\" fill=\"#3ca951\"></circle><circle cx=\"427.67414119303146\" cy=\"37.38486842105269\" r=\"5\" fill=\"#6cc5b0\"></circle><circle cx=\"237.24998343012865\" cy=\"78.48684210526312\" r=\"5\" fill=\"#efb118\"></circle><circle cx=\"476.3167141787964\" cy=\"20\" r=\"5\" fill=\"#ff725c\"></circle><circle cx=\"397.6975043376517\" cy=\"319.2269736842106\" r=\"5\" fill=\"#4269d0\"></circle><circle cx=\"271.307526329475\" cy=\"101.28289473684217\" r=\"5\" fill=\"#3ca951\"></circle><circle cx=\"464.42530873102123\" cy=\"106.23355263157887\" r=\"5\" fill=\"#efb118\"></circle><circle cx=\"348.82257635722937\" cy=\"53.04276315789481\" r=\"5\" fill=\"#6cc5b0\"></circle><circle cx=\"264.1079807162147\" cy=\"51.0855263157895\" r=\"5\" fill=\"#ff725c\"></circle><circle cx=\"482.1723239804585\" cy=\"317.8453947368421\" r=\"5\" fill=\"#4269d0\"></circle><circle cx=\"373.1529280292285\" cy=\"163.7993421052631\" r=\"5\" fill=\"#ff725c\"></circle><circle cx=\"271.04919564791635\" cy=\"44.52302631578941\" r=\"5\" fill=\"#6cc5b0\"></circle><circle cx=\"495.53314746587813\" cy=\"266.95723684210526\" r=\"5\" fill=\"#ff8ab7\"></circle><circle cx=\"382.7505590896564\" cy=\"81.48026315789478\" r=\"5\" fill=\"#efb118\"></circle><circle cx=\"452.0085358589315\" cy=\"160.3453947368421\" r=\"5\" fill=\"#ff725c\"></circle><circle cx=\"402.24157112943254\" cy=\"104.16118421052633\" r=\"5\" fill=\"#6cc5b0\"></circle><circle cx=\"321.9075320362554\" cy=\"63.174342105263136\" r=\"5\" fill=\"#6cc5b0\"></circle><circle cx=\"312.4179273891759\" cy=\"299.5394736842106\" r=\"5\" fill=\"#4269d0\"></circle><circle cx=\"373.9094938800698\" cy=\"150.5592105263158\" r=\"5\" fill=\"#3ca951\"></circle><circle cx=\"417.0551775138\" cy=\"370\" r=\"5\" fill=\"#4269d0\"></circle><circle cx=\"415.61598267740044\" cy=\"62.82894736842105\" r=\"5\" fill=\"#ff725c\"></circle><circle cx=\"409.93372630835165\" cy=\"42.10526315789477\" r=\"5\" fill=\"#6cc5b0\"></circle><circle cx=\"300.3695523390247\" cy=\"29.325657894736867\" r=\"5\" fill=\"#6cc5b0\"></circle><circle cx=\"437.9357581955651\" cy=\"85.5098684210526\" r=\"5\" fill=\"#6cc5b0\"></circle><circle cx=\"429.95216906324197\" cy=\"56.4967105263158\" r=\"5\" fill=\"#6cc5b0\"></circle><circle cx=\"528.4334014804739\" cy=\"74.91776315789468\" r=\"5\" fill=\"#efb118\"></circle><circle cx=\"379.41381833015566\" cy=\"106.23355263157887\" r=\"5\" fill=\"#efb118\"></circle></g></svg></figure>"
      ],
      "text/plain": [
       "<IPython.core.display.HTML object>"
      ]
     },
     "metadata": {},
     "output_type": "display_data"
    }
   ],
   "source": [
    "Plot.plot(\n",
    "    {\n",
    "        \"title\": \"Population vs Life Expectancy in 2005\",\n",
    "        \"x\": {\"type\": \"log\", \"base\": 10, \"label\": \"Population\"},\n",
    "        \"y\": {\"label\": \"Life Expectancy\"},\n",
    "        \"color\": {\n",
    "            \"legend\": True,\n",
    "            \"type\": \"categorical\",\n",
    "        },\n",
    "        \"marks\": [\n",
    "            Plot.dot(\n",
    "                life_expect_2005_df,\n",
    "                {\"x\": \"pop\", \"y\": \"life_expect\", \"fill\": \"region\", \"r\": 5},\n",
    "            )\n",
    "        ],\n",
    "    }\n",
    ")"
   ]
  },
  {
   "cell_type": "markdown",
   "id": "8e780fc9-4e8a-4c08-890c-369d0a9e6d10",
   "metadata": {
    "id": "8e780fc9-4e8a-4c08-890c-369d0a9e6d10"
   },
   "source": [
    "### Size\n",
    "\n",
    "Finally, we can enhance the visualization by incorporating fertility information through the size of the markers. We can do this by assigning fertility values to the radius, the dots' sizes will reflect these values, providing an additional layer of insight."
   ]
  },
  {
   "cell_type": "code",
   "execution_count": 23,
   "id": "20c9c09a-e9fc-4074-8602-e648ccafebeb",
   "metadata": {
    "colab": {
     "base_uri": "https://localhost:8080/",
     "height": 505
    },
    "id": "20c9c09a-e9fc-4074-8602-e648ccafebeb",
    "outputId": "39c4075e-8576-486b-fc9e-deea1fdfb071"
   },
   "outputs": [
    {
     "data": {
      "text/html": [
       "<figure class=\"plot-d6a7b5-figure\" style=\"max-width: initial; padding: 0px 5px 5px 5px; color: rgb(0, 0, 0); background-color: rgb(255, 255, 255);\" typstbg=\"#FFFFFF\" typstfg=\"#000000\" typstcaption=\"#777777\"><h2 style=\"line-height: 28px; font-size: 20px; font-weight: 600; margin: 0px;\">Population vs Life Expectancy in 2005</h2><div class=\"plot-d6a7b5-swatches plot-d6a7b5-swatches-wrap\"><style>:where(.plot-d6a7b5-swatches) {\n",
       "  font-family: system-ui, sans-serif;\n",
       "  font-size: 10px;\n",
       "  margin-bottom: 0.5em;\n",
       "}\n",
       ":where(.plot-d6a7b5-swatch > svg) {\n",
       "  margin-right: 0.5em;\n",
       "  overflow: visible;\n",
       "}\n",
       ":where(.plot-d6a7b5-swatches-wrap) {\n",
       "  display: flex;\n",
       "  align-items: center;\n",
       "  min-height: 33px;\n",
       "  flex-wrap: wrap;\n",
       "}\n",
       ":where(.plot-d6a7b5-swatches-wrap .plot-d6a7b5-swatch) {\n",
       "  display: inline-flex;\n",
       "  align-items: center;\n",
       "  margin-right: 1em;\n",
       "}</style><span class=\"plot-d6a7b5-swatch\"><svg width=\"15\" height=\"15\" fill=\"#4269d0\" xmlns=\"http://www.w3.org/2000/svg\" xmlns:xlink=\"http://www.w3.org/1999/xlink\" style=\"color: rgb(0, 0, 0); background-color: rgb(255, 255, 255);\"><rect width=\"100%\" height=\"100%\"></rect></svg>Africa</span><span class=\"plot-d6a7b5-swatch\"><svg width=\"15\" height=\"15\" fill=\"#efb118\" xmlns=\"http://www.w3.org/2000/svg\" xmlns:xlink=\"http://www.w3.org/1999/xlink\" style=\"color: rgb(0, 0, 0); background-color: rgb(255, 255, 255);\"><rect width=\"100%\" height=\"100%\"></rect></svg>Americas</span><span class=\"plot-d6a7b5-swatch\"><svg width=\"15\" height=\"15\" fill=\"#ff725c\" xmlns=\"http://www.w3.org/2000/svg\" xmlns:xlink=\"http://www.w3.org/1999/xlink\" style=\"color: rgb(0, 0, 0); background-color: rgb(255, 255, 255);\"><rect width=\"100%\" height=\"100%\"></rect></svg>E. Asia &amp; Pacific</span><span class=\"plot-d6a7b5-swatch\"><svg width=\"15\" height=\"15\" fill=\"#6cc5b0\" xmlns=\"http://www.w3.org/2000/svg\" xmlns:xlink=\"http://www.w3.org/1999/xlink\" style=\"color: rgb(0, 0, 0); background-color: rgb(255, 255, 255);\"><rect width=\"100%\" height=\"100%\"></rect></svg>Europe</span><span class=\"plot-d6a7b5-swatch\"><svg width=\"15\" height=\"15\" fill=\"#3ca951\" xmlns=\"http://www.w3.org/2000/svg\" xmlns:xlink=\"http://www.w3.org/1999/xlink\" style=\"color: rgb(0, 0, 0); background-color: rgb(255, 255, 255);\"><rect width=\"100%\" height=\"100%\"></rect></svg>Mid. East</span><span class=\"plot-d6a7b5-swatch\"><svg width=\"15\" height=\"15\" fill=\"#ff8ab7\" xmlns=\"http://www.w3.org/2000/svg\" xmlns:xlink=\"http://www.w3.org/1999/xlink\" style=\"color: rgb(0, 0, 0); background-color: rgb(255, 255, 255);\"><rect width=\"100%\" height=\"100%\"></rect></svg>S. Asia</span></div><svg class=\"plot-d6a7b5\" fill=\"currentColor\" font-family=\"system-ui, sans-serif\" font-size=\"10\" text-anchor=\"middle\" width=\"640\" height=\"400\" viewBox=\"0 0 640 400\" xmlns=\"http://www.w3.org/2000/svg\" xmlns:xlink=\"http://www.w3.org/1999/xlink\" style=\"color: rgb(0, 0, 0); background-color: rgb(255, 255, 255);\"><style>:where(.plot-d6a7b5) {\n",
       "  --plot-background: white;\n",
       "  display: block;\n",
       "  height: auto;\n",
       "  height: intrinsic;\n",
       "  max-width: 100%;\n",
       "}\n",
       ":where(.plot-d6a7b5 text),\n",
       ":where(.plot-d6a7b5 tspan) {\n",
       "  white-space: pre;\n",
       "}</style><g aria-label=\"y-axis tick\" aria-hidden=\"true\" fill=\"none\" stroke=\"currentColor\"><path transform=\"translate(40,348.125)\" d=\"M0,0L-6,0\"></path><path transform=\"translate(40,325.09868421052636)\" d=\"M0,0L-6,0\"></path><path transform=\"translate(40,302.07236842105266)\" d=\"M0,0L-6,0\"></path><path transform=\"translate(40,279.04605263157896)\" d=\"M0,0L-6,0\"></path><path transform=\"translate(40,256.01973684210526)\" d=\"M0,0L-6,0\"></path><path transform=\"translate(40,232.99342105263156)\" d=\"M0,0L-6,0\"></path><path transform=\"translate(40,209.96710526315792)\" d=\"M0,0L-6,0\"></path><path transform=\"translate(40,186.94078947368422)\" d=\"M0,0L-6,0\"></path><path transform=\"translate(40,163.91447368421052)\" d=\"M0,0L-6,0\"></path><path transform=\"translate(40,140.88815789473685)\" d=\"M0,0L-6,0\"></path><path transform=\"translate(40,117.8618421052632)\" d=\"M0,0L-6,0\"></path><path transform=\"translate(40,94.83552631578947)\" d=\"M0,0L-6,0\"></path><path transform=\"translate(40,71.80921052631578)\" d=\"M0,0L-6,0\"></path><path transform=\"translate(40,48.78289473684211)\" d=\"M0,0L-6,0\"></path><path transform=\"translate(40,25.75657894736843)\" d=\"M0,0L-6,0\"></path></g><g aria-label=\"y-axis tick label\" text-anchor=\"end\" font-variant=\"tabular-nums\" transform=\"translate(-9,0)\"><text y=\"0.32em\" transform=\"translate(40,348.125)\">54</text><text y=\"0.32em\" transform=\"translate(40,325.09868421052636)\">56</text><text y=\"0.32em\" transform=\"translate(40,302.07236842105266)\">58</text><text y=\"0.32em\" transform=\"translate(40,279.04605263157896)\">60</text><text y=\"0.32em\" transform=\"translate(40,256.01973684210526)\">62</text><text y=\"0.32em\" transform=\"translate(40,232.99342105263156)\">64</text><text y=\"0.32em\" transform=\"translate(40,209.96710526315792)\">66</text><text y=\"0.32em\" transform=\"translate(40,186.94078947368422)\">68</text><text y=\"0.32em\" transform=\"translate(40,163.91447368421052)\">70</text><text y=\"0.32em\" transform=\"translate(40,140.88815789473685)\">72</text><text y=\"0.32em\" transform=\"translate(40,117.8618421052632)\">74</text><text y=\"0.32em\" transform=\"translate(40,94.83552631578947)\">76</text><text y=\"0.32em\" transform=\"translate(40,71.80921052631578)\">78</text><text y=\"0.32em\" transform=\"translate(40,48.78289473684211)\">80</text><text y=\"0.32em\" transform=\"translate(40,25.75657894736843)\">82</text></g><g aria-label=\"y-axis label\" text-anchor=\"start\" transform=\"translate(-37,-17)\"><text y=\"0.71em\" transform=\"translate(40,20)\">↑ Life Expectancy</text></g><g aria-label=\"x-axis tick\" aria-hidden=\"true\" fill=\"none\" stroke=\"currentColor\"><path transform=\"translate(76.8284039376621,370)\" d=\"M0,0L0,6\"></path><path transform=\"translate(101.90290639587572,370)\" d=\"M0,0L0,6\"></path><path transform=\"translate(119.69354901499818,370)\" d=\"M0,0L0,6\"></path><path transform=\"translate(133.49304350681533,370)\" d=\"M0,0L0,6\"></path><path transform=\"translate(144.7680514732118,370)\" d=\"M0,0L0,6\"></path><path transform=\"translate(154.30093487789875,370)\" d=\"M0,0L0,6\"></path><path transform=\"translate(162.5586940923343,370)\" d=\"M0,0L0,6\"></path><path transform=\"translate(169.84255393142558,370)\" d=\"M0,0L0,6\"></path><path transform=\"translate(176.35818858415143,370)\" d=\"M0,0L0,6\"></path><path transform=\"translate(219.22333366148754,370)\" d=\"M0,0L0,6\"></path><path transform=\"translate(244.2978361197013,370)\" d=\"M0,0L0,6\"></path><path transform=\"translate(262.08847873882365,370)\" d=\"M0,0L0,6\"></path><path transform=\"translate(275.88797323064085,370)\" d=\"M0,0L0,6\"></path><path transform=\"translate(287.16298119703737,370)\" d=\"M0,0L0,6\"></path><path transform=\"translate(296.6958646017242,370)\" d=\"M0,0L0,6\"></path><path transform=\"translate(304.95362381615973,370)\" d=\"M0,0L0,6\"></path><path transform=\"translate(312.2374836552509,370)\" d=\"M0,0L0,6\"></path><path transform=\"translate(318.753118307977,370)\" d=\"M0,0L0,6\"></path><path transform=\"translate(361.61826338531296,370)\" d=\"M0,0L0,6\"></path><path transform=\"translate(386.6927658435267,370)\" d=\"M0,0L0,6\"></path><path transform=\"translate(404.48340846264915,370)\" d=\"M0,0L0,6\"></path><path transform=\"translate(418.2829029544663,370)\" d=\"M0,0L0,6\"></path><path transform=\"translate(429.5579109208628,370)\" d=\"M0,0L0,6\"></path><path transform=\"translate(439.0907943255496,370)\" d=\"M0,0L0,6\"></path><path transform=\"translate(447.3485535399852,370)\" d=\"M0,0L0,6\"></path><path transform=\"translate(454.63241337907647,370)\" d=\"M0,0L0,6\"></path><path transform=\"translate(461.1480480318025,370)\" d=\"M0,0L0,6\"></path><path transform=\"translate(504.0131931091385,370)\" d=\"M0,0L0,6\"></path><path transform=\"translate(529.0876955673522,370)\" d=\"M0,0L0,6\"></path><path transform=\"translate(546.8783381864746,370)\" d=\"M0,0L0,6\"></path><path transform=\"translate(560.6778326782919,370)\" d=\"M0,0L0,6\"></path><path transform=\"translate(571.9528406446884,370)\" d=\"M0,0L0,6\"></path><path transform=\"translate(581.4857240493752,370)\" d=\"M0,0L0,6\"></path><path transform=\"translate(589.7434832638107,370)\" d=\"M0,0L0,6\"></path><path transform=\"translate(597.0273431029019,370)\" d=\"M0,0L0,6\"></path><path transform=\"translate(603.5429777556279,370)\" d=\"M0,0L0,6\"></path></g><g aria-label=\"x-axis tick label\" font-variant=\"tabular-nums\" transform=\"translate(0,9)\"><text y=\"0.71em\" transform=\"translate(76.8284039376621,370)\">200k</text><text y=\"0.71em\" transform=\"translate(101.90290639587572,370)\"></text><text y=\"0.71em\" transform=\"translate(119.69354901499818,370)\"></text><text y=\"0.71em\" transform=\"translate(133.49304350681533,370)\"></text><text y=\"0.71em\" transform=\"translate(144.7680514732118,370)\"></text><text y=\"0.71em\" transform=\"translate(154.30093487789875,370)\"></text><text y=\"0.71em\" transform=\"translate(162.5586940923343,370)\"></text><text y=\"0.71em\" transform=\"translate(169.84255393142558,370)\"></text><text y=\"0.71em\" transform=\"translate(176.35818858415143,370)\">1M</text><text y=\"0.71em\" transform=\"translate(219.22333366148754,370)\">2M</text><text y=\"0.71em\" transform=\"translate(244.2978361197013,370)\"></text><text y=\"0.71em\" transform=\"translate(262.08847873882365,370)\"></text><text y=\"0.71em\" transform=\"translate(275.88797323064085,370)\"></text><text y=\"0.71em\" transform=\"translate(287.16298119703737,370)\"></text><text y=\"0.71em\" transform=\"translate(296.6958646017242,370)\"></text><text y=\"0.71em\" transform=\"translate(304.95362381615973,370)\"></text><text y=\"0.71em\" transform=\"translate(312.2374836552509,370)\"></text><text y=\"0.71em\" transform=\"translate(318.753118307977,370)\">10M</text><text y=\"0.71em\" transform=\"translate(361.61826338531296,370)\">20M</text><text y=\"0.71em\" transform=\"translate(386.6927658435267,370)\"></text><text y=\"0.71em\" transform=\"translate(404.48340846264915,370)\"></text><text y=\"0.71em\" transform=\"translate(418.2829029544663,370)\"></text><text y=\"0.71em\" transform=\"translate(429.5579109208628,370)\"></text><text y=\"0.71em\" transform=\"translate(439.0907943255496,370)\"></text><text y=\"0.71em\" transform=\"translate(447.3485535399852,370)\"></text><text y=\"0.71em\" transform=\"translate(454.63241337907647,370)\"></text><text y=\"0.71em\" transform=\"translate(461.1480480318025,370)\">100M</text><text y=\"0.71em\" transform=\"translate(504.0131931091385,370)\">200M</text><text y=\"0.71em\" transform=\"translate(529.0876955673522,370)\"></text><text y=\"0.71em\" transform=\"translate(546.8783381864746,370)\"></text><text y=\"0.71em\" transform=\"translate(560.6778326782919,370)\"></text><text y=\"0.71em\" transform=\"translate(571.9528406446884,370)\"></text><text y=\"0.71em\" transform=\"translate(581.4857240493752,370)\"></text><text y=\"0.71em\" transform=\"translate(589.7434832638107,370)\"></text><text y=\"0.71em\" transform=\"translate(597.0273431029019,370)\"></text><text y=\"0.71em\" transform=\"translate(603.5429777556279,370)\">1G</text></g><g aria-label=\"x-axis label\" text-anchor=\"end\" transform=\"translate(17,27)\"><text transform=\"translate(620,370)\">Population →</text></g><g aria-label=\"dot\"><circle cx=\"373.9438222777558\" cy=\"306.3322368421052\" r=\"6.153292915068332\" fill=\"#ff8ab7\"></circle><circle cx=\"482.1723239804585\" cy=\"317.8453947368421\" r=\"5.767172094935501\" fill=\"#4269d0\"></circle><circle cx=\"312.4179273891759\" cy=\"299.5394736842106\" r=\"5.459690392145162\" fill=\"#4269d0\"></circle><circle cx=\"397.6975043376517\" cy=\"319.2269736842106\" r=\"5.117790619194753\" fill=\"#4269d0\"></circle><circle cx=\"495.53314746587813\" cy=\"266.95723684210526\" r=\"5.042286934938011\" fill=\"#ff8ab7\"></circle><circle cx=\"383.95034309887967\" cy=\"190.62499999999994\" r=\"4.954588298282658\" fill=\"#3ca951\"></circle><circle cx=\"313.0016368502912\" cy=\"289.98355263157896\" r=\"4.581080808047704\" fill=\"#efb118\"></circle><circle cx=\"314.7777203989547\" cy=\"175.77302631578948\" r=\"4.416655897290221\" fill=\"#efb118\"></circle><circle cx=\"452.0085358589315\" cy=\"160.3453947368421\" r=\"4.373018142111106\" fill=\"#ff725c\"></circle><circle cx=\"373.9094938800698\" cy=\"150.5592105263158\" r=\"4.2134812990607\" fill=\"#3ca951\"></circle><circle cx=\"446.6295896027922\" cy=\"177.96052631578948\" r=\"4.154548588306886\" fill=\"#3ca951\"></circle><circle cx=\"612.4349878463483\" cy=\"216.99013157894737\" r=\"4.027304071235716\" fill=\"#ff8ab7\"></circle><circle cx=\"294.1172800656915\" cy=\"45.67434210526321\" r=\"3.9448249435959046\" fill=\"#3ca951\"></circle><circle cx=\"482.35774396364593\" cy=\"193.38815789473685\" r=\"3.9239342851241275\" fill=\"#ff8ab7\"></circle><circle cx=\"338.53666085932076\" cy=\"122.35197368421053\" r=\"3.9169459727477287\" fill=\"#efb118\"></circle><circle cx=\"382.7505590896564\" cy=\"81.48026315789478\" r=\"3.8392350836328397\" fill=\"#efb118\"></circle><circle cx=\"379.41381833015566\" cy=\"106.23355263157887\" r=\"3.7961768799819624\" fill=\"#efb118\"></circle><circle cx=\"313.3594084825471\" cy=\"134.44078947368422\" r=\"3.7817152012035082\" fill=\"#efb118\"></circle><circle cx=\"417.0551775138\" cy=\"370\" r=\"3.7085609955256555\" fill=\"#4269d0\"></circle><circle cx=\"464.42530873102123\" cy=\"106.23355263157887\" r=\"3.7011660509880255\" fill=\"#efb118\"></circle><circle cx=\"287.5515335989352\" cy=\"122.69736842105266\" r=\"3.6714373281855863\" fill=\"#efb118\"></circle><circle cx=\"403.02941225168956\" cy=\"103.12499999999997\" r=\"3.648981843357223\" fill=\"#efb118\"></circle><circle cx=\"512.3341530889402\" cy=\"183.94736842105257\" r=\"3.648981843357223\" fill=\"#ff725c\"></circle><circle cx=\"40\" cy=\"136.5131578947369\" r=\"3.5807705606781304\" fill=\"#efb118\"></circle><circle cx=\"407.8251194038478\" cy=\"88.84868421052639\" r=\"3.5190285085283994\" fill=\"#efb118\"></circle><circle cx=\"437.9357581955651\" cy=\"85.5098684210526\" r=\"3.487747634454625\" fill=\"#6cc5b0\"></circle><circle cx=\"271.307526329475\" cy=\"101.28289473684217\" r=\"3.472001515055537\" fill=\"#3ca951\"></circle><circle cx=\"237.24998343012865\" cy=\"78.48684210526312\" r=\"3.3597129688228886\" fill=\"#efb118\"></circle><circle cx=\"528.4334014804739\" cy=\"74.91776315789468\" r=\"3.3597129688228886\" fill=\"#efb118\"></circle><circle cx=\"111.04655725417587\" cy=\"127.30263157894728\" r=\"3.351548405189572\" fill=\"#efb118\"></circle><circle cx=\"101.28741832179315\" cy=\"30.24671052631578\" r=\"3.351548405189572\" fill=\"#6cc5b0\"></circle><circle cx=\"266.78894590453416\" cy=\"55.23026315789476\" r=\"3.3433639035828597\" fill=\"#efb118\"></circle><circle cx=\"499.7898560312171\" cy=\"131.5625\" r=\"3.285501567180451\" fill=\"#efb118\"></circle><circle cx=\"264.1079807162147\" cy=\"51.0855263157895\" r=\"3.277152121491655\" fill=\"#ff725c\"></circle><circle cx=\"373.1529280292285\" cy=\"163.7993421052631\" r=\"3.277152121491655\" fill=\"#ff725c\"></circle><circle cx=\"430.0814215440623\" cy=\"42.33552631578945\" r=\"3.2435394163175317\" fill=\"#6cc5b0\"></circle><circle cx=\"263.93468395459416\" cy=\"59.14473684210533\" r=\"3.2010272323842783\" fill=\"#6cc5b0\"></circle><circle cx=\"362.14700029832767\" cy=\"34.506578947368475\" r=\"3.1752467275507765\" fill=\"#ff725c\"></circle><circle cx=\"271.04919564791635\" cy=\"44.52302631578941\" r=\"3.1752467275507765\" fill=\"#6cc5b0\"></circle><circle cx=\"348.4926752362589\" cy=\"73.07565789473682\" r=\"3.1405435355412816\" fill=\"#efb118\"></circle><circle cx=\"278.8589237809832\" cy=\"56.611842105263236\" r=\"3.1405435355412816\" fill=\"#6cc5b0\"></circle><circle cx=\"95.26736662434458\" cy=\"103.58552631578955\" r=\"3.131807653429915\" fill=\"#efb118\"></circle><circle cx=\"439.2518965320507\" cy=\"123.04276315789478\" r=\"3.1230473351414707\" fill=\"#3ca951\"></circle><circle cx=\"321.87028079320544\" cy=\"56.611842105263236\" r=\"3.1054525622585754\" fill=\"#6cc5b0\"></circle><circle cx=\"429.95216906324197\" cy=\"56.4967105263158\" r=\"3.1054525622585754\" fill=\"#6cc5b0\"></circle><circle cx=\"348.82257635722937\" cy=\"53.04276315789481\" r=\"3.0610231971840114\" fill=\"#6cc5b0\"></circle><circle cx=\"620\" cy=\"129.60526315789468\" r=\"2.979381198968524\" fill=\"#ff725c\"></circle><circle cx=\"261.48540852669123\" cy=\"151.8256578947369\" r=\"2.970171343242537\" fill=\"#6cc5b0\"></circle><circle cx=\"391.09977920301236\" cy=\"43.83223684210519\" r=\"2.9048848797127156\" fill=\"#efb118\"></circle><circle cx=\"268.3983484582564\" cy=\"99.78618421052639\" r=\"2.8669108954049785\" fill=\"#6cc5b0\"></circle><circle cx=\"326.01561308646825\" cy=\"75.4934210526315\" r=\"2.8380969892778407\" fill=\"#efb118\"></circle><circle cx=\"300.3695523390247\" cy=\"29.325657894736867\" r=\"2.7894124682105037\" fill=\"#6cc5b0\"></circle><circle cx=\"306.6841928466244\" cy=\"51.661184210526315\" r=\"2.7795732401324256\" fill=\"#6cc5b0\"></circle><circle cx=\"321.9075320362554\" cy=\"63.174342105263136\" r=\"2.7795732401324256\" fill=\"#6cc5b0\"></circle><circle cx=\"325.28175806212903\" cy=\"55.345394736842046\" r=\"2.719790483469747\" fill=\"#6cc5b0\"></circle><circle cx=\"448.27855153810185\" cy=\"52.92763157894737\" r=\"2.7096984617157416\" fill=\"#6cc5b0\"></circle><circle cx=\"427.67414119303146\" cy=\"37.38486842105269\" r=\"2.7096984617157416\" fill=\"#6cc5b0\"></circle><circle cx=\"409.93372630835165\" cy=\"42.10526315789477\" r=\"2.6995687123829075\" fill=\"#6cc5b0\"></circle><circle cx=\"476.3167141787964\" cy=\"20\" r=\"2.637973485384005\" fill=\"#ff725c\"></circle><circle cx=\"402.24157112943254\" cy=\"104.16118421052633\" r=\"2.606630113373434\" fill=\"#6cc5b0\"></circle><circle cx=\"415.61598267740044\" cy=\"62.82894736842105\" r=\"2.455075815585737\" fill=\"#ff725c\"></circle><circle cx=\"296.1356496446229\" cy=\"28.404605263157954\" r=\"2.293528716323983\" fill=\"#ff725c\"></circle></g></svg></figure>"
      ],
      "text/plain": [
       "<IPython.core.display.HTML object>"
      ]
     },
     "metadata": {},
     "output_type": "display_data"
    }
   ],
   "source": [
    "Plot.plot(\n",
    "    {\n",
    "        \"title\": \"Population vs Life Expectancy in 2005\",\n",
    "        \"x\": {\"type\": \"log\", \"base\": 10, \"label\": \"Population\"},\n",
    "        \"y\": {\"label\": \"Life Expectancy\"},\n",
    "        \"color\": {\"legend\": True, \"type\": \"categorical\"},\n",
    "        \"marks\": [\n",
    "            Plot.dot(\n",
    "                life_expect_2005_df,\n",
    "                {\"x\": \"pop\", \"y\": \"life_expect\", \"fill\": \"region\", \"r\": \"fertility\"},\n",
    "            )\n",
    "        ],\n",
    "    }\n",
    ")"
   ]
  },
  {
   "cell_type": "markdown",
   "id": "ea964ab8-a7ee-4b05-b892-e0ace51c4bdf",
   "metadata": {
    "id": "ea964ab8-a7ee-4b05-b892-e0ace51c4bdf"
   },
   "source": [
    "To better visualize fertility rates, we need to scale the values so viewers can easily distinguish between different rates. By adjusting the radius of the dots, we can represent lower fertility values with smaller radii and higher values with larger radii. This type of scatterplot is known as a **bubble chart**.\n",
    "\n",
    "In pyobsplot, we can achieve this by defining the `range` inside the `r` attribute at the plot configuration level. The **range key** specifies the starting and ending values for the radius. For example, setting the range to [1, 15] means that the smallest value in the dataset will be mapped to a radius of 1 pixel, and the largest value will be mapped to a radius of 15 pixels."
   ]
  },
  {
   "cell_type": "code",
   "execution_count": 24,
   "id": "71a85192-2d3c-4206-ba0e-0c93f5dd03f7",
   "metadata": {
    "colab": {
     "base_uri": "https://localhost:8080/",
     "height": 505
    },
    "id": "71a85192-2d3c-4206-ba0e-0c93f5dd03f7",
    "outputId": "0664e9c0-d864-43f4-c3c5-72181fe017e1"
   },
   "outputs": [
    {
     "data": {
      "text/html": [
       "<figure class=\"plot-d6a7b5-figure\" style=\"max-width: initial; padding: 0px 5px 5px 5px; color: rgb(0, 0, 0); background-color: rgb(255, 255, 255);\" typstbg=\"#FFFFFF\" typstfg=\"#000000\" typstcaption=\"#777777\"><h2 style=\"line-height: 28px; font-size: 20px; font-weight: 600; margin: 0px;\">Population vs Life Expectancy in 2005</h2><div class=\"plot-d6a7b5-swatches plot-d6a7b5-swatches-wrap\"><style>:where(.plot-d6a7b5-swatches) {\n",
       "  font-family: system-ui, sans-serif;\n",
       "  font-size: 10px;\n",
       "  margin-bottom: 0.5em;\n",
       "}\n",
       ":where(.plot-d6a7b5-swatch > svg) {\n",
       "  margin-right: 0.5em;\n",
       "  overflow: visible;\n",
       "}\n",
       ":where(.plot-d6a7b5-swatches-wrap) {\n",
       "  display: flex;\n",
       "  align-items: center;\n",
       "  min-height: 33px;\n",
       "  flex-wrap: wrap;\n",
       "}\n",
       ":where(.plot-d6a7b5-swatches-wrap .plot-d6a7b5-swatch) {\n",
       "  display: inline-flex;\n",
       "  align-items: center;\n",
       "  margin-right: 1em;\n",
       "}</style><span class=\"plot-d6a7b5-swatch\"><svg width=\"15\" height=\"15\" fill=\"#4269d0\" xmlns=\"http://www.w3.org/2000/svg\" xmlns:xlink=\"http://www.w3.org/1999/xlink\" style=\"color: rgb(0, 0, 0); background-color: rgb(255, 255, 255);\"><rect width=\"100%\" height=\"100%\"></rect></svg>Africa</span><span class=\"plot-d6a7b5-swatch\"><svg width=\"15\" height=\"15\" fill=\"#efb118\" xmlns=\"http://www.w3.org/2000/svg\" xmlns:xlink=\"http://www.w3.org/1999/xlink\" style=\"color: rgb(0, 0, 0); background-color: rgb(255, 255, 255);\"><rect width=\"100%\" height=\"100%\"></rect></svg>Americas</span><span class=\"plot-d6a7b5-swatch\"><svg width=\"15\" height=\"15\" fill=\"#ff725c\" xmlns=\"http://www.w3.org/2000/svg\" xmlns:xlink=\"http://www.w3.org/1999/xlink\" style=\"color: rgb(0, 0, 0); background-color: rgb(255, 255, 255);\"><rect width=\"100%\" height=\"100%\"></rect></svg>E. Asia &amp; Pacific</span><span class=\"plot-d6a7b5-swatch\"><svg width=\"15\" height=\"15\" fill=\"#6cc5b0\" xmlns=\"http://www.w3.org/2000/svg\" xmlns:xlink=\"http://www.w3.org/1999/xlink\" style=\"color: rgb(0, 0, 0); background-color: rgb(255, 255, 255);\"><rect width=\"100%\" height=\"100%\"></rect></svg>Europe</span><span class=\"plot-d6a7b5-swatch\"><svg width=\"15\" height=\"15\" fill=\"#3ca951\" xmlns=\"http://www.w3.org/2000/svg\" xmlns:xlink=\"http://www.w3.org/1999/xlink\" style=\"color: rgb(0, 0, 0); background-color: rgb(255, 255, 255);\"><rect width=\"100%\" height=\"100%\"></rect></svg>Mid. East</span><span class=\"plot-d6a7b5-swatch\"><svg width=\"15\" height=\"15\" fill=\"#ff8ab7\" xmlns=\"http://www.w3.org/2000/svg\" xmlns:xlink=\"http://www.w3.org/1999/xlink\" style=\"color: rgb(0, 0, 0); background-color: rgb(255, 255, 255);\"><rect width=\"100%\" height=\"100%\"></rect></svg>S. Asia</span></div><svg class=\"plot-d6a7b5\" fill=\"currentColor\" font-family=\"system-ui, sans-serif\" font-size=\"10\" text-anchor=\"middle\" width=\"640\" height=\"400\" viewBox=\"0 0 640 400\" xmlns=\"http://www.w3.org/2000/svg\" xmlns:xlink=\"http://www.w3.org/1999/xlink\" style=\"color: rgb(0, 0, 0); background-color: rgb(255, 255, 255);\"><style>:where(.plot-d6a7b5) {\n",
       "  --plot-background: white;\n",
       "  display: block;\n",
       "  height: auto;\n",
       "  height: intrinsic;\n",
       "  max-width: 100%;\n",
       "}\n",
       ":where(.plot-d6a7b5 text),\n",
       ":where(.plot-d6a7b5 tspan) {\n",
       "  white-space: pre;\n",
       "}</style><g aria-label=\"y-axis tick\" aria-hidden=\"true\" fill=\"none\" stroke=\"currentColor\"><path transform=\"translate(40,348.125)\" d=\"M0,0L-6,0\"></path><path transform=\"translate(40,325.09868421052636)\" d=\"M0,0L-6,0\"></path><path transform=\"translate(40,302.07236842105266)\" d=\"M0,0L-6,0\"></path><path transform=\"translate(40,279.04605263157896)\" d=\"M0,0L-6,0\"></path><path transform=\"translate(40,256.01973684210526)\" d=\"M0,0L-6,0\"></path><path transform=\"translate(40,232.99342105263156)\" d=\"M0,0L-6,0\"></path><path transform=\"translate(40,209.96710526315792)\" d=\"M0,0L-6,0\"></path><path transform=\"translate(40,186.94078947368422)\" d=\"M0,0L-6,0\"></path><path transform=\"translate(40,163.91447368421052)\" d=\"M0,0L-6,0\"></path><path transform=\"translate(40,140.88815789473685)\" d=\"M0,0L-6,0\"></path><path transform=\"translate(40,117.8618421052632)\" d=\"M0,0L-6,0\"></path><path transform=\"translate(40,94.83552631578947)\" d=\"M0,0L-6,0\"></path><path transform=\"translate(40,71.80921052631578)\" d=\"M0,0L-6,0\"></path><path transform=\"translate(40,48.78289473684211)\" d=\"M0,0L-6,0\"></path><path transform=\"translate(40,25.75657894736843)\" d=\"M0,0L-6,0\"></path></g><g aria-label=\"y-axis tick label\" text-anchor=\"end\" font-variant=\"tabular-nums\" transform=\"translate(-9,0)\"><text y=\"0.32em\" transform=\"translate(40,348.125)\">54</text><text y=\"0.32em\" transform=\"translate(40,325.09868421052636)\">56</text><text y=\"0.32em\" transform=\"translate(40,302.07236842105266)\">58</text><text y=\"0.32em\" transform=\"translate(40,279.04605263157896)\">60</text><text y=\"0.32em\" transform=\"translate(40,256.01973684210526)\">62</text><text y=\"0.32em\" transform=\"translate(40,232.99342105263156)\">64</text><text y=\"0.32em\" transform=\"translate(40,209.96710526315792)\">66</text><text y=\"0.32em\" transform=\"translate(40,186.94078947368422)\">68</text><text y=\"0.32em\" transform=\"translate(40,163.91447368421052)\">70</text><text y=\"0.32em\" transform=\"translate(40,140.88815789473685)\">72</text><text y=\"0.32em\" transform=\"translate(40,117.8618421052632)\">74</text><text y=\"0.32em\" transform=\"translate(40,94.83552631578947)\">76</text><text y=\"0.32em\" transform=\"translate(40,71.80921052631578)\">78</text><text y=\"0.32em\" transform=\"translate(40,48.78289473684211)\">80</text><text y=\"0.32em\" transform=\"translate(40,25.75657894736843)\">82</text></g><g aria-label=\"y-axis label\" text-anchor=\"start\" transform=\"translate(-37,-17)\"><text y=\"0.71em\" transform=\"translate(40,20)\">↑ Life Expectancy</text></g><g aria-label=\"x-axis tick\" aria-hidden=\"true\" fill=\"none\" stroke=\"currentColor\"><path transform=\"translate(76.8284039376621,370)\" d=\"M0,0L0,6\"></path><path transform=\"translate(101.90290639587572,370)\" d=\"M0,0L0,6\"></path><path transform=\"translate(119.69354901499818,370)\" d=\"M0,0L0,6\"></path><path transform=\"translate(133.49304350681533,370)\" d=\"M0,0L0,6\"></path><path transform=\"translate(144.7680514732118,370)\" d=\"M0,0L0,6\"></path><path transform=\"translate(154.30093487789875,370)\" d=\"M0,0L0,6\"></path><path transform=\"translate(162.5586940923343,370)\" d=\"M0,0L0,6\"></path><path transform=\"translate(169.84255393142558,370)\" d=\"M0,0L0,6\"></path><path transform=\"translate(176.35818858415143,370)\" d=\"M0,0L0,6\"></path><path transform=\"translate(219.22333366148754,370)\" d=\"M0,0L0,6\"></path><path transform=\"translate(244.2978361197013,370)\" d=\"M0,0L0,6\"></path><path transform=\"translate(262.08847873882365,370)\" d=\"M0,0L0,6\"></path><path transform=\"translate(275.88797323064085,370)\" d=\"M0,0L0,6\"></path><path transform=\"translate(287.16298119703737,370)\" d=\"M0,0L0,6\"></path><path transform=\"translate(296.6958646017242,370)\" d=\"M0,0L0,6\"></path><path transform=\"translate(304.95362381615973,370)\" d=\"M0,0L0,6\"></path><path transform=\"translate(312.2374836552509,370)\" d=\"M0,0L0,6\"></path><path transform=\"translate(318.753118307977,370)\" d=\"M0,0L0,6\"></path><path transform=\"translate(361.61826338531296,370)\" d=\"M0,0L0,6\"></path><path transform=\"translate(386.6927658435267,370)\" d=\"M0,0L0,6\"></path><path transform=\"translate(404.48340846264915,370)\" d=\"M0,0L0,6\"></path><path transform=\"translate(418.2829029544663,370)\" d=\"M0,0L0,6\"></path><path transform=\"translate(429.5579109208628,370)\" d=\"M0,0L0,6\"></path><path transform=\"translate(439.0907943255496,370)\" d=\"M0,0L0,6\"></path><path transform=\"translate(447.3485535399852,370)\" d=\"M0,0L0,6\"></path><path transform=\"translate(454.63241337907647,370)\" d=\"M0,0L0,6\"></path><path transform=\"translate(461.1480480318025,370)\" d=\"M0,0L0,6\"></path><path transform=\"translate(504.0131931091385,370)\" d=\"M0,0L0,6\"></path><path transform=\"translate(529.0876955673522,370)\" d=\"M0,0L0,6\"></path><path transform=\"translate(546.8783381864746,370)\" d=\"M0,0L0,6\"></path><path transform=\"translate(560.6778326782919,370)\" d=\"M0,0L0,6\"></path><path transform=\"translate(571.9528406446884,370)\" d=\"M0,0L0,6\"></path><path transform=\"translate(581.4857240493752,370)\" d=\"M0,0L0,6\"></path><path transform=\"translate(589.7434832638107,370)\" d=\"M0,0L0,6\"></path><path transform=\"translate(597.0273431029019,370)\" d=\"M0,0L0,6\"></path><path transform=\"translate(603.5429777556279,370)\" d=\"M0,0L0,6\"></path></g><g aria-label=\"x-axis tick label\" font-variant=\"tabular-nums\" transform=\"translate(0,9)\"><text y=\"0.71em\" transform=\"translate(76.8284039376621,370)\">200k</text><text y=\"0.71em\" transform=\"translate(101.90290639587572,370)\"></text><text y=\"0.71em\" transform=\"translate(119.69354901499818,370)\"></text><text y=\"0.71em\" transform=\"translate(133.49304350681533,370)\"></text><text y=\"0.71em\" transform=\"translate(144.7680514732118,370)\"></text><text y=\"0.71em\" transform=\"translate(154.30093487789875,370)\"></text><text y=\"0.71em\" transform=\"translate(162.5586940923343,370)\"></text><text y=\"0.71em\" transform=\"translate(169.84255393142558,370)\"></text><text y=\"0.71em\" transform=\"translate(176.35818858415143,370)\">1M</text><text y=\"0.71em\" transform=\"translate(219.22333366148754,370)\">2M</text><text y=\"0.71em\" transform=\"translate(244.2978361197013,370)\"></text><text y=\"0.71em\" transform=\"translate(262.08847873882365,370)\"></text><text y=\"0.71em\" transform=\"translate(275.88797323064085,370)\"></text><text y=\"0.71em\" transform=\"translate(287.16298119703737,370)\"></text><text y=\"0.71em\" transform=\"translate(296.6958646017242,370)\"></text><text y=\"0.71em\" transform=\"translate(304.95362381615973,370)\"></text><text y=\"0.71em\" transform=\"translate(312.2374836552509,370)\"></text><text y=\"0.71em\" transform=\"translate(318.753118307977,370)\">10M</text><text y=\"0.71em\" transform=\"translate(361.61826338531296,370)\">20M</text><text y=\"0.71em\" transform=\"translate(386.6927658435267,370)\"></text><text y=\"0.71em\" transform=\"translate(404.48340846264915,370)\"></text><text y=\"0.71em\" transform=\"translate(418.2829029544663,370)\"></text><text y=\"0.71em\" transform=\"translate(429.5579109208628,370)\"></text><text y=\"0.71em\" transform=\"translate(439.0907943255496,370)\"></text><text y=\"0.71em\" transform=\"translate(447.3485535399852,370)\"></text><text y=\"0.71em\" transform=\"translate(454.63241337907647,370)\"></text><text y=\"0.71em\" transform=\"translate(461.1480480318025,370)\">100M</text><text y=\"0.71em\" transform=\"translate(504.0131931091385,370)\">200M</text><text y=\"0.71em\" transform=\"translate(529.0876955673522,370)\"></text><text y=\"0.71em\" transform=\"translate(546.8783381864746,370)\"></text><text y=\"0.71em\" transform=\"translate(560.6778326782919,370)\"></text><text y=\"0.71em\" transform=\"translate(571.9528406446884,370)\"></text><text y=\"0.71em\" transform=\"translate(581.4857240493752,370)\"></text><text y=\"0.71em\" transform=\"translate(589.7434832638107,370)\"></text><text y=\"0.71em\" transform=\"translate(597.0273431029019,370)\"></text><text y=\"0.71em\" transform=\"translate(603.5429777556279,370)\">1G</text></g><g aria-label=\"x-axis label\" text-anchor=\"end\" transform=\"translate(17,27)\"><text transform=\"translate(620,370)\">Population →</text></g><g aria-label=\"dot\"><circle cx=\"373.9438222777558\" cy=\"306.3322368421052\" r=\"15\" fill=\"#ff8ab7\"></circle><circle cx=\"482.1723239804585\" cy=\"317.8453947368421\" r=\"14.121496155558914\" fill=\"#4269d0\"></circle><circle cx=\"312.4179273891759\" cy=\"299.5394736842106\" r=\"13.421912388219772\" fill=\"#4269d0\"></circle><circle cx=\"397.6975043376517\" cy=\"319.2269736842106\" r=\"12.644020471261909\" fill=\"#4269d0\"></circle><circle cx=\"495.53314746587813\" cy=\"266.95723684210526\" r=\"12.4722341457636\" fill=\"#ff8ab7\"></circle><circle cx=\"383.95034309887967\" cy=\"190.62499999999994\" r=\"12.272701809155942\" fill=\"#3ca951\"></circle><circle cx=\"313.0016368502912\" cy=\"289.98355263157896\" r=\"11.422895870211576\" fill=\"#efb118\"></circle><circle cx=\"314.7777203989547\" cy=\"175.77302631578948\" r=\"11.04879556613411\" fill=\"#efb118\"></circle><circle cx=\"452.0085358589315\" cy=\"160.3453947368421\" r=\"10.9495107472672\" fill=\"#ff725c\"></circle><circle cx=\"373.9094938800698\" cy=\"150.5592105263158\" r=\"10.58653179704752\" fill=\"#3ca951\"></circle><circle cx=\"446.6295896027922\" cy=\"177.96052631578948\" r=\"10.45244782575908\" fill=\"#3ca951\"></circle><circle cx=\"612.4349878463483\" cy=\"216.99013157894737\" r=\"10.162940522338827\" fill=\"#ff8ab7\"></circle><circle cx=\"294.1172800656915\" cy=\"45.67434210526321\" r=\"9.97528363635999\" fill=\"#3ca951\"></circle><circle cx=\"482.35774396364593\" cy=\"193.38815789473685\" r=\"9.927753115280998\" fill=\"#ff8ab7\"></circle><circle cx=\"338.53666085932076\" cy=\"122.35197368421053\" r=\"9.911853275208376\" fill=\"#efb118\"></circle><circle cx=\"382.7505590896564\" cy=\"81.48026315789478\" r=\"9.735045107187599\" fill=\"#efb118\"></circle><circle cx=\"379.41381833015566\" cy=\"106.23355263157887\" r=\"9.63707888659113\" fill=\"#efb118\"></circle><circle cx=\"313.3594084825471\" cy=\"134.44078947368422\" r=\"9.604175609322699\" fill=\"#efb118\"></circle><circle cx=\"417.0551775138\" cy=\"370\" r=\"9.437734828162752\" fill=\"#4269d0\"></circle><circle cx=\"464.42530873102123\" cy=\"106.23355263157887\" r=\"9.420909816749223\" fill=\"#efb118\"></circle><circle cx=\"287.5515335989352\" cy=\"122.69736842105266\" r=\"9.353270891546273\" fill=\"#efb118\"></circle><circle cx=\"403.02941225168956\" cy=\"103.12499999999997\" r=\"9.302180070430438\" fill=\"#efb118\"></circle><circle cx=\"512.3341530889402\" cy=\"183.94736842105257\" r=\"9.302180070430438\" fill=\"#ff725c\"></circle><circle cx=\"40\" cy=\"136.5131578947369\" r=\"9.14698545013717\" fill=\"#efb118\"></circle><circle cx=\"407.8251194038478\" cy=\"88.84868421052639\" r=\"9.006509652539512\" fill=\"#efb118\"></circle><circle cx=\"437.9357581955651\" cy=\"85.5098684210526\" r=\"8.93533926571128\" fill=\"#6cc5b0\"></circle><circle cx=\"271.307526329475\" cy=\"101.28289473684217\" r=\"8.899513623306479\" fill=\"#3ca951\"></circle><circle cx=\"237.24998343012865\" cy=\"78.48684210526312\" r=\"8.644034212695708\" fill=\"#efb118\"></circle><circle cx=\"528.4334014804739\" cy=\"74.91776315789468\" r=\"8.644034212695708\" fill=\"#efb118\"></circle><circle cx=\"111.04655725417587\" cy=\"127.30263157894728\" r=\"8.62545816041864\" fill=\"#efb118\"></circle><circle cx=\"101.28741832179315\" cy=\"30.24671052631578\" r=\"8.62545816041864\" fill=\"#6cc5b0\"></circle><circle cx=\"266.78894590453416\" cy=\"55.23026315789476\" r=\"8.606836745173904\" fill=\"#efb118\"></circle><circle cx=\"499.7898560312171\" cy=\"131.5625\" r=\"8.475188094473399\" fill=\"#efb118\"></circle><circle cx=\"264.1079807162147\" cy=\"51.0855263157895\" r=\"8.456191397703627\" fill=\"#ff725c\"></circle><circle cx=\"373.1529280292285\" cy=\"163.7993421052631\" r=\"8.456191397703627\" fill=\"#ff725c\"></circle><circle cx=\"430.0814215440623\" cy=\"42.33552631578945\" r=\"8.37971561816039\" fill=\"#6cc5b0\"></circle><circle cx=\"263.93468395459416\" cy=\"59.14473684210533\" r=\"8.28299170410649\" fill=\"#6cc5b0\"></circle><circle cx=\"362.14700029832767\" cy=\"34.506578947368475\" r=\"8.224335782366573\" fill=\"#ff725c\"></circle><circle cx=\"271.04919564791635\" cy=\"44.52302631578941\" r=\"8.224335782366573\" fill=\"#6cc5b0\"></circle><circle cx=\"348.4926752362589\" cy=\"73.07565789473682\" r=\"8.145378922220491\" fill=\"#efb118\"></circle><circle cx=\"278.8589237809832\" cy=\"56.611842105263236\" r=\"8.145378922220491\" fill=\"#6cc5b0\"></circle><circle cx=\"95.26736662434458\" cy=\"103.58552631578955\" r=\"8.125503003546177\" fill=\"#efb118\"></circle><circle cx=\"439.2518965320507\" cy=\"123.04276315789478\" r=\"8.10557148757074\" fill=\"#3ca951\"></circle><circle cx=\"321.87028079320544\" cy=\"56.611842105263236\" r=\"8.065539780359579\" fill=\"#6cc5b0\"></circle><circle cx=\"429.95216906324197\" cy=\"56.4967105263158\" r=\"8.065539780359579\" fill=\"#6cc5b0\"></circle><circle cx=\"348.82257635722937\" cy=\"53.04276315789481\" r=\"7.964453887061586\" fill=\"#6cc5b0\"></circle><circle cx=\"620\" cy=\"129.60526315789468\" r=\"7.778701641752762\" fill=\"#ff725c\"></circle><circle cx=\"261.48540852669123\" cy=\"151.8256578947369\" r=\"7.757747336156798\" fill=\"#6cc5b0\"></circle><circle cx=\"391.09977920301236\" cy=\"43.83223684210519\" r=\"7.609207277681889\" fill=\"#efb118\"></circle><circle cx=\"268.3983484582564\" cy=\"99.78618421052639\" r=\"7.522808696036858\" fill=\"#6cc5b0\"></circle><circle cx=\"326.01561308646825\" cy=\"75.4934210526315\" r=\"7.457251165890343\" fill=\"#efb118\"></circle><circle cx=\"300.3695523390247\" cy=\"29.325657894736867\" r=\"7.346483922342804\" fill=\"#6cc5b0\"></circle><circle cx=\"306.6841928466244\" cy=\"51.661184210526315\" r=\"7.324097665911589\" fill=\"#6cc5b0\"></circle><circle cx=\"321.9075320362554\" cy=\"63.174342105263136\" r=\"7.324097665911589\" fill=\"#6cc5b0\"></circle><circle cx=\"325.28175806212903\" cy=\"55.345394736842046\" r=\"7.188079666308818\" fill=\"#6cc5b0\"></circle><circle cx=\"448.27855153810185\" cy=\"52.92763157894737\" r=\"7.165118252557478\" fill=\"#6cc5b0\"></circle><circle cx=\"427.67414119303146\" cy=\"37.38486842105269\" r=\"7.165118252557478\" fill=\"#6cc5b0\"></circle><circle cx=\"409.93372630835165\" cy=\"42.10526315789477\" r=\"7.142071000847359\" fill=\"#6cc5b0\"></circle><circle cx=\"476.3167141787964\" cy=\"20\" r=\"7.0019292605000185\" fill=\"#ff725c\"></circle><circle cx=\"402.24157112943254\" cy=\"104.16118421052633\" r=\"6.9306166780820035\" fill=\"#6cc5b0\"></circle><circle cx=\"415.61598267740044\" cy=\"62.82894736842105\" r=\"6.585799651115525\" fill=\"#ff725c\"></circle><circle cx=\"296.1356496446229\" cy=\"28.404605263157954\" r=\"6.2182469568294865\" fill=\"#ff725c\"></circle></g></svg></figure>"
      ],
      "text/plain": [
       "<IPython.core.display.HTML object>"
      ]
     },
     "metadata": {},
     "output_type": "display_data"
    }
   ],
   "source": [
    "Plot.plot(\n",
    "    {\n",
    "        \"title\": \"Population vs Life Expectancy in 2005\",\n",
    "        \"x\": {\"type\": \"log\", \"base\": 10, \"label\": \"Population\"},\n",
    "        \"y\": {\"label\": \"Life Expectancy\"},\n",
    "        \"color\": {\"legend\": True, \"type\": \"categorical\"},\n",
    "        \"r\": {\"range\": [1, 15]},\n",
    "        \"marks\": [\n",
    "            Plot.dot(\n",
    "                life_expect_2005_df,\n",
    "                {\"x\": \"pop\", \"y\": \"life_expect\", \"fill\": \"region\", \"r\": \"fertility\"},\n",
    "            )\n",
    "        ],\n",
    "    }\n",
    ")"
   ]
  },
  {
   "cell_type": "markdown",
   "id": "2b2ce087-ffed-4471-bcb1-e77c072c8d70",
   "metadata": {
    "id": "2b2ce087-ffed-4471-bcb1-e77c072c8d70"
   },
   "source": [
    "### Exercise\n",
    "\n",
    "In some cases, relationships like correlation are clearer when we plot the correlated variables by x- and y- position. Modify the plot to plot `fertility` against `life_expect` for year 2005 using the life_expect_2005_df, and size by population. You may need to experiment to find a good scaling factor. Also, consider whether the log scale for the x-axis is a good idea."
   ]
  },
  {
   "cell_type": "markdown",
   "id": "6169bd25-0dd8-4630-9714-6bd838e96506",
   "metadata": {
    "id": "6169bd25-0dd8-4630-9714-6bd838e96506"
   },
   "source": [
    "### Solution"
   ]
  },
  {
   "cell_type": "code",
   "execution_count": 25,
   "id": "a309ec69-63a3-4e33-a6ff-9233f782c239",
   "metadata": {
    "colab": {
     "base_uri": "https://localhost:8080/",
     "height": 505
    },
    "id": "a309ec69-63a3-4e33-a6ff-9233f782c239",
    "outputId": "a7a24e53-473c-49e1-c67c-d2d57fbc6e63"
   },
   "outputs": [
    {
     "data": {
      "text/html": [
       "<figure class=\"plot-d6a7b5-figure\" style=\"max-width: initial; padding: 0px 5px 5px 5px; color: rgb(0, 0, 0); background-color: rgb(255, 255, 255);\" typstbg=\"#FFFFFF\" typstfg=\"#000000\" typstcaption=\"#777777\"><h2 style=\"line-height: 28px; font-size: 20px; font-weight: 600; margin: 0px;\">Fertility vs Life Expectancy in 2005</h2><div class=\"plot-d6a7b5-swatches plot-d6a7b5-swatches-wrap\"><style>:where(.plot-d6a7b5-swatches) {\n",
       "  font-family: system-ui, sans-serif;\n",
       "  font-size: 10px;\n",
       "  margin-bottom: 0.5em;\n",
       "}\n",
       ":where(.plot-d6a7b5-swatch > svg) {\n",
       "  margin-right: 0.5em;\n",
       "  overflow: visible;\n",
       "}\n",
       ":where(.plot-d6a7b5-swatches-wrap) {\n",
       "  display: flex;\n",
       "  align-items: center;\n",
       "  min-height: 33px;\n",
       "  flex-wrap: wrap;\n",
       "}\n",
       ":where(.plot-d6a7b5-swatches-wrap .plot-d6a7b5-swatch) {\n",
       "  display: inline-flex;\n",
       "  align-items: center;\n",
       "  margin-right: 1em;\n",
       "}</style><span class=\"plot-d6a7b5-swatch\"><svg width=\"15\" height=\"15\" fill=\"#4269d0\" xmlns=\"http://www.w3.org/2000/svg\" xmlns:xlink=\"http://www.w3.org/1999/xlink\" style=\"color: rgb(0, 0, 0); background-color: rgb(255, 255, 255);\"><rect width=\"100%\" height=\"100%\"></rect></svg>Africa</span><span class=\"plot-d6a7b5-swatch\"><svg width=\"15\" height=\"15\" fill=\"#efb118\" xmlns=\"http://www.w3.org/2000/svg\" xmlns:xlink=\"http://www.w3.org/1999/xlink\" style=\"color: rgb(0, 0, 0); background-color: rgb(255, 255, 255);\"><rect width=\"100%\" height=\"100%\"></rect></svg>Americas</span><span class=\"plot-d6a7b5-swatch\"><svg width=\"15\" height=\"15\" fill=\"#ff725c\" xmlns=\"http://www.w3.org/2000/svg\" xmlns:xlink=\"http://www.w3.org/1999/xlink\" style=\"color: rgb(0, 0, 0); background-color: rgb(255, 255, 255);\"><rect width=\"100%\" height=\"100%\"></rect></svg>E. Asia &amp; Pacific</span><span class=\"plot-d6a7b5-swatch\"><svg width=\"15\" height=\"15\" fill=\"#6cc5b0\" xmlns=\"http://www.w3.org/2000/svg\" xmlns:xlink=\"http://www.w3.org/1999/xlink\" style=\"color: rgb(0, 0, 0); background-color: rgb(255, 255, 255);\"><rect width=\"100%\" height=\"100%\"></rect></svg>Europe</span><span class=\"plot-d6a7b5-swatch\"><svg width=\"15\" height=\"15\" fill=\"#3ca951\" xmlns=\"http://www.w3.org/2000/svg\" xmlns:xlink=\"http://www.w3.org/1999/xlink\" style=\"color: rgb(0, 0, 0); background-color: rgb(255, 255, 255);\"><rect width=\"100%\" height=\"100%\"></rect></svg>Mid. East</span><span class=\"plot-d6a7b5-swatch\"><svg width=\"15\" height=\"15\" fill=\"#ff8ab7\" xmlns=\"http://www.w3.org/2000/svg\" xmlns:xlink=\"http://www.w3.org/1999/xlink\" style=\"color: rgb(0, 0, 0); background-color: rgb(255, 255, 255);\"><rect width=\"100%\" height=\"100%\"></rect></svg>S. Asia</span></div><svg class=\"plot-d6a7b5\" fill=\"currentColor\" font-family=\"system-ui, sans-serif\" font-size=\"10\" text-anchor=\"middle\" width=\"640\" height=\"400\" viewBox=\"0 0 640 400\" xmlns=\"http://www.w3.org/2000/svg\" xmlns:xlink=\"http://www.w3.org/1999/xlink\" style=\"color: rgb(0, 0, 0); background-color: rgb(255, 255, 255);\"><style>:where(.plot-d6a7b5) {\n",
       "  --plot-background: white;\n",
       "  display: block;\n",
       "  height: auto;\n",
       "  height: intrinsic;\n",
       "  max-width: 100%;\n",
       "}\n",
       ":where(.plot-d6a7b5 text),\n",
       ":where(.plot-d6a7b5 tspan) {\n",
       "  white-space: pre;\n",
       "}</style><g aria-label=\"y-axis tick\" aria-hidden=\"true\" fill=\"none\" stroke=\"currentColor\"><path transform=\"translate(40,348.125)\" d=\"M0,0L-6,0\"></path><path transform=\"translate(40,325.09868421052636)\" d=\"M0,0L-6,0\"></path><path transform=\"translate(40,302.07236842105266)\" d=\"M0,0L-6,0\"></path><path transform=\"translate(40,279.04605263157896)\" d=\"M0,0L-6,0\"></path><path transform=\"translate(40,256.01973684210526)\" d=\"M0,0L-6,0\"></path><path transform=\"translate(40,232.99342105263156)\" d=\"M0,0L-6,0\"></path><path transform=\"translate(40,209.96710526315792)\" d=\"M0,0L-6,0\"></path><path transform=\"translate(40,186.94078947368422)\" d=\"M0,0L-6,0\"></path><path transform=\"translate(40,163.91447368421052)\" d=\"M0,0L-6,0\"></path><path transform=\"translate(40,140.88815789473685)\" d=\"M0,0L-6,0\"></path><path transform=\"translate(40,117.8618421052632)\" d=\"M0,0L-6,0\"></path><path transform=\"translate(40,94.83552631578947)\" d=\"M0,0L-6,0\"></path><path transform=\"translate(40,71.80921052631578)\" d=\"M0,0L-6,0\"></path><path transform=\"translate(40,48.78289473684211)\" d=\"M0,0L-6,0\"></path><path transform=\"translate(40,25.75657894736843)\" d=\"M0,0L-6,0\"></path></g><g aria-label=\"y-axis tick label\" text-anchor=\"end\" font-variant=\"tabular-nums\" transform=\"translate(-9,0)\"><text y=\"0.32em\" transform=\"translate(40,348.125)\">54</text><text y=\"0.32em\" transform=\"translate(40,325.09868421052636)\">56</text><text y=\"0.32em\" transform=\"translate(40,302.07236842105266)\">58</text><text y=\"0.32em\" transform=\"translate(40,279.04605263157896)\">60</text><text y=\"0.32em\" transform=\"translate(40,256.01973684210526)\">62</text><text y=\"0.32em\" transform=\"translate(40,232.99342105263156)\">64</text><text y=\"0.32em\" transform=\"translate(40,209.96710526315792)\">66</text><text y=\"0.32em\" transform=\"translate(40,186.94078947368422)\">68</text><text y=\"0.32em\" transform=\"translate(40,163.91447368421052)\">70</text><text y=\"0.32em\" transform=\"translate(40,140.88815789473685)\">72</text><text y=\"0.32em\" transform=\"translate(40,117.8618421052632)\">74</text><text y=\"0.32em\" transform=\"translate(40,94.83552631578947)\">76</text><text y=\"0.32em\" transform=\"translate(40,71.80921052631578)\">78</text><text y=\"0.32em\" transform=\"translate(40,48.78289473684211)\">80</text><text y=\"0.32em\" transform=\"translate(40,25.75657894736843)\">82</text></g><g aria-label=\"y-axis label\" text-anchor=\"start\" transform=\"translate(-37,-17)\"><text y=\"0.71em\" transform=\"translate(40,20)\">↑ Life Expectancy</text></g><g aria-label=\"x-axis tick\" aria-hidden=\"true\" fill=\"none\" stroke=\"currentColor\"><path transform=\"translate(43.899159663865554,370)\" d=\"M0,0L0,6\"></path><path transform=\"translate(141.37815126050418,370)\" d=\"M0,0L0,6\"></path><path transform=\"translate(238.85714285714286,370)\" d=\"M0,0L0,6\"></path><path transform=\"translate(336.3361344537815,370)\" d=\"M0,0L0,6\"></path><path transform=\"translate(433.8151260504202,370)\" d=\"M0,0L0,6\"></path><path transform=\"translate(531.2941176470588,370)\" d=\"M0,0L0,6\"></path></g><g aria-label=\"x-axis tick label\" font-variant=\"tabular-nums\" transform=\"translate(0,9)\"><text y=\"0.71em\" transform=\"translate(43.899159663865554,370)\">1</text><text y=\"0.71em\" transform=\"translate(141.37815126050418,370)\">2</text><text y=\"0.71em\" transform=\"translate(238.85714285714286,370)\">3</text><text y=\"0.71em\" transform=\"translate(336.3361344537815,370)\">4</text><text y=\"0.71em\" transform=\"translate(433.8151260504202,370)\">5</text><text y=\"0.71em\" transform=\"translate(531.2941176470588,370)\">6</text></g><g aria-label=\"x-axis label\" text-anchor=\"end\" transform=\"translate(17,27)\"><text transform=\"translate(620,370)\">fertility →</text></g><g aria-label=\"dot\"><circle cx=\"104.33613445378153\" cy=\"129.60526315789468\" r=\"20\" fill=\"#ff725c\"></circle><circle cx=\"234.9579831932773\" cy=\"216.99013157894737\" r=\"18.872697811983794\" fill=\"#ff8ab7\"></circle><circle cx=\"147.2268907563025\" cy=\"74.91776315789468\" r=\"10.062128577059392\" fill=\"#efb118\"></circle><circle cx=\"183.29411764705884\" cy=\"183.94736842105257\" r=\"8.956094762339937\" fill=\"#ff725c\"></circle><circle cx=\"138.45378151260505\" cy=\"131.5625\" r=\"8.18873363600687\" fill=\"#efb118\"></circle><circle cx=\"398.7226890756302\" cy=\"266.95723684210526\" r=\"7.945532560954056\" fill=\"#ff8ab7\"></circle><circle cx=\"220.33613445378154\" cy=\"193.38815789473685\" r=\"7.243698938540981\" fill=\"#ff8ab7\"></circle><circle cx=\"538.1176470588235\" cy=\"317.8453947368421\" r=\"7.2343456536838335\" fill=\"#4269d0\"></circle><circle cx=\"70.21848739495799\" cy=\"20\" r=\"6.946065892617558\" fill=\"#ff725c\"></circle><circle cx=\"190.11764705882356\" cy=\"106.23355263157887\" r=\"6.40100650733553\" fill=\"#efb118\"></circle><circle cx=\"286.6218487394958\" cy=\"160.3453947368421\" r=\"5.8851165400841285\" fill=\"#ff725c\"></circle><circle cx=\"77.0420168067227\" cy=\"52.92763157894737\" r=\"5.739991985659052\" fill=\"#6cc5b0\"></circle><circle cx=\"253.47899159663862\" cy=\"177.96052631578948\" r=\"5.677216862785793\" fill=\"#3ca951\"></circle><circle cx=\"119.93277310924371\" cy=\"123.04276315789478\" r=\"5.406378131399618\" fill=\"#3ca951\"></circle><circle cx=\"162.82352941176472\" cy=\"85.5098684210526\" r=\"5.35973735182893\" fill=\"#6cc5b0\"></circle><circle cx=\"133.5798319327731\" cy=\"42.33552631578945\" r=\"5.091484546243635\" fill=\"#6cc5b0\"></circle><circle cx=\"117.98319327731093\" cy=\"56.4967105263158\" r=\"5.087211042745145\" fill=\"#6cc5b0\"></circle><circle cx=\"77.0420168067227\" cy=\"37.38486842105269\" r=\"5.012620474941608\" fill=\"#6cc5b0\"></circle><circle cx=\"191.0924369747899\" cy=\"370\" r=\"4.682485709419101\" fill=\"#4269d0\"></circle><circle cx=\"53.64705882352942\" cy=\"62.82894736842105\" r=\"4.63988395214527\" fill=\"#ff725c\"></circle><circle cx=\"76.06722689075632\" cy=\"42.10526315789477\" r=\"4.476442769572964\" fill=\"#6cc5b0\"></circle><circle cx=\"166.72268907563023\" cy=\"88.84868421052639\" r=\"4.4176769096636965\" fill=\"#efb118\"></circle><circle cx=\"183.29411764705884\" cy=\"103.12499999999997\" r=\"4.28769518267986\" fill=\"#efb118\"></circle><circle cx=\"67.29411764705883\" cy=\"104.16118421052633\" r=\"4.266819586114356\" fill=\"#6cc5b0\"></circle><circle cx=\"412.3697478991597\" cy=\"319.2269736842106\" r=\"4.1489755739196585\" fill=\"#4269d0\"></circle><circle cx=\"96.53781512605042\" cy=\"43.83223684210519\" r=\"3.985398410852139\" fill=\"#efb118\"></circle><circle cx=\"383.1260504201681\" cy=\"190.62499999999994\" r=\"3.8177213738491522\" fill=\"#3ca951\"></circle><circle cx=\"208.63865546218486\" cy=\"81.48026315789478\" r=\"3.790520206112945\" fill=\"#efb118\"></circle><circle cx=\"202.78991596638656\" cy=\"106.23355263157887\" r=\"3.7162433137534645\" fill=\"#efb118\"></circle><circle cx=\"620\" cy=\"306.3322368421052\" r=\"3.5987322713728056\" fill=\"#ff8ab7\"></circle><circle cx=\"262.25210084033614\" cy=\"150.5592105263158\" r=\"3.5980110875580382\" fill=\"#3ca951\"></circle><circle cx=\"137.47899159663865\" cy=\"163.7993421052631\" r=\"3.5821675816023784\" fill=\"#ff725c\"></circle><circle cx=\"125.78151260504202\" cy=\"34.506578947368475\" r=\"3.3623195233670486\" fill=\"#ff725c\"></circle><circle cx=\"113.10924369747899\" cy=\"53.04276315789481\" r=\"3.1210542515426103\" fill=\"#6cc5b0\"></circle><circle cx=\"121.88235294117648\" cy=\"73.07565789473682\" r=\"3.1154042617483206\" fill=\"#efb118\"></circle><circle cx=\"219.3613445378151\" cy=\"122.35197368421053\" r=\"2.9517950604146463\" fill=\"#efb118\"></circle><circle cx=\"89.71428571428572\" cy=\"75.4934210526315\" r=\"2.7638769946259267\" fill=\"#efb118\"></circle><circle cx=\"78.0168067226891\" cy=\"55.345394736842046\" r=\"2.7534422468128357\" fill=\"#6cc5b0\"></circle><circle cx=\"83.8655462184874\" cy=\"63.174342105263136\" r=\"2.7062526562176084\" fill=\"#6cc5b0\"></circle><circle cx=\"117.98319327731093\" cy=\"56.611842105263236\" r=\"2.705738837551054\" fill=\"#6cc5b0\"></circle><circle cx=\"293.4453781512605\" cy=\"175.77302631578948\" r=\"2.610675297581638\" fill=\"#efb118\"></circle><circle cx=\"200.84033613445376\" cy=\"134.44078947368422\" r=\"2.5923106248103602\" fill=\"#efb118\"></circle><circle cx=\"319.7647058823529\" cy=\"289.98355263157896\" r=\"2.5877112703426826\" fill=\"#efb118\"></circle><circle cx=\"476.7058823529412\" cy=\"299.5394736842106\" r=\"2.5802358602343327\" fill=\"#4269d0\"></circle><circle cx=\"83.8655462184874\" cy=\"51.661184210526315\" r=\"2.5086507092069046\" fill=\"#6cc5b0\"></circle><circle cx=\"84.84033613445378\" cy=\"29.325657894736867\" r=\"2.4335594864420886\" fill=\"#6cc5b0\"></circle><circle cx=\"40\" cy=\"28.404605263157954\" r=\"2.3853163446128898\" fill=\"#ff725c\"></circle><circle cx=\"223.26050420168065\" cy=\"45.67434210526321\" r=\"2.3628929156850944\" fill=\"#3ca951\"></circle><circle cx=\"186.21848739495798\" cy=\"122.69736842105266\" r=\"2.292429993407564\" fill=\"#efb118\"></circle><circle cx=\"121.88235294117648\" cy=\"56.611842105263236\" r=\"2.2047144989938756\" fill=\"#6cc5b0\"></circle><circle cx=\"160.87394957983196\" cy=\"101.28289473684217\" r=\"2.1333614978050512\" fill=\"#3ca951\"></circle><circle cx=\"125.78151260504202\" cy=\"44.52302631578941\" r=\"2.1309967646262895\" fill=\"#6cc5b0\"></circle><circle cx=\"92.63865546218487\" cy=\"99.78618421052639\" r=\"2.1070144279886263\" fill=\"#6cc5b0\"></circle><circle cx=\"145.27731092436974\" cy=\"55.23026315789476\" r=\"2.0927028803005348\" fill=\"#efb118\"></circle><circle cx=\"137.47899159663865\" cy=\"51.0855263157895\" r=\"2.0692721398025165\" fill=\"#ff725c\"></circle><circle cx=\"128.7058823529412\" cy=\"59.14473684210533\" r=\"2.067774988654372\" fill=\"#6cc5b0\"></circle><circle cx=\"103.36134453781514\" cy=\"151.8256578947369\" r=\"2.0468379387630566\" fill=\"#6cc5b0\"></circle><circle cx=\"147.2268907563025\" cy=\"78.48684210526312\" r=\"1.8605579630268085\" fill=\"#efb118\"></circle><circle cx=\"146.2521008403361\" cy=\"127.30263157894728\" r=\"1.3101946773066295\" fill=\"#efb118\"></circle><circle cx=\"146.2521008403361\" cy=\"30.24671052631578\" r=\"1.2866595942044712\" fill=\"#6cc5b0\"></circle><circle cx=\"120.9075630252101\" cy=\"103.58552631578955\" r=\"1.2730410259414187\" fill=\"#efb118\"></circle><circle cx=\"174.52100840336135\" cy=\"136.5131578947369\" r=\"1.1746482476579634\" fill=\"#efb118\"></circle></g></svg></figure>"
      ],
      "text/plain": [
       "<IPython.core.display.HTML object>"
      ]
     },
     "metadata": {},
     "output_type": "display_data"
    }
   ],
   "source": [
    "Plot.plot(\n",
    "    {\n",
    "        \"title\": \"Fertility vs Life Expectancy in 2005\",\n",
    "        \"x\": {\"label\": \"fertility\"},\n",
    "        \"y\": {\"label\": \"Life Expectancy\"},\n",
    "        \"color\": {\"legend\": True, \"type\": \"categorical\"},\n",
    "        \"r\": {\"range\": [1, 20]},\n",
    "        \"marks\": [\n",
    "            Plot.dot(\n",
    "                life_expect_2005_df,\n",
    "                {\"x\": \"fertility\", \"y\": \"life_expect\", \"fill\": \"region\", \"r\": \"pop\"},\n",
    "            )\n",
    "        ],\n",
    "    }\n",
    ")"
   ]
  },
  {
   "cell_type": "markdown",
   "id": "20ba8e40-809c-4911-842e-dd1c2bb6b349",
   "metadata": {
    "id": "20ba8e40-809c-4911-842e-dd1c2bb6b349"
   },
   "source": [
    "### Facets\n",
    "\n",
    "Our plots only show the data for 2005. It might be interesting to compare the scatterplots for different years, say 1960, 1975, 1990, and 2005. Here, we could create four different plots within the same visualization.\n",
    "\n",
    "In pyobsplot, faceting is usually activated by specifying the horizontal facet channel (`fx`), the vertical facet channel (`fy`), or both for two-dimensional faceting. This allows you to create multiple subplots based on categorical variables, making it easier to compare different subsets of data."
   ]
  },
  {
   "cell_type": "code",
   "execution_count": 26,
   "id": "b18b6cae-7a88-4df1-8f72-7ebc95dd7ce2",
   "metadata": {
    "colab": {
     "base_uri": "https://localhost:8080/",
     "height": 443
    },
    "id": "b18b6cae-7a88-4df1-8f72-7ebc95dd7ce2",
    "outputId": "4c3c8468-d5a8-45a5-c188-cb9a0d78f29f",
    "scrolled": true
   },
   "outputs": [
    {
     "data": {
      "text/html": [
       "<div><style>\n",
       ".dataframe > thead > tr,\n",
       ".dataframe > tbody > tr {\n",
       "  text-align: right;\n",
       "  white-space: pre-wrap;\n",
       "}\n",
       "</style>\n",
       "<small>shape: (248, 7)</small><table border=\"1\" class=\"dataframe\"><thead><tr><th>year</th><th>country</th><th>cluster</th><th>pop</th><th>life_expect</th><th>fertility</th><th>region</th></tr><tr><td>i64</td><td>str</td><td>i64</td><td>i64</td><td>f64</td><td>f64</td><td>str</td></tr></thead><tbody><tr><td>1960</td><td>&quot;Afghanistan&quot;</td><td>0</td><td>8622466</td><td>45.03</td><td>7.38</td><td>&quot;S. Asia&quot;</td></tr><tr><td>1975</td><td>&quot;Afghanistan&quot;</td><td>0</td><td>12157386</td><td>47.55</td><td>7.54</td><td>&quot;S. Asia&quot;</td></tr><tr><td>1990</td><td>&quot;Afghanistan&quot;</td><td>0</td><td>10694796</td><td>53.83</td><td>7.57</td><td>&quot;S. Asia&quot;</td></tr><tr><td>2005</td><td>&quot;Afghanistan&quot;</td><td>0</td><td>24411191</td><td>57.63</td><td>6.91</td><td>&quot;S. Asia&quot;</td></tr><tr><td>1960</td><td>&quot;Argentina&quot;</td><td>3</td><td>20349744</td><td>65.26</td><td>3.08</td><td>&quot;Americas&quot;</td></tr><tr><td>&hellip;</td><td>&hellip;</td><td>&hellip;</td><td>&hellip;</td><td>&hellip;</td><td>&hellip;</td><td>&hellip;</td></tr><tr><td>2005</td><td>&quot;United States&quot;</td><td>3</td><td>296842670</td><td>77.73</td><td>2.06</td><td>&quot;Americas&quot;</td></tr><tr><td>1960</td><td>&quot;Venezuela&quot;</td><td>3</td><td>8156937</td><td>65.17</td><td>6.42</td><td>&quot;Americas&quot;</td></tr><tr><td>1975</td><td>&quot;Venezuela&quot;</td><td>3</td><td>13176387</td><td>67.6</td><td>4.69</td><td>&quot;Americas&quot;</td></tr><tr><td>1990</td><td>&quot;Venezuela&quot;</td><td>3</td><td>19750579</td><td>72.44</td><td>3.45</td><td>&quot;Americas&quot;</td></tr><tr><td>2005</td><td>&quot;Venezuela&quot;</td><td>3</td><td>26668785</td><td>75.01</td><td>2.63</td><td>&quot;Americas&quot;</td></tr></tbody></table></div>"
      ],
      "text/plain": [
       "shape: (248, 7)\n",
       "┌──────┬───────────────┬─────────┬───────────┬─────────────┬───────────┬──────────┐\n",
       "│ year ┆ country       ┆ cluster ┆ pop       ┆ life_expect ┆ fertility ┆ region   │\n",
       "│ ---  ┆ ---           ┆ ---     ┆ ---       ┆ ---         ┆ ---       ┆ ---      │\n",
       "│ i64  ┆ str           ┆ i64     ┆ i64       ┆ f64         ┆ f64       ┆ str      │\n",
       "╞══════╪═══════════════╪═════════╪═══════════╪═════════════╪═══════════╪══════════╡\n",
       "│ 1960 ┆ Afghanistan   ┆ 0       ┆ 8622466   ┆ 45.03       ┆ 7.38      ┆ S. Asia  │\n",
       "│ 1975 ┆ Afghanistan   ┆ 0       ┆ 12157386  ┆ 47.55       ┆ 7.54      ┆ S. Asia  │\n",
       "│ 1990 ┆ Afghanistan   ┆ 0       ┆ 10694796  ┆ 53.83       ┆ 7.57      ┆ S. Asia  │\n",
       "│ 2005 ┆ Afghanistan   ┆ 0       ┆ 24411191  ┆ 57.63       ┆ 6.91      ┆ S. Asia  │\n",
       "│ 1960 ┆ Argentina     ┆ 3       ┆ 20349744  ┆ 65.26       ┆ 3.08      ┆ Americas │\n",
       "│ …    ┆ …             ┆ …       ┆ …         ┆ …           ┆ …         ┆ …        │\n",
       "│ 2005 ┆ United States ┆ 3       ┆ 296842670 ┆ 77.73       ┆ 2.06      ┆ Americas │\n",
       "│ 1960 ┆ Venezuela     ┆ 3       ┆ 8156937   ┆ 65.17       ┆ 6.42      ┆ Americas │\n",
       "│ 1975 ┆ Venezuela     ┆ 3       ┆ 13176387  ┆ 67.6        ┆ 4.69      ┆ Americas │\n",
       "│ 1990 ┆ Venezuela     ┆ 3       ┆ 19750579  ┆ 72.44       ┆ 3.45      ┆ Americas │\n",
       "│ 2005 ┆ Venezuela     ┆ 3       ┆ 26668785  ┆ 75.01       ┆ 2.63      ┆ Americas │\n",
       "└──────┴───────────────┴─────────┴───────────┴─────────────┴───────────┴──────────┘"
      ]
     },
     "execution_count": 26,
     "metadata": {},
     "output_type": "execute_result"
    }
   ],
   "source": [
    "facet_df = df.filter(pl.col(\"year\").is_in([1960, 1975, 1990, 2005]))\n",
    "facet_df"
   ]
  },
  {
   "cell_type": "code",
   "execution_count": 27,
   "id": "4600b843-c309-4dcd-9cd9-ed2a70786967",
   "metadata": {
    "colab": {
     "base_uri": "https://localhost:8080/",
     "height": 535
    },
    "id": "4600b843-c309-4dcd-9cd9-ed2a70786967",
    "outputId": "c27499fd-0a24-4917-9118-078a94f7508c"
   },
   "outputs": [
    {
     "data": {
      "text/html": [
       "<figure class=\"plot-d6a7b5-figure\" style=\"max-width: initial; padding: 0px 5px 5px 5px; color: rgb(0, 0, 0); background-color: rgb(255, 255, 255);\" typstbg=\"#FFFFFF\" typstfg=\"#000000\" typstcaption=\"#777777\"><h2 style=\"line-height: 28px; font-size: 20px; font-weight: 600; margin: 0px;\">Fertility vs Life Expectancy</h2><div class=\"plot-d6a7b5-swatches plot-d6a7b5-swatches-wrap\"><style>:where(.plot-d6a7b5-swatches) {\n",
       "  font-family: system-ui, sans-serif;\n",
       "  font-size: 10px;\n",
       "  margin-bottom: 0.5em;\n",
       "}\n",
       ":where(.plot-d6a7b5-swatch > svg) {\n",
       "  margin-right: 0.5em;\n",
       "  overflow: visible;\n",
       "}\n",
       ":where(.plot-d6a7b5-swatches-wrap) {\n",
       "  display: flex;\n",
       "  align-items: center;\n",
       "  min-height: 33px;\n",
       "  flex-wrap: wrap;\n",
       "}\n",
       ":where(.plot-d6a7b5-swatches-wrap .plot-d6a7b5-swatch) {\n",
       "  display: inline-flex;\n",
       "  align-items: center;\n",
       "  margin-right: 1em;\n",
       "}</style><span class=\"plot-d6a7b5-swatch\"><svg width=\"15\" height=\"15\" fill=\"#4269d0\" xmlns=\"http://www.w3.org/2000/svg\" xmlns:xlink=\"http://www.w3.org/1999/xlink\" style=\"color: rgb(0, 0, 0); background-color: rgb(255, 255, 255);\"><rect width=\"100%\" height=\"100%\"></rect></svg>Africa</span><span class=\"plot-d6a7b5-swatch\"><svg width=\"15\" height=\"15\" fill=\"#efb118\" xmlns=\"http://www.w3.org/2000/svg\" xmlns:xlink=\"http://www.w3.org/1999/xlink\" style=\"color: rgb(0, 0, 0); background-color: rgb(255, 255, 255);\"><rect width=\"100%\" height=\"100%\"></rect></svg>Americas</span><span class=\"plot-d6a7b5-swatch\"><svg width=\"15\" height=\"15\" fill=\"#ff725c\" xmlns=\"http://www.w3.org/2000/svg\" xmlns:xlink=\"http://www.w3.org/1999/xlink\" style=\"color: rgb(0, 0, 0); background-color: rgb(255, 255, 255);\"><rect width=\"100%\" height=\"100%\"></rect></svg>E. Asia &amp; Pacific</span><span class=\"plot-d6a7b5-swatch\"><svg width=\"15\" height=\"15\" fill=\"#6cc5b0\" xmlns=\"http://www.w3.org/2000/svg\" xmlns:xlink=\"http://www.w3.org/1999/xlink\" style=\"color: rgb(0, 0, 0); background-color: rgb(255, 255, 255);\"><rect width=\"100%\" height=\"100%\"></rect></svg>Europe</span><span class=\"plot-d6a7b5-swatch\"><svg width=\"15\" height=\"15\" fill=\"#3ca951\" xmlns=\"http://www.w3.org/2000/svg\" xmlns:xlink=\"http://www.w3.org/1999/xlink\" style=\"color: rgb(0, 0, 0); background-color: rgb(255, 255, 255);\"><rect width=\"100%\" height=\"100%\"></rect></svg>Mid. East</span><span class=\"plot-d6a7b5-swatch\"><svg width=\"15\" height=\"15\" fill=\"#ff8ab7\" xmlns=\"http://www.w3.org/2000/svg\" xmlns:xlink=\"http://www.w3.org/1999/xlink\" style=\"color: rgb(0, 0, 0); background-color: rgb(255, 255, 255);\"><rect width=\"100%\" height=\"100%\"></rect></svg>S. Asia</span></div><svg class=\"plot-d6a7b5\" fill=\"currentColor\" font-family=\"system-ui, sans-serif\" font-size=\"10\" text-anchor=\"middle\" width=\"640\" height=\"430\" viewBox=\"0 0 640 430\" xmlns=\"http://www.w3.org/2000/svg\" xmlns:xlink=\"http://www.w3.org/1999/xlink\" style=\"color: rgb(0, 0, 0); background-color: rgb(255, 255, 255);\"><style>:where(.plot-d6a7b5) {\n",
       "  --plot-background: white;\n",
       "  display: block;\n",
       "  height: auto;\n",
       "  height: intrinsic;\n",
       "  max-width: 100%;\n",
       "}\n",
       ":where(.plot-d6a7b5 text),\n",
       ":where(.plot-d6a7b5 tspan) {\n",
       "  white-space: pre;\n",
       "}</style><g aria-label=\"fx-axis tick label\" transform=\"translate(0,-9)\"><g transform=\"translate(1,0)\"><text transform=\"translate(106.5,30)\">1960</text></g><g transform=\"translate(149,0)\"><text transform=\"translate(106.5,30)\">1975</text></g><g transform=\"translate(297,0)\"><text transform=\"translate(106.5,30)\">1990</text></g><g transform=\"translate(445,0)\"><text transform=\"translate(106.5,30)\">2005</text></g></g><g aria-label=\"fx-axis label\" transform=\"translate(0,-27)\"><text y=\"0.71em\" transform=\"translate(329.5,30)\">year</text></g><g aria-label=\"y-axis tick\" aria-hidden=\"true\"><g fill=\"none\" stroke=\"currentColor\" transform=\"translate(1,0)\"><path transform=\"translate(40,385.0539206726375)\" d=\"M0,0L-6,0\"></path><path transform=\"translate(40,351.23926156095774)\" d=\"M0,0L-6,0\"></path><path transform=\"translate(40,317.424602449278)\" d=\"M0,0L-6,0\"></path><path transform=\"translate(40,283.6099433375983)\" d=\"M0,0L-6,0\"></path><path transform=\"translate(40,249.79528422591852)\" d=\"M0,0L-6,0\"></path><path transform=\"translate(40,215.9806251142387)\" d=\"M0,0L-6,0\"></path><path transform=\"translate(40,182.16596600255895)\" d=\"M0,0L-6,0\"></path><path transform=\"translate(40,148.35130689087916)\" d=\"M0,0L-6,0\"></path><path transform=\"translate(40,114.53664777919941)\" d=\"M0,0L-6,0\"></path><path transform=\"translate(40,80.72198866751967)\" d=\"M0,0L-6,0\"></path><path transform=\"translate(40,46.90732955583988)\" d=\"M0,0L-6,0\"></path></g></g><g aria-label=\"y-axis tick label\" transform=\"translate(-9,0)\"><g text-anchor=\"end\" font-variant=\"tabular-nums\" transform=\"translate(1,0)\"><text y=\"0.32em\" transform=\"translate(40,385.0539206726375)\">30</text><text y=\"0.32em\" transform=\"translate(40,351.23926156095774)\">35</text><text y=\"0.32em\" transform=\"translate(40,317.424602449278)\">40</text><text y=\"0.32em\" transform=\"translate(40,283.6099433375983)\">45</text><text y=\"0.32em\" transform=\"translate(40,249.79528422591852)\">50</text><text y=\"0.32em\" transform=\"translate(40,215.9806251142387)\">55</text><text y=\"0.32em\" transform=\"translate(40,182.16596600255895)\">60</text><text y=\"0.32em\" transform=\"translate(40,148.35130689087916)\">65</text><text y=\"0.32em\" transform=\"translate(40,114.53664777919941)\">70</text><text y=\"0.32em\" transform=\"translate(40,80.72198866751967)\">75</text><text y=\"0.32em\" transform=\"translate(40,46.90732955583988)\">80</text></g></g><g aria-label=\"y-axis label\" text-anchor=\"start\" transform=\"translate(-37,-27)\"><text y=\"0.71em\" transform=\"translate(41,30)\">↑ Life Expectancy</text></g><g aria-label=\"x-axis tick\" aria-hidden=\"true\"><g fill=\"none\" stroke=\"currentColor\" transform=\"translate(1,0)\"><path transform=\"translate(114.01101928374655,400)\" d=\"M0,0L0,6\"></path></g><g fill=\"none\" stroke=\"currentColor\" transform=\"translate(149,0)\"><path transform=\"translate(114.01101928374655,400)\" d=\"M0,0L0,6\"></path></g><g fill=\"none\" stroke=\"currentColor\" transform=\"translate(297,0)\"><path transform=\"translate(114.01101928374655,400)\" d=\"M0,0L0,6\"></path></g><g fill=\"none\" stroke=\"currentColor\" transform=\"translate(445,0)\"><path transform=\"translate(114.01101928374655,400)\" d=\"M0,0L0,6\"></path></g></g><g aria-label=\"x-axis tick label\" transform=\"translate(0,9)\"><g font-variant=\"tabular-nums\" transform=\"translate(1,0)\"><text y=\"0.71em\" transform=\"translate(114.01101928374655,400)\">5</text></g><g font-variant=\"tabular-nums\" transform=\"translate(149,0)\"><text y=\"0.71em\" transform=\"translate(114.01101928374655,400)\">5</text></g><g font-variant=\"tabular-nums\" transform=\"translate(297,0)\"><text y=\"0.71em\" transform=\"translate(114.01101928374655,400)\">5</text></g><g font-variant=\"tabular-nums\" transform=\"translate(445,0)\"><text y=\"0.71em\" transform=\"translate(114.01101928374655,400)\">5</text></g></g><g aria-label=\"x-axis label\" text-anchor=\"end\" transform=\"translate(17,27)\"><text transform=\"translate(618,400)\">fertility →</text></g><g aria-label=\"dot\"><g transform=\"translate(1,0)\"><circle cx=\"101.73691460055096\" cy=\"400\" r=\"11.204545483235783\" fill=\"#ff725c\"></circle><circle cx=\"130.68181818181816\" cy=\"278.53774447084623\" r=\"9.599799247539497\" fill=\"#ff8ab7\"></circle><circle cx=\"87.99724517906336\" cy=\"114.13087186985925\" r=\"6.77689485171271\" fill=\"#efb118\"></circle><circle cx=\"59.23553719008264\" cy=\"125.96600255894717\" r=\"5.497775254181183\" fill=\"#ff725c\"></circle><circle cx=\"124.63636363636364\" cy=\"259.0605008225187\" r=\"5.383302920128326\" fill=\"#ff725c\"></circle><circle cx=\"134.1625344352617\" cy=\"233.29373057941876\" r=\"5.076757439062571\" fill=\"#efb118\"></circle><circle cx=\"66.19696969696969\" cy=\"118.52677755437763\" r=\"5.076150804499101\" fill=\"#6cc5b0\"></circle><circle cx=\"72.42561983471074\" cy=\"106.62401754706633\" r=\"4.608640963013158\" fill=\"#6cc5b0\"></circle><circle cx=\"146.4366391184573\" cy=\"291.59020288795466\" r=\"4.554798712696778\" fill=\"#ff8ab7\"></circle><circle cx=\"66.0137741046832\" cy=\"115.48345823432645\" r=\"4.5324277826953905\" fill=\"#6cc5b0\"></circle><circle cx=\"146.07024793388427\" cy=\"240.86821422043502\" r=\"4.439605110344908\" fill=\"#ff8ab7\"></circle><circle cx=\"72.60881542699724\" cy=\"106.48875891061962\" r=\"4.43177135798446\" fill=\"#6cc5b0\"></circle><circle cx=\"138.92561983471072\" cy=\"271.36903673917016\" r=\"4.412220492311045\" fill=\"#4269d0\"></circle><circle cx=\"146.4366391184573\" cy=\"201.44032169621642\" r=\"4.167299542820869\" fill=\"#efb118\"></circle><circle cx=\"73.34159779614325\" cy=\"118.25626028148416\" r=\"3.984746004508371\" fill=\"#6cc5b0\"></circle><circle cx=\"77.73829201101928\" cy=\"128.73880460610488\" r=\"3.9549727018595426\" fill=\"#6cc5b0\"></circle><circle cx=\"153.39807162534436\" cy=\"173.64467190641565\" r=\"3.9207868818296205\" fill=\"#ff725c\"></circle><circle cx=\"138.92561983471072\" cy=\"252.97386218241633\" r=\"3.8875994282806356\" fill=\"#6cc5b0\"></circle><circle cx=\"146.07024793388427\" cy=\"270.96326082983\" r=\"3.8711817342006163\" fill=\"#3ca951\"></circle><circle cx=\"132.3305785123967\" cy=\"188.18497532443794\" r=\"3.828580749149753\" fill=\"#ff725c\"></circle><circle cx=\"154.49724517906333\" cy=\"287.12666788521295\" r=\"3.6643707593048127\" fill=\"#3ca951\"></circle><circle cx=\"78.8374655647383\" cy=\"146.5929446170718\" r=\"3.6234401467987003\" fill=\"#efb118\"></circle><circle cx=\"93.8595041322314\" cy=\"106.75927618351302\" r=\"3.5229890864492956\" fill=\"#efb118\"></circle><circle cx=\"135.2617079889807\" cy=\"223.21696216413818\" r=\"3.4627416400745368\" fill=\"#4269d0\"></circle><circle cx=\"146.07024793388427\" cy=\"187.17053555108757\" r=\"3.4253984370339765\" fill=\"#efb118\"></circle><circle cx=\"92.39393939393939\" cy=\"265.8910619630781\" r=\"3.2286419896472607\" fill=\"#ff725c\"></circle><circle cx=\"79.5702479338843\" cy=\"90.86638640102356\" r=\"3.2200446377003566\" fill=\"#6cc5b0\"></circle><circle cx=\"85.61570247933884\" cy=\"107.0297934564065\" r=\"3.1542336327704366\" fill=\"#ff725c\"></circle><circle cx=\"149.1845730027548\" cy=\"268.325717419119\" r=\"3.1477951919987355\" fill=\"#efb118\"></circle><circle cx=\"69.31129476584022\" cy=\"114.06324255163594\" r=\"3.0861394246562206\" fill=\"#6cc5b0\"></circle><circle cx=\"80.30303030303031\" cy=\"150.17729848290983\" r=\"3.072565088527031\" fill=\"#6cc5b0\"></circle><circle cx=\"157.61157024793388\" cy=\"283.40705538292815\" r=\"3.0567507185822196\" fill=\"#ff8ab7\"></circle><circle cx=\"64.36501377410468\" cy=\"98.10272345092301\" r=\"3.048936278140287\" fill=\"#6cc5b0\"></circle><circle cx=\"140.02479338842974\" cy=\"147.20160848108205\" r=\"3.0278278013248814\" fill=\"#efb118\"></circle><circle cx=\"112.54545454545455\" cy=\"221.3909705721075\" r=\"3.026874938845762\" fill=\"#efb118\"></circle><circle cx=\"163.65702479338842\" cy=\"220.78230670809725\" r=\"3.001954179815727\" fill=\"#4269d0\"></circle><circle cx=\"98.25619834710743\" cy=\"119.47358800950467\" r=\"2.9701663104235716\" fill=\"#efb118\"></circle><circle cx=\"123.90358126721762\" cy=\"178.85212940961432\" r=\"2.95789270247344\" fill=\"#3ca951\"></circle><circle cx=\"71.87603305785125\" cy=\"121.57009687442887\" r=\"2.9553118566664374\" fill=\"#6cc5b0\"></circle><circle cx=\"67.47933884297521\" cy=\"102.63388777188811\" r=\"2.8307111518915598\" fill=\"#6cc5b0\"></circle><circle cx=\"145.3374655647383\" cy=\"208.54140010966918\" r=\"2.7733769074620334\" fill=\"#efb118\"></circle><circle cx=\"72.24242424242425\" cy=\"119.81173460062145\" r=\"2.757472986772587\" fill=\"#6cc5b0\"></circle><circle cx=\"63.81542699724517\" cy=\"150.31255711935665\" r=\"2.7388772368615153\" fill=\"#6cc5b0\"></circle><circle cx=\"160.1763085399449\" cy=\"220.44416011698044\" r=\"2.734503145706751\" fill=\"#3ca951\"></circle><circle cx=\"76.45592286501378\" cy=\"187.2381648693109\" r=\"2.724376411221797\" fill=\"#6cc5b0\"></circle><circle cx=\"136.72727272727275\" cy=\"280.83714129044046\" r=\"2.710808346777029\" fill=\"#efb118\"></circle><circle cx=\"140.39118457300276\" cy=\"297.1358069822702\" r=\"2.6929442014445093\" fill=\"#efb118\"></circle><circle cx=\"74.99035812672176\" cy=\"91.54267958325713\" r=\"2.681068033677235\" fill=\"#6cc5b0\"></circle><circle cx=\"160.9090909090909\" cy=\"169.18113690367392\" r=\"2.653557066671403\" fill=\"#efb118\"></circle><circle cx=\"115.65977961432506\" cy=\"139.96527143118266\" r=\"2.6351303938491446\" fill=\"#ff725c\"></circle><circle cx=\"172.45041322314046\" cy=\"302.27563516724547\" r=\"2.619803807679193\" fill=\"#4269d0\"></circle><circle cx=\"92.02754820936639\" cy=\"113.72509596051907\" r=\"2.603382076074343\" fill=\"#6cc5b0\"></circle><circle cx=\"144.42148760330576\" cy=\"226.39554012063607\" r=\"2.5999659863224904\" fill=\"#efb118\"></circle><circle cx=\"96.79063360881541\" cy=\"106.28587095594955\" r=\"2.5553333308007247\" fill=\"#ff725c\"></circle><circle cx=\"95.6914600550964\" cy=\"102.22811186254802\" r=\"2.496352553516736\" fill=\"#3ca951\"></circle><circle cx=\"128.66666666666666\" cy=\"149.23048802778283\" r=\"2.482572712770361\" fill=\"#3ca951\"></circle><circle cx=\"123.90358126721762\" cy=\"147.40449643575215\" r=\"2.461197720199377\" fill=\"#efb118\"></circle><circle cx=\"148.0853994490358\" cy=\"145.98428075306163\" r=\"2.4175688101296267\" fill=\"#efb118\"></circle><circle cx=\"101.73691460055096\" cy=\"140.6415646134162\" r=\"2.1735461479531417\" fill=\"#efb118\"></circle><circle cx=\"99.90495867768595\" cy=\"91.67793821970389\" r=\"2.150791552924686\" fill=\"#6cc5b0\"></circle><circle cx=\"109.24793388429751\" cy=\"169.11350758545058\" r=\"2.1217753958215377\" fill=\"#efb118\"></circle><circle cx=\"145.8870523415978\" cy=\"154.37031621275818\" r=\"2.1102029946043004\" fill=\"#efb118\"></circle></g><g transform=\"translate(149,0)\"><circle cx=\"87.81404958677686\" cy=\"163.1621275817949\" r=\"12.886717061393606\" fill=\"#ff725c\"></circle><circle cx=\"117.67493112947658\" cy=\"239.0422226284043\" r=\"10.986352909433458\" fill=\"#ff8ab7\"></circle><circle cx=\"54.83884297520661\" cy=\"96.07384390422226\" r=\"7.230947771323962\" fill=\"#efb118\"></circle><circle cx=\"114.74380165289256\" cy=\"202.99579601535368\" r=\"6.122356957678354\" fill=\"#ff725c\"></circle><circle cx=\"57.95316804407714\" cy=\"82.27746298665696\" r=\"5.815596559291829\" fill=\"#ff725c\"></circle><circle cx=\"103.38567493112947\" cy=\"183.65381100347287\" r=\"5.752084473298171\" fill=\"#efb118\"></circle><circle cx=\"49.52617079889807\" cy=\"103.24255163589837\" r=\"5.188812662654942\" fill=\"#6cc5b0\"></circle><circle cx=\"145.8870523415978\" cy=\"245.60226649607017\" r=\"5.110413372103695\" fill=\"#ff8ab7\"></circle><circle cx=\"147.1694214876033\" cy=\"188.7260098702248\" r=\"4.970410257070146\" fill=\"#ff8ab7\"></circle><circle cx=\"146.4366391184573\" cy=\"236.2017912630232\" r=\"4.853080204264316\" fill=\"#4269d0\"></circle><circle cx=\"128.48347107438016\" cy=\"153.69402303052465\" r=\"4.757057504768002\" fill=\"#efb118\"></circle><circle cx=\"55.57162534435262\" cy=\"95.73569731310548\" r=\"4.699498416089643\" fill=\"#6cc5b0\"></circle><circle cx=\"62.16666666666667\" cy=\"95.1946627673186\" r=\"4.671215435065505\" fill=\"#6cc5b0\"></circle><circle cx=\"58.13636363636364\" cy=\"91.9484554925973\" r=\"4.606331644602031\" fill=\"#6cc5b0\"></circle><circle cx=\"125.00275482093663\" cy=\"154.37031621275818\" r=\"4.343210054283045\" fill=\"#ff725c\"></circle><circle cx=\"115.29338842975207\" cy=\"177.1613964540303\" r=\"4.266770525747342\" fill=\"#6cc5b0\"></circle><circle cx=\"128.66666666666666\" cy=\"219.83549625297024\" r=\"4.240969678161457\" fill=\"#3ca951\"></circle><circle cx=\"84.88292011019283\" cy=\"143.4143666605739\" r=\"4.157196015199657\" fill=\"#ff725c\"></circle><circle cx=\"73.15840220385675\" cy=\"90.25772253701331\" r=\"4.152078846927729\" fill=\"#6cc5b0\"></circle><circle cx=\"64.18181818181817\" cy=\"106.8269055017364\" r=\"4.095343274197896\" fill=\"#6cc5b0\"></circle><circle cx=\"132.51377410468316\" cy=\"172.2244562237251\" r=\"4.062864023570464\" fill=\"#3ca951\"></circle><circle cx=\"82.86776859504131\" cy=\"127.85962346920124\" r=\"3.8306346086425425\" fill=\"#efb118\"></circle><circle cx=\"117.4917355371901\" cy=\"193.6629501005301\" r=\"3.8271790747951973\" fill=\"#4269d0\"></circle><circle cx=\"103.01928374655648\" cy=\"139.76238347651255\" r=\"3.741002342335374\" fill=\"#efb118\"></circle><circle cx=\"56.30440771349862\" cy=\"89.98720526411992\" r=\"3.731024878033102\" fill=\"#efb118\"></circle><circle cx=\"78.28787878787878\" cy=\"174.65911167976606\" r=\"3.471692828600955\" fill=\"#ff725c\"></circle><circle cx=\"127.01790633608813\" cy=\"159.1719978066167\" r=\"3.414169633028727\" fill=\"#efb118\"></circle><circle cx=\"61.98347107438016\" cy=\"97.56168890513615\" r=\"3.3410925234069966\" fill=\"#ff725c\"></circle><circle cx=\"53.0068870523416\" cy=\"82.88612685066713\" r=\"3.330286673891602\" fill=\"#6cc5b0\"></circle><circle cx=\"166.77134986225894\" cy=\"180.54286236519832\" r=\"3.3296994312784856\" fill=\"#4269d0\"></circle><circle cx=\"108.33195592286502\" cy=\"130.76768415280574\" r=\"3.3063362472405284\" fill=\"#efb118\"></circle><circle cx=\"160.5426997245179\" cy=\"266.3644671906416\" r=\"3.25480693273923\" fill=\"#ff8ab7\"></circle><circle cx=\"148.4517906336088\" cy=\"153.55876439407785\" r=\"3.226635212000299\" fill=\"#3ca951\"></circle><circle cx=\"80.6694214876033\" cy=\"140.5739352951928\" r=\"3.1738647157112254\" fill=\"#efb118\"></circle><circle cx=\"54.289256198347104\" cy=\"99.99634436117708\" r=\"3.124496259100213\" fill=\"#6cc5b0\"></circle><circle cx=\"74.62396694214875\" cy=\"93.23341253884111\" r=\"3.110057157110192\" fill=\"#efb118\"></circle><circle cx=\"72.79201101928373\" cy=\"119.1354414183879\" r=\"3.0917285084200947\" fill=\"#6cc5b0\"></circle><circle cx=\"67.1129476584022\" cy=\"83.22427344178399\" r=\"3.0679027899047417\" fill=\"#6cc5b0\"></circle><circle cx=\"157.42837465564736\" cy=\"157.61652348747944\" r=\"3.011353155059502\" fill=\"#3ca951\"></circle><circle cx=\"55.75482093663912\" cy=\"104.79802595503564\" r=\"2.9906114179316177\" fill=\"#6cc5b0\"></circle><circle cx=\"121.8884297520661\" cy=\"154.5055748492049\" r=\"2.9593186078816087\" fill=\"#efb118\"></circle><circle cx=\"52.09090909090909\" cy=\"80.85724730396632\" r=\"2.9060289432569073\" fill=\"#6cc5b0\"></circle><circle cx=\"128.48347107438016\" cy=\"225.0429537561689\" r=\"2.8149319204594976\" fill=\"#efb118\"></circle><circle cx=\"126.65151515151514\" cy=\"251.62127581794923\" r=\"2.814676328940697\" fill=\"#efb118\"></circle><circle cx=\"118.40771349862258\" cy=\"133.60811551818674\" r=\"2.8132357762031592\" fill=\"#efb118\"></circle><circle cx=\"68.76170798898072\" cy=\"136.58380552001466\" r=\"2.8023225188969367\" fill=\"#6cc5b0\"></circle><circle cx=\"53.19008264462809\" cy=\"99.8610857247304\" r=\"2.78114259560431\" fill=\"#6cc5b0\"></circle><circle cx=\"58.319559228650135\" cy=\"110.61414732224458\" r=\"2.7701271321159164\" fill=\"#6cc5b0\"></circle><circle cx=\"173\" cy=\"283.4746847011515\" r=\"2.7647544986092307\" fill=\"#4269d0\"></circle><circle cx=\"71.87603305785125\" cy=\"90.12246390056661\" r=\"2.7592701675745452\" fill=\"#ff725c\"></circle><circle cx=\"126.46831955922863\" cy=\"165.7996709925059\" r=\"2.726630962650751\" fill=\"#efb118\"></circle><circle cx=\"58.68595041322314\" cy=\"79.91043684883928\" r=\"2.7204299011824076\" fill=\"#6cc5b0\"></circle><circle cx=\"92.76033057851238\" cy=\"98.3056114055931\" r=\"2.662420889200214\" fill=\"#3ca951\"></circle><circle cx=\"84.15013774104682\" cy=\"102.76914640833488\" r=\"2.639524666166915\" fill=\"#6cc5b0\"></circle><circle cx=\"65.8305785123967\" cy=\"98.37324072381648\" r=\"2.6331653789483678\" fill=\"#ff725c\"></circle><circle cx=\"105.95041322314049\" cy=\"168.36958508499362\" r=\"2.590419832048626\" fill=\"#3ca951\"></circle><circle cx=\"92.02754820936639\" cy=\"103.71595686346191\" r=\"2.5229839255005446\" fill=\"#efb118\"></circle><circle cx=\"104.85123966942149\" cy=\"107.57082800219337\" r=\"2.5093396336475853\" fill=\"#efb118\"></circle><circle cx=\"66.19696969696969\" cy=\"112.30488027782857\" r=\"2.1788893109502454\" fill=\"#efb118\"></circle><circle cx=\"70.77685950413223\" cy=\"76.19082434655454\" r=\"2.168056288638547\" fill=\"#6cc5b0\"></circle><circle cx=\"82.1349862258953\" cy=\"126.64229574118082\" r=\"2.1616979560423446\" fill=\"#efb118\"></circle><circle cx=\"96.05785123966942\" cy=\"121.16432096508865\" r=\"2.112179043860483\" fill=\"#efb118\"></circle></g><g transform=\"translate(297,0)\"><circle cx=\"68.39531680440771\" cy=\"127.45384755986107\" r=\"14.22373857346658\" fill=\"#ff725c\"></circle><circle cx=\"96.6074380165289\" cy=\"185.00639736794005\" r=\"12.617670934501865\" fill=\"#ff8ab7\"></circle><circle cx=\"60.33471074380165\" cy=\"75.85267775543775\" r=\"7.668340750058937\" fill=\"#efb118\"></circle><circle cx=\"79.20385674931129\" cy=\"154.77609212209836\" r=\"6.857168447551015\" fill=\"#ff725c\"></circle><circle cx=\"75.72314049586777\" cy=\"132.8641930177298\" r=\"6.417969574906365\" fill=\"#efb118\"></circle><circle cx=\"50.44214876033058\" cy=\"50.89745933101814\" r=\"6.002373758574381\" fill=\"#ff725c\"></circle><circle cx=\"138.92561983471072\" cy=\"175.0648875891062\" r=\"5.866216614982312\" fill=\"#ff8ab7\"></circle><circle cx=\"104.48484848484848\" cy=\"194.40687260098704\" r=\"5.725187472313609\" fill=\"#ff8ab7\"></circle><circle cx=\"140.75757575757575\" cy=\"218.07713397916285\" r=\"5.511622297174032\" fill=\"#4269d0\"></circle><circle cx=\"85.61570247933884\" cy=\"108.7881557302139\" r=\"5.253285090146202\" fill=\"#efb118\"></circle><circle cx=\"48.79338842975206\" cy=\"76.25845366477793\" r=\"5.2061625201657975\" fill=\"#6cc5b0\"></circle><circle cx=\"102.10330578512395\" cy=\"125.2897093767136\" r=\"4.823593834341122\" fill=\"#ff725c\"></circle><circle cx=\"104.48484848484848\" cy=\"155.655273259002\" r=\"4.722139349170403\" fill=\"#3ca951\"></circle><circle cx=\"55.938016528925615\" cy=\"74.97349661853411\" r=\"4.722039719685583\" fill=\"#6cc5b0\"></circle><circle cx=\"46.77823691460055\" cy=\"66.11405593127402\" r=\"4.711220520686165\" fill=\"#6cc5b0\"></circle><circle cx=\"55.02203856749311\" cy=\"65.77590934015726\" r=\"4.702999765179988\" fill=\"#6cc5b0\"></circle><circle cx=\"111.44628099173553\" cy=\"136.98958142935473\" r=\"4.688122844655452\" fill=\"#3ca951\"></circle><circle cx=\"79.7534435261708\" cy=\"122.99031255711937\" r=\"4.652486880021489\" fill=\"#6cc5b0\"></circle><circle cx=\"51.72451790633609\" cy=\"100.13160299762387\" r=\"4.390422953555968\" fill=\"#ff725c\"></circle><circle cx=\"90.56198347107437\" cy=\"153.89691098519464\" r=\"4.272590304768652\" fill=\"#4269d0\"></circle><circle cx=\"47.32782369146006\" cy=\"67.46664229574124\" r=\"4.24427028016169\" fill=\"#6cc5b0\"></circle><circle cx=\"59.96831955922865\" cy=\"107.23268141107658\" r=\"4.220319502388155\" fill=\"#6cc5b0\"></circle><circle cx=\"77.92148760330578\" cy=\"97.83220617802962\" r=\"4.055967728774053\" fill=\"#efb118\"></circle><circle cx=\"78.8374655647383\" cy=\"104.73039663681226\" r=\"4.054825209020841\" fill=\"#efb118\"></circle><circle cx=\"55.57162534435262\" cy=\"64.28806433924322\" r=\"3.8926091834944554\" fill=\"#efb118\"></circle><circle cx=\"134.71212121212122\" cy=\"167.82855053920676\" r=\"3.7319978839560273\" fill=\"#4269d0\"></circle><circle cx=\"94.0426997245179\" cy=\"119.67647596417476\" r=\"3.692163522057593\" fill=\"#efb118\"></circle><circle cx=\"65.46418732782368\" cy=\"128.26539937854142\" r=\"3.6412830869056343\" fill=\"#ff725c\"></circle><circle cx=\"85.61570247933884\" cy=\"98.0350941326997\" r=\"3.599361813027129\" fill=\"#efb118\"></circle><circle cx=\"130.13223140495867\" cy=\"134.82544324620727\" r=\"3.5122801372685775\" fill=\"#3ca951\"></circle><circle cx=\"57.22038567493112\" cy=\"67.19612502284775\" r=\"3.48591361868872\" fill=\"#ff725c\"></circle><circle cx=\"129.21625344352617\" cy=\"127.52147687808446\" r=\"3.439731246583318\" fill=\"#3ca951\"></circle><circle cx=\"51.90771349862259\" cy=\"66.11405593127402\" r=\"3.3912276442526843\" fill=\"#6cc5b0\"></circle><circle cx=\"69.67768595041322\" cy=\"91.33979162858704\" r=\"3.314562990885675\" fill=\"#efb118\"></circle><circle cx=\"161.0922865013774\" cy=\"223.89325534637175\" r=\"3.1769094743661075\" fill=\"#ff8ab7\"></circle><circle cx=\"55.388429752066116\" cy=\"80.65435934929623\" r=\"3.173155572919341\" fill=\"#efb118\"></circle><circle cx=\"90.92837465564739\" cy=\"101.3489307256443\" r=\"3.163353135398776\" fill=\"#efb118\"></circle><circle cx=\"49.70936639118457\" cy=\"65.64065070371043\" r=\"3.1551089641608963\" fill=\"#6cc5b0\"></circle><circle cx=\"50.99173553719008\" cy=\"85.59129957960154\" r=\"3.138456036834203\" fill=\"#6cc5b0\"></circle><circle cx=\"52.09090909090909\" cy=\"72.94461707183328\" r=\"3.1357346679692997\" fill=\"#6cc5b0\"></circle><circle cx=\"49.15977961432506\" cy=\"74.16194479985379\" r=\"2.99724410294439\" fill=\"#6cc5b0\"></circle><circle cx=\"148.26859504132233\" cy=\"249.72765490769515\" r=\"2.9736687237797366\" fill=\"#4269d0\"></circle><circle cx=\"84.88292011019283\" cy=\"101.21367208919759\" r=\"2.960884605970503\" fill=\"#efb118\"></circle><circle cx=\"111.99586776859502\" cy=\"170.7366112228112\" r=\"2.9586709039172594\" fill=\"#efb118\"></circle><circle cx=\"122.80440771349862\" cy=\"218.8886857978432\" r=\"2.94705908452079\" fill=\"#efb118\"></circle><circle cx=\"51.358126721763085\" cy=\"60.838969109851945\" r=\"2.93233684651443\" fill=\"#6cc5b0\"></circle><circle cx=\"46.045454545454554\" cy=\"64.01754706634983\" r=\"2.869581318391291\" fill=\"#ff725c\"></circle><circle cx=\"64.73140495867769\" cy=\"124.47815755803327\" r=\"2.835635898471948\" fill=\"#6cc5b0\"></circle><circle cx=\"94.77548209366392\" cy=\"115.88923414366663\" r=\"2.8337384803117596\" fill=\"#efb118\"></circle><circle cx=\"55.02203856749311\" cy=\"77.81392798391514\" r=\"2.803630993654735\" fill=\"#6cc5b0\"></circle><circle cx=\"52.27410468319559\" cy=\"97.89983549625302\" r=\"2.794486486772924\" fill=\"#6cc5b0\"></circle><circle cx=\"80.6694214876033\" cy=\"65.09961615792356\" r=\"2.7887231409238176\" fill=\"#3ca951\"></circle><circle cx=\"57.76997245179063\" cy=\"68.14293547797479\" r=\"2.741179680757452\" fill=\"#6cc5b0\"></circle><circle cx=\"82.86776859504131\" cy=\"115.07768232498628\" r=\"2.682225135673036\" fill=\"#3ca951\"></circle><circle cx=\"61.06749311294765\" cy=\"80.85724730396632\" r=\"2.671864199402241\" fill=\"#6cc5b0\"></circle><circle cx=\"62.16666666666667\" cy=\"77.00237616523488\" r=\"2.6633297027728\" fill=\"#ff725c\"></circle><circle cx=\"81.2190082644628\" cy=\"67.60190093218793\" r=\"2.6395584852089597\" fill=\"#efb118\"></circle><circle cx=\"74.62396694214875\" cy=\"78.55785048437221\" r=\"2.556596047002331\" fill=\"#efb118\"></circle><circle cx=\"68.76170798898072\" cy=\"108.7205264119905\" r=\"2.1872337295629873\" fill=\"#efb118\"></circle><circle cx=\"54.289256198347104\" cy=\"88.43173094498263\" r=\"2.1831032237931134\" fill=\"#efb118\"></circle><circle cx=\"64.36501377410468\" cy=\"59.689270700054834\" r=\"2.1817368832674675\" fill=\"#6cc5b0\"></circle><circle cx=\"86.34848484848484\" cy=\"119.87936391884483\" r=\"2.113260237893163\" fill=\"#efb118\"></circle></g><g transform=\"translate(445,0)\"><circle cx=\"52.09090909090909\" cy=\"94.38311094863823\" r=\"15\" fill=\"#ff725c\"></circle><circle cx=\"76.63911845730027\" cy=\"145.71376348016815\" r=\"14.228687976620492\" fill=\"#ff8ab7\"></circle><circle cx=\"60.151515151515156\" cy=\"62.259184792542456\" r=\"8.200403763251163\" fill=\"#efb118\"></circle><circle cx=\"66.92975206611571\" cy=\"126.30414915006395\" r=\"7.443643784758903\" fill=\"#ff725c\"></circle><circle cx=\"58.50275482093663\" cy=\"95.53280935843539\" r=\"6.918607224636279\" fill=\"#efb118\"></circle><circle cx=\"107.41597796143249\" cy=\"175.0648875891062\" r=\"6.752206489073828\" fill=\"#ff8ab7\"></circle><circle cx=\"73.89118457300276\" cy=\"131.84975324437946\" r=\"6.2720045368964605\" fill=\"#ff8ab7\"></circle><circle cx=\"133.6129476584022\" cy=\"204.9570462438311\" r=\"6.265604920941571\" fill=\"#4269d0\"></circle><circle cx=\"45.67906336088154\" cy=\"30\" r=\"6.068360873896224\" fill=\"#ff725c\"></circle><circle cx=\"68.21212121212122\" cy=\"80.65435934929623\" r=\"5.695425505019047\" fill=\"#efb118\"></circle><circle cx=\"86.34848484848484\" cy=\"112.44013891427527\" r=\"5.342448159004929\" fill=\"#ff725c\"></circle><circle cx=\"46.96143250688705\" cy=\"49.34198501188081\" r=\"5.243152411240404\" fill=\"#6cc5b0\"></circle><circle cx=\"80.11983471074379\" cy=\"122.78742460244925\" r=\"5.200201011379753\" fill=\"#3ca951\"></circle><circle cx=\"55.02203856749311\" cy=\"90.52823980990678\" r=\"5.014890300431318\" fill=\"#3ca951\"></circle><circle cx=\"63.082644628099175\" cy=\"68.48108206909157\" r=\"4.982978188093479\" fill=\"#6cc5b0\"></circle><circle cx=\"57.58677685950413\" cy=\"43.12008773533174\" r=\"4.799436794798276\" fill=\"#6cc5b0\"></circle><circle cx=\"54.65564738292011\" cy=\"51.438493876805\" r=\"4.7965128187203625\" fill=\"#6cc5b0\"></circle><circle cx=\"46.96143250688705\" cy=\"40.21202705172733\" r=\"4.745477167065311\" fill=\"#6cc5b0\"></circle><circle cx=\"68.39531680440771\" cy=\"235.59312739901299\" r=\"4.519595485392016\" fill=\"#4269d0\"></circle><circle cx=\"42.56473829201102\" cy=\"55.158106379089745\" r=\"4.4904469146257115\" fill=\"#ff725c\"></circle><circle cx=\"46.77823691460055\" cy=\"42.984829098885044\" r=\"4.378618737076239\" fill=\"#6cc5b0\"></circle><circle cx=\"63.81542699724517\" cy=\"70.44233229756904\" r=\"4.338410517138319\" fill=\"#efb118\"></circle><circle cx=\"66.92975206611571\" cy=\"78.82836775726555\" r=\"4.249475651307272\" fill=\"#efb118\"></circle><circle cx=\"45.12947658402204\" cy=\"79.43703162127585\" r=\"4.235192348394033\" fill=\"#6cc5b0\"></circle><circle cx=\"109.98071625344352\" cy=\"205.76859806251142\" r=\"4.154562234787136\" fill=\"#4269d0\"></circle><circle cx=\"50.62534435261708\" cy=\"43.99926887223538\" r=\"4.042641017951464\" fill=\"#efb118\"></circle><circle cx=\"104.48484848484848\" cy=\"130.22664960701877\" r=\"3.927914624212578\" fill=\"#3ca951\"></circle><circle cx=\"71.69283746556474\" cy=\"66.11405593127402\" r=\"3.9093032989193834\" fill=\"#efb118\"></circle><circle cx=\"70.59366391184572\" cy=\"80.65435934929623\" r=\"3.858482267305002\" fill=\"#efb118\"></circle><circle cx=\"149.0013774104683\" cy=\"198.19411442149516\" r=\"3.7780799751498146\" fill=\"#ff8ab7\"></circle><circle cx=\"81.76859504132231\" cy=\"106.69164686528971\" r=\"3.777586533592342\" fill=\"#3ca951\"></circle><circle cx=\"58.319559228650135\" cy=\"114.46901846097603\" r=\"3.766746240043733\" fill=\"#ff725c\"></circle><circle cx=\"56.12121212121212\" cy=\"38.52129409614335\" r=\"3.616323884409033\" fill=\"#ff725c\"></circle><circle cx=\"53.739669421487605\" cy=\"49.4096143301042\" r=\"3.4512476457923125\" fill=\"#6cc5b0\"></circle><circle cx=\"55.388429752066116\" cy=\"61.17711570096873\" r=\"3.4473818633014828\" fill=\"#efb118\"></circle><circle cx=\"73.70798898071625\" cy=\"90.12246390056661\" r=\"3.3354387255468634\" fill=\"#efb118\"></circle><circle cx=\"49.34297520661157\" cy=\"62.59733138365924\" r=\"3.2068632068493184\" fill=\"#efb118\"></circle><circle cx=\"47.14462809917356\" cy=\"50.76220069457132\" r=\"3.1997236425561506\" fill=\"#6cc5b0\"></circle><circle cx=\"48.24380165289256\" cy=\"55.360994333759834\" r=\"3.167436027938364\" fill=\"#6cc5b0\"></circle><circle cx=\"54.65564738292011\" cy=\"51.506123195028394\" r=\"3.1670844677980896\" fill=\"#6cc5b0\"></circle><circle cx=\"87.63085399449035\" cy=\"121.50246755620543\" r=\"3.1020409930821735\" fill=\"#efb118\"></circle><circle cx=\"70.22727272727272\" cy=\"97.22354231401937\" r=\"3.0894756906597203\" fill=\"#efb118\"></circle><circle cx=\"92.5771349862259\" cy=\"188.59075123377812\" r=\"3.0863287639186776\" fill=\"#efb118\"></circle><circle cx=\"122.07162534435261\" cy=\"194.20398464631697\" r=\"3.0812140096340173\" fill=\"#4269d0\"></circle><circle cx=\"48.24380165289256\" cy=\"48.59806251142386\" r=\"3.032234695773145\" fill=\"#6cc5b0\"></circle><circle cx=\"48.42699724517906\" cy=\"35.47797477609212\" r=\"2.980856490723534\" fill=\"#6cc5b0\"></circle><circle cx=\"40\" cy=\"34.936940230305254\" r=\"2.947848025261451\" fill=\"#ff725c\"></circle><circle cx=\"74.44077134986225\" cy=\"45.0813379638092\" r=\"2.9325056791529596\" fill=\"#3ca951\"></circle><circle cx=\"67.47933884297521\" cy=\"90.3253518552367\" r=\"2.884294206015702\" fill=\"#efb118\"></circle><circle cx=\"55.388429752066116\" cy=\"51.506123195028394\" r=\"2.8242783414168624\" fill=\"#6cc5b0\"></circle><circle cx=\"62.71625344352617\" cy=\"77.74629866569182\" r=\"2.775457866919245\" fill=\"#3ca951\"></circle><circle cx=\"56.12121212121212\" cy=\"44.405044781575555\" r=\"2.773839891586409\" fill=\"#6cc5b0\"></circle><circle cx=\"49.89256198347108\" cy=\"76.86711752878819\" r=\"2.7574309244132706\" fill=\"#6cc5b0\"></circle><circle cx=\"59.78512396694215\" cy=\"50.69457137634805\" r=\"2.747638812837208\" fill=\"#efb118\"></circle><circle cx=\"58.319559228650135\" cy=\"48.25991592030708\" r=\"2.73160725354909\" fill=\"#ff725c\"></circle><circle cx=\"56.67079889807163\" cy=\"52.99396819594229\" r=\"2.730582886974044\" fill=\"#6cc5b0\"></circle><circle cx=\"51.90771349862259\" cy=\"107.43556936574672\" r=\"2.7162575370484072\" fill=\"#6cc5b0\"></circle><circle cx=\"60.151515151515156\" cy=\"64.35569365746662\" r=\"2.5888028168078163\" fill=\"#efb118\"></circle><circle cx=\"59.96831955922865\" cy=\"93.03052458417102\" r=\"2.2122384634203254\" fill=\"#efb118\"></circle><circle cx=\"59.96831955922865\" cy=\"36.01900932187898\" r=\"2.196135511824112\" fill=\"#6cc5b0\"></circle><circle cx=\"55.20523415977962\" cy=\"79.09888503015907\" r=\"2.1868175440651814\" fill=\"#efb118\"></circle><circle cx=\"65.28099173553719\" cy=\"98.44087004203988\" r=\"2.1194961694501853\" fill=\"#efb118\"></circle></g></g></svg></figure>"
      ],
      "text/plain": [
       "<IPython.core.display.HTML object>"
      ]
     },
     "metadata": {},
     "output_type": "display_data"
    }
   ],
   "source": [
    "Plot.plot(\n",
    "    {\n",
    "        \"title\": \"Fertility vs Life Expectancy\",\n",
    "        \"x\": {\"label\": \"fertility\"},\n",
    "        \"y\": {\"label\": \"Life Expectancy\"},\n",
    "        \"color\": {\"legend\": True, \"type\": \"categorical\"},\n",
    "        \"r\": {\"range\": [2, 15]},\n",
    "        \"marks\": [\n",
    "            Plot.dot(\n",
    "                facet_df,\n",
    "                {\n",
    "                    \"x\": \"fertility\",\n",
    "                    \"y\": \"life_expect\",\n",
    "                    \"fx\": \"year\",\n",
    "                    \"fill\": \"region\",\n",
    "                    \"r\": \"pop\",\n",
    "                },\n",
    "            )\n",
    "        ],\n",
    "    }\n",
    ")"
   ]
  },
  {
   "cell_type": "markdown",
   "id": "50e60db3-6d4a-46a3-bf08-292c211174f5",
   "metadata": {
    "id": "50e60db3-6d4a-46a3-bf08-292c211174f5"
   },
   "source": [
    "In this example, when we used `fx: \"year\"`, the plot automatically generates individual subplots for each unique year, with each subplot displaying only the data points relevant to that specific year. The plot  ensures the x-axis is band-scaled to fit all subplots side by side, while the y-axis is shared across all subplots for consistent comparison. Additionally, each subplot is labeled with its corresponding year, enhancing clarity and making it easy to interpret the data across different time periods.\n",
    "\n",
    "The initial charts are challenging to read due to the subplots being too close to each other and lacking boundaries. Let's define the `height` and `width` to the plot and `frame` with `grid` lines which can make the chart clearer and easier to interpret,improving overall readability."
   ]
  },
  {
   "cell_type": "code",
   "execution_count": 28,
   "id": "fcca53f4-a32b-48ba-8019-06364c787c8d",
   "metadata": {
    "colab": {
     "base_uri": "https://localhost:8080/",
     "height": 355
    },
    "id": "fcca53f4-a32b-48ba-8019-06364c787c8d",
    "outputId": "0d9d3309-4153-461a-a564-f610e77d872a"
   },
   "outputs": [
    {
     "data": {
      "text/html": [
       "<figure class=\"plot-d6a7b5-figure\" style=\"max-width: initial; padding: 0px 5px 5px 5px; color: rgb(0, 0, 0); background-color: rgb(255, 255, 255);\" typstbg=\"#FFFFFF\" typstfg=\"#000000\" typstcaption=\"#777777\"><h2 style=\"line-height: 28px; font-size: 20px; font-weight: 600; margin: 0px;\">Fertility vs Life Expectancy</h2><div class=\"plot-d6a7b5-swatches plot-d6a7b5-swatches-wrap\"><style>:where(.plot-d6a7b5-swatches) {\n",
       "  font-family: system-ui, sans-serif;\n",
       "  font-size: 10px;\n",
       "  margin-bottom: 0.5em;\n",
       "}\n",
       ":where(.plot-d6a7b5-swatch > svg) {\n",
       "  margin-right: 0.5em;\n",
       "  overflow: visible;\n",
       "}\n",
       ":where(.plot-d6a7b5-swatches-wrap) {\n",
       "  display: flex;\n",
       "  align-items: center;\n",
       "  min-height: 33px;\n",
       "  flex-wrap: wrap;\n",
       "}\n",
       ":where(.plot-d6a7b5-swatches-wrap .plot-d6a7b5-swatch) {\n",
       "  display: inline-flex;\n",
       "  align-items: center;\n",
       "  margin-right: 1em;\n",
       "}</style><span class=\"plot-d6a7b5-swatch\"><svg width=\"15\" height=\"15\" fill=\"#4269d0\" xmlns=\"http://www.w3.org/2000/svg\" xmlns:xlink=\"http://www.w3.org/1999/xlink\" style=\"color: rgb(0, 0, 0); background-color: rgb(255, 255, 255);\"><rect width=\"100%\" height=\"100%\"></rect></svg>Africa</span><span class=\"plot-d6a7b5-swatch\"><svg width=\"15\" height=\"15\" fill=\"#efb118\" xmlns=\"http://www.w3.org/2000/svg\" xmlns:xlink=\"http://www.w3.org/1999/xlink\" style=\"color: rgb(0, 0, 0); background-color: rgb(255, 255, 255);\"><rect width=\"100%\" height=\"100%\"></rect></svg>Americas</span><span class=\"plot-d6a7b5-swatch\"><svg width=\"15\" height=\"15\" fill=\"#ff725c\" xmlns=\"http://www.w3.org/2000/svg\" xmlns:xlink=\"http://www.w3.org/1999/xlink\" style=\"color: rgb(0, 0, 0); background-color: rgb(255, 255, 255);\"><rect width=\"100%\" height=\"100%\"></rect></svg>E. Asia &amp; Pacific</span><span class=\"plot-d6a7b5-swatch\"><svg width=\"15\" height=\"15\" fill=\"#6cc5b0\" xmlns=\"http://www.w3.org/2000/svg\" xmlns:xlink=\"http://www.w3.org/1999/xlink\" style=\"color: rgb(0, 0, 0); background-color: rgb(255, 255, 255);\"><rect width=\"100%\" height=\"100%\"></rect></svg>Europe</span><span class=\"plot-d6a7b5-swatch\"><svg width=\"15\" height=\"15\" fill=\"#3ca951\" xmlns=\"http://www.w3.org/2000/svg\" xmlns:xlink=\"http://www.w3.org/1999/xlink\" style=\"color: rgb(0, 0, 0); background-color: rgb(255, 255, 255);\"><rect width=\"100%\" height=\"100%\"></rect></svg>Mid. East</span><span class=\"plot-d6a7b5-swatch\"><svg width=\"15\" height=\"15\" fill=\"#ff8ab7\" xmlns=\"http://www.w3.org/2000/svg\" xmlns:xlink=\"http://www.w3.org/1999/xlink\" style=\"color: rgb(0, 0, 0); background-color: rgb(255, 255, 255);\"><rect width=\"100%\" height=\"100%\"></rect></svg>S. Asia</span></div><svg class=\"plot-d6a7b5\" fill=\"currentColor\" font-family=\"system-ui, sans-serif\" font-size=\"10\" text-anchor=\"middle\" width=\"1000\" height=\"250\" viewBox=\"0 0 1000 250\" xmlns=\"http://www.w3.org/2000/svg\" xmlns:xlink=\"http://www.w3.org/1999/xlink\" style=\"color: rgb(0, 0, 0); background-color: rgb(255, 255, 255);\"><style>:where(.plot-d6a7b5) {\n",
       "  --plot-background: white;\n",
       "  display: block;\n",
       "  height: auto;\n",
       "  height: intrinsic;\n",
       "  max-width: 100%;\n",
       "}\n",
       ":where(.plot-d6a7b5 text),\n",
       ":where(.plot-d6a7b5 tspan) {\n",
       "  white-space: pre;\n",
       "}</style><g aria-label=\"fx-axis tick label\" transform=\"translate(0,-9)\"><g transform=\"translate(0,0)\"><text transform=\"translate(148.5,30)\">1960</text></g><g transform=\"translate(241,0)\"><text transform=\"translate(148.5,30)\">1975</text></g><g transform=\"translate(482,0)\"><text transform=\"translate(148.5,30)\">1990</text></g><g transform=\"translate(723,0)\"><text transform=\"translate(148.5,30)\">2005</text></g></g><g aria-label=\"fx-axis label\" transform=\"translate(0,-27)\"><text y=\"0.71em\" transform=\"translate(510,30)\">year</text></g><g aria-label=\"y-grid\" aria-hidden=\"true\"><g stroke=\"currentColor\" stroke-opacity=\"0.1\" transform=\"translate(0,0)\"><line x1=\"40\" x2=\"257\" y1=\"212.32498629135443\" y2=\"212.32498629135443\"></line><line x1=\"40\" x2=\"257\" y1=\"177.59641747395355\" y2=\"177.59641747395355\"></line><line x1=\"40\" x2=\"257\" y1=\"142.86784865655275\" y2=\"142.86784865655275\"></line><line x1=\"40\" x2=\"257\" y1=\"108.1392798391519\" y2=\"108.1392798391519\"></line><line x1=\"40\" x2=\"257\" y1=\"73.41071102175106\" y2=\"73.41071102175106\"></line><line x1=\"40\" x2=\"257\" y1=\"38.68214220435021\" y2=\"38.68214220435021\"></line></g><g stroke=\"currentColor\" stroke-opacity=\"0.1\" transform=\"translate(241,0)\"><line x1=\"40\" x2=\"257\" y1=\"212.32498629135443\" y2=\"212.32498629135443\"></line><line x1=\"40\" x2=\"257\" y1=\"177.59641747395355\" y2=\"177.59641747395355\"></line><line x1=\"40\" x2=\"257\" y1=\"142.86784865655275\" y2=\"142.86784865655275\"></line><line x1=\"40\" x2=\"257\" y1=\"108.1392798391519\" y2=\"108.1392798391519\"></line><line x1=\"40\" x2=\"257\" y1=\"73.41071102175106\" y2=\"73.41071102175106\"></line><line x1=\"40\" x2=\"257\" y1=\"38.68214220435021\" y2=\"38.68214220435021\"></line></g><g stroke=\"currentColor\" stroke-opacity=\"0.1\" transform=\"translate(482,0)\"><line x1=\"40\" x2=\"257\" y1=\"212.32498629135443\" y2=\"212.32498629135443\"></line><line x1=\"40\" x2=\"257\" y1=\"177.59641747395355\" y2=\"177.59641747395355\"></line><line x1=\"40\" x2=\"257\" y1=\"142.86784865655275\" y2=\"142.86784865655275\"></line><line x1=\"40\" x2=\"257\" y1=\"108.1392798391519\" y2=\"108.1392798391519\"></line><line x1=\"40\" x2=\"257\" y1=\"73.41071102175106\" y2=\"73.41071102175106\"></line><line x1=\"40\" x2=\"257\" y1=\"38.68214220435021\" y2=\"38.68214220435021\"></line></g><g stroke=\"currentColor\" stroke-opacity=\"0.1\" transform=\"translate(723,0)\"><line x1=\"40\" x2=\"257\" y1=\"212.32498629135443\" y2=\"212.32498629135443\"></line><line x1=\"40\" x2=\"257\" y1=\"177.59641747395355\" y2=\"177.59641747395355\"></line><line x1=\"40\" x2=\"257\" y1=\"142.86784865655275\" y2=\"142.86784865655275\"></line><line x1=\"40\" x2=\"257\" y1=\"108.1392798391519\" y2=\"108.1392798391519\"></line><line x1=\"40\" x2=\"257\" y1=\"73.41071102175106\" y2=\"73.41071102175106\"></line><line x1=\"40\" x2=\"257\" y1=\"38.68214220435021\" y2=\"38.68214220435021\"></line></g></g><g aria-label=\"y-axis tick\" aria-hidden=\"true\"><g fill=\"none\" stroke=\"currentColor\" transform=\"translate(0,0)\"><path transform=\"translate(40,212.32498629135443)\" d=\"M0,0L-6,0\"></path><path transform=\"translate(40,177.59641747395355)\" d=\"M0,0L-6,0\"></path><path transform=\"translate(40,142.86784865655275)\" d=\"M0,0L-6,0\"></path><path transform=\"translate(40,108.1392798391519)\" d=\"M0,0L-6,0\"></path><path transform=\"translate(40,73.41071102175106)\" d=\"M0,0L-6,0\"></path><path transform=\"translate(40,38.68214220435021)\" d=\"M0,0L-6,0\"></path></g></g><g aria-label=\"y-axis tick label\" transform=\"translate(-9,0)\"><g text-anchor=\"end\" font-variant=\"tabular-nums\" transform=\"translate(0,0)\"><text y=\"0.32em\" transform=\"translate(40,212.32498629135443)\">30</text><text y=\"0.32em\" transform=\"translate(40,177.59641747395355)\">40</text><text y=\"0.32em\" transform=\"translate(40,142.86784865655275)\">50</text><text y=\"0.32em\" transform=\"translate(40,108.1392798391519)\">60</text><text y=\"0.32em\" transform=\"translate(40,73.41071102175106)\">70</text><text y=\"0.32em\" transform=\"translate(40,38.68214220435021)\">80</text></g></g><g aria-label=\"y-axis label\" text-anchor=\"start\" transform=\"translate(-37,-27)\"><text y=\"0.71em\" transform=\"translate(40,30)\">↑ Life Expectancy</text></g><g aria-label=\"x-grid\" aria-hidden=\"true\"><g stroke=\"currentColor\" stroke-opacity=\"0.1\" transform=\"translate(0,0)\"><line x1=\"71.08539944903582\" x2=\"71.08539944903582\" y1=\"30\" y2=\"220\"></line><line x1=\"130.86501377410468\" x2=\"130.86501377410468\" y1=\"30\" y2=\"220\"></line><line x1=\"190.64462809917353\" x2=\"190.64462809917353\" y1=\"30\" y2=\"220\"></line><line x1=\"250.4242424242424\" x2=\"250.4242424242424\" y1=\"30\" y2=\"220\"></line></g><g stroke=\"currentColor\" stroke-opacity=\"0.1\" transform=\"translate(241,0)\"><line x1=\"71.08539944903582\" x2=\"71.08539944903582\" y1=\"30\" y2=\"220\"></line><line x1=\"130.86501377410468\" x2=\"130.86501377410468\" y1=\"30\" y2=\"220\"></line><line x1=\"190.64462809917353\" x2=\"190.64462809917353\" y1=\"30\" y2=\"220\"></line><line x1=\"250.4242424242424\" x2=\"250.4242424242424\" y1=\"30\" y2=\"220\"></line></g><g stroke=\"currentColor\" stroke-opacity=\"0.1\" transform=\"translate(482,0)\"><line x1=\"71.08539944903582\" x2=\"71.08539944903582\" y1=\"30\" y2=\"220\"></line><line x1=\"130.86501377410468\" x2=\"130.86501377410468\" y1=\"30\" y2=\"220\"></line><line x1=\"190.64462809917353\" x2=\"190.64462809917353\" y1=\"30\" y2=\"220\"></line><line x1=\"250.4242424242424\" x2=\"250.4242424242424\" y1=\"30\" y2=\"220\"></line></g><g stroke=\"currentColor\" stroke-opacity=\"0.1\" transform=\"translate(723,0)\"><line x1=\"71.08539944903582\" x2=\"71.08539944903582\" y1=\"30\" y2=\"220\"></line><line x1=\"130.86501377410468\" x2=\"130.86501377410468\" y1=\"30\" y2=\"220\"></line><line x1=\"190.64462809917353\" x2=\"190.64462809917353\" y1=\"30\" y2=\"220\"></line><line x1=\"250.4242424242424\" x2=\"250.4242424242424\" y1=\"30\" y2=\"220\"></line></g></g><g aria-label=\"x-axis tick\" aria-hidden=\"true\"><g fill=\"none\" stroke=\"currentColor\" transform=\"translate(0,0)\"><path transform=\"translate(71.08539944903582,220)\" d=\"M0,0L0,6\"></path><path transform=\"translate(130.86501377410468,220)\" d=\"M0,0L0,6\"></path><path transform=\"translate(190.64462809917353,220)\" d=\"M0,0L0,6\"></path><path transform=\"translate(250.4242424242424,220)\" d=\"M0,0L0,6\"></path></g><g fill=\"none\" stroke=\"currentColor\" transform=\"translate(241,0)\"><path transform=\"translate(71.08539944903582,220)\" d=\"M0,0L0,6\"></path><path transform=\"translate(130.86501377410468,220)\" d=\"M0,0L0,6\"></path><path transform=\"translate(190.64462809917353,220)\" d=\"M0,0L0,6\"></path><path transform=\"translate(250.4242424242424,220)\" d=\"M0,0L0,6\"></path></g><g fill=\"none\" stroke=\"currentColor\" transform=\"translate(482,0)\"><path transform=\"translate(71.08539944903582,220)\" d=\"M0,0L0,6\"></path><path transform=\"translate(130.86501377410468,220)\" d=\"M0,0L0,6\"></path><path transform=\"translate(190.64462809917353,220)\" d=\"M0,0L0,6\"></path><path transform=\"translate(250.4242424242424,220)\" d=\"M0,0L0,6\"></path></g><g fill=\"none\" stroke=\"currentColor\" transform=\"translate(723,0)\"><path transform=\"translate(71.08539944903582,220)\" d=\"M0,0L0,6\"></path><path transform=\"translate(130.86501377410468,220)\" d=\"M0,0L0,6\"></path><path transform=\"translate(190.64462809917353,220)\" d=\"M0,0L0,6\"></path><path transform=\"translate(250.4242424242424,220)\" d=\"M0,0L0,6\"></path></g></g><g aria-label=\"x-axis tick label\" transform=\"translate(0,9)\"><g font-variant=\"tabular-nums\" transform=\"translate(0,0)\"><text y=\"0.71em\" transform=\"translate(71.08539944903582,220)\">2</text><text y=\"0.71em\" transform=\"translate(130.86501377410468,220)\">4</text><text y=\"0.71em\" transform=\"translate(190.64462809917353,220)\">6</text><text y=\"0.71em\" transform=\"translate(250.4242424242424,220)\">8</text></g><g font-variant=\"tabular-nums\" transform=\"translate(241,0)\"><text y=\"0.71em\" transform=\"translate(71.08539944903582,220)\">2</text><text y=\"0.71em\" transform=\"translate(130.86501377410468,220)\">4</text><text y=\"0.71em\" transform=\"translate(190.64462809917353,220)\">6</text><text y=\"0.71em\" transform=\"translate(250.4242424242424,220)\">8</text></g><g font-variant=\"tabular-nums\" transform=\"translate(482,0)\"><text y=\"0.71em\" transform=\"translate(71.08539944903582,220)\">2</text><text y=\"0.71em\" transform=\"translate(130.86501377410468,220)\">4</text><text y=\"0.71em\" transform=\"translate(190.64462809917353,220)\">6</text><text y=\"0.71em\" transform=\"translate(250.4242424242424,220)\">8</text></g><g font-variant=\"tabular-nums\" transform=\"translate(723,0)\"><text y=\"0.71em\" transform=\"translate(71.08539944903582,220)\">2</text><text y=\"0.71em\" transform=\"translate(130.86501377410468,220)\">4</text><text y=\"0.71em\" transform=\"translate(190.64462809917353,220)\">6</text><text y=\"0.71em\" transform=\"translate(250.4242424242424,220)\">8</text></g></g><g aria-label=\"x-axis label\" text-anchor=\"end\" transform=\"translate(17,27)\"><text transform=\"translate(980,220)\">fertility →</text></g><g aria-label=\"frame\"><rect fill=\"none\" stroke=\"currentColor\" x=\"40\" y=\"30\" width=\"217\" height=\"190\" transform=\"translate(0,0)\"></rect><rect fill=\"none\" stroke=\"currentColor\" x=\"40\" y=\"30\" width=\"217\" height=\"190\" transform=\"translate(241,0)\"></rect><rect fill=\"none\" stroke=\"currentColor\" x=\"40\" y=\"30\" width=\"217\" height=\"190\" transform=\"translate(482,0)\"></rect><rect fill=\"none\" stroke=\"currentColor\" x=\"40\" y=\"30\" width=\"217\" height=\"190\" transform=\"translate(723,0)\"></rect></g><g aria-label=\"dot\"><g transform=\"translate(0,0)\"><circle cx=\"140.72865013774106\" cy=\"220\" r=\"11.204545483235783\" fill=\"#ff725c\"></circle><circle cx=\"187.95454545454544\" cy=\"157.62749040394806\" r=\"9.599799247539497\" fill=\"#ff8ab7\"></circle><circle cx=\"118.31129476584022\" cy=\"73.20233960884664\" r=\"6.77689485171271\" fill=\"#efb118\"></circle><circle cx=\"71.38429752066115\" cy=\"79.27983915189179\" r=\"5.497775254181183\" fill=\"#ff725c\"></circle><circle cx=\"178.09090909090907\" cy=\"147.62566258453663\" r=\"5.383302920128326\" fill=\"#ff725c\"></circle><circle cx=\"193.633608815427\" cy=\"134.39407786510694\" r=\"5.076757439062571\" fill=\"#efb118\"></circle><circle cx=\"82.74242424242424\" cy=\"75.45969658197771\" r=\"5.076150804499101\" fill=\"#6cc5b0\"></circle><circle cx=\"92.90495867768595\" cy=\"69.34746847011513\" r=\"4.608640963013158\" fill=\"#6cc5b0\"></circle><circle cx=\"213.65977961432506\" cy=\"164.33010418570646\" r=\"4.554798712696778\" fill=\"#ff8ab7\"></circle><circle cx=\"82.44352617079889\" cy=\"73.89691098519467\" r=\"4.5324277826953905\" fill=\"#6cc5b0\"></circle><circle cx=\"213.06198347107437\" cy=\"138.28367757265582\" r=\"4.439605110344908\" fill=\"#ff8ab7\"></circle><circle cx=\"93.20385674931129\" cy=\"69.27801133248035\" r=\"4.43177135798446\" fill=\"#6cc5b0\"></circle><circle cx=\"201.40495867768593\" cy=\"153.9462621093036\" r=\"4.412220492311045\" fill=\"#4269d0\"></circle><circle cx=\"213.65977961432506\" cy=\"118.03692195211114\" r=\"4.167299542820869\" fill=\"#efb118\"></circle><circle cx=\"94.39944903581267\" cy=\"75.32078230670808\" r=\"3.984746004508371\" fill=\"#6cc5b0\"></circle><circle cx=\"101.57300275482093\" cy=\"80.70371047340521\" r=\"3.9549727018595426\" fill=\"#6cc5b0\"></circle><circle cx=\"225.01790633608815\" cy=\"103.76348016815939\" r=\"3.9207868818296205\" fill=\"#ff725c\"></circle><circle cx=\"201.40495867768593\" cy=\"144.50009139097054\" r=\"3.8875994282806356\" fill=\"#6cc5b0\"></circle><circle cx=\"213.06198347107437\" cy=\"153.7378906963992\" r=\"3.8711817342006163\" fill=\"#3ca951\"></circle><circle cx=\"190.64462809917353\" cy=\"111.23012246390056\" r=\"3.828580749149753\" fill=\"#ff725c\"></circle><circle cx=\"226.8112947658402\" cy=\"162.038018643758\" r=\"3.6643707593048127\" fill=\"#3ca951\"></circle><circle cx=\"103.366391184573\" cy=\"89.87205264119903\" r=\"3.6234401467987003\" fill=\"#efb118\"></circle><circle cx=\"127.87603305785123\" cy=\"69.41692560774993\" r=\"3.5229890864492956\" fill=\"#efb118\"></circle><circle cx=\"195.42699724517905\" cy=\"129.2195211113142\" r=\"3.4627416400745368\" fill=\"#4269d0\"></circle><circle cx=\"213.06198347107437\" cy=\"110.70919393163956\" r=\"3.4253984370339765\" fill=\"#efb118\"></circle><circle cx=\"125.48484848484847\" cy=\"151.13324803509414\" r=\"3.2286419896472607\" fill=\"#ff725c\"></circle><circle cx=\"104.56198347107438\" cy=\"61.25571193566075\" r=\"3.2200446377003566\" fill=\"#6cc5b0\"></circle><circle cx=\"114.42561983471074\" cy=\"69.55583988301956\" r=\"3.1542336327704366\" fill=\"#ff725c\"></circle><circle cx=\"218.14325068870522\" cy=\"152.38347651252056\" r=\"3.1477951919987355\" fill=\"#efb118\"></circle><circle cx=\"87.82369146005509\" cy=\"73.16761104002927\" r=\"3.0861394246562206\" fill=\"#6cc5b0\"></circle><circle cx=\"105.75757575757575\" cy=\"91.71266678852128\" r=\"3.072565088527031\" fill=\"#6cc5b0\"></circle><circle cx=\"231.89256198347107\" cy=\"160.12794735880095\" r=\"3.0567507185822196\" fill=\"#ff8ab7\"></circle><circle cx=\"79.7534435261708\" cy=\"64.97166879912263\" r=\"3.048936278140287\" fill=\"#6cc5b0\"></circle><circle cx=\"203.19834710743802\" cy=\"90.18460976055565\" r=\"3.0278278013248814\" fill=\"#efb118\"></circle><circle cx=\"158.36363636363635\" cy=\"128.2818497532444\" r=\"3.026874938845762\" fill=\"#efb118\"></circle><circle cx=\"241.75619834710741\" cy=\"127.96929263388779\" r=\"3.001954179815727\" fill=\"#4269d0\"></circle><circle cx=\"135.04958677685948\" cy=\"75.94589654542132\" r=\"2.9701663104235716\" fill=\"#efb118\"></circle><circle cx=\"176.8953168044077\" cy=\"106.43757996709923\" r=\"2.95789270247344\" fill=\"#3ca951\"></circle><circle cx=\"92.00826446280992\" cy=\"77.02248217876077\" r=\"2.9553118566664374\" fill=\"#6cc5b0\"></circle><circle cx=\"84.83471074380165\" cy=\"67.29848290988849\" r=\"2.8307111518915598\" fill=\"#6cc5b0\"></circle><circle cx=\"211.866391184573\" cy=\"121.68342167793823\" r=\"2.7733769074620334\" fill=\"#efb118\"></circle><circle cx=\"92.60606060606061\" cy=\"76.1195393895083\" r=\"2.757472986772587\" fill=\"#6cc5b0\"></circle><circle cx=\"78.85674931129475\" cy=\"91.78212392615613\" r=\"2.7388772368615153\" fill=\"#6cc5b0\"></circle><circle cx=\"236.07713498622587\" cy=\"127.79564978980076\" r=\"2.734503145706751\" fill=\"#3ca951\"></circle><circle cx=\"99.48071625344352\" cy=\"110.74392250045696\" r=\"2.724376411221797\" fill=\"#6cc5b0\"></circle><circle cx=\"197.8181818181818\" cy=\"158.8082617437397\" r=\"2.710808346777029\" fill=\"#efb118\"></circle><circle cx=\"203.7961432506887\" cy=\"167.17784682873332\" r=\"2.6929442014445093\" fill=\"#efb118\"></circle><circle cx=\"97.08953168044077\" cy=\"61.60299762383474\" r=\"2.681068033677235\" fill=\"#6cc5b0\"></circle><circle cx=\"237.27272727272725\" cy=\"101.47139462621092\" r=\"2.653557066671403\" fill=\"#efb118\"></circle><circle cx=\"163.4449035812672\" cy=\"86.46865289709379\" r=\"2.6351303938491446\" fill=\"#ff725c\"></circle><circle cx=\"256.10330578512395\" cy=\"169.81721805885576\" r=\"2.619803807679193\" fill=\"#4269d0\"></circle><circle cx=\"124.8870523415978\" cy=\"72.99396819594223\" r=\"2.603382076074343\" fill=\"#6cc5b0\"></circle><circle cx=\"210.37190082644625\" cy=\"130.85176384573205\" r=\"2.5999659863224904\" fill=\"#efb118\"></circle><circle cx=\"132.65840220385672\" cy=\"69.17382562602813\" r=\"2.5553333308007247\" fill=\"#ff725c\"></circle><circle cx=\"130.86501377410468\" cy=\"67.09011149698412\" r=\"2.496352553516736\" fill=\"#3ca951\"></circle><circle cx=\"184.66666666666666\" cy=\"91.22646682507767\" r=\"2.482572712770361\" fill=\"#3ca951\"></circle><circle cx=\"176.8953168044077\" cy=\"90.28879546700786\" r=\"2.461197720199377\" fill=\"#efb118\"></circle><circle cx=\"216.34986225895318\" cy=\"89.55949552184245\" r=\"2.4175688101296267\" fill=\"#efb118\"></circle><circle cx=\"140.72865013774106\" cy=\"86.81593858526777\" r=\"2.1735461479531417\" fill=\"#efb118\"></circle><circle cx=\"137.7396694214876\" cy=\"61.672454761469574\" r=\"2.150791552924686\" fill=\"#6cc5b0\"></circle><circle cx=\"152.98347107438013\" cy=\"101.43666605739354\" r=\"2.1217753958215377\" fill=\"#efb118\"></circle><circle cx=\"212.76308539944904\" cy=\"93.86583805520016\" r=\"2.1102029946043004\" fill=\"#efb118\"></circle></g><g transform=\"translate(241,0)\"><circle cx=\"118.01239669421487\" cy=\"98.38055200146223\" r=\"12.886717061393606\" fill=\"#ff725c\"></circle><circle cx=\"166.732782369146\" cy=\"137.346006214586\" r=\"10.986352909433458\" fill=\"#ff8ab7\"></circle><circle cx=\"64.2107438016529\" cy=\"63.92981173460062\" r=\"7.230947771323962\" fill=\"#efb118\"></circle><circle cx=\"161.95041322314046\" cy=\"118.83567903491135\" r=\"6.122356957678354\" fill=\"#ff725c\"></circle><circle cx=\"69.29201101928375\" cy=\"56.84518369585087\" r=\"5.815596559291829\" fill=\"#ff725c\"></circle><circle cx=\"143.41873278236912\" cy=\"108.9033083531347\" r=\"5.752084473298171\" fill=\"#efb118\"></circle><circle cx=\"55.54269972451791\" cy=\"67.6110400292451\" r=\"5.188812662654942\" fill=\"#6cc5b0\"></circle><circle cx=\"212.76308539944904\" cy=\"140.71467738987388\" r=\"5.110413372103695\" fill=\"#ff8ab7\"></circle><circle cx=\"214.85537190082644\" cy=\"111.50795101443977\" r=\"4.970410257070146\" fill=\"#ff8ab7\"></circle><circle cx=\"213.65977961432506\" cy=\"135.88740632425515\" r=\"4.853080204264316\" fill=\"#4269d0\"></circle><circle cx=\"184.3677685950413\" cy=\"93.51855236702616\" r=\"4.757057504768002\" fill=\"#efb118\"></circle><circle cx=\"65.40633608815426\" cy=\"63.75616889051362\" r=\"4.699498416089643\" fill=\"#6cc5b0\"></circle><circle cx=\"76.16666666666666\" cy=\"63.47834033997442\" r=\"4.671215435065505\" fill=\"#6cc5b0\"></circle><circle cx=\"69.5909090909091\" cy=\"61.81136903673915\" r=\"4.606331644602031\" fill=\"#6cc5b0\"></circle><circle cx=\"178.68870523415976\" cy=\"93.86583805520016\" r=\"4.343210054283045\" fill=\"#ff725c\"></circle><circle cx=\"162.84710743801654\" cy=\"105.56936574666422\" r=\"4.266770525747342\" fill=\"#6cc5b0\"></circle><circle cx=\"184.66666666666666\" cy=\"127.48309267044418\" r=\"4.240969678161457\" fill=\"#3ca951\"></circle><circle cx=\"113.23002754820936\" cy=\"88.23980990678119\" r=\"4.157196015199657\" fill=\"#ff725c\"></circle><circle cx=\"94.10055096418732\" cy=\"60.94315481630414\" r=\"4.152078846927729\" fill=\"#6cc5b0\"></circle><circle cx=\"79.45454545454544\" cy=\"69.45165417656735\" r=\"4.095343274197896\" fill=\"#6cc5b0\"></circle><circle cx=\"190.94352617079886\" cy=\"103.03418022299397\" r=\"4.062864023570464\" fill=\"#3ca951\"></circle><circle cx=\"109.94214876033057\" cy=\"80.25223907877901\" r=\"3.8306346086425425\" fill=\"#efb118\"></circle><circle cx=\"166.43388429752065\" cy=\"114.04313653811005\" r=\"3.8271790747951973\" fill=\"#4269d0\"></circle><circle cx=\"142.82093663911846\" cy=\"86.36446719064158\" r=\"3.741002342335374\" fill=\"#efb118\"></circle><circle cx=\"66.60192837465564\" cy=\"60.80424054103455\" r=\"3.731024878033102\" fill=\"#efb118\"></circle><circle cx=\"102.46969696969695\" cy=\"104.2844087004204\" r=\"3.471692828600955\" fill=\"#ff725c\"></circle><circle cx=\"181.97658402203857\" cy=\"96.33156644123561\" r=\"3.414169633028727\" fill=\"#efb118\"></circle><circle cx=\"75.86776859504133\" cy=\"64.69384024858343\" r=\"3.3410925234069966\" fill=\"#ff725c\"></circle><circle cx=\"61.22176308539945\" cy=\"57.15774081520745\" r=\"3.330286673891602\" fill=\"#6cc5b0\"></circle><circle cx=\"246.83746556473827\" cy=\"107.30579418753427\" r=\"3.3296994312784856\" fill=\"#4269d0\"></circle><circle cx=\"151.48898071625345\" cy=\"81.74556753792726\" r=\"3.3063362472405284\" fill=\"#efb118\"></circle><circle cx=\"236.67493112947656\" cy=\"151.37634801681594\" r=\"3.25480693273923\" fill=\"#ff8ab7\"></circle><circle cx=\"216.9476584022038\" cy=\"93.44909522939133\" r=\"3.226635212000299\" fill=\"#3ca951\"></circle><circle cx=\"106.35537190082644\" cy=\"86.78121001645036\" r=\"3.1738647157112254\" fill=\"#efb118\"></circle><circle cx=\"63.31404958677686\" cy=\"65.94406872600985\" r=\"3.124496259100213\" fill=\"#6cc5b0\"></circle><circle cx=\"96.49173553719007\" cy=\"62.47121184426976\" r=\"3.110057157110192\" fill=\"#efb118\"></circle><circle cx=\"93.50275482093664\" cy=\"75.77225370133432\" r=\"3.0917285084200947\" fill=\"#6cc5b0\"></circle><circle cx=\"84.23691460055096\" cy=\"57.33138365929448\" r=\"3.0679027899047417\" fill=\"#6cc5b0\"></circle><circle cx=\"231.5936639118457\" cy=\"95.53280935843537\" r=\"3.011353155059502\" fill=\"#3ca951\"></circle><circle cx=\"65.70523415977962\" cy=\"68.40979711204533\" r=\"2.9906114179316177\" fill=\"#6cc5b0\"></circle><circle cx=\"173.6074380165289\" cy=\"93.93529519283493\" r=\"2.9593186078816087\" fill=\"#efb118\"></circle><circle cx=\"59.72727272727273\" cy=\"56.115883750685406\" r=\"2.9060289432569073\" fill=\"#6cc5b0\"></circle><circle cx=\"184.3677685950413\" cy=\"130.15719246938403\" r=\"2.8149319204594976\" fill=\"#efb118\"></circle><circle cx=\"181.37878787878788\" cy=\"143.80552001462257\" r=\"2.814676328940697\" fill=\"#efb118\"></circle><circle cx=\"167.92837465564736\" cy=\"83.20416742825806\" r=\"2.8132357762031592\" fill=\"#efb118\"></circle><circle cx=\"86.92699724517905\" cy=\"84.73222445622375\" r=\"2.8023225188969367\" fill=\"#6cc5b0\"></circle><circle cx=\"61.52066115702479\" cy=\"65.87461158837506\" r=\"2.78114259560431\" fill=\"#6cc5b0\"></circle><circle cx=\"69.88980716253442\" cy=\"71.39645403034181\" r=\"2.7701271321159164\" fill=\"#6cc5b0\"></circle><circle cx=\"257\" cy=\"160.16267592761832\" r=\"2.7647544986092307\" fill=\"#4269d0\"></circle><circle cx=\"92.00826446280992\" cy=\"60.873697678669345\" r=\"2.7592701675745452\" fill=\"#ff725c\"></circle><circle cx=\"181.0798898071625\" cy=\"99.73496618534088\" r=\"2.726630962650751\" fill=\"#efb118\"></circle><circle cx=\"70.48760330578511\" cy=\"55.629683787241795\" r=\"2.7204299011824076\" fill=\"#6cc5b0\"></circle><circle cx=\"126.08264462809916\" cy=\"65.07585450557484\" r=\"2.662420889200214\" fill=\"#3ca951\"></circle><circle cx=\"112.03443526170798\" cy=\"67.36794004752332\" r=\"2.639524666166915\" fill=\"#6cc5b0\"></circle><circle cx=\"82.14462809917356\" cy=\"65.11058307439225\" r=\"2.6331653789483678\" fill=\"#ff725c\"></circle><circle cx=\"147.60330578512395\" cy=\"101.05465180040213\" r=\"2.590419832048626\" fill=\"#3ca951\"></circle><circle cx=\"124.8870523415978\" cy=\"67.85414001096693\" r=\"2.5229839255005446\" fill=\"#efb118\"></circle><circle cx=\"145.8099173553719\" cy=\"69.83366843355876\" r=\"2.5093396336475853\" fill=\"#efb118\"></circle><circle cx=\"82.74242424242424\" cy=\"72.26466825077682\" r=\"2.1788893109502454\" fill=\"#efb118\"></circle><circle cx=\"90.21487603305785\" cy=\"53.71961250228476\" r=\"2.168056288638547\" fill=\"#6cc5b0\"></circle><circle cx=\"108.74655647382919\" cy=\"79.62712484006582\" r=\"2.1616979560423446\" fill=\"#efb118\"></circle><circle cx=\"131.46280991735537\" cy=\"76.81411076585633\" r=\"2.112179043860483\" fill=\"#efb118\"></circle></g><g transform=\"translate(482,0)\"><circle cx=\"86.32920110192836\" cy=\"80.0438676658746\" r=\"14.22373857346658\" fill=\"#ff725c\"></circle><circle cx=\"132.3595041322314\" cy=\"109.59787972948274\" r=\"12.617670934501865\" fill=\"#ff8ab7\"></circle><circle cx=\"73.1776859504132\" cy=\"53.54596965819776\" r=\"7.668340750058937\" fill=\"#efb118\"></circle><circle cx=\"103.96418732782368\" cy=\"94.07420946810456\" r=\"6.857168447551015\" fill=\"#ff725c\"></circle><circle cx=\"98.28512396694215\" cy=\"82.82215317126665\" r=\"6.417969574906365\" fill=\"#efb118\"></circle><circle cx=\"57.03719008264463\" cy=\"40.73112776457688\" r=\"6.002373758574381\" fill=\"#ff725c\"></circle><circle cx=\"201.40495867768593\" cy=\"104.49278011332481\" r=\"5.866216614982312\" fill=\"#ff8ab7\"></circle><circle cx=\"145.21212121212122\" cy=\"114.42515079510146\" r=\"5.725187472313609\" fill=\"#ff8ab7\"></circle><circle cx=\"204.39393939393938\" cy=\"126.58014988119174\" r=\"5.511622297174032\" fill=\"#4269d0\"></circle><circle cx=\"114.42561983471074\" cy=\"70.45878267227201\" r=\"5.253285090146202\" fill=\"#efb118\"></circle><circle cx=\"54.34710743801653\" cy=\"53.75434107110218\" r=\"5.2061625201657975\" fill=\"#6cc5b0\"></circle><circle cx=\"141.32644628099172\" cy=\"78.9325534637178\" r=\"4.823593834341122\" fill=\"#ff725c\"></circle><circle cx=\"145.21212121212122\" cy=\"94.52568086273077\" r=\"4.722139349170403\" fill=\"#3ca951\"></circle><circle cx=\"66.00413223140495\" cy=\"53.09449826357157\" r=\"4.722039719685583\" fill=\"#6cc5b0\"></circle><circle cx=\"51.05922865013774\" cy=\"48.54505574849207\" r=\"4.711220520686165\" fill=\"#6cc5b0\"></circle><circle cx=\"64.50964187327824\" cy=\"48.37141290440508\" r=\"4.702999765179988\" fill=\"#6cc5b0\"></circle><circle cx=\"156.5702479338843\" cy=\"84.94059586912809\" r=\"4.688122844655452\" fill=\"#3ca951\"></circle><circle cx=\"104.86088154269972\" cy=\"77.75178212392616\" r=\"4.652486880021489\" fill=\"#6cc5b0\"></circle><circle cx=\"59.12947658402204\" cy=\"66.01352586364469\" r=\"4.390422953555968\" fill=\"#ff725c\"></circle><circle cx=\"122.49586776859505\" cy=\"93.62273807347833\" r=\"4.272590304768652\" fill=\"#4269d0\"></circle><circle cx=\"51.95592286501378\" cy=\"49.2396271248401\" r=\"4.24427028016169\" fill=\"#6cc5b0\"></circle><circle cx=\"72.57988980716253\" cy=\"69.66002558947176\" r=\"4.220319502388155\" fill=\"#6cc5b0\"></circle><circle cx=\"101.87190082644628\" cy=\"64.83275452385305\" r=\"4.055967728774053\" fill=\"#efb118\"></circle><circle cx=\"103.366391184573\" cy=\"68.37506854322791\" r=\"4.054825209020841\" fill=\"#efb118\"></circle><circle cx=\"65.40633608815426\" cy=\"47.6073843904222\" r=\"3.8926091834944554\" fill=\"#efb118\"></circle><circle cx=\"194.53030303030303\" cy=\"100.77682324986293\" r=\"3.7319978839560273\" fill=\"#4269d0\"></circle><circle cx=\"128.1749311294766\" cy=\"76.05008225187352\" r=\"3.692163522057593\" fill=\"#efb118\"></circle><circle cx=\"81.54683195592287\" cy=\"80.46061049168343\" r=\"3.6412830869056343\" fill=\"#ff725c\"></circle><circle cx=\"114.42561983471074\" cy=\"64.93694023030525\" r=\"3.599361813027129\" fill=\"#efb118\"></circle><circle cx=\"187.05785123966942\" cy=\"83.8292816669713\" r=\"3.5122801372685775\" fill=\"#3ca951\"></circle><circle cx=\"68.09641873278235\" cy=\"49.10071284957047\" r=\"3.48591361868872\" fill=\"#ff725c\"></circle><circle cx=\"185.5633608815427\" cy=\"80.07859623469201\" r=\"3.439731246583318\" fill=\"#3ca951\"></circle><circle cx=\"59.42837465564739\" cy=\"48.54505574849207\" r=\"3.3912276442526843\" fill=\"#6cc5b0\"></circle><circle cx=\"88.42148760330579\" cy=\"61.49881191738253\" r=\"3.314562990885675\" fill=\"#efb118\"></circle><circle cx=\"237.57162534435258\" cy=\"129.5668067994882\" r=\"3.1769094743661075\" fill=\"#ff8ab7\"></circle><circle cx=\"65.10743801652893\" cy=\"56.0116980442332\" r=\"3.173155572919341\" fill=\"#efb118\"></circle><circle cx=\"123.09366391184574\" cy=\"66.63864010235788\" r=\"3.163353135398776\" fill=\"#efb118\"></circle><circle cx=\"55.84159779614325\" cy=\"48.30195576677022\" r=\"3.1551089641608963\" fill=\"#6cc5b0\"></circle><circle cx=\"57.93388429752066\" cy=\"58.54688356790349\" r=\"3.138456036834203\" fill=\"#6cc5b0\"></circle><circle cx=\"59.72727272727273\" cy=\"52.05264119904952\" r=\"3.1357346679692997\" fill=\"#6cc5b0\"></circle><circle cx=\"54.94490358126721\" cy=\"52.677755437762755\" r=\"2.99724410294439\" fill=\"#6cc5b0\"></circle><circle cx=\"216.6487603305785\" cy=\"142.83312008773535\" r=\"2.9736687237797366\" fill=\"#4269d0\"></circle><circle cx=\"113.23002754820936\" cy=\"66.56918296472308\" r=\"2.960884605970503\" fill=\"#efb118\"></circle><circle cx=\"157.4669421487603\" cy=\"102.27015170901116\" r=\"2.9586709039172594\" fill=\"#efb118\"></circle><circle cx=\"175.10192837465564\" cy=\"126.99689270700055\" r=\"2.94705908452079\" fill=\"#efb118\"></circle><circle cx=\"58.53168044077135\" cy=\"45.83622738073478\" r=\"2.93233684651443\" fill=\"#6cc5b0\"></circle><circle cx=\"49.863636363636374\" cy=\"47.46847011515262\" r=\"2.869581318391291\" fill=\"#ff725c\"></circle><circle cx=\"80.35123966942149\" cy=\"78.51581063790897\" r=\"2.835635898471948\" fill=\"#6cc5b0\"></circle><circle cx=\"129.37052341597797\" cy=\"74.10528239809908\" r=\"2.8337384803117596\" fill=\"#efb118\"></circle><circle cx=\"64.50964187327824\" cy=\"54.55309815390237\" r=\"2.803630993654735\" fill=\"#6cc5b0\"></circle><circle cx=\"60.026170798898065\" cy=\"64.86748309267047\" r=\"2.794486486772924\" fill=\"#6cc5b0\"></circle><circle cx=\"106.35537190082644\" cy=\"48.02412721623102\" r=\"2.7887231409238176\" fill=\"#3ca951\"></circle><circle cx=\"68.9931129476584\" cy=\"49.58691281301408\" r=\"2.741179680757452\" fill=\"#6cc5b0\"></circle><circle cx=\"109.94214876033057\" cy=\"73.68853957229025\" r=\"2.682225135673036\" fill=\"#3ca951\"></circle><circle cx=\"74.37327823691459\" cy=\"56.115883750685406\" r=\"2.671864199402241\" fill=\"#6cc5b0\"></circle><circle cx=\"76.16666666666666\" cy=\"54.136355328093586\" r=\"2.6633297027728\" fill=\"#ff725c\"></circle><circle cx=\"107.25206611570246\" cy=\"49.30908426247488\" r=\"2.6395584852089597\" fill=\"#efb118\"></circle><circle cx=\"96.49173553719007\" cy=\"54.93511241089384\" r=\"2.556596047002331\" fill=\"#efb118\"></circle><circle cx=\"86.92699724517905\" cy=\"70.4240541034546\" r=\"2.1872337295629873\" fill=\"#efb118\"></circle><circle cx=\"63.31404958677686\" cy=\"60.00548345823432\" r=\"2.1831032237931134\" fill=\"#efb118\"></circle><circle cx=\"79.7534435261708\" cy=\"45.24584171083897\" r=\"2.1817368832674675\" fill=\"#6cc5b0\"></circle><circle cx=\"115.62121212121212\" cy=\"76.15426795832573\" r=\"2.113260237893163\" fill=\"#efb118\"></circle></g><g transform=\"translate(723,0)\"><circle cx=\"59.72727272727273\" cy=\"63.06159751416558\" r=\"15\" fill=\"#ff725c\"></circle><circle cx=\"99.77961432506886\" cy=\"89.42058124657282\" r=\"14.228687976620492\" fill=\"#ff8ab7\"></circle><circle cx=\"72.87878787878788\" cy=\"46.56552732590018\" r=\"8.200403763251163\" fill=\"#efb118\"></circle><circle cx=\"83.93801652892563\" cy=\"79.45348199597879\" r=\"7.443643784758903\" fill=\"#ff725c\"></circle><circle cx=\"70.18870523415978\" cy=\"63.651983184061415\" r=\"6.918607224636279\" fill=\"#efb118\"></circle><circle cx=\"149.9944903581267\" cy=\"104.49278011332481\" r=\"6.752206489073828\" fill=\"#ff8ab7\"></circle><circle cx=\"95.2961432506887\" cy=\"82.30122463900567\" r=\"6.2720045368964605\" fill=\"#ff8ab7\"></circle><circle cx=\"192.73691460055093\" cy=\"119.84280753061596\" r=\"6.265604920941571\" fill=\"#4269d0\"></circle><circle cx=\"49.26584022038568\" cy=\"30\" r=\"6.068360873896224\" fill=\"#ff725c\"></circle><circle cx=\"86.03030303030303\" cy=\"56.0116980442332\" r=\"5.695425505019047\" fill=\"#efb118\"></circle><circle cx=\"115.62121212121212\" cy=\"72.33412538841162\" r=\"5.342448159004929\" fill=\"#ff725c\"></circle><circle cx=\"51.358126721763085\" cy=\"39.93237068177663\" r=\"5.243152411240404\" fill=\"#6cc5b0\"></circle><circle cx=\"105.4586776859504\" cy=\"77.64759641747393\" r=\"5.200201011379753\" fill=\"#3ca951\"></circle><circle cx=\"64.50964187327824\" cy=\"61.08206909157376\" r=\"5.014890300431318\" fill=\"#3ca951\"></circle><circle cx=\"77.6611570247934\" cy=\"49.76055565710108\" r=\"4.982978188093479\" fill=\"#6cc5b0\"></circle><circle cx=\"68.69421487603306\" cy=\"36.73734235057576\" r=\"4.799436794798276\" fill=\"#6cc5b0\"></circle><circle cx=\"63.911845730027544\" cy=\"41.00895631511608\" r=\"4.7965128187203625\" fill=\"#6cc5b0\"></circle><circle cx=\"51.358126721763085\" cy=\"35.24401389142755\" r=\"4.745477167065311\" fill=\"#6cc5b0\"></circle><circle cx=\"86.32920110192836\" cy=\"135.57484920489856\" r=\"4.519595485392016\" fill=\"#4269d0\"></circle><circle cx=\"44.184573002754824\" cy=\"42.919027600073115\" r=\"4.4904469146257115\" fill=\"#ff725c\"></circle><circle cx=\"51.05922865013774\" cy=\"36.667885212940966\" r=\"4.378618737076239\" fill=\"#6cc5b0\"></circle><circle cx=\"78.85674931129475\" cy=\"50.767684152805714\" r=\"4.338410517138319\" fill=\"#efb118\"></circle><circle cx=\"83.93801652892563\" cy=\"55.07402668616339\" r=\"4.249475651307272\" fill=\"#efb118\"></circle><circle cx=\"48.36914600550965\" cy=\"55.38658380552003\" r=\"4.235192348394033\" fill=\"#6cc5b0\"></circle><circle cx=\"154.17906336088154\" cy=\"120.2595503564248\" r=\"4.154562234787136\" fill=\"#4269d0\"></circle><circle cx=\"57.33608815426997\" cy=\"37.188813745201955\" r=\"4.042641017951464\" fill=\"#efb118\"></circle><circle cx=\"145.21212121212122\" cy=\"81.46773898738802\" r=\"3.927914624212578\" fill=\"#3ca951\"></circle><circle cx=\"91.70936639118457\" cy=\"48.54505574849207\" r=\"3.9093032989193834\" fill=\"#efb118\"></circle><circle cx=\"89.9159779614325\" cy=\"56.0116980442332\" r=\"3.858482267305002\" fill=\"#efb118\"></circle><circle cx=\"217.8443526170799\" cy=\"116.36995064887589\" r=\"3.7780799751498146\" fill=\"#ff8ab7\"></circle><circle cx=\"108.14876033057851\" cy=\"69.38219703893256\" r=\"3.777586533592342\" fill=\"#3ca951\"></circle><circle cx=\"69.88980716253442\" cy=\"73.37598245293364\" r=\"3.766746240043733\" fill=\"#ff725c\"></circle><circle cx=\"66.3030303030303\" cy=\"34.375799670992535\" r=\"3.616323884409033\" fill=\"#ff725c\"></circle><circle cx=\"62.417355371900825\" cy=\"39.967099250594046\" r=\"3.4512476457923125\" fill=\"#6cc5b0\"></circle><circle cx=\"65.10743801652893\" cy=\"46.00987022482178\" r=\"3.4473818633014828\" fill=\"#efb118\"></circle><circle cx=\"94.99724517906336\" cy=\"60.873697678669345\" r=\"3.3354387255468634\" fill=\"#efb118\"></circle><circle cx=\"55.24380165289256\" cy=\"46.739170169987176\" r=\"3.2068632068493184\" fill=\"#efb118\"></circle><circle cx=\"51.65702479338843\" cy=\"40.661670626942026\" r=\"3.1997236425561506\" fill=\"#6cc5b0\"></circle><circle cx=\"53.45041322314049\" cy=\"43.02321330652532\" r=\"3.167436027938364\" fill=\"#6cc5b0\"></circle><circle cx=\"63.911845730027544\" cy=\"41.043684883933494\" r=\"3.1670844677980896\" fill=\"#6cc5b0\"></circle><circle cx=\"117.71349862258953\" cy=\"76.98775360994333\" r=\"3.1020409930821735\" fill=\"#efb118\"></circle><circle cx=\"89.31818181818181\" cy=\"64.52019740449643\" r=\"3.0894756906597203\" fill=\"#efb118\"></circle><circle cx=\"125.78374655647383\" cy=\"111.43849387680497\" r=\"3.0863287639186776\" fill=\"#efb118\"></circle><circle cx=\"173.9063360881543\" cy=\"114.32096508864925\" r=\"3.0812140096340173\" fill=\"#4269d0\"></circle><circle cx=\"53.45041322314049\" cy=\"39.55035642478522\" r=\"3.032234695773145\" fill=\"#6cc5b0\"></circle><circle cx=\"53.74931129476583\" cy=\"32.81301407420947\" r=\"2.980856490723534\" fill=\"#6cc5b0\"></circle><circle cx=\"40\" cy=\"32.535185523670265\" r=\"2.947848025261451\" fill=\"#ff725c\"></circle><circle cx=\"96.19283746556472\" cy=\"37.7444708462804\" r=\"2.9325056791529596\" fill=\"#3ca951\"></circle><circle cx=\"84.83471074380165\" cy=\"60.97788338512155\" r=\"2.884294206015702\" fill=\"#efb118\"></circle><circle cx=\"65.10743801652893\" cy=\"41.043684883933494\" r=\"2.8242783414168624\" fill=\"#6cc5b0\"></circle><circle cx=\"77.0633608815427\" cy=\"54.51836958508499\" r=\"2.775457866919245\" fill=\"#3ca951\"></circle><circle cx=\"66.3030303030303\" cy=\"37.39718515810637\" r=\"2.773839891586409\" fill=\"#6cc5b0\"></circle><circle cx=\"56.1404958677686\" cy=\"54.0668981904588\" r=\"2.7574309244132706\" fill=\"#6cc5b0\"></circle><circle cx=\"72.28099173553719\" cy=\"40.626942058124676\" r=\"2.747638812837208\" fill=\"#efb118\"></circle><circle cx=\"69.88980716253442\" cy=\"39.37671358069823\" r=\"2.73160725354909\" fill=\"#ff725c\"></circle><circle cx=\"67.19972451790633\" cy=\"41.80771339791632\" r=\"2.730582886974044\" fill=\"#6cc5b0\"></circle><circle cx=\"59.42837465564739\" cy=\"69.76421129592399\" r=\"2.7162575370484072\" fill=\"#6cc5b0\"></circle><circle cx=\"72.87878787878788\" cy=\"47.64211295923961\" r=\"2.5888028168078163\" fill=\"#efb118\"></circle><circle cx=\"72.57988980716253\" cy=\"62.367026137817554\" r=\"2.2122384634203254\" fill=\"#efb118\"></circle><circle cx=\"72.57988980716253\" cy=\"33.09084262474867\" r=\"2.196135511824112\" fill=\"#6cc5b0\"></circle><circle cx=\"64.80853994490359\" cy=\"55.212940961433034\" r=\"2.1868175440651814\" fill=\"#efb118\"></circle><circle cx=\"81.24793388429751\" cy=\"65.14531164320967\" r=\"2.1194961694501853\" fill=\"#efb118\"></circle></g></g></svg></figure>"
      ],
      "text/plain": [
       "<IPython.core.display.HTML object>"
      ]
     },
     "metadata": {},
     "output_type": "display_data"
    }
   ],
   "source": [
    "Plot.plot(\n",
    "    {\n",
    "        \"height\": 250,\n",
    "        \"width\": 1000,\n",
    "        \"title\": \"Fertility vs Life Expectancy\",\n",
    "        \"x\": {\"label\": \"fertility\"},\n",
    "        \"y\": {\"label\": \"Life Expectancy\"},\n",
    "        \"color\": {\"legend\": True, \"type\": \"categorical\"},\n",
    "        \"r\": {\"range\": [2, 15]},\n",
    "        \"grid\": True,\n",
    "        \"marks\": [\n",
    "            Plot.frame(),\n",
    "            Plot.dot(\n",
    "                facet_df,\n",
    "                {\n",
    "                    \"x\": \"fertility\",\n",
    "                    \"y\": \"life_expect\",\n",
    "                    \"fx\": \"year\",\n",
    "                    \"fill\": \"region\",\n",
    "                    \"r\": \"pop\",\n",
    "                },\n",
    "            ),\n",
    "        ],\n",
    "    }\n",
    ")"
   ]
  },
  {
   "cell_type": "markdown",
   "id": "ad592bce-6fd3-4a6d-840a-6f797f316159",
   "metadata": {
    "id": "ad592bce-6fd3-4a6d-840a-6f797f316159"
   },
   "source": [
    "Here we have used `Plot.frame()` to add distinct frames around each faceted subplot, clearly delineating the data for each year. Additionally, by enabling the grid feature with `\"grid\": true`, we overlay a reference grid within each subplot.\n",
    "\n",
    "Let's focus on categorizing the regions into the Northern and Southern Hemispheres. Specifically, we'll group **Europe**, **the Middle East**, **the Americas**, and **East Asia & Pacific** in the Northern Hemisphere, while **Africa** and **South Asia** will be categorized in the Southern Hemisphere. We can then visualize the data to see how the plot looks. To enhance interactivity, we can incorporate JavaScript using **pyobsplot**, which enables us to embed JavaScript snippets by importing `js` and executing the code directly for dynamic filtering."
   ]
  },
  {
   "cell_type": "code",
   "execution_count": 29,
   "id": "c0qWaof0ZszF",
   "metadata": {
    "id": "c0qWaof0ZszF"
   },
   "outputs": [],
   "source": [
    "from pyobsplot import js"
   ]
  },
  {
   "cell_type": "code",
   "execution_count": 30,
   "id": "oTM2KKGyZZ-E",
   "metadata": {
    "colab": {
     "base_uri": "https://localhost:8080/",
     "height": 355
    },
    "id": "oTM2KKGyZZ-E",
    "outputId": "2c3da9a8-062e-46b0-e46e-289e4481eb32"
   },
   "outputs": [
    {
     "data": {
      "text/html": [
       "<figure class=\"plot-d6a7b5-figure\" style=\"max-width: initial; padding: 0px 5px 5px 5px; color: rgb(0, 0, 0); background-color: rgb(255, 255, 255);\" typstbg=\"#FFFFFF\" typstfg=\"#000000\" typstcaption=\"#777777\"><h2 style=\"line-height: 28px; font-size: 20px; font-weight: 600; margin: 0px;\">Fertility vs Life Expectancy</h2><div class=\"plot-d6a7b5-swatches plot-d6a7b5-swatches-wrap\"><style>:where(.plot-d6a7b5-swatches) {\n",
       "  font-family: system-ui, sans-serif;\n",
       "  font-size: 10px;\n",
       "  margin-bottom: 0.5em;\n",
       "}\n",
       ":where(.plot-d6a7b5-swatch > svg) {\n",
       "  margin-right: 0.5em;\n",
       "  overflow: visible;\n",
       "}\n",
       ":where(.plot-d6a7b5-swatches-wrap) {\n",
       "  display: flex;\n",
       "  align-items: center;\n",
       "  min-height: 33px;\n",
       "  flex-wrap: wrap;\n",
       "}\n",
       ":where(.plot-d6a7b5-swatches-wrap .plot-d6a7b5-swatch) {\n",
       "  display: inline-flex;\n",
       "  align-items: center;\n",
       "  margin-right: 1em;\n",
       "}</style><span class=\"plot-d6a7b5-swatch\"><svg width=\"15\" height=\"15\" fill=\"#4269d0\" xmlns=\"http://www.w3.org/2000/svg\" xmlns:xlink=\"http://www.w3.org/1999/xlink\" style=\"color: rgb(0, 0, 0); background-color: rgb(255, 255, 255);\"><rect width=\"100%\" height=\"100%\"></rect></svg>Northern Hemisphere</span><span class=\"plot-d6a7b5-swatch\"><svg width=\"15\" height=\"15\" fill=\"#efb118\" xmlns=\"http://www.w3.org/2000/svg\" xmlns:xlink=\"http://www.w3.org/1999/xlink\" style=\"color: rgb(0, 0, 0); background-color: rgb(255, 255, 255);\"><rect width=\"100%\" height=\"100%\"></rect></svg>Southern Hemisphere</span></div><svg class=\"plot-d6a7b5\" fill=\"currentColor\" font-family=\"system-ui, sans-serif\" font-size=\"10\" text-anchor=\"middle\" width=\"1000\" height=\"250\" viewBox=\"0 0 1000 250\" xmlns=\"http://www.w3.org/2000/svg\" xmlns:xlink=\"http://www.w3.org/1999/xlink\" style=\"color: rgb(0, 0, 0); background-color: rgb(255, 255, 255);\"><style>:where(.plot-d6a7b5) {\n",
       "  --plot-background: white;\n",
       "  display: block;\n",
       "  height: auto;\n",
       "  height: intrinsic;\n",
       "  max-width: 100%;\n",
       "}\n",
       ":where(.plot-d6a7b5 text),\n",
       ":where(.plot-d6a7b5 tspan) {\n",
       "  white-space: pre;\n",
       "}</style><g aria-label=\"fx-axis tick label\" transform=\"translate(0,-9)\"><g transform=\"translate(0,0)\"><text transform=\"translate(148.5,30)\">1960</text></g><g transform=\"translate(241,0)\"><text transform=\"translate(148.5,30)\">1975</text></g><g transform=\"translate(482,0)\"><text transform=\"translate(148.5,30)\">1990</text></g><g transform=\"translate(723,0)\"><text transform=\"translate(148.5,30)\">2005</text></g></g><g aria-label=\"fx-axis label\" transform=\"translate(0,-27)\"><text y=\"0.71em\" transform=\"translate(510,30)\">year</text></g><g aria-label=\"y-grid\" aria-hidden=\"true\"><g stroke=\"currentColor\" stroke-opacity=\"0.1\" transform=\"translate(0,0)\"><line x1=\"40\" x2=\"257\" y1=\"212.32498629135443\" y2=\"212.32498629135443\"></line><line x1=\"40\" x2=\"257\" y1=\"177.59641747395355\" y2=\"177.59641747395355\"></line><line x1=\"40\" x2=\"257\" y1=\"142.86784865655275\" y2=\"142.86784865655275\"></line><line x1=\"40\" x2=\"257\" y1=\"108.1392798391519\" y2=\"108.1392798391519\"></line><line x1=\"40\" x2=\"257\" y1=\"73.41071102175106\" y2=\"73.41071102175106\"></line><line x1=\"40\" x2=\"257\" y1=\"38.68214220435021\" y2=\"38.68214220435021\"></line></g><g stroke=\"currentColor\" stroke-opacity=\"0.1\" transform=\"translate(241,0)\"><line x1=\"40\" x2=\"257\" y1=\"212.32498629135443\" y2=\"212.32498629135443\"></line><line x1=\"40\" x2=\"257\" y1=\"177.59641747395355\" y2=\"177.59641747395355\"></line><line x1=\"40\" x2=\"257\" y1=\"142.86784865655275\" y2=\"142.86784865655275\"></line><line x1=\"40\" x2=\"257\" y1=\"108.1392798391519\" y2=\"108.1392798391519\"></line><line x1=\"40\" x2=\"257\" y1=\"73.41071102175106\" y2=\"73.41071102175106\"></line><line x1=\"40\" x2=\"257\" y1=\"38.68214220435021\" y2=\"38.68214220435021\"></line></g><g stroke=\"currentColor\" stroke-opacity=\"0.1\" transform=\"translate(482,0)\"><line x1=\"40\" x2=\"257\" y1=\"212.32498629135443\" y2=\"212.32498629135443\"></line><line x1=\"40\" x2=\"257\" y1=\"177.59641747395355\" y2=\"177.59641747395355\"></line><line x1=\"40\" x2=\"257\" y1=\"142.86784865655275\" y2=\"142.86784865655275\"></line><line x1=\"40\" x2=\"257\" y1=\"108.1392798391519\" y2=\"108.1392798391519\"></line><line x1=\"40\" x2=\"257\" y1=\"73.41071102175106\" y2=\"73.41071102175106\"></line><line x1=\"40\" x2=\"257\" y1=\"38.68214220435021\" y2=\"38.68214220435021\"></line></g><g stroke=\"currentColor\" stroke-opacity=\"0.1\" transform=\"translate(723,0)\"><line x1=\"40\" x2=\"257\" y1=\"212.32498629135443\" y2=\"212.32498629135443\"></line><line x1=\"40\" x2=\"257\" y1=\"177.59641747395355\" y2=\"177.59641747395355\"></line><line x1=\"40\" x2=\"257\" y1=\"142.86784865655275\" y2=\"142.86784865655275\"></line><line x1=\"40\" x2=\"257\" y1=\"108.1392798391519\" y2=\"108.1392798391519\"></line><line x1=\"40\" x2=\"257\" y1=\"73.41071102175106\" y2=\"73.41071102175106\"></line><line x1=\"40\" x2=\"257\" y1=\"38.68214220435021\" y2=\"38.68214220435021\"></line></g></g><g aria-label=\"y-axis tick\" aria-hidden=\"true\"><g fill=\"none\" stroke=\"currentColor\" transform=\"translate(0,0)\"><path transform=\"translate(40,212.32498629135443)\" d=\"M0,0L-6,0\"></path><path transform=\"translate(40,177.59641747395355)\" d=\"M0,0L-6,0\"></path><path transform=\"translate(40,142.86784865655275)\" d=\"M0,0L-6,0\"></path><path transform=\"translate(40,108.1392798391519)\" d=\"M0,0L-6,0\"></path><path transform=\"translate(40,73.41071102175106)\" d=\"M0,0L-6,0\"></path><path transform=\"translate(40,38.68214220435021)\" d=\"M0,0L-6,0\"></path></g></g><g aria-label=\"y-axis tick label\" transform=\"translate(-9,0)\"><g text-anchor=\"end\" font-variant=\"tabular-nums\" transform=\"translate(0,0)\"><text y=\"0.32em\" transform=\"translate(40,212.32498629135443)\">30</text><text y=\"0.32em\" transform=\"translate(40,177.59641747395355)\">40</text><text y=\"0.32em\" transform=\"translate(40,142.86784865655275)\">50</text><text y=\"0.32em\" transform=\"translate(40,108.1392798391519)\">60</text><text y=\"0.32em\" transform=\"translate(40,73.41071102175106)\">70</text><text y=\"0.32em\" transform=\"translate(40,38.68214220435021)\">80</text></g></g><g aria-label=\"y-axis label\" text-anchor=\"start\" transform=\"translate(-37,-27)\"><text y=\"0.71em\" transform=\"translate(40,30)\">↑ Life Expectancy</text></g><g aria-label=\"x-grid\" aria-hidden=\"true\"><g stroke=\"currentColor\" stroke-opacity=\"0.1\" transform=\"translate(0,0)\"><line x1=\"71.08539944903582\" x2=\"71.08539944903582\" y1=\"30\" y2=\"220\"></line><line x1=\"130.86501377410468\" x2=\"130.86501377410468\" y1=\"30\" y2=\"220\"></line><line x1=\"190.64462809917353\" x2=\"190.64462809917353\" y1=\"30\" y2=\"220\"></line><line x1=\"250.4242424242424\" x2=\"250.4242424242424\" y1=\"30\" y2=\"220\"></line></g><g stroke=\"currentColor\" stroke-opacity=\"0.1\" transform=\"translate(241,0)\"><line x1=\"71.08539944903582\" x2=\"71.08539944903582\" y1=\"30\" y2=\"220\"></line><line x1=\"130.86501377410468\" x2=\"130.86501377410468\" y1=\"30\" y2=\"220\"></line><line x1=\"190.64462809917353\" x2=\"190.64462809917353\" y1=\"30\" y2=\"220\"></line><line x1=\"250.4242424242424\" x2=\"250.4242424242424\" y1=\"30\" y2=\"220\"></line></g><g stroke=\"currentColor\" stroke-opacity=\"0.1\" transform=\"translate(482,0)\"><line x1=\"71.08539944903582\" x2=\"71.08539944903582\" y1=\"30\" y2=\"220\"></line><line x1=\"130.86501377410468\" x2=\"130.86501377410468\" y1=\"30\" y2=\"220\"></line><line x1=\"190.64462809917353\" x2=\"190.64462809917353\" y1=\"30\" y2=\"220\"></line><line x1=\"250.4242424242424\" x2=\"250.4242424242424\" y1=\"30\" y2=\"220\"></line></g><g stroke=\"currentColor\" stroke-opacity=\"0.1\" transform=\"translate(723,0)\"><line x1=\"71.08539944903582\" x2=\"71.08539944903582\" y1=\"30\" y2=\"220\"></line><line x1=\"130.86501377410468\" x2=\"130.86501377410468\" y1=\"30\" y2=\"220\"></line><line x1=\"190.64462809917353\" x2=\"190.64462809917353\" y1=\"30\" y2=\"220\"></line><line x1=\"250.4242424242424\" x2=\"250.4242424242424\" y1=\"30\" y2=\"220\"></line></g></g><g aria-label=\"x-axis tick\" aria-hidden=\"true\"><g fill=\"none\" stroke=\"currentColor\" transform=\"translate(0,0)\"><path transform=\"translate(71.08539944903582,220)\" d=\"M0,0L0,6\"></path><path transform=\"translate(130.86501377410468,220)\" d=\"M0,0L0,6\"></path><path transform=\"translate(190.64462809917353,220)\" d=\"M0,0L0,6\"></path><path transform=\"translate(250.4242424242424,220)\" d=\"M0,0L0,6\"></path></g><g fill=\"none\" stroke=\"currentColor\" transform=\"translate(241,0)\"><path transform=\"translate(71.08539944903582,220)\" d=\"M0,0L0,6\"></path><path transform=\"translate(130.86501377410468,220)\" d=\"M0,0L0,6\"></path><path transform=\"translate(190.64462809917353,220)\" d=\"M0,0L0,6\"></path><path transform=\"translate(250.4242424242424,220)\" d=\"M0,0L0,6\"></path></g><g fill=\"none\" stroke=\"currentColor\" transform=\"translate(482,0)\"><path transform=\"translate(71.08539944903582,220)\" d=\"M0,0L0,6\"></path><path transform=\"translate(130.86501377410468,220)\" d=\"M0,0L0,6\"></path><path transform=\"translate(190.64462809917353,220)\" d=\"M0,0L0,6\"></path><path transform=\"translate(250.4242424242424,220)\" d=\"M0,0L0,6\"></path></g><g fill=\"none\" stroke=\"currentColor\" transform=\"translate(723,0)\"><path transform=\"translate(71.08539944903582,220)\" d=\"M0,0L0,6\"></path><path transform=\"translate(130.86501377410468,220)\" d=\"M0,0L0,6\"></path><path transform=\"translate(190.64462809917353,220)\" d=\"M0,0L0,6\"></path><path transform=\"translate(250.4242424242424,220)\" d=\"M0,0L0,6\"></path></g></g><g aria-label=\"x-axis tick label\" transform=\"translate(0,9)\"><g font-variant=\"tabular-nums\" transform=\"translate(0,0)\"><text y=\"0.71em\" transform=\"translate(71.08539944903582,220)\">2</text><text y=\"0.71em\" transform=\"translate(130.86501377410468,220)\">4</text><text y=\"0.71em\" transform=\"translate(190.64462809917353,220)\">6</text><text y=\"0.71em\" transform=\"translate(250.4242424242424,220)\">8</text></g><g font-variant=\"tabular-nums\" transform=\"translate(241,0)\"><text y=\"0.71em\" transform=\"translate(71.08539944903582,220)\">2</text><text y=\"0.71em\" transform=\"translate(130.86501377410468,220)\">4</text><text y=\"0.71em\" transform=\"translate(190.64462809917353,220)\">6</text><text y=\"0.71em\" transform=\"translate(250.4242424242424,220)\">8</text></g><g font-variant=\"tabular-nums\" transform=\"translate(482,0)\"><text y=\"0.71em\" transform=\"translate(71.08539944903582,220)\">2</text><text y=\"0.71em\" transform=\"translate(130.86501377410468,220)\">4</text><text y=\"0.71em\" transform=\"translate(190.64462809917353,220)\">6</text><text y=\"0.71em\" transform=\"translate(250.4242424242424,220)\">8</text></g><g font-variant=\"tabular-nums\" transform=\"translate(723,0)\"><text y=\"0.71em\" transform=\"translate(71.08539944903582,220)\">2</text><text y=\"0.71em\" transform=\"translate(130.86501377410468,220)\">4</text><text y=\"0.71em\" transform=\"translate(190.64462809917353,220)\">6</text><text y=\"0.71em\" transform=\"translate(250.4242424242424,220)\">8</text></g></g><g aria-label=\"x-axis label\" text-anchor=\"end\" transform=\"translate(17,27)\"><text transform=\"translate(980,220)\">fertility →</text></g><g aria-label=\"frame\"><rect fill=\"none\" stroke=\"currentColor\" x=\"40\" y=\"30\" width=\"217\" height=\"190\" transform=\"translate(0,0)\"></rect><rect fill=\"none\" stroke=\"currentColor\" x=\"40\" y=\"30\" width=\"217\" height=\"190\" transform=\"translate(241,0)\"></rect><rect fill=\"none\" stroke=\"currentColor\" x=\"40\" y=\"30\" width=\"217\" height=\"190\" transform=\"translate(482,0)\"></rect><rect fill=\"none\" stroke=\"currentColor\" x=\"40\" y=\"30\" width=\"217\" height=\"190\" transform=\"translate(723,0)\"></rect></g><g aria-label=\"dot\"><g transform=\"translate(0,0)\"><circle cx=\"140.72865013774106\" cy=\"220\" r=\"11.204545483235783\" fill=\"#4269d0\"></circle><circle cx=\"187.95454545454544\" cy=\"157.62749040394806\" r=\"9.599799247539497\" fill=\"#efb118\"></circle><circle cx=\"118.31129476584022\" cy=\"73.20233960884664\" r=\"6.77689485171271\" fill=\"#4269d0\"></circle><circle cx=\"71.38429752066115\" cy=\"79.27983915189179\" r=\"5.497775254181183\" fill=\"#4269d0\"></circle><circle cx=\"178.09090909090907\" cy=\"147.62566258453663\" r=\"5.383302920128326\" fill=\"#4269d0\"></circle><circle cx=\"193.633608815427\" cy=\"134.39407786510694\" r=\"5.076757439062571\" fill=\"#4269d0\"></circle><circle cx=\"82.74242424242424\" cy=\"75.45969658197771\" r=\"5.076150804499101\" fill=\"#4269d0\"></circle><circle cx=\"92.90495867768595\" cy=\"69.34746847011513\" r=\"4.608640963013158\" fill=\"#4269d0\"></circle><circle cx=\"213.65977961432506\" cy=\"164.33010418570646\" r=\"4.554798712696778\" fill=\"#efb118\"></circle><circle cx=\"82.44352617079889\" cy=\"73.89691098519467\" r=\"4.5324277826953905\" fill=\"#4269d0\"></circle><circle cx=\"213.06198347107437\" cy=\"138.28367757265582\" r=\"4.439605110344908\" fill=\"#efb118\"></circle><circle cx=\"93.20385674931129\" cy=\"69.27801133248035\" r=\"4.43177135798446\" fill=\"#4269d0\"></circle><circle cx=\"201.40495867768593\" cy=\"153.9462621093036\" r=\"4.412220492311045\" fill=\"#efb118\"></circle><circle cx=\"213.65977961432506\" cy=\"118.03692195211114\" r=\"4.167299542820869\" fill=\"#4269d0\"></circle><circle cx=\"94.39944903581267\" cy=\"75.32078230670808\" r=\"3.984746004508371\" fill=\"#4269d0\"></circle><circle cx=\"101.57300275482093\" cy=\"80.70371047340521\" r=\"3.9549727018595426\" fill=\"#4269d0\"></circle><circle cx=\"225.01790633608815\" cy=\"103.76348016815939\" r=\"3.9207868818296205\" fill=\"#4269d0\"></circle><circle cx=\"201.40495867768593\" cy=\"144.50009139097054\" r=\"3.8875994282806356\" fill=\"#4269d0\"></circle><circle cx=\"213.06198347107437\" cy=\"153.7378906963992\" r=\"3.8711817342006163\" fill=\"#4269d0\"></circle><circle cx=\"190.64462809917353\" cy=\"111.23012246390056\" r=\"3.828580749149753\" fill=\"#4269d0\"></circle><circle cx=\"226.8112947658402\" cy=\"162.038018643758\" r=\"3.6643707593048127\" fill=\"#4269d0\"></circle><circle cx=\"103.366391184573\" cy=\"89.87205264119903\" r=\"3.6234401467987003\" fill=\"#4269d0\"></circle><circle cx=\"127.87603305785123\" cy=\"69.41692560774993\" r=\"3.5229890864492956\" fill=\"#4269d0\"></circle><circle cx=\"195.42699724517905\" cy=\"129.2195211113142\" r=\"3.4627416400745368\" fill=\"#efb118\"></circle><circle cx=\"213.06198347107437\" cy=\"110.70919393163956\" r=\"3.4253984370339765\" fill=\"#4269d0\"></circle><circle cx=\"125.48484848484847\" cy=\"151.13324803509414\" r=\"3.2286419896472607\" fill=\"#4269d0\"></circle><circle cx=\"104.56198347107438\" cy=\"61.25571193566075\" r=\"3.2200446377003566\" fill=\"#4269d0\"></circle><circle cx=\"114.42561983471074\" cy=\"69.55583988301956\" r=\"3.1542336327704366\" fill=\"#4269d0\"></circle><circle cx=\"218.14325068870522\" cy=\"152.38347651252056\" r=\"3.1477951919987355\" fill=\"#4269d0\"></circle><circle cx=\"87.82369146005509\" cy=\"73.16761104002927\" r=\"3.0861394246562206\" fill=\"#4269d0\"></circle><circle cx=\"105.75757575757575\" cy=\"91.71266678852128\" r=\"3.072565088527031\" fill=\"#4269d0\"></circle><circle cx=\"231.89256198347107\" cy=\"160.12794735880095\" r=\"3.0567507185822196\" fill=\"#efb118\"></circle><circle cx=\"79.7534435261708\" cy=\"64.97166879912263\" r=\"3.048936278140287\" fill=\"#4269d0\"></circle><circle cx=\"203.19834710743802\" cy=\"90.18460976055565\" r=\"3.0278278013248814\" fill=\"#4269d0\"></circle><circle cx=\"158.36363636363635\" cy=\"128.2818497532444\" r=\"3.026874938845762\" fill=\"#4269d0\"></circle><circle cx=\"241.75619834710741\" cy=\"127.96929263388779\" r=\"3.001954179815727\" fill=\"#efb118\"></circle><circle cx=\"135.04958677685948\" cy=\"75.94589654542132\" r=\"2.9701663104235716\" fill=\"#4269d0\"></circle><circle cx=\"176.8953168044077\" cy=\"106.43757996709923\" r=\"2.95789270247344\" fill=\"#4269d0\"></circle><circle cx=\"92.00826446280992\" cy=\"77.02248217876077\" r=\"2.9553118566664374\" fill=\"#4269d0\"></circle><circle cx=\"84.83471074380165\" cy=\"67.29848290988849\" r=\"2.8307111518915598\" fill=\"#4269d0\"></circle><circle cx=\"211.866391184573\" cy=\"121.68342167793823\" r=\"2.7733769074620334\" fill=\"#4269d0\"></circle><circle cx=\"92.60606060606061\" cy=\"76.1195393895083\" r=\"2.757472986772587\" fill=\"#4269d0\"></circle><circle cx=\"78.85674931129475\" cy=\"91.78212392615613\" r=\"2.7388772368615153\" fill=\"#4269d0\"></circle><circle cx=\"236.07713498622587\" cy=\"127.79564978980076\" r=\"2.734503145706751\" fill=\"#4269d0\"></circle><circle cx=\"99.48071625344352\" cy=\"110.74392250045696\" r=\"2.724376411221797\" fill=\"#4269d0\"></circle><circle cx=\"197.8181818181818\" cy=\"158.8082617437397\" r=\"2.710808346777029\" fill=\"#4269d0\"></circle><circle cx=\"203.7961432506887\" cy=\"167.17784682873332\" r=\"2.6929442014445093\" fill=\"#4269d0\"></circle><circle cx=\"97.08953168044077\" cy=\"61.60299762383474\" r=\"2.681068033677235\" fill=\"#4269d0\"></circle><circle cx=\"237.27272727272725\" cy=\"101.47139462621092\" r=\"2.653557066671403\" fill=\"#4269d0\"></circle><circle cx=\"163.4449035812672\" cy=\"86.46865289709379\" r=\"2.6351303938491446\" fill=\"#4269d0\"></circle><circle cx=\"256.10330578512395\" cy=\"169.81721805885576\" r=\"2.619803807679193\" fill=\"#efb118\"></circle><circle cx=\"124.8870523415978\" cy=\"72.99396819594223\" r=\"2.603382076074343\" fill=\"#4269d0\"></circle><circle cx=\"210.37190082644625\" cy=\"130.85176384573205\" r=\"2.5999659863224904\" fill=\"#4269d0\"></circle><circle cx=\"132.65840220385672\" cy=\"69.17382562602813\" r=\"2.5553333308007247\" fill=\"#4269d0\"></circle><circle cx=\"130.86501377410468\" cy=\"67.09011149698412\" r=\"2.496352553516736\" fill=\"#4269d0\"></circle><circle cx=\"184.66666666666666\" cy=\"91.22646682507767\" r=\"2.482572712770361\" fill=\"#4269d0\"></circle><circle cx=\"176.8953168044077\" cy=\"90.28879546700786\" r=\"2.461197720199377\" fill=\"#4269d0\"></circle><circle cx=\"216.34986225895318\" cy=\"89.55949552184245\" r=\"2.4175688101296267\" fill=\"#4269d0\"></circle><circle cx=\"140.72865013774106\" cy=\"86.81593858526777\" r=\"2.1735461479531417\" fill=\"#4269d0\"></circle><circle cx=\"137.7396694214876\" cy=\"61.672454761469574\" r=\"2.150791552924686\" fill=\"#4269d0\"></circle><circle cx=\"152.98347107438013\" cy=\"101.43666605739354\" r=\"2.1217753958215377\" fill=\"#4269d0\"></circle><circle cx=\"212.76308539944904\" cy=\"93.86583805520016\" r=\"2.1102029946043004\" fill=\"#4269d0\"></circle></g><g transform=\"translate(241,0)\"><circle cx=\"118.01239669421487\" cy=\"98.38055200146223\" r=\"12.886717061393606\" fill=\"#4269d0\"></circle><circle cx=\"166.732782369146\" cy=\"137.346006214586\" r=\"10.986352909433458\" fill=\"#efb118\"></circle><circle cx=\"64.2107438016529\" cy=\"63.92981173460062\" r=\"7.230947771323962\" fill=\"#4269d0\"></circle><circle cx=\"161.95041322314046\" cy=\"118.83567903491135\" r=\"6.122356957678354\" fill=\"#4269d0\"></circle><circle cx=\"69.29201101928375\" cy=\"56.84518369585087\" r=\"5.815596559291829\" fill=\"#4269d0\"></circle><circle cx=\"143.41873278236912\" cy=\"108.9033083531347\" r=\"5.752084473298171\" fill=\"#4269d0\"></circle><circle cx=\"55.54269972451791\" cy=\"67.6110400292451\" r=\"5.188812662654942\" fill=\"#4269d0\"></circle><circle cx=\"212.76308539944904\" cy=\"140.71467738987388\" r=\"5.110413372103695\" fill=\"#efb118\"></circle><circle cx=\"214.85537190082644\" cy=\"111.50795101443977\" r=\"4.970410257070146\" fill=\"#efb118\"></circle><circle cx=\"213.65977961432506\" cy=\"135.88740632425515\" r=\"4.853080204264316\" fill=\"#efb118\"></circle><circle cx=\"184.3677685950413\" cy=\"93.51855236702616\" r=\"4.757057504768002\" fill=\"#4269d0\"></circle><circle cx=\"65.40633608815426\" cy=\"63.75616889051362\" r=\"4.699498416089643\" fill=\"#4269d0\"></circle><circle cx=\"76.16666666666666\" cy=\"63.47834033997442\" r=\"4.671215435065505\" fill=\"#4269d0\"></circle><circle cx=\"69.5909090909091\" cy=\"61.81136903673915\" r=\"4.606331644602031\" fill=\"#4269d0\"></circle><circle cx=\"178.68870523415976\" cy=\"93.86583805520016\" r=\"4.343210054283045\" fill=\"#4269d0\"></circle><circle cx=\"162.84710743801654\" cy=\"105.56936574666422\" r=\"4.266770525747342\" fill=\"#4269d0\"></circle><circle cx=\"184.66666666666666\" cy=\"127.48309267044418\" r=\"4.240969678161457\" fill=\"#4269d0\"></circle><circle cx=\"113.23002754820936\" cy=\"88.23980990678119\" r=\"4.157196015199657\" fill=\"#4269d0\"></circle><circle cx=\"94.10055096418732\" cy=\"60.94315481630414\" r=\"4.152078846927729\" fill=\"#4269d0\"></circle><circle cx=\"79.45454545454544\" cy=\"69.45165417656735\" r=\"4.095343274197896\" fill=\"#4269d0\"></circle><circle cx=\"190.94352617079886\" cy=\"103.03418022299397\" r=\"4.062864023570464\" fill=\"#4269d0\"></circle><circle cx=\"109.94214876033057\" cy=\"80.25223907877901\" r=\"3.8306346086425425\" fill=\"#4269d0\"></circle><circle cx=\"166.43388429752065\" cy=\"114.04313653811005\" r=\"3.8271790747951973\" fill=\"#efb118\"></circle><circle cx=\"142.82093663911846\" cy=\"86.36446719064158\" r=\"3.741002342335374\" fill=\"#4269d0\"></circle><circle cx=\"66.60192837465564\" cy=\"60.80424054103455\" r=\"3.731024878033102\" fill=\"#4269d0\"></circle><circle cx=\"102.46969696969695\" cy=\"104.2844087004204\" r=\"3.471692828600955\" fill=\"#4269d0\"></circle><circle cx=\"181.97658402203857\" cy=\"96.33156644123561\" r=\"3.414169633028727\" fill=\"#4269d0\"></circle><circle cx=\"75.86776859504133\" cy=\"64.69384024858343\" r=\"3.3410925234069966\" fill=\"#4269d0\"></circle><circle cx=\"61.22176308539945\" cy=\"57.15774081520745\" r=\"3.330286673891602\" fill=\"#4269d0\"></circle><circle cx=\"246.83746556473827\" cy=\"107.30579418753427\" r=\"3.3296994312784856\" fill=\"#efb118\"></circle><circle cx=\"151.48898071625345\" cy=\"81.74556753792726\" r=\"3.3063362472405284\" fill=\"#4269d0\"></circle><circle cx=\"236.67493112947656\" cy=\"151.37634801681594\" r=\"3.25480693273923\" fill=\"#efb118\"></circle><circle cx=\"216.9476584022038\" cy=\"93.44909522939133\" r=\"3.226635212000299\" fill=\"#4269d0\"></circle><circle cx=\"106.35537190082644\" cy=\"86.78121001645036\" r=\"3.1738647157112254\" fill=\"#4269d0\"></circle><circle cx=\"63.31404958677686\" cy=\"65.94406872600985\" r=\"3.124496259100213\" fill=\"#4269d0\"></circle><circle cx=\"96.49173553719007\" cy=\"62.47121184426976\" r=\"3.110057157110192\" fill=\"#4269d0\"></circle><circle cx=\"93.50275482093664\" cy=\"75.77225370133432\" r=\"3.0917285084200947\" fill=\"#4269d0\"></circle><circle cx=\"84.23691460055096\" cy=\"57.33138365929448\" r=\"3.0679027899047417\" fill=\"#4269d0\"></circle><circle cx=\"231.5936639118457\" cy=\"95.53280935843537\" r=\"3.011353155059502\" fill=\"#4269d0\"></circle><circle cx=\"65.70523415977962\" cy=\"68.40979711204533\" r=\"2.9906114179316177\" fill=\"#4269d0\"></circle><circle cx=\"173.6074380165289\" cy=\"93.93529519283493\" r=\"2.9593186078816087\" fill=\"#4269d0\"></circle><circle cx=\"59.72727272727273\" cy=\"56.115883750685406\" r=\"2.9060289432569073\" fill=\"#4269d0\"></circle><circle cx=\"184.3677685950413\" cy=\"130.15719246938403\" r=\"2.8149319204594976\" fill=\"#4269d0\"></circle><circle cx=\"181.37878787878788\" cy=\"143.80552001462257\" r=\"2.814676328940697\" fill=\"#4269d0\"></circle><circle cx=\"167.92837465564736\" cy=\"83.20416742825806\" r=\"2.8132357762031592\" fill=\"#4269d0\"></circle><circle cx=\"86.92699724517905\" cy=\"84.73222445622375\" r=\"2.8023225188969367\" fill=\"#4269d0\"></circle><circle cx=\"61.52066115702479\" cy=\"65.87461158837506\" r=\"2.78114259560431\" fill=\"#4269d0\"></circle><circle cx=\"69.88980716253442\" cy=\"71.39645403034181\" r=\"2.7701271321159164\" fill=\"#4269d0\"></circle><circle cx=\"257\" cy=\"160.16267592761832\" r=\"2.7647544986092307\" fill=\"#efb118\"></circle><circle cx=\"92.00826446280992\" cy=\"60.873697678669345\" r=\"2.7592701675745452\" fill=\"#4269d0\"></circle><circle cx=\"181.0798898071625\" cy=\"99.73496618534088\" r=\"2.726630962650751\" fill=\"#4269d0\"></circle><circle cx=\"70.48760330578511\" cy=\"55.629683787241795\" r=\"2.7204299011824076\" fill=\"#4269d0\"></circle><circle cx=\"126.08264462809916\" cy=\"65.07585450557484\" r=\"2.662420889200214\" fill=\"#4269d0\"></circle><circle cx=\"112.03443526170798\" cy=\"67.36794004752332\" r=\"2.639524666166915\" fill=\"#4269d0\"></circle><circle cx=\"82.14462809917356\" cy=\"65.11058307439225\" r=\"2.6331653789483678\" fill=\"#4269d0\"></circle><circle cx=\"147.60330578512395\" cy=\"101.05465180040213\" r=\"2.590419832048626\" fill=\"#4269d0\"></circle><circle cx=\"124.8870523415978\" cy=\"67.85414001096693\" r=\"2.5229839255005446\" fill=\"#4269d0\"></circle><circle cx=\"145.8099173553719\" cy=\"69.83366843355876\" r=\"2.5093396336475853\" fill=\"#4269d0\"></circle><circle cx=\"82.74242424242424\" cy=\"72.26466825077682\" r=\"2.1788893109502454\" fill=\"#4269d0\"></circle><circle cx=\"90.21487603305785\" cy=\"53.71961250228476\" r=\"2.168056288638547\" fill=\"#4269d0\"></circle><circle cx=\"108.74655647382919\" cy=\"79.62712484006582\" r=\"2.1616979560423446\" fill=\"#4269d0\"></circle><circle cx=\"131.46280991735537\" cy=\"76.81411076585633\" r=\"2.112179043860483\" fill=\"#4269d0\"></circle></g><g transform=\"translate(482,0)\"><circle cx=\"86.32920110192836\" cy=\"80.0438676658746\" r=\"14.22373857346658\" fill=\"#4269d0\"></circle><circle cx=\"132.3595041322314\" cy=\"109.59787972948274\" r=\"12.617670934501865\" fill=\"#efb118\"></circle><circle cx=\"73.1776859504132\" cy=\"53.54596965819776\" r=\"7.668340750058937\" fill=\"#4269d0\"></circle><circle cx=\"103.96418732782368\" cy=\"94.07420946810456\" r=\"6.857168447551015\" fill=\"#4269d0\"></circle><circle cx=\"98.28512396694215\" cy=\"82.82215317126665\" r=\"6.417969574906365\" fill=\"#4269d0\"></circle><circle cx=\"57.03719008264463\" cy=\"40.73112776457688\" r=\"6.002373758574381\" fill=\"#4269d0\"></circle><circle cx=\"201.40495867768593\" cy=\"104.49278011332481\" r=\"5.866216614982312\" fill=\"#efb118\"></circle><circle cx=\"145.21212121212122\" cy=\"114.42515079510146\" r=\"5.725187472313609\" fill=\"#efb118\"></circle><circle cx=\"204.39393939393938\" cy=\"126.58014988119174\" r=\"5.511622297174032\" fill=\"#efb118\"></circle><circle cx=\"114.42561983471074\" cy=\"70.45878267227201\" r=\"5.253285090146202\" fill=\"#4269d0\"></circle><circle cx=\"54.34710743801653\" cy=\"53.75434107110218\" r=\"5.2061625201657975\" fill=\"#4269d0\"></circle><circle cx=\"141.32644628099172\" cy=\"78.9325534637178\" r=\"4.823593834341122\" fill=\"#4269d0\"></circle><circle cx=\"145.21212121212122\" cy=\"94.52568086273077\" r=\"4.722139349170403\" fill=\"#4269d0\"></circle><circle cx=\"66.00413223140495\" cy=\"53.09449826357157\" r=\"4.722039719685583\" fill=\"#4269d0\"></circle><circle cx=\"51.05922865013774\" cy=\"48.54505574849207\" r=\"4.711220520686165\" fill=\"#4269d0\"></circle><circle cx=\"64.50964187327824\" cy=\"48.37141290440508\" r=\"4.702999765179988\" fill=\"#4269d0\"></circle><circle cx=\"156.5702479338843\" cy=\"84.94059586912809\" r=\"4.688122844655452\" fill=\"#4269d0\"></circle><circle cx=\"104.86088154269972\" cy=\"77.75178212392616\" r=\"4.652486880021489\" fill=\"#4269d0\"></circle><circle cx=\"59.12947658402204\" cy=\"66.01352586364469\" r=\"4.390422953555968\" fill=\"#4269d0\"></circle><circle cx=\"122.49586776859505\" cy=\"93.62273807347833\" r=\"4.272590304768652\" fill=\"#efb118\"></circle><circle cx=\"51.95592286501378\" cy=\"49.2396271248401\" r=\"4.24427028016169\" fill=\"#4269d0\"></circle><circle cx=\"72.57988980716253\" cy=\"69.66002558947176\" r=\"4.220319502388155\" fill=\"#4269d0\"></circle><circle cx=\"101.87190082644628\" cy=\"64.83275452385305\" r=\"4.055967728774053\" fill=\"#4269d0\"></circle><circle cx=\"103.366391184573\" cy=\"68.37506854322791\" r=\"4.054825209020841\" fill=\"#4269d0\"></circle><circle cx=\"65.40633608815426\" cy=\"47.6073843904222\" r=\"3.8926091834944554\" fill=\"#4269d0\"></circle><circle cx=\"194.53030303030303\" cy=\"100.77682324986293\" r=\"3.7319978839560273\" fill=\"#efb118\"></circle><circle cx=\"128.1749311294766\" cy=\"76.05008225187352\" r=\"3.692163522057593\" fill=\"#4269d0\"></circle><circle cx=\"81.54683195592287\" cy=\"80.46061049168343\" r=\"3.6412830869056343\" fill=\"#4269d0\"></circle><circle cx=\"114.42561983471074\" cy=\"64.93694023030525\" r=\"3.599361813027129\" fill=\"#4269d0\"></circle><circle cx=\"187.05785123966942\" cy=\"83.8292816669713\" r=\"3.5122801372685775\" fill=\"#4269d0\"></circle><circle cx=\"68.09641873278235\" cy=\"49.10071284957047\" r=\"3.48591361868872\" fill=\"#4269d0\"></circle><circle cx=\"185.5633608815427\" cy=\"80.07859623469201\" r=\"3.439731246583318\" fill=\"#4269d0\"></circle><circle cx=\"59.42837465564739\" cy=\"48.54505574849207\" r=\"3.3912276442526843\" fill=\"#4269d0\"></circle><circle cx=\"88.42148760330579\" cy=\"61.49881191738253\" r=\"3.314562990885675\" fill=\"#4269d0\"></circle><circle cx=\"237.57162534435258\" cy=\"129.5668067994882\" r=\"3.1769094743661075\" fill=\"#efb118\"></circle><circle cx=\"65.10743801652893\" cy=\"56.0116980442332\" r=\"3.173155572919341\" fill=\"#4269d0\"></circle><circle cx=\"123.09366391184574\" cy=\"66.63864010235788\" r=\"3.163353135398776\" fill=\"#4269d0\"></circle><circle cx=\"55.84159779614325\" cy=\"48.30195576677022\" r=\"3.1551089641608963\" fill=\"#4269d0\"></circle><circle cx=\"57.93388429752066\" cy=\"58.54688356790349\" r=\"3.138456036834203\" fill=\"#4269d0\"></circle><circle cx=\"59.72727272727273\" cy=\"52.05264119904952\" r=\"3.1357346679692997\" fill=\"#4269d0\"></circle><circle cx=\"54.94490358126721\" cy=\"52.677755437762755\" r=\"2.99724410294439\" fill=\"#4269d0\"></circle><circle cx=\"216.6487603305785\" cy=\"142.83312008773535\" r=\"2.9736687237797366\" fill=\"#efb118\"></circle><circle cx=\"113.23002754820936\" cy=\"66.56918296472308\" r=\"2.960884605970503\" fill=\"#4269d0\"></circle><circle cx=\"157.4669421487603\" cy=\"102.27015170901116\" r=\"2.9586709039172594\" fill=\"#4269d0\"></circle><circle cx=\"175.10192837465564\" cy=\"126.99689270700055\" r=\"2.94705908452079\" fill=\"#4269d0\"></circle><circle cx=\"58.53168044077135\" cy=\"45.83622738073478\" r=\"2.93233684651443\" fill=\"#4269d0\"></circle><circle cx=\"49.863636363636374\" cy=\"47.46847011515262\" r=\"2.869581318391291\" fill=\"#4269d0\"></circle><circle cx=\"80.35123966942149\" cy=\"78.51581063790897\" r=\"2.835635898471948\" fill=\"#4269d0\"></circle><circle cx=\"129.37052341597797\" cy=\"74.10528239809908\" r=\"2.8337384803117596\" fill=\"#4269d0\"></circle><circle cx=\"64.50964187327824\" cy=\"54.55309815390237\" r=\"2.803630993654735\" fill=\"#4269d0\"></circle><circle cx=\"60.026170798898065\" cy=\"64.86748309267047\" r=\"2.794486486772924\" fill=\"#4269d0\"></circle><circle cx=\"106.35537190082644\" cy=\"48.02412721623102\" r=\"2.7887231409238176\" fill=\"#4269d0\"></circle><circle cx=\"68.9931129476584\" cy=\"49.58691281301408\" r=\"2.741179680757452\" fill=\"#4269d0\"></circle><circle cx=\"109.94214876033057\" cy=\"73.68853957229025\" r=\"2.682225135673036\" fill=\"#4269d0\"></circle><circle cx=\"74.37327823691459\" cy=\"56.115883750685406\" r=\"2.671864199402241\" fill=\"#4269d0\"></circle><circle cx=\"76.16666666666666\" cy=\"54.136355328093586\" r=\"2.6633297027728\" fill=\"#4269d0\"></circle><circle cx=\"107.25206611570246\" cy=\"49.30908426247488\" r=\"2.6395584852089597\" fill=\"#4269d0\"></circle><circle cx=\"96.49173553719007\" cy=\"54.93511241089384\" r=\"2.556596047002331\" fill=\"#4269d0\"></circle><circle cx=\"86.92699724517905\" cy=\"70.4240541034546\" r=\"2.1872337295629873\" fill=\"#4269d0\"></circle><circle cx=\"63.31404958677686\" cy=\"60.00548345823432\" r=\"2.1831032237931134\" fill=\"#4269d0\"></circle><circle cx=\"79.7534435261708\" cy=\"45.24584171083897\" r=\"2.1817368832674675\" fill=\"#4269d0\"></circle><circle cx=\"115.62121212121212\" cy=\"76.15426795832573\" r=\"2.113260237893163\" fill=\"#4269d0\"></circle></g><g transform=\"translate(723,0)\"><circle cx=\"59.72727272727273\" cy=\"63.06159751416558\" r=\"15\" fill=\"#4269d0\"></circle><circle cx=\"99.77961432506886\" cy=\"89.42058124657282\" r=\"14.228687976620492\" fill=\"#efb118\"></circle><circle cx=\"72.87878787878788\" cy=\"46.56552732590018\" r=\"8.200403763251163\" fill=\"#4269d0\"></circle><circle cx=\"83.93801652892563\" cy=\"79.45348199597879\" r=\"7.443643784758903\" fill=\"#4269d0\"></circle><circle cx=\"70.18870523415978\" cy=\"63.651983184061415\" r=\"6.918607224636279\" fill=\"#4269d0\"></circle><circle cx=\"149.9944903581267\" cy=\"104.49278011332481\" r=\"6.752206489073828\" fill=\"#efb118\"></circle><circle cx=\"95.2961432506887\" cy=\"82.30122463900567\" r=\"6.2720045368964605\" fill=\"#efb118\"></circle><circle cx=\"192.73691460055093\" cy=\"119.84280753061596\" r=\"6.265604920941571\" fill=\"#efb118\"></circle><circle cx=\"49.26584022038568\" cy=\"30\" r=\"6.068360873896224\" fill=\"#4269d0\"></circle><circle cx=\"86.03030303030303\" cy=\"56.0116980442332\" r=\"5.695425505019047\" fill=\"#4269d0\"></circle><circle cx=\"115.62121212121212\" cy=\"72.33412538841162\" r=\"5.342448159004929\" fill=\"#4269d0\"></circle><circle cx=\"51.358126721763085\" cy=\"39.93237068177663\" r=\"5.243152411240404\" fill=\"#4269d0\"></circle><circle cx=\"105.4586776859504\" cy=\"77.64759641747393\" r=\"5.200201011379753\" fill=\"#4269d0\"></circle><circle cx=\"64.50964187327824\" cy=\"61.08206909157376\" r=\"5.014890300431318\" fill=\"#4269d0\"></circle><circle cx=\"77.6611570247934\" cy=\"49.76055565710108\" r=\"4.982978188093479\" fill=\"#4269d0\"></circle><circle cx=\"68.69421487603306\" cy=\"36.73734235057576\" r=\"4.799436794798276\" fill=\"#4269d0\"></circle><circle cx=\"63.911845730027544\" cy=\"41.00895631511608\" r=\"4.7965128187203625\" fill=\"#4269d0\"></circle><circle cx=\"51.358126721763085\" cy=\"35.24401389142755\" r=\"4.745477167065311\" fill=\"#4269d0\"></circle><circle cx=\"86.32920110192836\" cy=\"135.57484920489856\" r=\"4.519595485392016\" fill=\"#efb118\"></circle><circle cx=\"44.184573002754824\" cy=\"42.919027600073115\" r=\"4.4904469146257115\" fill=\"#4269d0\"></circle><circle cx=\"51.05922865013774\" cy=\"36.667885212940966\" r=\"4.378618737076239\" fill=\"#4269d0\"></circle><circle cx=\"78.85674931129475\" cy=\"50.767684152805714\" r=\"4.338410517138319\" fill=\"#4269d0\"></circle><circle cx=\"83.93801652892563\" cy=\"55.07402668616339\" r=\"4.249475651307272\" fill=\"#4269d0\"></circle><circle cx=\"48.36914600550965\" cy=\"55.38658380552003\" r=\"4.235192348394033\" fill=\"#4269d0\"></circle><circle cx=\"154.17906336088154\" cy=\"120.2595503564248\" r=\"4.154562234787136\" fill=\"#efb118\"></circle><circle cx=\"57.33608815426997\" cy=\"37.188813745201955\" r=\"4.042641017951464\" fill=\"#4269d0\"></circle><circle cx=\"145.21212121212122\" cy=\"81.46773898738802\" r=\"3.927914624212578\" fill=\"#4269d0\"></circle><circle cx=\"91.70936639118457\" cy=\"48.54505574849207\" r=\"3.9093032989193834\" fill=\"#4269d0\"></circle><circle cx=\"89.9159779614325\" cy=\"56.0116980442332\" r=\"3.858482267305002\" fill=\"#4269d0\"></circle><circle cx=\"217.8443526170799\" cy=\"116.36995064887589\" r=\"3.7780799751498146\" fill=\"#efb118\"></circle><circle cx=\"108.14876033057851\" cy=\"69.38219703893256\" r=\"3.777586533592342\" fill=\"#4269d0\"></circle><circle cx=\"69.88980716253442\" cy=\"73.37598245293364\" r=\"3.766746240043733\" fill=\"#4269d0\"></circle><circle cx=\"66.3030303030303\" cy=\"34.375799670992535\" r=\"3.616323884409033\" fill=\"#4269d0\"></circle><circle cx=\"62.417355371900825\" cy=\"39.967099250594046\" r=\"3.4512476457923125\" fill=\"#4269d0\"></circle><circle cx=\"65.10743801652893\" cy=\"46.00987022482178\" r=\"3.4473818633014828\" fill=\"#4269d0\"></circle><circle cx=\"94.99724517906336\" cy=\"60.873697678669345\" r=\"3.3354387255468634\" fill=\"#4269d0\"></circle><circle cx=\"55.24380165289256\" cy=\"46.739170169987176\" r=\"3.2068632068493184\" fill=\"#4269d0\"></circle><circle cx=\"51.65702479338843\" cy=\"40.661670626942026\" r=\"3.1997236425561506\" fill=\"#4269d0\"></circle><circle cx=\"53.45041322314049\" cy=\"43.02321330652532\" r=\"3.167436027938364\" fill=\"#4269d0\"></circle><circle cx=\"63.911845730027544\" cy=\"41.043684883933494\" r=\"3.1670844677980896\" fill=\"#4269d0\"></circle><circle cx=\"117.71349862258953\" cy=\"76.98775360994333\" r=\"3.1020409930821735\" fill=\"#4269d0\"></circle><circle cx=\"89.31818181818181\" cy=\"64.52019740449643\" r=\"3.0894756906597203\" fill=\"#4269d0\"></circle><circle cx=\"125.78374655647383\" cy=\"111.43849387680497\" r=\"3.0863287639186776\" fill=\"#4269d0\"></circle><circle cx=\"173.9063360881543\" cy=\"114.32096508864925\" r=\"3.0812140096340173\" fill=\"#efb118\"></circle><circle cx=\"53.45041322314049\" cy=\"39.55035642478522\" r=\"3.032234695773145\" fill=\"#4269d0\"></circle><circle cx=\"53.74931129476583\" cy=\"32.81301407420947\" r=\"2.980856490723534\" fill=\"#4269d0\"></circle><circle cx=\"40\" cy=\"32.535185523670265\" r=\"2.947848025261451\" fill=\"#4269d0\"></circle><circle cx=\"96.19283746556472\" cy=\"37.7444708462804\" r=\"2.9325056791529596\" fill=\"#4269d0\"></circle><circle cx=\"84.83471074380165\" cy=\"60.97788338512155\" r=\"2.884294206015702\" fill=\"#4269d0\"></circle><circle cx=\"65.10743801652893\" cy=\"41.043684883933494\" r=\"2.8242783414168624\" fill=\"#4269d0\"></circle><circle cx=\"77.0633608815427\" cy=\"54.51836958508499\" r=\"2.775457866919245\" fill=\"#4269d0\"></circle><circle cx=\"66.3030303030303\" cy=\"37.39718515810637\" r=\"2.773839891586409\" fill=\"#4269d0\"></circle><circle cx=\"56.1404958677686\" cy=\"54.0668981904588\" r=\"2.7574309244132706\" fill=\"#4269d0\"></circle><circle cx=\"72.28099173553719\" cy=\"40.626942058124676\" r=\"2.747638812837208\" fill=\"#4269d0\"></circle><circle cx=\"69.88980716253442\" cy=\"39.37671358069823\" r=\"2.73160725354909\" fill=\"#4269d0\"></circle><circle cx=\"67.19972451790633\" cy=\"41.80771339791632\" r=\"2.730582886974044\" fill=\"#4269d0\"></circle><circle cx=\"59.42837465564739\" cy=\"69.76421129592399\" r=\"2.7162575370484072\" fill=\"#4269d0\"></circle><circle cx=\"72.87878787878788\" cy=\"47.64211295923961\" r=\"2.5888028168078163\" fill=\"#4269d0\"></circle><circle cx=\"72.57988980716253\" cy=\"62.367026137817554\" r=\"2.2122384634203254\" fill=\"#4269d0\"></circle><circle cx=\"72.57988980716253\" cy=\"33.09084262474867\" r=\"2.196135511824112\" fill=\"#4269d0\"></circle><circle cx=\"64.80853994490359\" cy=\"55.212940961433034\" r=\"2.1868175440651814\" fill=\"#4269d0\"></circle><circle cx=\"81.24793388429751\" cy=\"65.14531164320967\" r=\"2.1194961694501853\" fill=\"#4269d0\"></circle></g></g></svg></figure>"
      ],
      "text/plain": [
       "<IPython.core.display.HTML object>"
      ]
     },
     "metadata": {},
     "output_type": "display_data"
    }
   ],
   "source": [
    "Plot.plot(\n",
    "    {\n",
    "        \"height\": 250,\n",
    "        \"width\": 1000,\n",
    "        \"title\": \"Fertility vs Life Expectancy\",\n",
    "        \"x\": {\"label\": \"fertility\"},\n",
    "        \"y\": {\"label\": \"Life Expectancy\"},\n",
    "        \"color\": {\"legend\": True, \"type\": \"categorical\"},\n",
    "        \"r\": {\"range\": [2, 15]},\n",
    "        \"grid\": True,\n",
    "        \"marks\": [\n",
    "            Plot.frame(),\n",
    "            Plot.dot(\n",
    "                facet_df,\n",
    "                {\n",
    "                    \"x\": \"fertility\",\n",
    "                    \"y\": \"life_expect\",\n",
    "                    \"fx\": \"year\",\n",
    "                    \"fill\": js(\n",
    "                        \"d => ['Americas', 'E. Asia & Pacific', 'Europe', 'Mid. East'].includes(d.region) ? 'Northern Hemisphere': 'Southern Hemisphere'\"\n",
    "                    ),\n",
    "                    \"r\": \"pop\",\n",
    "                },\n",
    "            ),\n",
    "        ],\n",
    "    }\n",
    ")"
   ]
  },
  {
   "cell_type": "markdown",
   "id": "30c4e229-39d3-4ee3-94f1-1d489499e420",
   "metadata": {
    "id": "30c4e229-39d3-4ee3-94f1-1d489499e420"
   },
   "source": [
    "## Bar Chart\n",
    "\n",
    "A **bar chart** is a chart that uses bars to represent values. The bars can be horizontal or vertical, and the length of each bar encodes the value. Bar charts are commonly used to compare different categories. Here, we have a list of countries and their populations in 2005:"
   ]
  },
  {
   "cell_type": "code",
   "execution_count": 31,
   "id": "bc30fa25-b552-48fc-a801-5f38bba9bcaf",
   "metadata": {
    "colab": {
     "base_uri": "https://localhost:8080/",
     "height": 286
    },
    "id": "bc30fa25-b552-48fc-a801-5f38bba9bcaf",
    "outputId": "5a232ce8-181d-4216-fe19-be35c2952224"
   },
   "outputs": [
    {
     "data": {
      "text/html": [
       "<div><style>\n",
       ".dataframe > thead > tr,\n",
       ".dataframe > tbody > tr {\n",
       "  text-align: right;\n",
       "  white-space: pre-wrap;\n",
       "}\n",
       "</style>\n",
       "<small>shape: (6, 7)</small><table border=\"1\" class=\"dataframe\"><thead><tr><th>year</th><th>country</th><th>cluster</th><th>pop</th><th>life_expect</th><th>fertility</th><th>region</th></tr><tr><td>i64</td><td>str</td><td>i64</td><td>i64</td><td>f64</td><td>f64</td><td>str</td></tr></thead><tbody><tr><td>2005</td><td>&quot;Australia&quot;</td><td>4</td><td>20171731</td><td>81.24</td><td>1.84</td><td>&quot;E. Asia &amp; Pacific&quot;</td></tr><tr><td>2005</td><td>&quot;China&quot;</td><td>4</td><td>1304887562</td><td>72.98</td><td>1.62</td><td>&quot;E. Asia &amp; Pacific&quot;</td></tr><tr><td>2005</td><td>&quot;France&quot;</td><td>1</td><td>60510079</td><td>80.56</td><td>1.92</td><td>&quot;Europe&quot;</td></tr><tr><td>2005</td><td>&quot;India&quot;</td><td>0</td><td>1154638713</td><td>65.39</td><td>2.96</td><td>&quot;S. Asia&quot;</td></tr><tr><td>2005</td><td>&quot;Nigeria&quot;</td><td>2</td><td>140490722</td><td>56.63</td><td>6.07</td><td>&quot;Africa&quot;</td></tr><tr><td>2005</td><td>&quot;United States&quot;</td><td>3</td><td>296842670</td><td>77.73</td><td>2.06</td><td>&quot;Americas&quot;</td></tr></tbody></table></div>"
      ],
      "text/plain": [
       "shape: (6, 7)\n",
       "┌──────┬───────────────┬─────────┬────────────┬─────────────┬───────────┬───────────────────┐\n",
       "│ year ┆ country       ┆ cluster ┆ pop        ┆ life_expect ┆ fertility ┆ region            │\n",
       "│ ---  ┆ ---           ┆ ---     ┆ ---        ┆ ---         ┆ ---       ┆ ---               │\n",
       "│ i64  ┆ str           ┆ i64     ┆ i64        ┆ f64         ┆ f64       ┆ str               │\n",
       "╞══════╪═══════════════╪═════════╪════════════╪═════════════╪═══════════╪═══════════════════╡\n",
       "│ 2005 ┆ Australia     ┆ 4       ┆ 20171731   ┆ 81.24       ┆ 1.84      ┆ E. Asia & Pacific │\n",
       "│ 2005 ┆ China         ┆ 4       ┆ 1304887562 ┆ 72.98       ┆ 1.62      ┆ E. Asia & Pacific │\n",
       "│ 2005 ┆ France        ┆ 1       ┆ 60510079   ┆ 80.56       ┆ 1.92      ┆ Europe            │\n",
       "│ 2005 ┆ India         ┆ 0       ┆ 1154638713 ┆ 65.39       ┆ 2.96      ┆ S. Asia           │\n",
       "│ 2005 ┆ Nigeria       ┆ 2       ┆ 140490722  ┆ 56.63       ┆ 6.07      ┆ Africa            │\n",
       "│ 2005 ┆ United States ┆ 3       ┆ 296842670  ┆ 77.73       ┆ 2.06      ┆ Americas          │\n",
       "└──────┴───────────────┴─────────┴────────────┴─────────────┴───────────┴───────────────────┘"
      ]
     },
     "execution_count": 31,
     "metadata": {},
     "output_type": "execute_result"
    }
   ],
   "source": [
    "bar_countries = [\"Australia\", \"China\", \"France\", \"India\", \"Nigeria\", \"United States\"]\n",
    "bar_countries_2005_df = df.filter(\n",
    "    (pl.col(\"year\") == 2005) & pl.col(\"country\").is_in(bar_countries)\n",
    ")\n",
    "bar_countries_2005_df"
   ]
  },
  {
   "cell_type": "code",
   "execution_count": 32,
   "id": "96af8a8f-f096-4bfb-9f30-b4e5cb065800",
   "metadata": {
    "colab": {
     "base_uri": "https://localhost:8080/",
     "height": 463
    },
    "dfmetadata": {
     "inputVars": {
      "ref": {},
      "tag_refs": {}
     },
     "outputVars": [],
     "persistentCode": "",
     "tag": ""
    },
    "id": "96af8a8f-f096-4bfb-9f30-b4e5cb065800",
    "outputId": "2e775d9d-be4f-4d17-f3e6-e9e5c83a04aa"
   },
   "outputs": [
    {
     "data": {
      "text/html": [
       "<figure class=\"plot-d6a7b5-figure\" style=\"max-width: initial; padding: 0px 5px 5px 5px; color: rgb(0, 0, 0); background-color: rgb(255, 255, 255);\" typstbg=\"#FFFFFF\" typstfg=\"#000000\" typstcaption=\"#777777\"><svg class=\"plot-d6a7b5\" fill=\"currentColor\" font-family=\"system-ui, sans-serif\" font-size=\"10\" text-anchor=\"middle\" width=\"640\" height=\"400\" viewBox=\"0 0 640 400\" xmlns=\"http://www.w3.org/2000/svg\" xmlns:xlink=\"http://www.w3.org/1999/xlink\" style=\"color: rgb(0, 0, 0); background-color: rgb(255, 255, 255);\"><style>:where(.plot-d6a7b5) {\n",
       "  --plot-background: white;\n",
       "  display: block;\n",
       "  height: auto;\n",
       "  height: intrinsic;\n",
       "  max-width: 100%;\n",
       "}\n",
       ":where(.plot-d6a7b5 text),\n",
       ":where(.plot-d6a7b5 tspan) {\n",
       "  white-space: pre;\n",
       "}</style><g aria-label=\"y-axis tick\" aria-hidden=\"true\" fill=\"none\" stroke=\"currentColor\"><path transform=\"translate(60,370)\" d=\"M0,0L-6,0\"></path><path transform=\"translate(60,343.1777656410829)\" d=\"M0,0L-6,0\"></path><path transform=\"translate(60,316.35553128216577)\" d=\"M0,0L-6,0\"></path><path transform=\"translate(60,289.53329692324866)\" d=\"M0,0L-6,0\"></path><path transform=\"translate(60,262.7110625643315)\" d=\"M0,0L-6,0\"></path><path transform=\"translate(60,235.88882820541434)\" d=\"M0,0L-6,0\"></path><path transform=\"translate(60,209.06659384649726)\" d=\"M0,0L-6,0\"></path><path transform=\"translate(60,182.24435948758014)\" d=\"M0,0L-6,0\"></path><path transform=\"translate(60,155.422125128663)\" d=\"M0,0L-6,0\"></path><path transform=\"translate(60,128.59989076974588)\" d=\"M0,0L-6,0\"></path><path transform=\"translate(60,101.77765641082875)\" d=\"M0,0L-6,0\"></path><path transform=\"translate(60,74.95542205191161)\" d=\"M0,0L-6,0\"></path><path transform=\"translate(60,48.133187692994525)\" d=\"M0,0L-6,0\"></path><path transform=\"translate(60,21.31095333407739)\" d=\"M0,0L-6,0\"></path></g><g aria-label=\"y-axis tick label\" text-anchor=\"end\" font-variant=\"tabular-nums\" transform=\"translate(-9,0)\"><text y=\"0.32em\" transform=\"translate(60,370)\">0</text><text y=\"0.32em\" transform=\"translate(60,343.1777656410829)\">1e+8</text><text y=\"0.32em\" transform=\"translate(60,316.35553128216577)\">2e+8</text><text y=\"0.32em\" transform=\"translate(60,289.53329692324866)\">3e+8</text><text y=\"0.32em\" transform=\"translate(60,262.7110625643315)\">4e+8</text><text y=\"0.32em\" transform=\"translate(60,235.88882820541434)\">5e+8</text><text y=\"0.32em\" transform=\"translate(60,209.06659384649726)\">6e+8</text><text y=\"0.32em\" transform=\"translate(60,182.24435948758014)\">7e+8</text><text y=\"0.32em\" transform=\"translate(60,155.422125128663)\">8e+8</text><text y=\"0.32em\" transform=\"translate(60,128.59989076974588)\">9e+8</text><text y=\"0.32em\" transform=\"translate(60,101.77765641082875)\">1e+9</text><text y=\"0.32em\" transform=\"translate(60,74.95542205191161)\">1.1e+9</text><text y=\"0.32em\" transform=\"translate(60,48.133187692994525)\">1.2e+9</text><text y=\"0.32em\" transform=\"translate(60,21.31095333407739)\">1.3e+9</text></g><g aria-label=\"y-axis label\" text-anchor=\"start\" transform=\"translate(-57,-17)\"><text y=\"0.71em\" transform=\"translate(60,20)\">↑ pop</text></g><g aria-label=\"x-axis tick\" aria-hidden=\"true\" fill=\"none\" stroke=\"currentColor\" transform=\"translate(41,0)\"><path transform=\"translate(72,370)\" d=\"M0,0L0,6\"></path><path transform=\"translate(163,370)\" d=\"M0,0L0,6\"></path><path transform=\"translate(254,370)\" d=\"M0,0L0,6\"></path><path transform=\"translate(345,370)\" d=\"M0,0L0,6\"></path><path transform=\"translate(436,370)\" d=\"M0,0L0,6\"></path><path transform=\"translate(527,370)\" d=\"M0,0L0,6\"></path></g><g aria-label=\"x-axis tick label\" transform=\"translate(41,9)\"><text y=\"0.71em\" transform=\"translate(72,370)\">Australia</text><text y=\"0.71em\" transform=\"translate(163,370)\">China</text><text y=\"0.71em\" transform=\"translate(254,370)\">France</text><text y=\"0.71em\" transform=\"translate(345,370)\">India</text><text y=\"0.71em\" transform=\"translate(436,370)\">Nigeria</text><text y=\"0.71em\" transform=\"translate(527,370)\">United States</text></g><g aria-label=\"x-axis label\" transform=\"translate(0,27)\"><text transform=\"translate(340,370)\">country</text></g><g aria-label=\"bar\"><rect x=\"72\" width=\"82\" y=\"364.58949103692964\" height=\"5.410508963070356\"></rect><rect x=\"163\" width=\"82\" y=\"20\" height=\"350\"></rect><rect x=\"254\" width=\"82\" y=\"353.7698447998541\" height=\"16.230155200145873\"></rect><rect x=\"345\" width=\"82\" y=\"60.30009840035552\" height=\"309.6999015996445\"></rect><rect x=\"436\" width=\"82\" y=\"332.31724929262526\" height=\"37.68275070737474\"></rect><rect x=\"527\" width=\"82\" y=\"290.38016337533304\" height=\"79.61983662466696\"></rect></g></svg></figure>"
      ],
      "text/plain": [
       "<IPython.core.display.HTML object>"
      ]
     },
     "metadata": {},
     "output_type": "display_data"
    }
   ],
   "source": [
    "Plot.plot(\n",
    "    {\n",
    "        \"y\": {\"tickFormat\": \".2\"},\n",
    "        \"marginLeft\": 60,\n",
    "        \"marks\": [Plot.barY(bar_countries_2005_df, {\"x\": \"country\", \"y\": \"pop\"})],\n",
    "    }\n",
    ")"
   ]
  },
  {
   "cell_type": "markdown",
   "id": "bee0a483-0600-46b3-927e-11fc3c8a072b",
   "metadata": {
    "id": "bee0a483-0600-46b3-927e-11fc3c8a072b"
   },
   "source": [
    "As with other charts, a title for the plot and labels for the axes are important, and we can add these as with the other plots."
   ]
  },
  {
   "cell_type": "code",
   "execution_count": 33,
   "id": "13bf7666-382f-4050-842b-acec0045e0f7",
   "metadata": {
    "colab": {
     "base_uri": "https://localhost:8080/",
     "height": 484
    },
    "id": "13bf7666-382f-4050-842b-acec0045e0f7",
    "outputId": "d5942e75-f354-4935-f9c8-86cd34c2b5ff"
   },
   "outputs": [
    {
     "data": {
      "text/html": [
       "<figure class=\"plot-d6a7b5-figure\" style=\"max-width: initial; padding: 0px 5px 5px 5px; color: rgb(0, 0, 0); background-color: rgb(255, 255, 255);\" typstbg=\"#FFFFFF\" typstfg=\"#000000\" typstcaption=\"#777777\"><h2 style=\"line-height: 28px; font-size: 20px; font-weight: 600; margin: 0px;\">Population in 2005</h2><svg class=\"plot-d6a7b5\" fill=\"currentColor\" font-family=\"system-ui, sans-serif\" font-size=\"10\" text-anchor=\"middle\" width=\"640\" height=\"400\" viewBox=\"0 0 640 400\" xmlns=\"http://www.w3.org/2000/svg\" xmlns:xlink=\"http://www.w3.org/1999/xlink\" style=\"color: rgb(0, 0, 0); background-color: rgb(255, 255, 255);\"><style>:where(.plot-d6a7b5) {\n",
       "  --plot-background: white;\n",
       "  display: block;\n",
       "  height: auto;\n",
       "  height: intrinsic;\n",
       "  max-width: 100%;\n",
       "}\n",
       ":where(.plot-d6a7b5 text),\n",
       ":where(.plot-d6a7b5 tspan) {\n",
       "  white-space: pre;\n",
       "}</style><g aria-label=\"y-axis tick\" aria-hidden=\"true\" fill=\"none\" stroke=\"currentColor\"><path transform=\"translate(60,370)\" d=\"M0,0L-6,0\"></path><path transform=\"translate(60,343.1777656410829)\" d=\"M0,0L-6,0\"></path><path transform=\"translate(60,316.35553128216577)\" d=\"M0,0L-6,0\"></path><path transform=\"translate(60,289.53329692324866)\" d=\"M0,0L-6,0\"></path><path transform=\"translate(60,262.7110625643315)\" d=\"M0,0L-6,0\"></path><path transform=\"translate(60,235.88882820541434)\" d=\"M0,0L-6,0\"></path><path transform=\"translate(60,209.06659384649726)\" d=\"M0,0L-6,0\"></path><path transform=\"translate(60,182.24435948758014)\" d=\"M0,0L-6,0\"></path><path transform=\"translate(60,155.422125128663)\" d=\"M0,0L-6,0\"></path><path transform=\"translate(60,128.59989076974588)\" d=\"M0,0L-6,0\"></path><path transform=\"translate(60,101.77765641082875)\" d=\"M0,0L-6,0\"></path><path transform=\"translate(60,74.95542205191161)\" d=\"M0,0L-6,0\"></path><path transform=\"translate(60,48.133187692994525)\" d=\"M0,0L-6,0\"></path><path transform=\"translate(60,21.31095333407739)\" d=\"M0,0L-6,0\"></path></g><g aria-label=\"y-axis tick label\" text-anchor=\"end\" font-variant=\"tabular-nums\" transform=\"translate(-9,0)\"><text y=\"0.32em\" transform=\"translate(60,370)\">0</text><text y=\"0.32em\" transform=\"translate(60,343.1777656410829)\">1e+8</text><text y=\"0.32em\" transform=\"translate(60,316.35553128216577)\">2e+8</text><text y=\"0.32em\" transform=\"translate(60,289.53329692324866)\">3e+8</text><text y=\"0.32em\" transform=\"translate(60,262.7110625643315)\">4e+8</text><text y=\"0.32em\" transform=\"translate(60,235.88882820541434)\">5e+8</text><text y=\"0.32em\" transform=\"translate(60,209.06659384649726)\">6e+8</text><text y=\"0.32em\" transform=\"translate(60,182.24435948758014)\">7e+8</text><text y=\"0.32em\" transform=\"translate(60,155.422125128663)\">8e+8</text><text y=\"0.32em\" transform=\"translate(60,128.59989076974588)\">9e+8</text><text y=\"0.32em\" transform=\"translate(60,101.77765641082875)\">1e+9</text><text y=\"0.32em\" transform=\"translate(60,74.95542205191161)\">1.1e+9</text><text y=\"0.32em\" transform=\"translate(60,48.133187692994525)\">1.2e+9</text><text y=\"0.32em\" transform=\"translate(60,21.31095333407739)\">1.3e+9</text></g><g aria-label=\"y-axis label\" text-anchor=\"start\" transform=\"translate(-57,-17)\"><text y=\"0.71em\" transform=\"translate(60,20)\">↑ Population</text></g><g aria-label=\"x-axis tick\" aria-hidden=\"true\" fill=\"none\" stroke=\"currentColor\" transform=\"translate(41,0)\"><path transform=\"translate(72,370)\" d=\"M0,0L0,6\"></path><path transform=\"translate(163,370)\" d=\"M0,0L0,6\"></path><path transform=\"translate(254,370)\" d=\"M0,0L0,6\"></path><path transform=\"translate(345,370)\" d=\"M0,0L0,6\"></path><path transform=\"translate(436,370)\" d=\"M0,0L0,6\"></path><path transform=\"translate(527,370)\" d=\"M0,0L0,6\"></path></g><g aria-label=\"x-axis tick label\" transform=\"translate(41,9)\"><text y=\"0.71em\" transform=\"translate(72,370)\">Australia</text><text y=\"0.71em\" transform=\"translate(163,370)\">China</text><text y=\"0.71em\" transform=\"translate(254,370)\">France</text><text y=\"0.71em\" transform=\"translate(345,370)\">India</text><text y=\"0.71em\" transform=\"translate(436,370)\">Nigeria</text><text y=\"0.71em\" transform=\"translate(527,370)\">United States</text></g><g aria-label=\"x-axis label\" transform=\"translate(0,27)\"><text transform=\"translate(340,370)\">Country</text></g><g aria-label=\"bar\"><rect x=\"72\" width=\"82\" y=\"364.58949103692964\" height=\"5.410508963070356\"></rect><rect x=\"163\" width=\"82\" y=\"20\" height=\"350\"></rect><rect x=\"254\" width=\"82\" y=\"353.7698447998541\" height=\"16.230155200145873\"></rect><rect x=\"345\" width=\"82\" y=\"60.30009840035552\" height=\"309.6999015996445\"></rect><rect x=\"436\" width=\"82\" y=\"332.31724929262526\" height=\"37.68275070737474\"></rect><rect x=\"527\" width=\"82\" y=\"290.38016337533304\" height=\"79.61983662466696\"></rect></g></svg></figure>"
      ],
      "text/plain": [
       "<IPython.core.display.HTML object>"
      ]
     },
     "metadata": {},
     "output_type": "display_data"
    }
   ],
   "source": [
    "Plot.plot(\n",
    "    {\n",
    "        \"title\": \"Population in 2005\",\n",
    "        \"marginLeft\": 60,\n",
    "        \"x\": {\"label\": \"Country\"},\n",
    "        \"y\": {\"tickFormat\": \".2\", \"label\": \"Population\"},\n",
    "        \"marks\": [Plot.barY(bar_countries_2005_df, {\"x\": \"country\", \"y\": \"pop\"})],\n",
    "    }\n",
    ")"
   ]
  },
  {
   "cell_type": "markdown",
   "id": "e5ddd0eb-15d0-4208-918e-2fe6c340df1b",
   "metadata": {
    "id": "e5ddd0eb-15d0-4208-918e-2fe6c340df1b"
   },
   "source": [
    "We can also create a horizontal bar chart by using the `bar` function in place of the `bar` function."
   ]
  },
  {
   "cell_type": "code",
   "execution_count": 34,
   "id": "7f90a4ff-c82d-48ca-a1b4-7f35b79b8e43",
   "metadata": {
    "colab": {
     "base_uri": "https://localhost:8080/",
     "height": 264
    },
    "id": "7f90a4ff-c82d-48ca-a1b4-7f35b79b8e43",
    "outputId": "5a32c114-a947-4085-c51c-9da96111a9b8"
   },
   "outputs": [
    {
     "data": {
      "text/html": [
       "<figure class=\"plot-d6a7b5-figure\" style=\"max-width: initial; padding: 0px 5px 5px 5px; color: rgb(0, 0, 0); background-color: rgb(255, 255, 255);\" typstbg=\"#FFFFFF\" typstfg=\"#000000\" typstcaption=\"#777777\"><h2 style=\"line-height: 28px; font-size: 20px; font-weight: 600; margin: 0px;\">Population in 2005</h2><svg class=\"plot-d6a7b5\" fill=\"currentColor\" font-family=\"system-ui, sans-serif\" font-size=\"10\" text-anchor=\"middle\" width=\"640\" height=\"180\" viewBox=\"0 0 640 180\" xmlns=\"http://www.w3.org/2000/svg\" xmlns:xlink=\"http://www.w3.org/1999/xlink\" style=\"color: rgb(0, 0, 0); background-color: rgb(255, 255, 255);\"><style>:where(.plot-d6a7b5) {\n",
       "  --plot-background: white;\n",
       "  display: block;\n",
       "  height: auto;\n",
       "  height: intrinsic;\n",
       "  max-width: 100%;\n",
       "}\n",
       ":where(.plot-d6a7b5 text),\n",
       ":where(.plot-d6a7b5 tspan) {\n",
       "  white-space: pre;\n",
       "}</style><g aria-label=\"y-axis tick\" aria-hidden=\"true\" fill=\"none\" stroke=\"currentColor\" transform=\"translate(0,9.5)\"><path transform=\"translate(40,23)\" d=\"M0,0L-6,0\"></path><path transform=\"translate(40,44)\" d=\"M0,0L-6,0\"></path><path transform=\"translate(40,65)\" d=\"M0,0L-6,0\"></path><path transform=\"translate(40,86)\" d=\"M0,0L-6,0\"></path><path transform=\"translate(40,107)\" d=\"M0,0L-6,0\"></path><path transform=\"translate(40,128)\" d=\"M0,0L-6,0\"></path></g><g aria-label=\"y-axis tick label\" text-anchor=\"end\" transform=\"translate(-9,9.5)\"><text y=\"0.32em\" transform=\"translate(40,23)\">Australia</text><text y=\"0.32em\" transform=\"translate(40,44)\">China</text><text y=\"0.32em\" transform=\"translate(40,65)\">France</text><text y=\"0.32em\" transform=\"translate(40,86)\">India</text><text y=\"0.32em\" transform=\"translate(40,107)\">Nigeria</text><text y=\"0.32em\" transform=\"translate(40,128)\">United States</text></g><g aria-label=\"y-axis label\" transform=\"translate(-37,0)\"><text y=\"0.71em\" transform=\"translate(40,85) rotate(-90)\">Country</text></g><g aria-label=\"x-axis tick\" aria-hidden=\"true\" fill=\"none\" stroke=\"currentColor\"><path transform=\"translate(40,150)\" d=\"M0,0L0,6\"></path><path transform=\"translate(128.89654816098246,150)\" d=\"M0,0L0,6\"></path><path transform=\"translate(217.79309632196492,150)\" d=\"M0,0L0,6\"></path><path transform=\"translate(306.6896444829474,150)\" d=\"M0,0L0,6\"></path><path transform=\"translate(395.5861926439299,150)\" d=\"M0,0L0,6\"></path><path transform=\"translate(484.48274080491234,150)\" d=\"M0,0L0,6\"></path><path transform=\"translate(573.3792889658948,150)\" d=\"M0,0L0,6\"></path></g><g aria-label=\"x-axis tick label\" font-variant=\"tabular-nums\" transform=\"translate(0,9)\"><text y=\"0.71em\" transform=\"translate(40,150)\">0</text><text y=\"0.71em\" transform=\"translate(128.89654816098246,150)\">2e+8</text><text y=\"0.71em\" transform=\"translate(217.79309632196492,150)\">4e+8</text><text y=\"0.71em\" transform=\"translate(306.6896444829474,150)\">6e+8</text><text y=\"0.71em\" transform=\"translate(395.5861926439299,150)\">8e+8</text><text y=\"0.71em\" transform=\"translate(484.48274080491234,150)\">1e+9</text><text y=\"0.71em\" transform=\"translate(573.3792889658948,150)\">1.2e+9</text></g><g aria-label=\"x-axis label\" text-anchor=\"end\" transform=\"translate(17,27)\"><text transform=\"translate(620,150)\">Population →</text></g><g aria-label=\"bar\"><rect x=\"40\" width=\"8.965986281659411\" y=\"23\" height=\"19\"></rect><rect x=\"40\" width=\"580\" y=\"44\" height=\"19\"></rect><rect x=\"40\" width=\"26.895685760241776\" y=\"65\" height=\"19\"></rect><rect x=\"40\" width=\"513.2169797936965\" y=\"86\" height=\"19\"></rect><rect x=\"40\" width=\"62.44570117222099\" y=\"107\" height=\"19\"></rect><rect x=\"40\" width=\"131.94144354944814\" y=\"128\" height=\"19\"></rect></g></svg></figure>"
      ],
      "text/plain": [
       "<IPython.core.display.HTML object>"
      ]
     },
     "metadata": {},
     "output_type": "display_data"
    }
   ],
   "source": [
    "Plot.plot(\n",
    "    {\n",
    "        \"title\": \"Population in 2005\",\n",
    "        \"x\": {\"label\": \"Population\", \"tickFormat\": \".2\"},\n",
    "        \"y\": {\"label\": \"Country\"},\n",
    "        \"marks\": [\n",
    "            Plot.barX(\n",
    "                bar_countries_2005_df,\n",
    "                {\n",
    "                    \"x\": \"pop\",\n",
    "                    \"y\": \"country\",\n",
    "                },\n",
    "            )\n",
    "        ],\n",
    "    }\n",
    ")"
   ]
  },
  {
   "cell_type": "markdown",
   "id": "138e1ccc-647a-4c87-a079-a4f82ce03565",
   "metadata": {
    "id": "138e1ccc-647a-4c87-a079-a4f82ce03565"
   },
   "source": [
    "In above plot, we see that the labels on vertical axes are overlapped with axis label name and also labels are not compeletly displayed. In order to overcome such issue we can use margins. **Margins** in a plot are the spaces around the plotting area that provide room for axis labels, titles, and other annotations.Margins are typically specified in pixels. Adjusting margins can help prevent overlapping of labels and ensure that all elements of the plot are clearly visible.\n",
    "\n",
    "In the pyobsplot we have `marginLeft`, `marginRight`, `marginTop` and `marginBottom`. In these scenario let's use marginLeft."
   ]
  },
  {
   "cell_type": "code",
   "execution_count": 35,
   "id": "302e8a08-3610-49e3-8e46-00beb0638683",
   "metadata": {
    "colab": {
     "base_uri": "https://localhost:8080/",
     "height": 264
    },
    "id": "302e8a08-3610-49e3-8e46-00beb0638683",
    "outputId": "0d54cc8b-464b-401d-d2b7-210cf582065b"
   },
   "outputs": [
    {
     "data": {
      "image/png": "[encoded data removed]",
      "text/plain": [
       "<IPython.core.display.Image object>"
      ]
     },
     "metadata": {},
     "output_type": "display_data"
    }
   ],
   "source": [
    "Plot.plot(\n",
    "    {\n",
    "        \"title\": \"Population in 2005\",\n",
    "        \"marginLeft\": 100,\n",
    "        \"x\": {\"label\": \"Population\", \"tickFormat\": \".2\"},\n",
    "        \"y\": {\"label\": \"Country\"},\n",
    "        \"marks\": [\n",
    "            Plot.barX(\n",
    "                bar_countries_2005_df,\n",
    "                {\n",
    "                    \"x\": \"pop\",\n",
    "                    \"y\": \"country\",\n",
    "                },\n",
    "            )\n",
    "        ],\n",
    "    },\n",
    "    format=\"png\",\n",
    ")"
   ]
  },
  {
   "cell_type": "markdown",
   "id": "afb0f8d0-b674-4124-9cb4-42ddbc1f2c6a",
   "metadata": {
    "id": "afb0f8d0-b674-4124-9cb4-42ddbc1f2c6a"
   },
   "source": [
    "These countries are currently shown in alphabetical order which can be useful for looking up a particular country's population, especially if there are many countries. However, we could also sort the bars by their population which makes comparing the values easier."
   ]
  },
  {
   "cell_type": "code",
   "execution_count": 36,
   "id": "4c111c01-9532-4859-8183-1cbcd6e54be8",
   "metadata": {
    "colab": {
     "base_uri": "https://localhost:8080/",
     "height": 484
    },
    "id": "4c111c01-9532-4859-8183-1cbcd6e54be8",
    "outputId": "debcfcd3-0ce7-4a83-a582-a9319041fc87"
   },
   "outputs": [
    {
     "data": {
      "text/html": [
       "<figure class=\"plot-d6a7b5-figure\" style=\"max-width: initial; padding: 0px 5px 5px 5px; color: rgb(0, 0, 0); background-color: rgb(255, 255, 255);\" typstbg=\"#FFFFFF\" typstfg=\"#000000\" typstcaption=\"#777777\"><h2 style=\"line-height: 28px; font-size: 20px; font-weight: 600; margin: 0px;\">Population in 2005</h2><svg class=\"plot-d6a7b5\" fill=\"currentColor\" font-family=\"system-ui, sans-serif\" font-size=\"10\" text-anchor=\"middle\" width=\"640\" height=\"400\" viewBox=\"0 0 640 400\" xmlns=\"http://www.w3.org/2000/svg\" xmlns:xlink=\"http://www.w3.org/1999/xlink\" style=\"color: rgb(0, 0, 0); background-color: rgb(255, 255, 255);\"><style>:where(.plot-d6a7b5) {\n",
       "  --plot-background: white;\n",
       "  display: block;\n",
       "  height: auto;\n",
       "  height: intrinsic;\n",
       "  max-width: 100%;\n",
       "}\n",
       ":where(.plot-d6a7b5 text),\n",
       ":where(.plot-d6a7b5 tspan) {\n",
       "  white-space: pre;\n",
       "}</style><g aria-label=\"y-axis tick\" aria-hidden=\"true\" fill=\"none\" stroke=\"currentColor\"><path transform=\"translate(60,370)\" d=\"M0,0L-6,0\"></path><path transform=\"translate(60,343.1777656410829)\" d=\"M0,0L-6,0\"></path><path transform=\"translate(60,316.35553128216577)\" d=\"M0,0L-6,0\"></path><path transform=\"translate(60,289.53329692324866)\" d=\"M0,0L-6,0\"></path><path transform=\"translate(60,262.7110625643315)\" d=\"M0,0L-6,0\"></path><path transform=\"translate(60,235.88882820541434)\" d=\"M0,0L-6,0\"></path><path transform=\"translate(60,209.06659384649726)\" d=\"M0,0L-6,0\"></path><path transform=\"translate(60,182.24435948758014)\" d=\"M0,0L-6,0\"></path><path transform=\"translate(60,155.422125128663)\" d=\"M0,0L-6,0\"></path><path transform=\"translate(60,128.59989076974588)\" d=\"M0,0L-6,0\"></path><path transform=\"translate(60,101.77765641082875)\" d=\"M0,0L-6,0\"></path><path transform=\"translate(60,74.95542205191161)\" d=\"M0,0L-6,0\"></path><path transform=\"translate(60,48.133187692994525)\" d=\"M0,0L-6,0\"></path><path transform=\"translate(60,21.31095333407739)\" d=\"M0,0L-6,0\"></path></g><g aria-label=\"y-axis tick label\" text-anchor=\"end\" font-variant=\"tabular-nums\" transform=\"translate(-9,0)\"><text y=\"0.32em\" transform=\"translate(60,370)\">0</text><text y=\"0.32em\" transform=\"translate(60,343.1777656410829)\">1e+8</text><text y=\"0.32em\" transform=\"translate(60,316.35553128216577)\">2e+8</text><text y=\"0.32em\" transform=\"translate(60,289.53329692324866)\">3e+8</text><text y=\"0.32em\" transform=\"translate(60,262.7110625643315)\">4e+8</text><text y=\"0.32em\" transform=\"translate(60,235.88882820541434)\">5e+8</text><text y=\"0.32em\" transform=\"translate(60,209.06659384649726)\">6e+8</text><text y=\"0.32em\" transform=\"translate(60,182.24435948758014)\">7e+8</text><text y=\"0.32em\" transform=\"translate(60,155.422125128663)\">8e+8</text><text y=\"0.32em\" transform=\"translate(60,128.59989076974588)\">9e+8</text><text y=\"0.32em\" transform=\"translate(60,101.77765641082875)\">1e+9</text><text y=\"0.32em\" transform=\"translate(60,74.95542205191161)\">1.1e+9</text><text y=\"0.32em\" transform=\"translate(60,48.133187692994525)\">1.2e+9</text><text y=\"0.32em\" transform=\"translate(60,21.31095333407739)\">1.3e+9</text></g><g aria-label=\"y-axis label\" text-anchor=\"start\" transform=\"translate(-57,-17)\"><text y=\"0.71em\" transform=\"translate(60,20)\">↑ Population</text></g><g aria-label=\"x-axis tick\" aria-hidden=\"true\" fill=\"none\" stroke=\"currentColor\" transform=\"translate(41,0)\"><path transform=\"translate(72,370)\" d=\"M0,0L0,6\"></path><path transform=\"translate(163,370)\" d=\"M0,0L0,6\"></path><path transform=\"translate(254,370)\" d=\"M0,0L0,6\"></path><path transform=\"translate(345,370)\" d=\"M0,0L0,6\"></path><path transform=\"translate(436,370)\" d=\"M0,0L0,6\"></path><path transform=\"translate(527,370)\" d=\"M0,0L0,6\"></path></g><g aria-label=\"x-axis tick label\" transform=\"translate(41,9)\"><text y=\"0.71em\" transform=\"translate(72,370)\">China</text><text y=\"0.71em\" transform=\"translate(163,370)\">India</text><text y=\"0.71em\" transform=\"translate(254,370)\">United States</text><text y=\"0.71em\" transform=\"translate(345,370)\">Nigeria</text><text y=\"0.71em\" transform=\"translate(436,370)\">France</text><text y=\"0.71em\" transform=\"translate(527,370)\">Australia</text></g><g aria-label=\"x-axis label\" transform=\"translate(0,27)\"><text transform=\"translate(340,370)\">Country</text></g><g aria-label=\"bar\"><rect x=\"527\" width=\"82\" y=\"364.58949103692964\" height=\"5.410508963070356\"></rect><rect x=\"72\" width=\"82\" y=\"20\" height=\"350\"></rect><rect x=\"436\" width=\"82\" y=\"353.7698447998541\" height=\"16.230155200145873\"></rect><rect x=\"163\" width=\"82\" y=\"60.30009840035552\" height=\"309.6999015996445\"></rect><rect x=\"345\" width=\"82\" y=\"332.31724929262526\" height=\"37.68275070737474\"></rect><rect x=\"254\" width=\"82\" y=\"290.38016337533304\" height=\"79.61983662466696\"></rect></g></svg></figure>"
      ],
      "text/plain": [
       "<IPython.core.display.HTML object>"
      ]
     },
     "metadata": {},
     "output_type": "display_data"
    }
   ],
   "source": [
    "Plot.plot(\n",
    "    {\n",
    "        \"title\": \"Population in 2005\",\n",
    "        \"marginLeft\": 60,\n",
    "        \"x\": {\"label\": \"Country\"},\n",
    "        \"y\": {\"label\": \"Population\", \"tickFormat\": \".2\"},\n",
    "        \"marks\": [\n",
    "            Plot.barY(\n",
    "                bar_countries_2005_df,\n",
    "                {\n",
    "                    \"x\": \"country\",\n",
    "                    \"y\": \"pop\",\n",
    "                    \"sort\": {\n",
    "                        \"x\": \"-y\"\n",
    "                    },  # This ensures the sorting is applied to the bars\n",
    "                },\n",
    "            )\n",
    "        ],\n",
    "    }\n",
    ")"
   ]
  },
  {
   "cell_type": "markdown",
   "id": "3a55dd96-39f5-4f13-ac20-665c0a667723",
   "metadata": {
    "id": "3a55dd96-39f5-4f13-ac20-665c0a667723"
   },
   "source": [
    "In above example, we used the `\"sort\": {\"x\": \"-y\"}` option in the plot. The `sort` key specifies sorting method and `{\"x\": \"-y\"}` defines the sorting criteria. Here `x` indicates that we want to sort the x-axis values and `-y` indicates that we want to sort the y-axis values and the minus sign (-) before \"y\" means we want to sort in descending order based on the y-values."
   ]
  },
  {
   "cell_type": "markdown",
   "id": "4ad416d5-f38d-4166-8f3d-e8be41919c26",
   "metadata": {
    "id": "4ad416d5-f38d-4166-8f3d-e8be41919c26"
   },
   "source": [
    "### Changing the Appearance\n",
    "\n",
    "As with other plots, we can change the appearance of the bars using different parameters, including one to change the color of the bars."
   ]
  },
  {
   "cell_type": "code",
   "execution_count": 37,
   "id": "bbc5d592-a802-4f50-94ca-2fe34cffbf7a",
   "metadata": {
    "colab": {
     "base_uri": "https://localhost:8080/",
     "height": 484
    },
    "id": "bbc5d592-a802-4f50-94ca-2fe34cffbf7a",
    "outputId": "d9e4deb8-ce5b-4a1c-b409-d5c54774c1aa"
   },
   "outputs": [
    {
     "data": {
      "text/html": [
       "<figure class=\"plot-d6a7b5-figure\" style=\"max-width: initial; padding: 0px 5px 5px 5px; color: rgb(0, 0, 0); background-color: rgb(255, 255, 255);\" typstbg=\"#FFFFFF\" typstfg=\"#000000\" typstcaption=\"#777777\"><h2 style=\"line-height: 28px; font-size: 20px; font-weight: 600; margin: 0px;\">Population in 2005</h2><svg class=\"plot-d6a7b5\" fill=\"currentColor\" font-family=\"system-ui, sans-serif\" font-size=\"10\" text-anchor=\"middle\" width=\"640\" height=\"400\" viewBox=\"0 0 640 400\" xmlns=\"http://www.w3.org/2000/svg\" xmlns:xlink=\"http://www.w3.org/1999/xlink\" style=\"color: rgb(0, 0, 0); background-color: rgb(255, 255, 255);\"><style>:where(.plot-d6a7b5) {\n",
       "  --plot-background: white;\n",
       "  display: block;\n",
       "  height: auto;\n",
       "  height: intrinsic;\n",
       "  max-width: 100%;\n",
       "}\n",
       ":where(.plot-d6a7b5 text),\n",
       ":where(.plot-d6a7b5 tspan) {\n",
       "  white-space: pre;\n",
       "}</style><g aria-label=\"y-axis tick\" aria-hidden=\"true\" fill=\"none\" stroke=\"currentColor\"><path transform=\"translate(60,370)\" d=\"M0,0L-6,0\"></path><path transform=\"translate(60,343.1777656410829)\" d=\"M0,0L-6,0\"></path><path transform=\"translate(60,316.35553128216577)\" d=\"M0,0L-6,0\"></path><path transform=\"translate(60,289.53329692324866)\" d=\"M0,0L-6,0\"></path><path transform=\"translate(60,262.7110625643315)\" d=\"M0,0L-6,0\"></path><path transform=\"translate(60,235.88882820541434)\" d=\"M0,0L-6,0\"></path><path transform=\"translate(60,209.06659384649726)\" d=\"M0,0L-6,0\"></path><path transform=\"translate(60,182.24435948758014)\" d=\"M0,0L-6,0\"></path><path transform=\"translate(60,155.422125128663)\" d=\"M0,0L-6,0\"></path><path transform=\"translate(60,128.59989076974588)\" d=\"M0,0L-6,0\"></path><path transform=\"translate(60,101.77765641082875)\" d=\"M0,0L-6,0\"></path><path transform=\"translate(60,74.95542205191161)\" d=\"M0,0L-6,0\"></path><path transform=\"translate(60,48.133187692994525)\" d=\"M0,0L-6,0\"></path><path transform=\"translate(60,21.31095333407739)\" d=\"M0,0L-6,0\"></path></g><g aria-label=\"y-axis tick label\" text-anchor=\"end\" font-variant=\"tabular-nums\" transform=\"translate(-9,0)\"><text y=\"0.32em\" transform=\"translate(60,370)\">0</text><text y=\"0.32em\" transform=\"translate(60,343.1777656410829)\">1e+8</text><text y=\"0.32em\" transform=\"translate(60,316.35553128216577)\">2e+8</text><text y=\"0.32em\" transform=\"translate(60,289.53329692324866)\">3e+8</text><text y=\"0.32em\" transform=\"translate(60,262.7110625643315)\">4e+8</text><text y=\"0.32em\" transform=\"translate(60,235.88882820541434)\">5e+8</text><text y=\"0.32em\" transform=\"translate(60,209.06659384649726)\">6e+8</text><text y=\"0.32em\" transform=\"translate(60,182.24435948758014)\">7e+8</text><text y=\"0.32em\" transform=\"translate(60,155.422125128663)\">8e+8</text><text y=\"0.32em\" transform=\"translate(60,128.59989076974588)\">9e+8</text><text y=\"0.32em\" transform=\"translate(60,101.77765641082875)\">1e+9</text><text y=\"0.32em\" transform=\"translate(60,74.95542205191161)\">1.1e+9</text><text y=\"0.32em\" transform=\"translate(60,48.133187692994525)\">1.2e+9</text><text y=\"0.32em\" transform=\"translate(60,21.31095333407739)\">1.3e+9</text></g><g aria-label=\"y-axis label\" text-anchor=\"start\" transform=\"translate(-57,-17)\"><text y=\"0.71em\" transform=\"translate(60,20)\">↑ Population</text></g><g aria-label=\"x-axis tick\" aria-hidden=\"true\" fill=\"none\" stroke=\"currentColor\" transform=\"translate(41,0)\"><path transform=\"translate(72,370)\" d=\"M0,0L0,6\"></path><path transform=\"translate(163,370)\" d=\"M0,0L0,6\"></path><path transform=\"translate(254,370)\" d=\"M0,0L0,6\"></path><path transform=\"translate(345,370)\" d=\"M0,0L0,6\"></path><path transform=\"translate(436,370)\" d=\"M0,0L0,6\"></path><path transform=\"translate(527,370)\" d=\"M0,0L0,6\"></path></g><g aria-label=\"x-axis tick label\" transform=\"translate(41,9)\"><text y=\"0.71em\" transform=\"translate(72,370)\">Australia</text><text y=\"0.71em\" transform=\"translate(163,370)\">France</text><text y=\"0.71em\" transform=\"translate(254,370)\">Nigeria</text><text y=\"0.71em\" transform=\"translate(345,370)\">United States</text><text y=\"0.71em\" transform=\"translate(436,370)\">India</text><text y=\"0.71em\" transform=\"translate(527,370)\">China</text></g><g aria-label=\"x-axis label\" transform=\"translate(0,27)\"><text transform=\"translate(340,370)\">Country</text></g><g aria-label=\"bar\" fill=\"red\"><rect x=\"72\" width=\"82\" y=\"364.58949103692964\" height=\"5.410508963070356\"></rect><rect x=\"527\" width=\"82\" y=\"20\" height=\"350\"></rect><rect x=\"163\" width=\"82\" y=\"353.7698447998541\" height=\"16.230155200145873\"></rect><rect x=\"436\" width=\"82\" y=\"60.30009840035552\" height=\"309.6999015996445\"></rect><rect x=\"254\" width=\"82\" y=\"332.31724929262526\" height=\"37.68275070737474\"></rect><rect x=\"345\" width=\"82\" y=\"290.38016337533304\" height=\"79.61983662466696\"></rect></g></svg></figure>"
      ],
      "text/plain": [
       "<IPython.core.display.HTML object>"
      ]
     },
     "metadata": {},
     "output_type": "display_data"
    }
   ],
   "source": [
    "Plot.plot(\n",
    "    {\n",
    "        \"title\": \"Population in 2005\",\n",
    "        \"marginLeft\": 60,\n",
    "        \"x\": {\"label\": \"Country\"},\n",
    "        \"y\": {\"label\": \"Population\", \"tickFormat\": \".2\"},\n",
    "        \"marks\": [\n",
    "            Plot.barY(\n",
    "                bar_countries_2005_df,\n",
    "                {\"x\": \"country\", \"y\": \"pop\", \"fill\": \"red\", \"sort\": {\"x\": \"y\"}},\n",
    "            )\n",
    "        ],\n",
    "    }\n",
    ")"
   ]
  },
  {
   "cell_type": "markdown",
   "id": "97a1501f-e767-418e-8317-ba540a3a98e9",
   "metadata": {
    "id": "97a1501f-e767-418e-8317-ba540a3a98e9"
   },
   "source": [
    "Let's enable grid lines and add frame for the above plot"
   ]
  },
  {
   "cell_type": "code",
   "execution_count": 38,
   "id": "db7be572-8902-4644-8d2a-d5d232e2907d",
   "metadata": {
    "colab": {
     "base_uri": "https://localhost:8080/",
     "height": 484
    },
    "id": "db7be572-8902-4644-8d2a-d5d232e2907d",
    "outputId": "3c7a00c2-a026-4f39-95a8-47af401ca7ea"
   },
   "outputs": [
    {
     "data": {
      "text/html": [
       "<figure class=\"plot-d6a7b5-figure\" style=\"max-width: initial; padding: 0px 5px 5px 5px; color: rgb(0, 0, 0); background-color: rgb(255, 255, 255);\" typstbg=\"#FFFFFF\" typstfg=\"#000000\" typstcaption=\"#777777\"><h2 style=\"line-height: 28px; font-size: 20px; font-weight: 600; margin: 0px;\">Population in 2005</h2><svg class=\"plot-d6a7b5\" fill=\"currentColor\" font-family=\"system-ui, sans-serif\" font-size=\"10\" text-anchor=\"middle\" width=\"640\" height=\"400\" viewBox=\"0 0 640 400\" xmlns=\"http://www.w3.org/2000/svg\" xmlns:xlink=\"http://www.w3.org/1999/xlink\" style=\"color: rgb(0, 0, 0); background-color: rgb(255, 255, 255);\"><style>:where(.plot-d6a7b5) {\n",
       "  --plot-background: white;\n",
       "  display: block;\n",
       "  height: auto;\n",
       "  height: intrinsic;\n",
       "  max-width: 100%;\n",
       "}\n",
       ":where(.plot-d6a7b5 text),\n",
       ":where(.plot-d6a7b5 tspan) {\n",
       "  white-space: pre;\n",
       "}</style><g aria-label=\"y-grid\" aria-hidden=\"true\" stroke=\"currentColor\" stroke-opacity=\"0.1\"><line x1=\"60\" x2=\"620\" y1=\"370\" y2=\"370\"></line><line x1=\"60\" x2=\"620\" y1=\"343.1777656410829\" y2=\"343.1777656410829\"></line><line x1=\"60\" x2=\"620\" y1=\"316.35553128216577\" y2=\"316.35553128216577\"></line><line x1=\"60\" x2=\"620\" y1=\"289.53329692324866\" y2=\"289.53329692324866\"></line><line x1=\"60\" x2=\"620\" y1=\"262.7110625643315\" y2=\"262.7110625643315\"></line><line x1=\"60\" x2=\"620\" y1=\"235.88882820541434\" y2=\"235.88882820541434\"></line><line x1=\"60\" x2=\"620\" y1=\"209.06659384649726\" y2=\"209.06659384649726\"></line><line x1=\"60\" x2=\"620\" y1=\"182.24435948758014\" y2=\"182.24435948758014\"></line><line x1=\"60\" x2=\"620\" y1=\"155.422125128663\" y2=\"155.422125128663\"></line><line x1=\"60\" x2=\"620\" y1=\"128.59989076974588\" y2=\"128.59989076974588\"></line><line x1=\"60\" x2=\"620\" y1=\"101.77765641082875\" y2=\"101.77765641082875\"></line><line x1=\"60\" x2=\"620\" y1=\"74.95542205191161\" y2=\"74.95542205191161\"></line><line x1=\"60\" x2=\"620\" y1=\"48.133187692994525\" y2=\"48.133187692994525\"></line><line x1=\"60\" x2=\"620\" y1=\"21.31095333407739\" y2=\"21.31095333407739\"></line></g><g aria-label=\"y-axis tick\" aria-hidden=\"true\" fill=\"none\" stroke=\"currentColor\"><path transform=\"translate(60,370)\" d=\"M0,0L-6,0\"></path><path transform=\"translate(60,343.1777656410829)\" d=\"M0,0L-6,0\"></path><path transform=\"translate(60,316.35553128216577)\" d=\"M0,0L-6,0\"></path><path transform=\"translate(60,289.53329692324866)\" d=\"M0,0L-6,0\"></path><path transform=\"translate(60,262.7110625643315)\" d=\"M0,0L-6,0\"></path><path transform=\"translate(60,235.88882820541434)\" d=\"M0,0L-6,0\"></path><path transform=\"translate(60,209.06659384649726)\" d=\"M0,0L-6,0\"></path><path transform=\"translate(60,182.24435948758014)\" d=\"M0,0L-6,0\"></path><path transform=\"translate(60,155.422125128663)\" d=\"M0,0L-6,0\"></path><path transform=\"translate(60,128.59989076974588)\" d=\"M0,0L-6,0\"></path><path transform=\"translate(60,101.77765641082875)\" d=\"M0,0L-6,0\"></path><path transform=\"translate(60,74.95542205191161)\" d=\"M0,0L-6,0\"></path><path transform=\"translate(60,48.133187692994525)\" d=\"M0,0L-6,0\"></path><path transform=\"translate(60,21.31095333407739)\" d=\"M0,0L-6,0\"></path></g><g aria-label=\"y-axis tick label\" text-anchor=\"end\" font-variant=\"tabular-nums\" transform=\"translate(-9,0)\"><text y=\"0.32em\" transform=\"translate(60,370)\">0</text><text y=\"0.32em\" transform=\"translate(60,343.1777656410829)\">1e+8</text><text y=\"0.32em\" transform=\"translate(60,316.35553128216577)\">2e+8</text><text y=\"0.32em\" transform=\"translate(60,289.53329692324866)\">3e+8</text><text y=\"0.32em\" transform=\"translate(60,262.7110625643315)\">4e+8</text><text y=\"0.32em\" transform=\"translate(60,235.88882820541434)\">5e+8</text><text y=\"0.32em\" transform=\"translate(60,209.06659384649726)\">6e+8</text><text y=\"0.32em\" transform=\"translate(60,182.24435948758014)\">7e+8</text><text y=\"0.32em\" transform=\"translate(60,155.422125128663)\">8e+8</text><text y=\"0.32em\" transform=\"translate(60,128.59989076974588)\">9e+8</text><text y=\"0.32em\" transform=\"translate(60,101.77765641082875)\">1e+9</text><text y=\"0.32em\" transform=\"translate(60,74.95542205191161)\">1.1e+9</text><text y=\"0.32em\" transform=\"translate(60,48.133187692994525)\">1.2e+9</text><text y=\"0.32em\" transform=\"translate(60,21.31095333407739)\">1.3e+9</text></g><g aria-label=\"y-axis label\" text-anchor=\"start\" transform=\"translate(-57,-17)\"><text y=\"0.71em\" transform=\"translate(60,20)\">↑ Population</text></g><g aria-label=\"x-grid\" aria-hidden=\"true\" stroke=\"currentColor\" stroke-opacity=\"0.1\" transform=\"translate(41,0)\"><line x1=\"72\" x2=\"72\" y1=\"20\" y2=\"370\"></line><line x1=\"163\" x2=\"163\" y1=\"20\" y2=\"370\"></line><line x1=\"254\" x2=\"254\" y1=\"20\" y2=\"370\"></line><line x1=\"345\" x2=\"345\" y1=\"20\" y2=\"370\"></line><line x1=\"436\" x2=\"436\" y1=\"20\" y2=\"370\"></line><line x1=\"527\" x2=\"527\" y1=\"20\" y2=\"370\"></line></g><g aria-label=\"x-axis tick\" aria-hidden=\"true\" fill=\"none\" stroke=\"currentColor\" transform=\"translate(41,0)\"><path transform=\"translate(72,370)\" d=\"M0,0L0,6\"></path><path transform=\"translate(163,370)\" d=\"M0,0L0,6\"></path><path transform=\"translate(254,370)\" d=\"M0,0L0,6\"></path><path transform=\"translate(345,370)\" d=\"M0,0L0,6\"></path><path transform=\"translate(436,370)\" d=\"M0,0L0,6\"></path><path transform=\"translate(527,370)\" d=\"M0,0L0,6\"></path></g><g aria-label=\"x-axis tick label\" transform=\"translate(41,9)\"><text y=\"0.71em\" transform=\"translate(72,370)\">Australia</text><text y=\"0.71em\" transform=\"translate(163,370)\">France</text><text y=\"0.71em\" transform=\"translate(254,370)\">Nigeria</text><text y=\"0.71em\" transform=\"translate(345,370)\">United States</text><text y=\"0.71em\" transform=\"translate(436,370)\">India</text><text y=\"0.71em\" transform=\"translate(527,370)\">China</text></g><g aria-label=\"x-axis label\" transform=\"translate(0,27)\"><text transform=\"translate(340,370)\">Country</text></g><rect aria-label=\"frame\" fill=\"none\" stroke=\"currentColor\" x=\"60\" y=\"20\" width=\"560\" height=\"350\"></rect><g aria-label=\"bar\" fill=\"red\"><rect x=\"72\" width=\"82\" y=\"364.58949103692964\" height=\"5.410508963070356\"></rect><rect x=\"527\" width=\"82\" y=\"20\" height=\"350\"></rect><rect x=\"163\" width=\"82\" y=\"353.7698447998541\" height=\"16.230155200145873\"></rect><rect x=\"436\" width=\"82\" y=\"60.30009840035552\" height=\"309.6999015996445\"></rect><rect x=\"254\" width=\"82\" y=\"332.31724929262526\" height=\"37.68275070737474\"></rect><rect x=\"345\" width=\"82\" y=\"290.38016337533304\" height=\"79.61983662466696\"></rect></g></svg></figure>"
      ],
      "text/plain": [
       "<IPython.core.display.HTML object>"
      ]
     },
     "metadata": {},
     "output_type": "display_data"
    }
   ],
   "source": [
    "Plot.plot(\n",
    "    {\n",
    "        \"title\": \"Population in 2005\",\n",
    "        \"marginLeft\": 60,\n",
    "        \"x\": {\"label\": \"Country\"},\n",
    "        \"y\": {\"label\": \"Population\", \"tickFormat\": \".2\"},\n",
    "        \"grid\": True,\n",
    "        \"marks\": [\n",
    "            Plot.frame(),\n",
    "            Plot.barY(\n",
    "                bar_countries_2005_df,\n",
    "                {\"x\": \"country\", \"y\": \"pop\", \"fill\": \"red\", \"sort\": {\"x\": \"y\"}},\n",
    "            ),\n",
    "        ],\n",
    "    }\n",
    ")"
   ]
  },
  {
   "cell_type": "markdown",
   "id": "eabc4d16-114c-4f1f-ad96-91ec00b69ba3",
   "metadata": {
    "id": "eabc4d16-114c-4f1f-ad96-91ec00b69ba3"
   },
   "source": [
    "While default grid lines can provide a useful visual reference, there are situations where we want more control over their placement. That's where `Plot.ruleX` and `Plot.ruleY` come in. These functions allows to draw horizontal and vertical lines at specific ticks on the x and y axes, respectively.\n",
    "\n",
    "By using `Plot.ruleX` and `Plot.ruleY`, we can emphasize key data points or thresholds, create custom grid lines tailored to the data or enhance chart readability and visual appeal."
   ]
  },
  {
   "cell_type": "code",
   "execution_count": 39,
   "id": "5d646273-f238-4cc2-9ae1-2c911edbe7ee",
   "metadata": {
    "colab": {
     "base_uri": "https://localhost:8080/",
     "height": 484
    },
    "id": "5d646273-f238-4cc2-9ae1-2c911edbe7ee",
    "outputId": "72a6ffe4-bb07-4760-d48b-96b19543829b"
   },
   "outputs": [
    {
     "data": {
      "text/html": [
       "<figure class=\"plot-d6a7b5-figure\" style=\"max-width: initial; padding: 0px 5px 5px 5px; color: rgb(0, 0, 0); background-color: rgb(255, 255, 255);\" typstbg=\"#FFFFFF\" typstfg=\"#000000\" typstcaption=\"#777777\"><h2 style=\"line-height: 28px; font-size: 20px; font-weight: 600; margin: 0px;\">Population in 2005</h2><svg class=\"plot-d6a7b5\" fill=\"currentColor\" font-family=\"system-ui, sans-serif\" font-size=\"10\" text-anchor=\"middle\" width=\"640\" height=\"400\" viewBox=\"0 0 640 400\" xmlns=\"http://www.w3.org/2000/svg\" xmlns:xlink=\"http://www.w3.org/1999/xlink\" style=\"color: rgb(0, 0, 0); background-color: rgb(255, 255, 255);\"><style>:where(.plot-d6a7b5) {\n",
       "  --plot-background: white;\n",
       "  display: block;\n",
       "  height: auto;\n",
       "  height: intrinsic;\n",
       "  max-width: 100%;\n",
       "}\n",
       ":where(.plot-d6a7b5 text),\n",
       ":where(.plot-d6a7b5 tspan) {\n",
       "  white-space: pre;\n",
       "}</style><g aria-label=\"y-axis tick\" aria-hidden=\"true\" fill=\"none\" stroke=\"currentColor\"><path transform=\"translate(60,370)\" d=\"M0,0L-6,0\"></path><path transform=\"translate(60,343.1777656410829)\" d=\"M0,0L-6,0\"></path><path transform=\"translate(60,316.35553128216577)\" d=\"M0,0L-6,0\"></path><path transform=\"translate(60,289.53329692324866)\" d=\"M0,0L-6,0\"></path><path transform=\"translate(60,262.7110625643315)\" d=\"M0,0L-6,0\"></path><path transform=\"translate(60,235.88882820541434)\" d=\"M0,0L-6,0\"></path><path transform=\"translate(60,209.06659384649726)\" d=\"M0,0L-6,0\"></path><path transform=\"translate(60,182.24435948758014)\" d=\"M0,0L-6,0\"></path><path transform=\"translate(60,155.422125128663)\" d=\"M0,0L-6,0\"></path><path transform=\"translate(60,128.59989076974588)\" d=\"M0,0L-6,0\"></path><path transform=\"translate(60,101.77765641082875)\" d=\"M0,0L-6,0\"></path><path transform=\"translate(60,74.95542205191161)\" d=\"M0,0L-6,0\"></path><path transform=\"translate(60,48.133187692994525)\" d=\"M0,0L-6,0\"></path><path transform=\"translate(60,21.31095333407739)\" d=\"M0,0L-6,0\"></path></g><g aria-label=\"y-axis tick label\" text-anchor=\"end\" font-variant=\"tabular-nums\" transform=\"translate(-9,0)\"><text y=\"0.32em\" transform=\"translate(60,370)\">0</text><text y=\"0.32em\" transform=\"translate(60,343.1777656410829)\">1e+8</text><text y=\"0.32em\" transform=\"translate(60,316.35553128216577)\">2e+8</text><text y=\"0.32em\" transform=\"translate(60,289.53329692324866)\">3e+8</text><text y=\"0.32em\" transform=\"translate(60,262.7110625643315)\">4e+8</text><text y=\"0.32em\" transform=\"translate(60,235.88882820541434)\">5e+8</text><text y=\"0.32em\" transform=\"translate(60,209.06659384649726)\">6e+8</text><text y=\"0.32em\" transform=\"translate(60,182.24435948758014)\">7e+8</text><text y=\"0.32em\" transform=\"translate(60,155.422125128663)\">8e+8</text><text y=\"0.32em\" transform=\"translate(60,128.59989076974588)\">9e+8</text><text y=\"0.32em\" transform=\"translate(60,101.77765641082875)\">1e+9</text><text y=\"0.32em\" transform=\"translate(60,74.95542205191161)\">1.1e+9</text><text y=\"0.32em\" transform=\"translate(60,48.133187692994525)\">1.2e+9</text><text y=\"0.32em\" transform=\"translate(60,21.31095333407739)\">1.3e+9</text></g><g aria-label=\"y-axis label\" text-anchor=\"start\" transform=\"translate(-57,-17)\"><text y=\"0.71em\" transform=\"translate(60,20)\">↑ Population</text></g><g aria-label=\"x-axis tick\" aria-hidden=\"true\" fill=\"none\" stroke=\"currentColor\" transform=\"translate(41,0)\"><path transform=\"translate(72,370)\" d=\"M0,0L0,6\"></path><path transform=\"translate(163,370)\" d=\"M0,0L0,6\"></path><path transform=\"translate(254,370)\" d=\"M0,0L0,6\"></path><path transform=\"translate(345,370)\" d=\"M0,0L0,6\"></path><path transform=\"translate(436,370)\" d=\"M0,0L0,6\"></path><path transform=\"translate(527,370)\" d=\"M0,0L0,6\"></path></g><g aria-label=\"x-axis tick label\" transform=\"translate(41,9)\"><text y=\"0.71em\" transform=\"translate(72,370)\">Australia</text><text y=\"0.71em\" transform=\"translate(163,370)\">France</text><text y=\"0.71em\" transform=\"translate(254,370)\">Nigeria</text><text y=\"0.71em\" transform=\"translate(345,370)\">United States</text><text y=\"0.71em\" transform=\"translate(436,370)\">India</text><text y=\"0.71em\" transform=\"translate(527,370)\">China</text></g><g aria-label=\"x-axis label\" transform=\"translate(0,27)\"><text transform=\"translate(340,370)\">Country</text></g><rect aria-label=\"frame\" fill=\"none\" stroke=\"currentColor\" x=\"60\" y=\"20\" width=\"560\" height=\"350\"></rect><g aria-label=\"bar\" fill=\"red\"><rect x=\"72\" width=\"82\" y=\"364.58949103692964\" height=\"5.410508963070356\"></rect><rect x=\"527\" width=\"82\" y=\"20\" height=\"350\"></rect><rect x=\"163\" width=\"82\" y=\"353.7698447998541\" height=\"16.230155200145873\"></rect><rect x=\"436\" width=\"82\" y=\"60.30009840035552\" height=\"309.6999015996445\"></rect><rect x=\"254\" width=\"82\" y=\"332.31724929262526\" height=\"37.68275070737474\"></rect><rect x=\"345\" width=\"82\" y=\"290.38016337533304\" height=\"79.61983662466696\"></rect></g><g aria-label=\"rule\" stroke=\"currentColor\"><line x1=\"60\" x2=\"620\" y1=\"316.35553128216577\" y2=\"316.35553128216577\"></line><line x1=\"60\" x2=\"620\" y1=\"262.7110625643315\" y2=\"262.7110625643315\"></line><line x1=\"60\" x2=\"620\" y1=\"209.06659384649726\" y2=\"209.06659384649726\"></line><line x1=\"60\" x2=\"620\" y1=\"155.422125128663\" y2=\"155.422125128663\"></line><line x1=\"60\" x2=\"620\" y1=\"101.77765641082875\" y2=\"101.77765641082875\"></line><line x1=\"60\" x2=\"620\" y1=\"48.133187692994525\" y2=\"48.133187692994525\"></line></g></svg></figure>"
      ],
      "text/plain": [
       "<IPython.core.display.HTML object>"
      ]
     },
     "metadata": {},
     "output_type": "display_data"
    }
   ],
   "source": [
    "Plot.plot(\n",
    "    {\n",
    "        \"title\": \"Population in 2005\",\n",
    "        \"marginLeft\": 60,\n",
    "        \"x\": {\"label\": \"Country\"},\n",
    "        \"y\": {\"label\": \"Population\", \"tickFormat\": \".2\"},\n",
    "        \"marks\": [\n",
    "            Plot.frame(),\n",
    "            Plot.barY(\n",
    "                bar_countries_2005_df,\n",
    "                {\"x\": \"country\", \"y\": \"pop\", \"fill\": \"red\", \"sort\": {\"x\": \"y\"}},\n",
    "            ),\n",
    "            Plot.ruleY([2e8, 4e8, 6e8, 8e8, 1e9, 1.2e9]),\n",
    "        ],\n",
    "    }\n",
    ")"
   ]
  },
  {
   "cell_type": "markdown",
   "id": "8987923f-c611-4baa-9a8d-85230b8f2b05",
   "metadata": {
    "id": "8987923f-c611-4baa-9a8d-85230b8f2b05"
   },
   "source": [
    "In some cases, these lines may be distracting. We could choose to use a white color so that they fade into the background but \"cut\" the bars to help with value judgments. We can achieve this using `stroke` and `strokeWidth` attributes in `Plot.ruleY()` to set the color and width of the lines."
   ]
  },
  {
   "cell_type": "code",
   "execution_count": 40,
   "id": "bd951e74-6843-4d84-8b89-de4b52ffd51e",
   "metadata": {
    "colab": {
     "base_uri": "https://localhost:8080/",
     "height": 484
    },
    "id": "bd951e74-6843-4d84-8b89-de4b52ffd51e",
    "outputId": "8093edd0-3762-4eb8-c9f7-db7875748a22"
   },
   "outputs": [
    {
     "data": {
      "text/html": [
       "<figure class=\"plot-d6a7b5-figure\" style=\"max-width: initial; padding: 0px 5px 5px 5px; color: rgb(0, 0, 0); background-color: rgb(255, 255, 255);\" typstbg=\"#FFFFFF\" typstfg=\"#000000\" typstcaption=\"#777777\"><h2 style=\"line-height: 28px; font-size: 20px; font-weight: 600; margin: 0px;\">Population in 2005</h2><svg class=\"plot-d6a7b5\" fill=\"currentColor\" font-family=\"system-ui, sans-serif\" font-size=\"10\" text-anchor=\"middle\" width=\"640\" height=\"400\" viewBox=\"0 0 640 400\" xmlns=\"http://www.w3.org/2000/svg\" xmlns:xlink=\"http://www.w3.org/1999/xlink\" style=\"color: rgb(0, 0, 0); background-color: rgb(255, 255, 255);\"><style>:where(.plot-d6a7b5) {\n",
       "  --plot-background: white;\n",
       "  display: block;\n",
       "  height: auto;\n",
       "  height: intrinsic;\n",
       "  max-width: 100%;\n",
       "}\n",
       ":where(.plot-d6a7b5 text),\n",
       ":where(.plot-d6a7b5 tspan) {\n",
       "  white-space: pre;\n",
       "}</style><g aria-label=\"y-axis tick\" aria-hidden=\"true\" fill=\"none\" stroke=\"currentColor\"><path transform=\"translate(60,370)\" d=\"M0,0L-6,0\"></path><path transform=\"translate(60,343.1777656410829)\" d=\"M0,0L-6,0\"></path><path transform=\"translate(60,316.35553128216577)\" d=\"M0,0L-6,0\"></path><path transform=\"translate(60,289.53329692324866)\" d=\"M0,0L-6,0\"></path><path transform=\"translate(60,262.7110625643315)\" d=\"M0,0L-6,0\"></path><path transform=\"translate(60,235.88882820541434)\" d=\"M0,0L-6,0\"></path><path transform=\"translate(60,209.06659384649726)\" d=\"M0,0L-6,0\"></path><path transform=\"translate(60,182.24435948758014)\" d=\"M0,0L-6,0\"></path><path transform=\"translate(60,155.422125128663)\" d=\"M0,0L-6,0\"></path><path transform=\"translate(60,128.59989076974588)\" d=\"M0,0L-6,0\"></path><path transform=\"translate(60,101.77765641082875)\" d=\"M0,0L-6,0\"></path><path transform=\"translate(60,74.95542205191161)\" d=\"M0,0L-6,0\"></path><path transform=\"translate(60,48.133187692994525)\" d=\"M0,0L-6,0\"></path><path transform=\"translate(60,21.31095333407739)\" d=\"M0,0L-6,0\"></path></g><g aria-label=\"y-axis tick label\" text-anchor=\"end\" font-variant=\"tabular-nums\" transform=\"translate(-9,0)\"><text y=\"0.32em\" transform=\"translate(60,370)\">0</text><text y=\"0.32em\" transform=\"translate(60,343.1777656410829)\">1e+8</text><text y=\"0.32em\" transform=\"translate(60,316.35553128216577)\">2e+8</text><text y=\"0.32em\" transform=\"translate(60,289.53329692324866)\">3e+8</text><text y=\"0.32em\" transform=\"translate(60,262.7110625643315)\">4e+8</text><text y=\"0.32em\" transform=\"translate(60,235.88882820541434)\">5e+8</text><text y=\"0.32em\" transform=\"translate(60,209.06659384649726)\">6e+8</text><text y=\"0.32em\" transform=\"translate(60,182.24435948758014)\">7e+8</text><text y=\"0.32em\" transform=\"translate(60,155.422125128663)\">8e+8</text><text y=\"0.32em\" transform=\"translate(60,128.59989076974588)\">9e+8</text><text y=\"0.32em\" transform=\"translate(60,101.77765641082875)\">1e+9</text><text y=\"0.32em\" transform=\"translate(60,74.95542205191161)\">1.1e+9</text><text y=\"0.32em\" transform=\"translate(60,48.133187692994525)\">1.2e+9</text><text y=\"0.32em\" transform=\"translate(60,21.31095333407739)\">1.3e+9</text></g><g aria-label=\"y-axis label\" text-anchor=\"start\" transform=\"translate(-57,-17)\"><text y=\"0.71em\" transform=\"translate(60,20)\">↑ Population</text></g><g aria-label=\"x-axis tick\" aria-hidden=\"true\" fill=\"none\" stroke=\"currentColor\" transform=\"translate(41,0)\"><path transform=\"translate(72,370)\" d=\"M0,0L0,6\"></path><path transform=\"translate(163,370)\" d=\"M0,0L0,6\"></path><path transform=\"translate(254,370)\" d=\"M0,0L0,6\"></path><path transform=\"translate(345,370)\" d=\"M0,0L0,6\"></path><path transform=\"translate(436,370)\" d=\"M0,0L0,6\"></path><path transform=\"translate(527,370)\" d=\"M0,0L0,6\"></path></g><g aria-label=\"x-axis tick label\" transform=\"translate(41,9)\"><text y=\"0.71em\" transform=\"translate(72,370)\">Australia</text><text y=\"0.71em\" transform=\"translate(163,370)\">France</text><text y=\"0.71em\" transform=\"translate(254,370)\">Nigeria</text><text y=\"0.71em\" transform=\"translate(345,370)\">United States</text><text y=\"0.71em\" transform=\"translate(436,370)\">India</text><text y=\"0.71em\" transform=\"translate(527,370)\">China</text></g><g aria-label=\"x-axis label\" transform=\"translate(0,27)\"><text transform=\"translate(340,370)\">Country</text></g><rect aria-label=\"frame\" fill=\"none\" stroke=\"currentColor\" x=\"60\" y=\"20\" width=\"560\" height=\"350\"></rect><g aria-label=\"bar\" fill=\"red\"><rect x=\"72\" width=\"82\" y=\"364.58949103692964\" height=\"5.410508963070356\"></rect><rect x=\"527\" width=\"82\" y=\"20\" height=\"350\"></rect><rect x=\"163\" width=\"82\" y=\"353.7698447998541\" height=\"16.230155200145873\"></rect><rect x=\"436\" width=\"82\" y=\"60.30009840035552\" height=\"309.6999015996445\"></rect><rect x=\"254\" width=\"82\" y=\"332.31724929262526\" height=\"37.68275070737474\"></rect><rect x=\"345\" width=\"82\" y=\"290.38016337533304\" height=\"79.61983662466696\"></rect></g><g aria-label=\"rule\" stroke=\"white\" stroke-width=\"3\"><line x1=\"60\" x2=\"620\" y1=\"316.35553128216577\" y2=\"316.35553128216577\"></line><line x1=\"60\" x2=\"620\" y1=\"262.7110625643315\" y2=\"262.7110625643315\"></line><line x1=\"60\" x2=\"620\" y1=\"209.06659384649726\" y2=\"209.06659384649726\"></line><line x1=\"60\" x2=\"620\" y1=\"155.422125128663\" y2=\"155.422125128663\"></line><line x1=\"60\" x2=\"620\" y1=\"101.77765641082875\" y2=\"101.77765641082875\"></line><line x1=\"60\" x2=\"620\" y1=\"48.133187692994525\" y2=\"48.133187692994525\"></line></g></svg></figure>"
      ],
      "text/plain": [
       "<IPython.core.display.HTML object>"
      ]
     },
     "metadata": {},
     "output_type": "display_data"
    }
   ],
   "source": [
    "Plot.plot(\n",
    "    {\n",
    "        \"title\": \"Population in 2005\",\n",
    "        \"marginLeft\": 60,\n",
    "        \"x\": {\"label\": \"Country\"},\n",
    "        \"y\": {\"label\": \"Population\", \"tickFormat\": \".2\"},\n",
    "        \"marks\": [\n",
    "            Plot.frame(),\n",
    "            Plot.barY(\n",
    "                bar_countries_2005_df,\n",
    "                {\"x\": \"country\", \"y\": \"pop\", \"fill\": \"red\", \"sort\": {\"x\": \"y\"}},\n",
    "            ),\n",
    "            Plot.ruleY(\n",
    "                [2e8, 4e8, 6e8, 8e8, 1e9, 1.2e9], {\"stroke\": \"white\", \"strokeWidth\": 3}\n",
    "            ),\n",
    "        ],\n",
    "    }\n",
    ")"
   ]
  },
  {
   "cell_type": "markdown",
   "id": "aea6f612-602b-4694-bc28-b0d8bcba53ec",
   "metadata": {
    "id": "aea6f612-602b-4694-bc28-b0d8bcba53ec"
   },
   "source": [
    "### Stacked Bar Charts\n",
    "\n",
    "If we wish to observe both how the population grew over the decades as well as the individual populations of each country, we can use a **stacked bar chart**. This splits each bar into individual segments corresponding to the individual values that sum to the total."
   ]
  },
  {
   "cell_type": "code",
   "execution_count": 41,
   "id": "eac34ed7-5775-4735-bf8a-c5b4fdae5a6f",
   "metadata": {
    "id": "eac34ed7-5775-4735-bf8a-c5b4fdae5a6f"
   },
   "outputs": [
    {
     "data": {
      "text/html": [
       "<div><style>\n",
       ".dataframe > thead > tr,\n",
       ".dataframe > tbody > tr {\n",
       "  text-align: right;\n",
       "  white-space: pre-wrap;\n",
       "}\n",
       "</style>\n",
       "<small>shape: (66, 7)</small><table border=\"1\" class=\"dataframe\"><thead><tr><th>year</th><th>country</th><th>cluster</th><th>pop</th><th>life_expect</th><th>fertility</th><th>region</th></tr><tr><td>i64</td><td>str</td><td>i64</td><td>i64</td><td>f64</td><td>f64</td><td>str</td></tr></thead><tbody><tr><td>1955</td><td>&quot;Australia&quot;</td><td>4</td><td>9209844</td><td>70.34</td><td>3.27</td><td>&quot;E. Asia &amp; Pacific&quot;</td></tr><tr><td>1960</td><td>&quot;Australia&quot;</td><td>4</td><td>10286647</td><td>71.11</td><td>3.45</td><td>&quot;E. Asia &amp; Pacific&quot;</td></tr><tr><td>1965</td><td>&quot;Australia&quot;</td><td>4</td><td>11359442</td><td>71.1</td><td>2.98</td><td>&quot;E. Asia &amp; Pacific&quot;</td></tr><tr><td>1970</td><td>&quot;Australia&quot;</td><td>4</td><td>12595034</td><td>71.15</td><td>2.86</td><td>&quot;E. Asia &amp; Pacific&quot;</td></tr><tr><td>1975</td><td>&quot;Australia&quot;</td><td>4</td><td>13886854</td><td>72.51</td><td>2.16</td><td>&quot;E. Asia &amp; Pacific&quot;</td></tr><tr><td>&hellip;</td><td>&hellip;</td><td>&hellip;</td><td>&hellip;</td><td>&hellip;</td><td>&hellip;</td><td>&hellip;</td></tr><tr><td>1985</td><td>&quot;United States&quot;</td><td>3</td><td>235146182</td><td>74.91</td><td>1.84</td><td>&quot;Americas&quot;</td></tr><tr><td>1990</td><td>&quot;United States&quot;</td><td>3</td><td>248083732</td><td>75.72</td><td>2.07</td><td>&quot;Americas&quot;</td></tr><tr><td>1995</td><td>&quot;United States&quot;</td><td>3</td><td>265660556</td><td>76.08</td><td>1.97</td><td>&quot;Americas&quot;</td></tr><tr><td>2000</td><td>&quot;United States&quot;</td><td>3</td><td>282398554</td><td>77.03</td><td>2.05</td><td>&quot;Americas&quot;</td></tr><tr><td>2005</td><td>&quot;United States&quot;</td><td>3</td><td>296842670</td><td>77.73</td><td>2.06</td><td>&quot;Americas&quot;</td></tr></tbody></table></div>"
      ],
      "text/plain": [
       "shape: (66, 7)\n",
       "┌──────┬───────────────┬─────────┬───────────┬─────────────┬───────────┬───────────────────┐\n",
       "│ year ┆ country       ┆ cluster ┆ pop       ┆ life_expect ┆ fertility ┆ region            │\n",
       "│ ---  ┆ ---           ┆ ---     ┆ ---       ┆ ---         ┆ ---       ┆ ---               │\n",
       "│ i64  ┆ str           ┆ i64     ┆ i64       ┆ f64         ┆ f64       ┆ str               │\n",
       "╞══════╪═══════════════╪═════════╪═══════════╪═════════════╪═══════════╪═══════════════════╡\n",
       "│ 1955 ┆ Australia     ┆ 4       ┆ 9209844   ┆ 70.34       ┆ 3.27      ┆ E. Asia & Pacific │\n",
       "│ 1960 ┆ Australia     ┆ 4       ┆ 10286647  ┆ 71.11       ┆ 3.45      ┆ E. Asia & Pacific │\n",
       "│ 1965 ┆ Australia     ┆ 4       ┆ 11359442  ┆ 71.1        ┆ 2.98      ┆ E. Asia & Pacific │\n",
       "│ 1970 ┆ Australia     ┆ 4       ┆ 12595034  ┆ 71.15       ┆ 2.86      ┆ E. Asia & Pacific │\n",
       "│ 1975 ┆ Australia     ┆ 4       ┆ 13886854  ┆ 72.51       ┆ 2.16      ┆ E. Asia & Pacific │\n",
       "│ …    ┆ …             ┆ …       ┆ …         ┆ …           ┆ …         ┆ …                 │\n",
       "│ 1985 ┆ United States ┆ 3       ┆ 235146182 ┆ 74.91       ┆ 1.84      ┆ Americas          │\n",
       "│ 1990 ┆ United States ┆ 3       ┆ 248083732 ┆ 75.72       ┆ 2.07      ┆ Americas          │\n",
       "│ 1995 ┆ United States ┆ 3       ┆ 265660556 ┆ 76.08       ┆ 1.97      ┆ Americas          │\n",
       "│ 2000 ┆ United States ┆ 3       ┆ 282398554 ┆ 77.03       ┆ 2.05      ┆ Americas          │\n",
       "│ 2005 ┆ United States ┆ 3       ┆ 296842670 ┆ 77.73       ┆ 2.06      ┆ Americas          │\n",
       "└──────┴───────────────┴─────────┴───────────┴─────────────┴───────────┴───────────────────┘"
      ]
     },
     "execution_count": 41,
     "metadata": {},
     "output_type": "execute_result"
    }
   ],
   "source": [
    "stacked_bar_df = df.filter(pl.col(\"country\").is_in(bar_countries))"
   ]
  },
  {
   "cell_type": "code",
   "execution_count": 42,
   "id": "e527aa03-795b-4635-821d-7b4dd0f0d48f",
   "metadata": {
    "colab": {
     "base_uri": "https://localhost:8080/",
     "height": 505
    },
    "id": "e527aa03-795b-4635-821d-7b4dd0f0d48f",
    "outputId": "f6864960-bd45-48f6-89ee-c6bbb27505a9"
   },
   "outputs": [
    {
     "data": {
      "text/html": [
       "<figure class=\"plot-d6a7b5-figure\" style=\"max-width: initial; padding: 0px 5px 5px 5px; color: rgb(0, 0, 0); background-color: rgb(255, 255, 255);\" typstbg=\"#FFFFFF\" typstfg=\"#000000\" typstcaption=\"#777777\"><h2 style=\"line-height: 28px; font-size: 20px; font-weight: 600; margin: 0px;\">Stacked Population</h2><div class=\"plot-d6a7b5-swatches plot-d6a7b5-swatches-wrap\"><style>:where(.plot-d6a7b5-swatches) {\n",
       "  font-family: system-ui, sans-serif;\n",
       "  font-size: 10px;\n",
       "  margin-bottom: 0.5em;\n",
       "}\n",
       ":where(.plot-d6a7b5-swatch > svg) {\n",
       "  margin-right: 0.5em;\n",
       "  overflow: visible;\n",
       "}\n",
       ":where(.plot-d6a7b5-swatches-wrap) {\n",
       "  display: flex;\n",
       "  align-items: center;\n",
       "  min-height: 33px;\n",
       "  flex-wrap: wrap;\n",
       "}\n",
       ":where(.plot-d6a7b5-swatches-wrap .plot-d6a7b5-swatch) {\n",
       "  display: inline-flex;\n",
       "  align-items: center;\n",
       "  margin-right: 1em;\n",
       "}</style><span class=\"plot-d6a7b5-swatch\"><svg width=\"15\" height=\"15\" fill=\"#4269d0\" xmlns=\"http://www.w3.org/2000/svg\" xmlns:xlink=\"http://www.w3.org/1999/xlink\" style=\"color: rgb(0, 0, 0); background-color: rgb(255, 255, 255);\"><rect width=\"100%\" height=\"100%\"></rect></svg>Australia</span><span class=\"plot-d6a7b5-swatch\"><svg width=\"15\" height=\"15\" fill=\"#efb118\" xmlns=\"http://www.w3.org/2000/svg\" xmlns:xlink=\"http://www.w3.org/1999/xlink\" style=\"color: rgb(0, 0, 0); background-color: rgb(255, 255, 255);\"><rect width=\"100%\" height=\"100%\"></rect></svg>China</span><span class=\"plot-d6a7b5-swatch\"><svg width=\"15\" height=\"15\" fill=\"#ff725c\" xmlns=\"http://www.w3.org/2000/svg\" xmlns:xlink=\"http://www.w3.org/1999/xlink\" style=\"color: rgb(0, 0, 0); background-color: rgb(255, 255, 255);\"><rect width=\"100%\" height=\"100%\"></rect></svg>France</span><span class=\"plot-d6a7b5-swatch\"><svg width=\"15\" height=\"15\" fill=\"#6cc5b0\" xmlns=\"http://www.w3.org/2000/svg\" xmlns:xlink=\"http://www.w3.org/1999/xlink\" style=\"color: rgb(0, 0, 0); background-color: rgb(255, 255, 255);\"><rect width=\"100%\" height=\"100%\"></rect></svg>India</span><span class=\"plot-d6a7b5-swatch\"><svg width=\"15\" height=\"15\" fill=\"#3ca951\" xmlns=\"http://www.w3.org/2000/svg\" xmlns:xlink=\"http://www.w3.org/1999/xlink\" style=\"color: rgb(0, 0, 0); background-color: rgb(255, 255, 255);\"><rect width=\"100%\" height=\"100%\"></rect></svg>Nigeria</span><span class=\"plot-d6a7b5-swatch\"><svg width=\"15\" height=\"15\" fill=\"#ff8ab7\" xmlns=\"http://www.w3.org/2000/svg\" xmlns:xlink=\"http://www.w3.org/1999/xlink\" style=\"color: rgb(0, 0, 0); background-color: rgb(255, 255, 255);\"><rect width=\"100%\" height=\"100%\"></rect></svg>United States</span></div><svg class=\"plot-d6a7b5\" fill=\"currentColor\" font-family=\"system-ui, sans-serif\" font-size=\"10\" text-anchor=\"middle\" width=\"640\" height=\"400\" viewBox=\"0 0 640 400\" xmlns=\"http://www.w3.org/2000/svg\" xmlns:xlink=\"http://www.w3.org/1999/xlink\" style=\"color: rgb(0, 0, 0); background-color: rgb(255, 255, 255);\"><style>:where(.plot-d6a7b5) {\n",
       "  --plot-background: white;\n",
       "  display: block;\n",
       "  height: auto;\n",
       "  height: intrinsic;\n",
       "  max-width: 100%;\n",
       "}\n",
       ":where(.plot-d6a7b5 text),\n",
       ":where(.plot-d6a7b5 tspan) {\n",
       "  white-space: pre;\n",
       "}</style><g aria-label=\"y-axis tick\" aria-hidden=\"true\" fill=\"none\" stroke=\"currentColor\"><path transform=\"translate(65,370)\" d=\"M0,0L-6,0\"></path><path transform=\"translate(65,346.49067173682903)\" d=\"M0,0L-6,0\"></path><path transform=\"translate(65,322.981343473658)\" d=\"M0,0L-6,0\"></path><path transform=\"translate(65,299.47201521048703)\" d=\"M0,0L-6,0\"></path><path transform=\"translate(65,275.96268694731606)\" d=\"M0,0L-6,0\"></path><path transform=\"translate(65,252.45335868414503)\" d=\"M0,0L-6,0\"></path><path transform=\"translate(65,228.9440304209741)\" d=\"M0,0L-6,0\"></path><path transform=\"translate(65,205.43470215780306)\" d=\"M0,0L-6,0\"></path><path transform=\"translate(65,181.92537389463206)\" d=\"M0,0L-6,0\"></path><path transform=\"translate(65,158.41604563146106)\" d=\"M0,0L-6,0\"></path><path transform=\"translate(65,134.9067173682901)\" d=\"M0,0L-6,0\"></path><path transform=\"translate(65,111.39738910511907)\" d=\"M0,0L-6,0\"></path><path transform=\"translate(65,87.8880608419481)\" d=\"M0,0L-6,0\"></path><path transform=\"translate(65,64.37873257877709)\" d=\"M0,0L-6,0\"></path><path transform=\"translate(65,40.86940431560611)\" d=\"M0,0L-6,0\"></path></g><g aria-label=\"y-axis tick label\" text-anchor=\"end\" font-variant=\"tabular-nums\" transform=\"translate(-9,0)\"><text y=\"0.32em\" transform=\"translate(65,370)\">0</text><text y=\"0.32em\" transform=\"translate(65,346.49067173682903)\">2e+8</text><text y=\"0.32em\" transform=\"translate(65,322.981343473658)\">4e+8</text><text y=\"0.32em\" transform=\"translate(65,299.47201521048703)\">6e+8</text><text y=\"0.32em\" transform=\"translate(65,275.96268694731606)\">8e+8</text><text y=\"0.32em\" transform=\"translate(65,252.45335868414503)\">1e+9</text><text y=\"0.32em\" transform=\"translate(65,228.9440304209741)\">1.2e+9</text><text y=\"0.32em\" transform=\"translate(65,205.43470215780306)\">1.4e+9</text><text y=\"0.32em\" transform=\"translate(65,181.92537389463206)\">1.6e+9</text><text y=\"0.32em\" transform=\"translate(65,158.41604563146106)\">1.8e+9</text><text y=\"0.32em\" transform=\"translate(65,134.9067173682901)\">2e+9</text><text y=\"0.32em\" transform=\"translate(65,111.39738910511907)\">2.2e+9</text><text y=\"0.32em\" transform=\"translate(65,87.8880608419481)\">2.4e+9</text><text y=\"0.32em\" transform=\"translate(65,64.37873257877709)\">2.6e+9</text><text y=\"0.32em\" transform=\"translate(65,40.86940431560611)\">2.8e+9</text></g><g aria-label=\"y-axis label\" text-anchor=\"start\" transform=\"translate(-62,-17)\"><text y=\"0.71em\" transform=\"translate(65,20)\">↑ Population</text></g><g aria-label=\"x-axis tick\" aria-hidden=\"true\" fill=\"none\" stroke=\"currentColor\" transform=\"translate(22.5,0)\"><path transform=\"translate(70,370)\" d=\"M0,0L0,6\"></path><path transform=\"translate(120,370)\" d=\"M0,0L0,6\"></path><path transform=\"translate(170,370)\" d=\"M0,0L0,6\"></path><path transform=\"translate(220,370)\" d=\"M0,0L0,6\"></path><path transform=\"translate(270,370)\" d=\"M0,0L0,6\"></path><path transform=\"translate(320,370)\" d=\"M0,0L0,6\"></path><path transform=\"translate(370,370)\" d=\"M0,0L0,6\"></path><path transform=\"translate(420,370)\" d=\"M0,0L0,6\"></path><path transform=\"translate(470,370)\" d=\"M0,0L0,6\"></path><path transform=\"translate(520,370)\" d=\"M0,0L0,6\"></path><path transform=\"translate(570,370)\" d=\"M0,0L0,6\"></path></g><g aria-label=\"x-axis tick label\" transform=\"translate(22.5,9)\"><text y=\"0.71em\" transform=\"translate(70,370)\">1955</text><text y=\"0.71em\" transform=\"translate(120,370)\">1960</text><text y=\"0.71em\" transform=\"translate(170,370)\">1965</text><text y=\"0.71em\" transform=\"translate(220,370)\">1970</text><text y=\"0.71em\" transform=\"translate(270,370)\">1975</text><text y=\"0.71em\" transform=\"translate(320,370)\">1980</text><text y=\"0.71em\" transform=\"translate(370,370)\">1985</text><text y=\"0.71em\" transform=\"translate(420,370)\">1990</text><text y=\"0.71em\" transform=\"translate(470,370)\">1995</text><text y=\"0.71em\" transform=\"translate(520,370)\">2000</text><text y=\"0.71em\" transform=\"translate(570,370)\">2005</text></g><g aria-label=\"x-axis label\" transform=\"translate(0,27)\"><text transform=\"translate(342.5,370)\">Year</text></g><g aria-label=\"bar\"><rect x=\"70\" width=\"45\" y=\"368.91741377075704\" height=\"1.0825862292429633\" fill=\"#4269d0\"></rect><rect x=\"120\" width=\"45\" y=\"368.7908391947482\" height=\"1.2091608052518268\" fill=\"#4269d0\"></rect><rect x=\"170\" width=\"45\" y=\"368.6647357456777\" height=\"1.3352642543222828\" fill=\"#4269d0\"></rect><rect x=\"220\" width=\"45\" y=\"368.51949605604096\" height=\"1.480503943959036\" fill=\"#4269d0\"></rect><rect x=\"270\" width=\"45\" y=\"368.36764695385637\" height=\"1.6323530461436349\" fill=\"#4269d0\"></rect><rect x=\"320\" width=\"45\" y=\"368.2713212427905\" height=\"1.7286787572094795\" fill=\"#4269d0\"></rect><rect x=\"370\" width=\"45\" y=\"368.1444461000199\" height=\"1.8555538999801229\" fill=\"#4269d0\"></rect><rect x=\"420\" width=\"45\" y=\"367.9960645062074\" height=\"2.0039354937925964\" fill=\"#4269d0\"></rect><rect x=\"470\" width=\"45\" y=\"367.8838079339373\" height=\"2.1161920660626947\" fill=\"#4269d0\"></rect><rect x=\"520\" width=\"45\" y=\"367.7645023246808\" height=\"2.235497675319209\" fill=\"#4269d0\"></rect><rect x=\"570\" width=\"45\" y=\"367.6288807714231\" height=\"2.3711192285769016\" fill=\"#4269d0\"></rect><rect x=\"70\" width=\"45\" y=\"297.9991568527191\" height=\"70.91825691803791\" fill=\"#efb118\"></rect><rect x=\"120\" width=\"45\" y=\"291.89527150287955\" height=\"76.89556769186862\" fill=\"#efb118\"></rect><rect x=\"170\" width=\"45\" y=\"283.57902859198356\" height=\"85.08570715369416\" fill=\"#efb118\"></rect><rect x=\"220\" width=\"45\" y=\"271.83333409195694\" height=\"96.68616196408402\" fill=\"#efb118\"></rect><rect x=\"270\" width=\"45\" y=\"260.797816667996\" height=\"107.56983028586035\" fill=\"#efb118\"></rect><rect x=\"320\" width=\"45\" y=\"252.7967373433166\" height=\"115.47458389947391\" fill=\"#efb118\"></rect><rect x=\"370\" width=\"45\" y=\"243.51679757977726\" height=\"124.62764852024262\" fill=\"#efb118\"></rect><rect x=\"420\" width=\"45\" y=\"232.38200461178667\" height=\"135.61405989442073\" fill=\"#efb118\"></rect><rect x=\"470\" width=\"45\" y=\"224.6950220200073\" height=\"143.18878591393002\" fill=\"#efb118\"></rect><rect x=\"520\" width=\"45\" y=\"219.1739024732316\" height=\"148.59059985144918\" fill=\"#efb118\"></rect><rect x=\"570\" width=\"45\" y=\"214.2437305634886\" height=\"153.3851502079345\" fill=\"#efb118\"></rect><rect x=\"70\" width=\"45\" y=\"292.8748460856453\" height=\"5.124310767073837\" fill=\"#ff725c\"></rect><rect x=\"120\" width=\"45\" y=\"286.5281418177202\" height=\"5.367129685159341\" fill=\"#ff725c\"></rect><rect x=\"170\" width=\"45\" y=\"277.91694746558187\" height=\"5.662081126401688\" fill=\"#ff725c\"></rect><rect x=\"220\" width=\"45\" y=\"265.89445625042424\" height=\"5.938877841532701\" fill=\"#ff725c\"></rect><rect x=\"270\" width=\"45\" y=\"254.63249180458016\" height=\"6.1653248634158615\" fill=\"#ff725c\"></rect><rect x=\"320\" width=\"45\" y=\"246.4828570346058\" height=\"6.3138803087108215\" fill=\"#ff725c\"></rect><rect x=\"370\" width=\"45\" y=\"237.03902481019912\" height=\"6.477772769578138\" fill=\"#ff725c\"></rect><rect x=\"420\" width=\"45\" y=\"225.75085804253936\" height=\"6.631146569247306\" fill=\"#ff725c\"></rect><rect x=\"470\" width=\"45\" y=\"217.94545226413985\" height=\"6.749569755867441\" fill=\"#ff725c\"></rect><rect x=\"520\" width=\"45\" y=\"212.27797551180848\" height=\"6.895926961423129\" fill=\"#ff725c\"></rect><rect x=\"570\" width=\"45\" y=\"207.13097401128158\" height=\"7.112756552207031\" fill=\"#ff725c\"></rect><rect x=\"70\" width=\"45\" y=\"246.0233418236276\" height=\"46.8515042620177\" fill=\"#6cc5b0\"></rect><rect x=\"120\" width=\"45\" y=\"234.10767887684406\" height=\"52.42046294087615\" fill=\"#6cc5b0\"></rect><rect x=\"170\" width=\"45\" y=\"219.13018581940648\" height=\"58.78676164617539\" fill=\"#6cc5b0\"></rect><rect x=\"220\" width=\"45\" y=\"200.36205078865473\" height=\"65.53240546176951\" fill=\"#6cc5b0\"></rect><rect x=\"270\" width=\"45\" y=\"181.33931408203856\" height=\"73.2931777225416\" fill=\"#6cc5b0\"></rect><rect x=\"320\" width=\"45\" y=\"164.5730208043043\" height=\"81.9098362303015\" fill=\"#6cc5b0\"></rect><rect x=\"370\" width=\"45\" y=\"145.32418842271596\" height=\"91.71483638748316\" fill=\"#6cc5b0\"></rect><rect x=\"420\" width=\"45\" y=\"123.43212962067497\" height=\"102.31872842186439\" fill=\"#6cc5b0\"></rect><rect x=\"470\" width=\"45\" y=\"104.59767935921181\" height=\"113.34777290492804\" fill=\"#6cc5b0\"></rect><rect x=\"520\" width=\"45\" y=\"87.72159599038224\" height=\"124.55637952142624\" fill=\"#6cc5b0\"></rect><rect x=\"570\" width=\"45\" y=\"71.4070713648702\" height=\"135.72390264641137\" fill=\"#6cc5b0\"></rect><rect x=\"70\" width=\"45\" y=\"241.22282832602843\" height=\"4.800513497599155\" fill=\"#3ca951\"></rect><rect x=\"120\" width=\"45\" y=\"228.82650317485403\" height=\"5.281175701990037\" fill=\"#3ca951\"></rect><rect x=\"170\" width=\"45\" y=\"213.261575831946\" height=\"5.868609987460474\" fill=\"#3ca951\"></rect><rect x=\"220\" width=\"45\" y=\"193.83007044506064\" height=\"6.5319803435940855\" fill=\"#3ca951\"></rect><rect x=\"270\" width=\"45\" y=\"173.95135345414369\" height=\"7.38796062789487\" fill=\"#3ca951\"></rect><rect x=\"320\" width=\"45\" y=\"155.99782417069582\" height=\"8.57519663360847\" fill=\"#3ca951\"></rect><rect x=\"370\" width=\"45\" y=\"135.49902290412325\" height=\"9.825165518592712\" fill=\"#3ca951\"></rect><rect x=\"420\" width=\"45\" y=\"112.24001350494032\" height=\"11.192116115734649\" fill=\"#3ca951\"></rect><rect x=\"470\" width=\"45\" y=\"91.88058917172224\" height=\"12.717090187489575\" fill=\"#3ca951\"></rect><rect x=\"520\" width=\"45\" y=\"73.28075789219307\" height=\"14.440838098189175\" fill=\"#3ca951\"></rect><rect x=\"570\" width=\"45\" y=\"54.8928588577307\" height=\"16.514212507139504\" fill=\"#3ca951\"></rect><rect x=\"70\" width=\"45\" y=\"222.2817799525148\" height=\"18.941048373513638\" fill=\"#ff8ab7\"></rect><rect x=\"120\" width=\"45\" y=\"208.11612759273748\" height=\"20.71037558211654\" fill=\"#ff8ab7\"></rect><rect x=\"170\" width=\"45\" y=\"190.9625920687049\" height=\"22.298983763241097\" fill=\"#ff8ab7\"></rect><rect x=\"220\" width=\"45\" y=\"170.28214691768002\" height=\"23.54792352738062\" fill=\"#ff8ab7\"></rect><rect x=\"270\" width=\"45\" y=\"149.11674146932464\" height=\"24.83461198481905\" fill=\"#ff8ab7\"></rect><rect x=\"320\" width=\"45\" y=\"129.76846451163644\" height=\"26.229359659059384\" fill=\"#ff8ab7\"></rect><rect x=\"370\" width=\"45\" y=\"107.8583789917765\" height=\"27.640643912346746\" fill=\"#ff8ab7\"></rect><rect x=\"420\" width=\"45\" y=\"83.07860404323765\" height=\"29.161409461702675\" fill=\"#ff8ab7\"></rect><rect x=\"470\" width=\"45\" y=\"60.653083083819624\" height=\"31.22750608790261\" fill=\"#ff8ab7\"></rect><rect x=\"520\" width=\"45\" y=\"40.08575635703899\" height=\"33.19500153515408\" fill=\"#ff8ab7\"></rect><rect x=\"570\" width=\"45\" y=\"20\" height=\"34.8928588577307\" fill=\"#ff8ab7\"></rect></g></svg></figure>"
      ],
      "text/plain": [
       "<IPython.core.display.HTML object>"
      ]
     },
     "metadata": {},
     "output_type": "display_data"
    }
   ],
   "source": [
    "Plot.plot(\n",
    "    {\n",
    "        \"title\": \"Stacked Population\",\n",
    "        \"marginLeft\": 65,\n",
    "        \"x\": {\"label\": \"Year\"},\n",
    "        \"y\": {\"label\": \"Population\", \"tickFormat\": \".2\"},\n",
    "        \"color\": {\"legend\": True},\n",
    "        \"marks\": [\n",
    "            Plot.barY(stacked_bar_df, {\"x\": \"year\", \"y\": \"pop\", \"fill\": \"country\"})\n",
    "        ],\n",
    "    }\n",
    ")"
   ]
  },
  {
   "cell_type": "markdown",
   "id": "1fef752c-018a-418e-8120-b2ec0ed6bd8c",
   "metadata": {
    "id": "1fef752c-018a-418e-8120-b2ec0ed6bd8c"
   },
   "source": [
    "The `fill` property in the Plot.barY function specifies the color of the bars based on a categorical variable. In this case, `fill:'country'` means that each bar will be colored according to the country it represents. Also the `fill` property ensures that each segment (representing a country’s population) is colored differently, allowing for easy identification and comparison."
   ]
  },
  {
   "cell_type": "markdown",
   "id": "c2729bbb-85e2-4584-b5b5-80f132ac152b",
   "metadata": {
    "id": "c2729bbb-85e2-4584-b5b5-80f132ac152b"
   },
   "source": [
    "### Grouped Bar Charts\n",
    "\n",
    "Instead of stacking, a grouped bar chart order places all bars next to each but groups them to allow better intra-group comparisons. For example, it may not be clear in the stacked bar chart whether France or Nigeria has a greater population in the 1970s, but if we place them next to each other, we can more easily see this."
   ]
  },
  {
   "cell_type": "code",
   "execution_count": 43,
   "id": "a58b9917-ae5b-4a9d-aeee-ed72e193a6f9",
   "metadata": {
    "id": "a58b9917-ae5b-4a9d-aeee-ed72e193a6f9"
   },
   "outputs": [
    {
     "data": {
      "text/html": [
       "<div><style>\n",
       ".dataframe > thead > tr,\n",
       ".dataframe > tbody > tr {\n",
       "  text-align: right;\n",
       "  white-space: pre-wrap;\n",
       "}\n",
       "</style>\n",
       "<small>shape: (24, 7)</small><table border=\"1\" class=\"dataframe\"><thead><tr><th>year</th><th>country</th><th>cluster</th><th>pop</th><th>life_expect</th><th>fertility</th><th>region</th></tr><tr><td>i64</td><td>str</td><td>i64</td><td>i64</td><td>f64</td><td>f64</td><td>str</td></tr></thead><tbody><tr><td>1955</td><td>&quot;Australia&quot;</td><td>4</td><td>9209844</td><td>70.34</td><td>3.27</td><td>&quot;E. Asia &amp; Pacific&quot;</td></tr><tr><td>1970</td><td>&quot;Australia&quot;</td><td>4</td><td>12595034</td><td>71.15</td><td>2.86</td><td>&quot;E. Asia &amp; Pacific&quot;</td></tr><tr><td>1985</td><td>&quot;Australia&quot;</td><td>4</td><td>15785682</td><td>75.59</td><td>1.92</td><td>&quot;E. Asia &amp; Pacific&quot;</td></tr><tr><td>2000</td><td>&quot;Australia&quot;</td><td>4</td><td>19017963</td><td>79.72</td><td>1.77</td><td>&quot;E. Asia &amp; Pacific&quot;</td></tr><tr><td>1955</td><td>&quot;China&quot;</td><td>4</td><td>603320147</td><td>53.92</td><td>6.16</td><td>&quot;E. Asia &amp; Pacific&quot;</td></tr><tr><td>&hellip;</td><td>&hellip;</td><td>&hellip;</td><td>&hellip;</td><td>&hellip;</td><td>&hellip;</td><td>&hellip;</td></tr><tr><td>2000</td><td>&quot;Nigeria&quot;</td><td>2</td><td>122851984</td><td>54.63</td><td>6.12</td><td>&quot;Africa&quot;</td></tr><tr><td>1955</td><td>&quot;United States&quot;</td><td>3</td><td>161136449</td><td>69.86</td><td>3.47</td><td>&quot;Americas&quot;</td></tr><tr><td>1970</td><td>&quot;United States&quot;</td><td>3</td><td>200328340</td><td>70.93</td><td>2.47</td><td>&quot;Americas&quot;</td></tr><tr><td>1985</td><td>&quot;United States&quot;</td><td>3</td><td>235146182</td><td>74.91</td><td>1.84</td><td>&quot;Americas&quot;</td></tr><tr><td>2000</td><td>&quot;United States&quot;</td><td>3</td><td>282398554</td><td>77.03</td><td>2.05</td><td>&quot;Americas&quot;</td></tr></tbody></table></div>"
      ],
      "text/plain": [
       "shape: (24, 7)\n",
       "┌──────┬───────────────┬─────────┬───────────┬─────────────┬───────────┬───────────────────┐\n",
       "│ year ┆ country       ┆ cluster ┆ pop       ┆ life_expect ┆ fertility ┆ region            │\n",
       "│ ---  ┆ ---           ┆ ---     ┆ ---       ┆ ---         ┆ ---       ┆ ---               │\n",
       "│ i64  ┆ str           ┆ i64     ┆ i64       ┆ f64         ┆ f64       ┆ str               │\n",
       "╞══════╪═══════════════╪═════════╪═══════════╪═════════════╪═══════════╪═══════════════════╡\n",
       "│ 1955 ┆ Australia     ┆ 4       ┆ 9209844   ┆ 70.34       ┆ 3.27      ┆ E. Asia & Pacific │\n",
       "│ 1970 ┆ Australia     ┆ 4       ┆ 12595034  ┆ 71.15       ┆ 2.86      ┆ E. Asia & Pacific │\n",
       "│ 1985 ┆ Australia     ┆ 4       ┆ 15785682  ┆ 75.59       ┆ 1.92      ┆ E. Asia & Pacific │\n",
       "│ 2000 ┆ Australia     ┆ 4       ┆ 19017963  ┆ 79.72       ┆ 1.77      ┆ E. Asia & Pacific │\n",
       "│ 1955 ┆ China         ┆ 4       ┆ 603320147 ┆ 53.92       ┆ 6.16      ┆ E. Asia & Pacific │\n",
       "│ …    ┆ …             ┆ …       ┆ …         ┆ …           ┆ …         ┆ …                 │\n",
       "│ 2000 ┆ Nigeria       ┆ 2       ┆ 122851984 ┆ 54.63       ┆ 6.12      ┆ Africa            │\n",
       "│ 1955 ┆ United States ┆ 3       ┆ 161136449 ┆ 69.86       ┆ 3.47      ┆ Americas          │\n",
       "│ 1970 ┆ United States ┆ 3       ┆ 200328340 ┆ 70.93       ┆ 2.47      ┆ Americas          │\n",
       "│ 1985 ┆ United States ┆ 3       ┆ 235146182 ┆ 74.91       ┆ 1.84      ┆ Americas          │\n",
       "│ 2000 ┆ United States ┆ 3       ┆ 282398554 ┆ 77.03       ┆ 2.05      ┆ Americas          │\n",
       "└──────┴───────────────┴─────────┴───────────┴─────────────┴───────────┴───────────────────┘"
      ]
     },
     "execution_count": 43,
     "metadata": {},
     "output_type": "execute_result"
    }
   ],
   "source": [
    "grouped_bar_df = df.filter(\n",
    "    pl.col(\"country\").is_in(bar_countries)\n",
    "    & pl.col(\"year\").is_in([1955, 1970, 1985, 2000])\n",
    ")"
   ]
  },
  {
   "cell_type": "code",
   "execution_count": 44,
   "id": "677a2bc1-591a-4d48-bda7-f1895b82dfd9",
   "metadata": {
    "colab": {
     "base_uri": "https://localhost:8080/",
     "height": 535
    },
    "id": "677a2bc1-591a-4d48-bda7-f1895b82dfd9",
    "outputId": "c7d4d1c1-b017-41a6-a125-f42ddd48ac4c"
   },
   "outputs": [
    {
     "data": {
      "text/html": [
       "<figure class=\"plot-d6a7b5-figure\" style=\"max-width: initial; padding: 0px 5px 5px 5px; color: rgb(0, 0, 0); background-color: rgb(255, 255, 255);\" typstbg=\"#FFFFFF\" typstfg=\"#000000\" typstcaption=\"#777777\"><h2 style=\"line-height: 28px; font-size: 20px; font-weight: 600; margin: 0px;\">Grouped Population</h2><div class=\"plot-d6a7b5-swatches plot-d6a7b5-swatches-wrap\"><style>:where(.plot-d6a7b5-swatches) {\n",
       "  font-family: system-ui, sans-serif;\n",
       "  font-size: 10px;\n",
       "  margin-bottom: 0.5em;\n",
       "}\n",
       ":where(.plot-d6a7b5-swatch > svg) {\n",
       "  margin-right: 0.5em;\n",
       "  overflow: visible;\n",
       "}\n",
       ":where(.plot-d6a7b5-swatches-wrap) {\n",
       "  display: flex;\n",
       "  align-items: center;\n",
       "  min-height: 33px;\n",
       "  flex-wrap: wrap;\n",
       "}\n",
       ":where(.plot-d6a7b5-swatches-wrap .plot-d6a7b5-swatch) {\n",
       "  display: inline-flex;\n",
       "  align-items: center;\n",
       "  margin-right: 1em;\n",
       "}</style><span class=\"plot-d6a7b5-swatch\"><svg width=\"15\" height=\"15\" fill=\"#4269d0\" xmlns=\"http://www.w3.org/2000/svg\" xmlns:xlink=\"http://www.w3.org/1999/xlink\" style=\"color: rgb(0, 0, 0); background-color: rgb(255, 255, 255);\"><rect width=\"100%\" height=\"100%\"></rect></svg>Australia</span><span class=\"plot-d6a7b5-swatch\"><svg width=\"15\" height=\"15\" fill=\"#efb118\" xmlns=\"http://www.w3.org/2000/svg\" xmlns:xlink=\"http://www.w3.org/1999/xlink\" style=\"color: rgb(0, 0, 0); background-color: rgb(255, 255, 255);\"><rect width=\"100%\" height=\"100%\"></rect></svg>China</span><span class=\"plot-d6a7b5-swatch\"><svg width=\"15\" height=\"15\" fill=\"#ff725c\" xmlns=\"http://www.w3.org/2000/svg\" xmlns:xlink=\"http://www.w3.org/1999/xlink\" style=\"color: rgb(0, 0, 0); background-color: rgb(255, 255, 255);\"><rect width=\"100%\" height=\"100%\"></rect></svg>France</span><span class=\"plot-d6a7b5-swatch\"><svg width=\"15\" height=\"15\" fill=\"#6cc5b0\" xmlns=\"http://www.w3.org/2000/svg\" xmlns:xlink=\"http://www.w3.org/1999/xlink\" style=\"color: rgb(0, 0, 0); background-color: rgb(255, 255, 255);\"><rect width=\"100%\" height=\"100%\"></rect></svg>India</span><span class=\"plot-d6a7b5-swatch\"><svg width=\"15\" height=\"15\" fill=\"#3ca951\" xmlns=\"http://www.w3.org/2000/svg\" xmlns:xlink=\"http://www.w3.org/1999/xlink\" style=\"color: rgb(0, 0, 0); background-color: rgb(255, 255, 255);\"><rect width=\"100%\" height=\"100%\"></rect></svg>Nigeria</span><span class=\"plot-d6a7b5-swatch\"><svg width=\"15\" height=\"15\" fill=\"#ff8ab7\" xmlns=\"http://www.w3.org/2000/svg\" xmlns:xlink=\"http://www.w3.org/1999/xlink\" style=\"color: rgb(0, 0, 0); background-color: rgb(255, 255, 255);\"><rect width=\"100%\" height=\"100%\"></rect></svg>United States</span></div><svg class=\"plot-d6a7b5\" fill=\"currentColor\" font-family=\"system-ui, sans-serif\" font-size=\"10\" text-anchor=\"middle\" width=\"640\" height=\"430\" viewBox=\"0 0 640 430\" xmlns=\"http://www.w3.org/2000/svg\" xmlns:xlink=\"http://www.w3.org/1999/xlink\" style=\"color: rgb(0, 0, 0); background-color: rgb(255, 255, 255);\"><style>:where(.plot-d6a7b5) {\n",
       "  --plot-background: white;\n",
       "  display: block;\n",
       "  height: auto;\n",
       "  height: intrinsic;\n",
       "  max-width: 100%;\n",
       "}\n",
       ":where(.plot-d6a7b5 text),\n",
       ":where(.plot-d6a7b5 tspan) {\n",
       "  white-space: pre;\n",
       "}</style><g aria-label=\"fx-axis tick label\" transform=\"translate(0,9)\"><g transform=\"translate(1,0)\"><text y=\"0.71em\" transform=\"translate(129,400)\">1955</text></g><g transform=\"translate(143,0)\"><text y=\"0.71em\" transform=\"translate(129,400)\">1970</text></g><g transform=\"translate(285,0)\"><text y=\"0.71em\" transform=\"translate(129,400)\">1985</text></g><g transform=\"translate(427,0)\"><text y=\"0.71em\" transform=\"translate(129,400)\">2000</text></g></g><g aria-label=\"fx-axis label\" transform=\"translate(0,27)\"><text transform=\"translate(343,400)\">year</text></g><g aria-label=\"y-axis tick\" aria-hidden=\"true\"><g fill=\"none\" stroke=\"currentColor\" transform=\"translate(1,0)\"><path transform=\"translate(65,400)\" d=\"M0,0L-6,0\"></path><path transform=\"translate(65,369.93906495789054)\" d=\"M0,0L-6,0\"></path><path transform=\"translate(65,339.8781299157812)\" d=\"M0,0L-6,0\"></path><path transform=\"translate(65,309.8171948736717)\" d=\"M0,0L-6,0\"></path><path transform=\"translate(65,279.7562598315623)\" d=\"M0,0L-6,0\"></path><path transform=\"translate(65,249.69532478945288)\" d=\"M0,0L-6,0\"></path><path transform=\"translate(65,219.63438974734345)\" d=\"M0,0L-6,0\"></path><path transform=\"translate(65,189.57345470523404)\" d=\"M0,0L-6,0\"></path><path transform=\"translate(65,159.5125196631246)\" d=\"M0,0L-6,0\"></path><path transform=\"translate(65,129.45158462101517)\" d=\"M0,0L-6,0\"></path><path transform=\"translate(65,99.39064957890578)\" d=\"M0,0L-6,0\"></path><path transform=\"translate(65,69.32971453679633)\" d=\"M0,0L-6,0\"></path><path transform=\"translate(65,39.26877949468689)\" d=\"M0,0L-6,0\"></path></g></g><g aria-label=\"y-axis tick label\" transform=\"translate(-9,0)\"><g text-anchor=\"end\" font-variant=\"tabular-nums\" transform=\"translate(1,0)\"><text y=\"0.32em\" transform=\"translate(65,400)\">0</text><text y=\"0.32em\" transform=\"translate(65,369.93906495789054)\">1e+8</text><text y=\"0.32em\" transform=\"translate(65,339.8781299157812)\">2e+8</text><text y=\"0.32em\" transform=\"translate(65,309.8171948736717)\">3e+8</text><text y=\"0.32em\" transform=\"translate(65,279.7562598315623)\">4e+8</text><text y=\"0.32em\" transform=\"translate(65,249.69532478945288)\">5e+8</text><text y=\"0.32em\" transform=\"translate(65,219.63438974734345)\">6e+8</text><text y=\"0.32em\" transform=\"translate(65,189.57345470523404)\">7e+8</text><text y=\"0.32em\" transform=\"translate(65,159.5125196631246)\">8e+8</text><text y=\"0.32em\" transform=\"translate(65,129.45158462101517)\">9e+8</text><text y=\"0.32em\" transform=\"translate(65,99.39064957890578)\">1e+9</text><text y=\"0.32em\" transform=\"translate(65,69.32971453679633)\">1.1e+9</text><text y=\"0.32em\" transform=\"translate(65,39.26877949468689)\">1.2e+9</text></g></g><g aria-label=\"y-axis label\" text-anchor=\"start\" transform=\"translate(-62,-17)\"><text y=\"0.71em\" transform=\"translate(66,20)\">↑ Population</text></g><g aria-label=\"bar\"><g transform=\"translate(1,0)\"><rect x=\"170\" width=\"18\" y=\"397.23143477768036\" height=\"2.768565222319637\" fill=\"#4269d0\"></rect><rect x=\"70\" width=\"18\" y=\"218.6363225143709\" height=\"181.3636774856291\" fill=\"#efb118\"></rect><rect x=\"150\" width=\"18\" y=\"386.89528076853605\" height=\"13.104719231463946\" fill=\"#ff725c\"></rect><rect x=\"90\" width=\"18\" y=\"280.1837287327359\" height=\"119.81627126726409\" fill=\"#6cc5b0\"></rect><rect x=\"130\" width=\"18\" y=\"387.72334770226774\" height=\"12.276652297732255\" fill=\"#3ca951\"></rect><rect x=\"110\" width=\"18\" y=\"351.56087673694816\" height=\"48.43912326305184\" fill=\"#ff8ab7\"></rect></g><g transform=\"translate(143,0)\"><rect x=\"170\" width=\"18\" y=\"396.2138150107284\" height=\"3.7861849892715895\" fill=\"#4269d0\"></rect><rect x=\"70\" width=\"18\" y=\"152.73845328652797\" height=\"247.26154671347203\" fill=\"#efb118\"></rect><rect x=\"150\" width=\"18\" y=\"384.8121376315957\" height=\"15.187862368404296\" fill=\"#ff725c\"></rect><rect x=\"90\" width=\"18\" y=\"232.40989604747506\" height=\"167.59010395252494\" fill=\"#6cc5b0\"></rect><rect x=\"130\" width=\"18\" y=\"383.29535964558164\" height=\"16.70464035441836\" fill=\"#3ca951\"></rect><rect x=\"110\" width=\"18\" y=\"339.7794278416639\" height=\"60.2205721583361\" fill=\"#ff8ab7\"></rect></g><g transform=\"translate(285,0)\"><rect x=\"170\" width=\"18\" y=\"395.25467638802604\" height=\"4.745323611973959\" fill=\"#4269d0\"></rect><rect x=\"70\" width=\"18\" y=\"81.28194862233539\" height=\"318.7180513776646\" fill=\"#efb118\"></rect><rect x=\"150\" width=\"18\" y=\"383.4339880524032\" height=\"16.56601194759679\" fill=\"#ff725c\"></rect><rect x=\"90\" width=\"18\" y=\"165.45193395755916\" height=\"234.54806604244084\" fill=\"#6cc5b0\"></rect><rect x=\"130\" width=\"18\" y=\"374.87349199210587\" height=\"25.12650800789413\" fill=\"#3ca951\"></rect><rect x=\"110\" width=\"18\" y=\"329.31285897497963\" height=\"70.68714102502037\" fill=\"#ff8ab7\"></rect></g><g transform=\"translate(427,0)\"><rect x=\"170\" width=\"18\" y=\"394.2830224962376\" height=\"5.7169775037623936\" fill=\"#4269d0\"></rect><rect x=\"70\" width=\"18\" y=\"20\" height=\"380\" fill=\"#efb118\"></rect><rect x=\"150\" width=\"18\" y=\"382.36461628151073\" height=\"17.635383718489265\" fill=\"#ff725c\"></rect><rect x=\"90\" width=\"18\" y=\"81.4642092739331\" height=\"318.5357907260669\" fill=\"#6cc5b0\"></rect><rect x=\"130\" width=\"18\" y=\"363.0695448918173\" height=\"36.930455108182684\" fill=\"#3ca951\"></rect><rect x=\"110\" width=\"18\" y=\"315.1083541222037\" height=\"84.8916458777963\" fill=\"#ff8ab7\"></rect></g></g></svg></figure>"
      ],
      "text/plain": [
       "<IPython.core.display.HTML object>"
      ]
     },
     "metadata": {},
     "output_type": "display_data"
    }
   ],
   "source": [
    "Plot.plot(\n",
    "    {\n",
    "        \"title\": \"Grouped Population\",\n",
    "        \"marginLeft\": 65,\n",
    "        \"x\": {\"axis\": None},\n",
    "        \"y\": {\"label\": \"Population\", \"tickFormat\": \".2\"},\n",
    "        \"color\": {\"legend\": True},\n",
    "        \"marks\": [\n",
    "            Plot.barY(\n",
    "                grouped_bar_df,\n",
    "                {\n",
    "                    \"x\": \"country\",\n",
    "                    \"fx\": \"year\",\n",
    "                    \"y\": \"pop\",\n",
    "                    \"fill\": \"country\",\n",
    "                    \"sort\": {\"x\": \"-y\"},\n",
    "                },\n",
    "            )\n",
    "        ],\n",
    "    }\n",
    ")"
   ]
  },
  {
   "cell_type": "markdown",
   "id": "4dabb7c7-00d9-4c48-9b45-8e57f6fc70a9",
   "metadata": {
    "id": "4dabb7c7-00d9-4c48-9b45-8e57f6fc70a9"
   },
   "source": [
    "In the above example:\n",
    "* fx: The `fx` property is set to year, which facets the plot by year. This means we will get separate groups of bars for each year, side by side.\n",
    "* x: The `x` property is set to country, which means the bars will be grouped by country along the x-axis.\n",
    "* y: The `y` property is used to set the height of the bars based on the population.\n",
    "* fill: The `fill` property is used to color the bars based on the country variable. This means each country’s bars will have a distinct color, making it easier to differentiate between them."
   ]
  },
  {
   "cell_type": "markdown",
   "id": "wcwJjbedzYex",
   "metadata": {
    "id": "wcwJjbedzYex"
   },
   "source": [
    "## Choosing the Right Chart\n",
    "\n",
    "As noted in the above example, a key challenge in visualization is finding the correct type of chart to use for a particular question about the data. There are guidelines that you can follow to select charts that can help in a particular situation. Before we examine the chart types, we need to understand the types of data attributes that are involved. These types relate to whether the data can be ordered and if so, whether those values can be compared arithmetically.\n",
    "\n",
    "#### Data Attribute Types\n",
    "\n",
    "- **Categorical** (aka Nominal): Attributes that represent different groups. Such attributes cannot be ordered in a meaningful way. Examples include produce types (apples, bananas, grapes) and eye color (blue, brown, green). We can tell if two data items have the same or different values for that attribute but we cannot say that one attribute is less than or greater than the other.\n",
    "- **Ordinal**: Attributes that can be ordered in a meaningful way. Examples include clothing sizes (Small, Medium, Large) or customer satisfaction ratings (poor, fair, good, excellent). We can put data items in an order based on this attribute but need not be able to compute how much different two values are (small < medium but we don't know by how much).\n",
    "- **Quantitative**: Attributes that are ordered and can be arithmetically compared. Here, we can measure how much smaller one value is than another or how many times larger a value is than another. Examples here include temperature readings (34.5, 54.1, 87.9) and dates (2020-03-04, 2022-05-06, 2024-07-04).\n",
    "\n",
    "Note than a quantitative attribute is ordered and an ordered attribute could be treated categorically, but we cannot invert these relationships. Something that is strictly categorical is not ordered.\n",
    "\n",
    "#### Chart Requirements\n",
    "\n",
    "- **Line Chart**: A line chart requires a quantitative attribute and an ordered attribute. The connection between two points implies a trend between them, and this does not make sense for categorical values. For example, we don't talk about a trend from an apple to a banana.\n",
    "- **Scatterplot**: A scatterplot requires two quantitative attributes. One value is mapped to the x-axis and the other to the y-axis. Scatterplots are useful to look for correlation (either positive or negative) between two quantiative attributes.\n",
    "- **Bar Chart**: A bar chart requires a quantitative attribute and a categorical attribute. Since there is no connection between items, the categorical attribute is ok here where it wasn't for the line chart."
   ]
  },
  {
   "cell_type": "markdown",
   "id": "SG8yMkXJz4Tf",
   "metadata": {
    "id": "SG8yMkXJz4Tf"
   },
   "source": [
    "## Excercises\n",
    "\n",
    "Suppose you have the penguins dataset and wish to answer some questions about the data. Create visualizations that will help you answer the following questions. Remember to choose a chart type that works with the data attributes you need to examine.\n",
    "\n",
    "1. Is there a correlation between beak length and beak depth?\n",
    "2. Can we use beak length and beak depth to distinguish between the three different species of penguins?\n",
    "3. What are the differences in the average body masses of each sex of penguin on each island?\n"
   ]
  },
  {
   "cell_type": "code",
   "execution_count": 45,
   "id": "IMlPfng60Lbx",
   "metadata": {
    "id": "IMlPfng60Lbx"
   },
   "outputs": [],
   "source": [
    "import os\n",
    "import json\n",
    "from urllib.request import urlretrieve\n",
    "\n",
    "url = \"https://raw.githubusercontent.com/vega/vega-datasets/main/data/penguins.json\"\n",
    "local_fname = \"penguins.json\"\n",
    "if not os.path.exists(local_fname):\n",
    "    urlretrieve(url, local_fname)"
   ]
  },
  {
   "cell_type": "code",
   "execution_count": 46,
   "id": "P1D2ORlT3T3y",
   "metadata": {
    "colab": {
     "base_uri": "https://localhost:8080/",
     "height": 443
    },
    "id": "P1D2ORlT3T3y",
    "outputId": "0a806183-da25-4bcc-f9bc-2753b1eb97ac"
   },
   "outputs": [
    {
     "data": {
      "text/html": [
       "<div><style>\n",
       ".dataframe > thead > tr,\n",
       ".dataframe > tbody > tr {\n",
       "  text-align: right;\n",
       "  white-space: pre-wrap;\n",
       "}\n",
       "</style>\n",
       "<small>shape: (344, 7)</small><table border=\"1\" class=\"dataframe\"><thead><tr><th>Species</th><th>Island</th><th>Beak Length (mm)</th><th>Beak Depth (mm)</th><th>Flipper Length (mm)</th><th>Body Mass (g)</th><th>Sex</th></tr><tr><td>str</td><td>str</td><td>f64</td><td>f64</td><td>i64</td><td>i64</td><td>str</td></tr></thead><tbody><tr><td>&quot;Adelie&quot;</td><td>&quot;Torgersen&quot;</td><td>39.1</td><td>18.7</td><td>181</td><td>3750</td><td>&quot;MALE&quot;</td></tr><tr><td>&quot;Adelie&quot;</td><td>&quot;Torgersen&quot;</td><td>39.5</td><td>17.4</td><td>186</td><td>3800</td><td>&quot;FEMALE&quot;</td></tr><tr><td>&quot;Adelie&quot;</td><td>&quot;Torgersen&quot;</td><td>40.3</td><td>18.0</td><td>195</td><td>3250</td><td>&quot;FEMALE&quot;</td></tr><tr><td>&quot;Adelie&quot;</td><td>&quot;Torgersen&quot;</td><td>null</td><td>null</td><td>null</td><td>null</td><td>null</td></tr><tr><td>&quot;Adelie&quot;</td><td>&quot;Torgersen&quot;</td><td>36.7</td><td>19.3</td><td>193</td><td>3450</td><td>&quot;FEMALE&quot;</td></tr><tr><td>&hellip;</td><td>&hellip;</td><td>&hellip;</td><td>&hellip;</td><td>&hellip;</td><td>&hellip;</td><td>&hellip;</td></tr><tr><td>&quot;Gentoo&quot;</td><td>&quot;Biscoe&quot;</td><td>null</td><td>null</td><td>null</td><td>null</td><td>null</td></tr><tr><td>&quot;Gentoo&quot;</td><td>&quot;Biscoe&quot;</td><td>46.8</td><td>14.3</td><td>215</td><td>4850</td><td>&quot;FEMALE&quot;</td></tr><tr><td>&quot;Gentoo&quot;</td><td>&quot;Biscoe&quot;</td><td>50.4</td><td>15.7</td><td>222</td><td>5750</td><td>&quot;MALE&quot;</td></tr><tr><td>&quot;Gentoo&quot;</td><td>&quot;Biscoe&quot;</td><td>45.2</td><td>14.8</td><td>212</td><td>5200</td><td>&quot;FEMALE&quot;</td></tr><tr><td>&quot;Gentoo&quot;</td><td>&quot;Biscoe&quot;</td><td>49.9</td><td>16.1</td><td>213</td><td>5400</td><td>&quot;MALE&quot;</td></tr></tbody></table></div>"
      ],
      "text/plain": [
       "shape: (344, 7)\n",
       "┌─────────┬───────────┬─────────────┬──────────────────┬──────────────────┬───────────────┬────────┐\n",
       "│ Species ┆ Island    ┆ Beak Length ┆ Beak Depth (mm)  ┆ Flipper Length   ┆ Body Mass (g) ┆ Sex    │\n",
       "│ ---     ┆ ---       ┆ (mm)        ┆ ---              ┆ (mm)             ┆ ---           ┆ ---    │\n",
       "│ str     ┆ str       ┆ ---         ┆ f64              ┆ ---              ┆ i64           ┆ str    │\n",
       "│         ┆           ┆ f64         ┆                  ┆ i64              ┆               ┆        │\n",
       "╞═════════╪═══════════╪═════════════╪══════════════════╪══════════════════╪═══════════════╪════════╡\n",
       "│ Adelie  ┆ Torgersen ┆ 39.1        ┆ 18.7             ┆ 181              ┆ 3750          ┆ MALE   │\n",
       "│ Adelie  ┆ Torgersen ┆ 39.5        ┆ 17.4             ┆ 186              ┆ 3800          ┆ FEMALE │\n",
       "│ Adelie  ┆ Torgersen ┆ 40.3        ┆ 18.0             ┆ 195              ┆ 3250          ┆ FEMALE │\n",
       "│ Adelie  ┆ Torgersen ┆ null        ┆ null             ┆ null             ┆ null          ┆ null   │\n",
       "│ Adelie  ┆ Torgersen ┆ 36.7        ┆ 19.3             ┆ 193              ┆ 3450          ┆ FEMALE │\n",
       "│ …       ┆ …         ┆ …           ┆ …                ┆ …                ┆ …             ┆ …      │\n",
       "│ Gentoo  ┆ Biscoe    ┆ null        ┆ null             ┆ null             ┆ null          ┆ null   │\n",
       "│ Gentoo  ┆ Biscoe    ┆ 46.8        ┆ 14.3             ┆ 215              ┆ 4850          ┆ FEMALE │\n",
       "│ Gentoo  ┆ Biscoe    ┆ 50.4        ┆ 15.7             ┆ 222              ┆ 5750          ┆ MALE   │\n",
       "│ Gentoo  ┆ Biscoe    ┆ 45.2        ┆ 14.8             ┆ 212              ┆ 5200          ┆ FEMALE │\n",
       "│ Gentoo  ┆ Biscoe    ┆ 49.9        ┆ 16.1             ┆ 213              ┆ 5400          ┆ MALE   │\n",
       "└─────────┴───────────┴─────────────┴──────────────────┴──────────────────┴───────────────┴────────┘"
      ]
     },
     "execution_count": 46,
     "metadata": {},
     "output_type": "execute_result"
    }
   ],
   "source": [
    "penguins_df = pl.read_json(\"penguins.json\")\n",
    "penguins_df"
   ]
  },
  {
   "cell_type": "markdown",
   "id": "MZohM5at0zXk",
   "metadata": {
    "id": "MZohM5at0zXk"
   },
   "source": [
    "### Solutions"
   ]
  },
  {
   "cell_type": "markdown",
   "id": "q2HhVagR3aKo",
   "metadata": {
    "id": "q2HhVagR3aKo"
   },
   "source": [
    "##### Solution 1"
   ]
  },
  {
   "cell_type": "markdown",
   "id": "bnAw8dy83hRi",
   "metadata": {
    "id": "bnAw8dy83hRi"
   },
   "source": [
    "Scatterplots work well for correlation and both beak length and beak depth are quantitative."
   ]
  },
  {
   "cell_type": "code",
   "execution_count": 47,
   "id": "P2J2opok08I2",
   "metadata": {
    "colab": {
     "base_uri": "https://localhost:8080/",
     "height": 463
    },
    "id": "P2J2opok08I2",
    "outputId": "78282882-5c33-4a84-b862-9616f925ea15"
   },
   "outputs": [
    {
     "data": {
      "text/html": [
       "<figure class=\"plot-d6a7b5-figure\" style=\"max-width: initial; padding: 0px 5px 5px 5px; color: rgb(0, 0, 0); background-color: rgb(255, 255, 255);\" typstbg=\"#FFFFFF\" typstfg=\"#000000\" typstcaption=\"#777777\"><svg class=\"plot-d6a7b5\" fill=\"currentColor\" font-family=\"system-ui, sans-serif\" font-size=\"10\" text-anchor=\"middle\" width=\"640\" height=\"400\" viewBox=\"0 0 640 400\" xmlns=\"http://www.w3.org/2000/svg\" xmlns:xlink=\"http://www.w3.org/1999/xlink\" style=\"color: rgb(0, 0, 0); background-color: rgb(255, 255, 255);\"><style>:where(.plot-d6a7b5) {\n",
       "  --plot-background: white;\n",
       "  display: block;\n",
       "  height: auto;\n",
       "  height: intrinsic;\n",
       "  max-width: 100%;\n",
       "}\n",
       ":where(.plot-d6a7b5 text),\n",
       ":where(.plot-d6a7b5 tspan) {\n",
       "  white-space: pre;\n",
       "}</style><g aria-label=\"y-axis tick\" aria-hidden=\"true\" fill=\"none\" stroke=\"currentColor\"><path transform=\"translate(40,332.5)\" d=\"M0,0L-6,0\"></path><path transform=\"translate(40,290.8333333333333)\" d=\"M0,0L-6,0\"></path><path transform=\"translate(40,249.16666666666663)\" d=\"M0,0L-6,0\"></path><path transform=\"translate(40,207.5)\" d=\"M0,0L-6,0\"></path><path transform=\"translate(40,165.83333333333331)\" d=\"M0,0L-6,0\"></path><path transform=\"translate(40,124.16666666666664)\" d=\"M0,0L-6,0\"></path><path transform=\"translate(40,82.50000000000001)\" d=\"M0,0L-6,0\"></path><path transform=\"translate(40,40.83333333333334)\" d=\"M0,0L-6,0\"></path></g><g aria-label=\"y-axis tick label\" text-anchor=\"end\" font-variant=\"tabular-nums\" transform=\"translate(-9,0)\"><text y=\"0.32em\" transform=\"translate(40,332.5)\">14</text><text y=\"0.32em\" transform=\"translate(40,290.8333333333333)\">15</text><text y=\"0.32em\" transform=\"translate(40,249.16666666666663)\">16</text><text y=\"0.32em\" transform=\"translate(40,207.5)\">17</text><text y=\"0.32em\" transform=\"translate(40,165.83333333333331)\">18</text><text y=\"0.32em\" transform=\"translate(40,124.16666666666664)\">19</text><text y=\"0.32em\" transform=\"translate(40,82.50000000000001)\">20</text><text y=\"0.32em\" transform=\"translate(40,40.83333333333334)\">21</text></g><g aria-label=\"y-axis label\" text-anchor=\"start\" transform=\"translate(-37,-17)\"><text y=\"0.71em\" transform=\"translate(40,20)\">↑ Beak Depth</text></g><g aria-label=\"x-axis tick\" aria-hidden=\"true\" fill=\"none\" stroke=\"currentColor\"><path transform=\"translate(101.16363636363633,370)\" d=\"M0,0L0,6\"></path><path transform=\"translate(206.6181818181818,370)\" d=\"M0,0L0,6\"></path><path transform=\"translate(312.07272727272726,370)\" d=\"M0,0L0,6\"></path><path transform=\"translate(417.5272727272727,370)\" d=\"M0,0L0,6\"></path><path transform=\"translate(522.9818181818182,370)\" d=\"M0,0L0,6\"></path></g><g aria-label=\"x-axis tick label\" font-variant=\"tabular-nums\" transform=\"translate(0,9)\"><text y=\"0.71em\" transform=\"translate(101.16363636363633,370)\">35</text><text y=\"0.71em\" transform=\"translate(206.6181818181818,370)\">40</text><text y=\"0.71em\" transform=\"translate(312.07272727272726,370)\">45</text><text y=\"0.71em\" transform=\"translate(417.5272727272727,370)\">50</text><text y=\"0.71em\" transform=\"translate(522.9818181818182,370)\">55</text></g><g aria-label=\"x-axis label\" text-anchor=\"end\" transform=\"translate(17,27)\"><text transform=\"translate(620,370)\">Beak Length →</text></g><g aria-label=\"dot\" fill=\"blue\"><circle cx=\"187.63636363636363\" cy=\"136.66666666666669\" r=\"5\"></circle><circle cx=\"196.07272727272726\" cy=\"190.8333333333334\" r=\"5\"></circle><circle cx=\"212.94545454545448\" cy=\"165.83333333333331\" r=\"5\"></circle><circle cx=\"137.01818181818186\" cy=\"111.66666666666664\" r=\"5\"></circle><circle cx=\"191.85454545454536\" cy=\"57.49999999999994\" r=\"5\"></circle><circle cx=\"183.41818181818178\" cy=\"174.16666666666663\" r=\"5\"></circle><circle cx=\"189.74545454545455\" cy=\"99.16666666666661\" r=\"5\"></circle><circle cx=\"82.18181818181819\" cy=\"161.66666666666657\" r=\"5\"></circle><circle cx=\"248.79999999999995\" cy=\"74.1666666666667\" r=\"5\"></circle><circle cx=\"160.21818181818173\" cy=\"203.33333333333326\" r=\"5\"></circle><circle cx=\"160.21818181818173\" cy=\"194.99999999999997\" r=\"5\"></circle><circle cx=\"229.8181818181818\" cy=\"182.49999999999994\" r=\"5\"></circle><circle cx=\"177.09090909090907\" cy=\"32.500000000000036\" r=\"5\"></circle><circle cx=\"92.72727272727272\" cy=\"36.66666666666661\" r=\"5\"></circle><circle cx=\"134.9090909090909\" cy=\"174.16666666666663\" r=\"5\"></circle><circle cx=\"179.20000000000005\" cy=\"124.16666666666664\" r=\"5\"></circle><circle cx=\"259.3454545454545\" cy=\"53.33333333333337\" r=\"5\"></circle><circle cx=\"88.50909090909084\" cy=\"149.1666666666667\" r=\"5\"></circle><circle cx=\"333.16363636363633\" cy=\"20\" r=\"5\"></circle><circle cx=\"160.21818181818173\" cy=\"153.3333333333333\" r=\"5\"></circle><circle cx=\"158.10909090909095\" cy=\"136.66666666666669\" r=\"5\"></circle><circle cx=\"120.14545454545447\" cy=\"115.83333333333334\" r=\"5\"></circle><circle cx=\"168.65454545454548\" cy=\"161.66666666666657\" r=\"5\"></circle><circle cx=\"181.3090909090908\" cy=\"199.16666666666669\" r=\"5\"></circle><circle cx=\"107.49090909090901\" cy=\"128.33333333333337\" r=\"5\"></circle><circle cx=\"219.27272727272725\" cy=\"140.83333333333326\" r=\"5\"></circle><circle cx=\"217.16363636363636\" cy=\"170.00000000000003\" r=\"5\"></circle><circle cx=\"162.32727272727266\" cy=\"140.83333333333326\" r=\"5\"></circle><circle cx=\"217.16363636363636\" cy=\"128.33333333333337\" r=\"5\"></circle><circle cx=\"196.07272727272726\" cy=\"220\" r=\"5\"></circle><circle cx=\"147.5636363636364\" cy=\"161.66666666666657\" r=\"5\"></circle><circle cx=\"196.07272727272726\" cy=\"174.16666666666663\" r=\"5\"></circle><circle cx=\"225.59999999999997\" cy=\"128.33333333333337\" r=\"5\"></circle><circle cx=\"130.69090909090903\" cy=\"207.5\" r=\"5\"></circle><circle cx=\"189.74545454545455\" cy=\"36.66666666666661\" r=\"5\"></circle><circle cx=\"181.3090909090908\" cy=\"82.50000000000001\" r=\"5\"></circle><circle cx=\"253.01818181818183\" cy=\"145\" r=\"5\"></circle><circle cx=\"156\" cy=\"111.66666666666664\" r=\"5\"></circle><circle cx=\"202.39999999999992\" cy=\"119.99999999999996\" r=\"5\"></circle><circle cx=\"132.79999999999998\" cy=\"165.83333333333331\" r=\"5\"></circle><circle cx=\"223.490909090909\" cy=\"149.1666666666667\" r=\"5\"></circle><circle cx=\"122.25454545454542\" cy=\"145\" r=\"5\"></circle><circle cx=\"293.09090909090907\" cy=\"95.00000000000004\" r=\"5\"></circle><circle cx=\"143.34545454545452\" cy=\"211.6666666666667\" r=\"5\"></circle><circle cx=\"198.18181818181816\" cy=\"132.49999999999994\" r=\"5\"></circle><circle cx=\"229.8181818181818\" cy=\"124.16666666666664\" r=\"5\"></circle><circle cx=\"153.89090909090908\" cy=\"128.33333333333337\" r=\"5\"></circle><circle cx=\"122.25454545454542\" cy=\"170.00000000000003\" r=\"5\"></circle><circle cx=\"255.1272727272726\" cy=\"32.500000000000036\" r=\"5\"></circle><circle cx=\"198.18181818181816\" cy=\"178.33333333333337\" r=\"5\"></circle><circle cx=\"208.72727272727272\" cy=\"128.33333333333337\" r=\"5\"></circle><circle cx=\"101.16363636363633\" cy=\"170.00000000000003\" r=\"5\"></circle><circle cx=\"248.79999999999995\" cy=\"103.33333333333336\" r=\"5\"></circle><circle cx=\"90.6181818181818\" cy=\"161.66666666666657\" r=\"5\"></circle><circle cx=\"236.14545454545447\" cy=\"140.83333333333326\" r=\"5\"></circle><circle cx=\"185.5272727272727\" cy=\"186.66666666666666\" r=\"5\"></circle><circle cx=\"219.27272727272725\" cy=\"132.49999999999994\" r=\"5\"></circle><circle cx=\"132.79999999999998\" cy=\"224.1666666666666\" r=\"5\"></circle><circle cx=\"156\" cy=\"119.99999999999996\" r=\"5\"></circle><circle cx=\"115.92727272727274\" cy=\"211.6666666666667\" r=\"5\"></circle><circle cx=\"234.03636363636355\" cy=\"36.66666666666661\" r=\"5\"></circle><circle cx=\"156\" cy=\"207.5\" r=\"5\"></circle><circle cx=\"229.8181818181818\" cy=\"157.5\" r=\"5\"></circle><circle cx=\"130.69090909090903\" cy=\"203.33333333333326\" r=\"5\"></circle><circle cx=\"240.36363636363637\" cy=\"165.83333333333331\" r=\"5\"></circle><circle cx=\"111.70909090909089\" cy=\"240.83333333333331\" r=\"5\"></circle><circle cx=\"229.8181818181818\" cy=\"119.99999999999996\" r=\"5\"></circle><circle cx=\"120.14545454545447\" cy=\"224.1666666666666\" r=\"5\"></circle><circle cx=\"244.58181818181808\" cy=\"107.50000000000004\" r=\"5\"></circle><circle cx=\"69.52727272727269\" cy=\"124.16666666666664\" r=\"5\"></circle><circle cx=\"200.2909090909091\" cy=\"149.1666666666667\" r=\"5\"></circle><circle cx=\"198.18181818181816\" cy=\"199.16666666666669\" r=\"5\"></circle><circle cx=\"328.9454545454544\" cy=\"128.33333333333337\" r=\"5\"></circle><circle cx=\"111.70909090909089\" cy=\"186.66666666666666\" r=\"5\"></circle><circle cx=\"265.6727272727272\" cy=\"145\" r=\"5\"></circle><circle cx=\"225.59999999999997\" cy=\"215.83333333333331\" r=\"5\"></circle><circle cx=\"147.5636363636364\" cy=\"107.50000000000004\" r=\"5\"></circle><circle cx=\"126.4727272727273\" cy=\"244.99999999999994\" r=\"5\"></circle><circle cx=\"250.90909090909093\" cy=\"119.99999999999996\" r=\"5\"></circle><circle cx=\"92.72727272727272\" cy=\"199.16666666666669\" r=\"5\"></circle><circle cx=\"267.78181818181815\" cy=\"182.49999999999994\" r=\"5\"></circle><circle cx=\"137.01818181818186\" cy=\"132.49999999999994\" r=\"5\"></circle><circle cx=\"103.27272727272725\" cy=\"107.50000000000004\" r=\"5\"></circle><circle cx=\"149.67272727272717\" cy=\"174.16666666666663\" r=\"5\"></circle><circle cx=\"234.03636363636355\" cy=\"69.99999999999997\" r=\"5\"></circle><circle cx=\"128.58181818181808\" cy=\"103.33333333333336\" r=\"5\"></circle><circle cx=\"141.2363636363636\" cy=\"140.83333333333326\" r=\"5\"></circle><circle cx=\"170.7636363636363\" cy=\"115.83333333333334\" r=\"5\"></circle><circle cx=\"183.41818181818178\" cy=\"132.49999999999994\" r=\"5\"></circle><circle cx=\"115.92727272727274\" cy=\"165.83333333333331\" r=\"5\"></circle><circle cx=\"229.8181818181818\" cy=\"161.66666666666657\" r=\"5\"></circle><circle cx=\"80.07272727272724\" cy=\"203.33333333333326\" r=\"5\"></circle><circle cx=\"198.18181818181816\" cy=\"161.66666666666657\" r=\"5\"></circle><circle cx=\"126.4727272727273\" cy=\"194.99999999999997\" r=\"5\"></circle><circle cx=\"223.490909090909\" cy=\"128.33333333333337\" r=\"5\"></circle><circle cx=\"166.54545454545453\" cy=\"140.83333333333326\" r=\"5\"></circle><circle cx=\"212.94545454545448\" cy=\"145\" r=\"5\"></circle><circle cx=\"61.09090909090909\" cy=\"244.99999999999994\" r=\"5\"></circle><circle cx=\"274.1090909090909\" cy=\"145\" r=\"5\"></circle><circle cx=\"101.16363636363633\" cy=\"170.00000000000003\" r=\"5\"></circle><circle cx=\"227.7090909090909\" cy=\"82.50000000000001\" r=\"5\"></circle><circle cx=\"158.10909090909095\" cy=\"249.16666666666663\" r=\"5\"></circle><circle cx=\"160.21818181818173\" cy=\"82.50000000000001\" r=\"5\"></circle><circle cx=\"162.32727272727266\" cy=\"140.83333333333326\" r=\"5\"></circle><circle cx=\"200.2909090909091\" cy=\"128.33333333333337\" r=\"5\"></circle><circle cx=\"177.09090909090907\" cy=\"199.16666666666669\" r=\"5\"></circle><circle cx=\"168.65454545454548\" cy=\"82.50000000000001\" r=\"5\"></circle><circle cx=\"166.54545454545453\" cy=\"207.5\" r=\"5\"></circle><circle cx=\"274.1090909090909\" cy=\"124.16666666666664\" r=\"5\"></circle><circle cx=\"166.54545454545453\" cy=\"228.33333333333334\" r=\"5\"></circle><circle cx=\"324.72727272727275\" cy=\"69.99999999999997\" r=\"5\"></circle><circle cx=\"200.2909090909091\" cy=\"178.33333333333337\" r=\"5\"></circle><circle cx=\"253.01818181818183\" cy=\"103.33333333333336\" r=\"5\"></circle><circle cx=\"198.18181818181816\" cy=\"53.33333333333337\" r=\"5\"></circle><circle cx=\"263.56363636363636\" cy=\"153.3333333333333\" r=\"5\"></circle><circle cx=\"177.09090909090907\" cy=\"207.5\" r=\"5\"></circle><circle cx=\"149.67272727272717\" cy=\"61.66666666666668\" r=\"5\"></circle><circle cx=\"115.92727272727274\" cy=\"207.5\" r=\"5\"></circle><circle cx=\"229.8181818181818\" cy=\"140.83333333333326\" r=\"5\"></circle><circle cx=\"126.4727272727273\" cy=\"199.16666666666669\" r=\"5\"></circle><circle cx=\"158.10909090909095\" cy=\"90.83333333333331\" r=\"5\"></circle><circle cx=\"210.83636363636367\" cy=\"207.5\" r=\"5\"></circle><circle cx=\"236.14545454545447\" cy=\"145\" r=\"5\"></circle><circle cx=\"105.3818181818182\" cy=\"253.33333333333326\" r=\"5\"></circle><circle cx=\"219.27272727272725\" cy=\"124.16666666666664\" r=\"5\"></circle><circle cx=\"181.3090909090908\" cy=\"182.49999999999994\" r=\"5\"></circle><circle cx=\"238.2545454545454\" cy=\"153.3333333333333\" r=\"5\"></circle><circle cx=\"185.5272727272727\" cy=\"203.33333333333326\" r=\"5\"></circle><circle cx=\"293.09090909090907\" cy=\"165.83333333333331\" r=\"5\"></circle><circle cx=\"174.98181818181814\" cy=\"170.00000000000003\" r=\"5\"></circle><circle cx=\"272\" cy=\"115.83333333333334\" r=\"5\"></circle><circle cx=\"139.12727272727264\" cy=\"145\" r=\"5\"></circle><circle cx=\"153.89090909090908\" cy=\"145\" r=\"5\"></circle><circle cx=\"166.54545454545453\" cy=\"182.49999999999994\" r=\"5\"></circle><circle cx=\"229.8181818181818\" cy=\"186.66666666666666\" r=\"5\"></circle><circle cx=\"113.81818181818181\" cy=\"186.66666666666666\" r=\"5\"></circle><circle cx=\"210.83636363636367\" cy=\"78.33333333333329\" r=\"5\"></circle><circle cx=\"143.34545454545452\" cy=\"228.33333333333334\" r=\"5\"></circle><circle cx=\"200.2909090909091\" cy=\"170.00000000000003\" r=\"5\"></circle><circle cx=\"210.83636363636367\" cy=\"203.33333333333326\" r=\"5\"></circle><circle cx=\"219.27272727272725\" cy=\"199.16666666666669\" r=\"5\"></circle><circle cx=\"40\" cy=\"270\" r=\"5\"></circle><circle cx=\"221.38181818181823\" cy=\"207.5\" r=\"5\"></circle><circle cx=\"149.67272727272717\" cy=\"215.83333333333331\" r=\"5\"></circle><circle cx=\"185.5272727272727\" cy=\"136.66666666666669\" r=\"5\"></circle><circle cx=\"189.74545454545455\" cy=\"140.83333333333326\" r=\"5\"></circle><circle cx=\"134.9090909090909\" cy=\"149.1666666666667\" r=\"5\"></circle><circle cx=\"122.25454545454542\" cy=\"174.16666666666663\" r=\"5\"></circle><circle cx=\"160.21818181818173\" cy=\"161.66666666666657\" r=\"5\"></circle><circle cx=\"122.25454545454542\" cy=\"203.33333333333326\" r=\"5\"></circle><circle cx=\"238.2545454545454\" cy=\"145\" r=\"5\"></circle><circle cx=\"343.7090909090909\" cy=\"170.00000000000003\" r=\"5\"></circle><circle cx=\"417.5272727272727\" cy=\"103.33333333333336\" r=\"5\"></circle><circle cx=\"444.9454545454544\" cy=\"115.83333333333334\" r=\"5\"></circle><circle cx=\"320.5090909090909\" cy=\"136.66666666666669\" r=\"5\"></circle><circle cx=\"474.47272727272735\" cy=\"90.83333333333331\" r=\"5\"></circle><circle cx=\"316.2909090909091\" cy=\"174.16666666666663\" r=\"5\"></circle><circle cx=\"335.27272727272725\" cy=\"157.5\" r=\"5\"></circle><circle cx=\"444.9454545454544\" cy=\"157.5\" r=\"5\"></circle><circle cx=\"333.16363636363633\" cy=\"128.33333333333337\" r=\"5\"></circle><circle cx=\"444.9454545454544\" cy=\"86.66666666666674\" r=\"5\"></circle><circle cx=\"345.8181818181818\" cy=\"174.16666666666663\" r=\"5\"></circle><circle cx=\"453.38181818181823\" cy=\"69.99999999999997\" r=\"5\"></circle><circle cx=\"354.2545454545454\" cy=\"194.99999999999997\" r=\"5\"></circle><circle cx=\"459.7090909090909\" cy=\"161.66666666666657\" r=\"5\"></circle><circle cx=\"331.0545454545454\" cy=\"203.33333333333326\" r=\"5\"></circle><circle cx=\"428.07272727272726\" cy=\"99.16666666666661\" r=\"5\"></circle><circle cx=\"423.85454545454536\" cy=\"82.50000000000001\" r=\"5\"></circle><circle cx=\"586.2545454545455\" cy=\"174.16666666666663\" r=\"5\"></circle><circle cx=\"341.5999999999999\" cy=\"140.83333333333326\" r=\"5\"></circle><circle cx=\"400.6545454545455\" cy=\"157.5\" r=\"5\"></circle><circle cx=\"257.2363636363636\" cy=\"194.99999999999997\" r=\"5\"></circle><circle cx=\"385.890909090909\" cy=\"186.66666666666666\" r=\"5\"></circle><circle cx=\"274.1090909090909\" cy=\"224.1666666666666\" r=\"5\"></circle><circle cx=\"430.18181818181813\" cy=\"107.50000000000004\" r=\"5\"></circle><circle cx=\"347.9272727272728\" cy=\"170.00000000000003\" r=\"5\"></circle><circle cx=\"459.7090909090909\" cy=\"124.16666666666664\" r=\"5\"></circle><circle cx=\"428.07272727272726\" cy=\"149.1666666666667\" r=\"5\"></circle><circle cx=\"406.98181818181814\" cy=\"124.16666666666664\" r=\"5\"></circle><circle cx=\"341.5999999999999\" cy=\"174.16666666666663\" r=\"5\"></circle><circle cx=\"476.58181818181805\" cy=\"82.50000000000001\" r=\"5\"></circle><circle cx=\"225.59999999999997\" cy=\"224.1666666666666\" r=\"5\"></circle><circle cx=\"506.109090909091\" cy=\"49.16666666666664\" r=\"5\"></circle><circle cx=\"259.3454545454545\" cy=\"220\" r=\"5\"></circle><circle cx=\"438.6181818181818\" cy=\"132.49999999999994\" r=\"5\"></circle><circle cx=\"411.2\" cy=\"140.83333333333326\" r=\"5\"></circle><circle cx=\"364.8\" cy=\"215.83333333333331\" r=\"5\"></circle><circle cx=\"366.9090909090909\" cy=\"153.3333333333333\" r=\"5\"></circle><circle cx=\"459.7090909090909\" cy=\"53.33333333333337\" r=\"5\"></circle><circle cx=\"352.1454545454545\" cy=\"224.1666666666666\" r=\"5\"></circle><circle cx=\"491.3454545454545\" cy=\"86.66666666666674\" r=\"5\"></circle><circle cx=\"396.43636363636364\" cy=\"103.33333333333336\" r=\"5\"></circle><circle cx=\"337.38181818181823\" cy=\"186.66666666666666\" r=\"5\"></circle><circle cx=\"436.50909090909084\" cy=\"119.99999999999996\" r=\"5\"></circle><circle cx=\"322.61818181818177\" cy=\"207.5\" r=\"5\"></circle><circle cx=\"436.50909090909084\" cy=\"170.00000000000003\" r=\"5\"></circle><circle cx=\"434.3999999999999\" cy=\"145\" r=\"5\"></circle><circle cx=\"419.6363636363636\" cy=\"170.00000000000003\" r=\"5\"></circle><circle cx=\"396.43636363636364\" cy=\"99.16666666666661\" r=\"5\"></circle><circle cx=\"449.16363636363633\" cy=\"136.66666666666669\" r=\"5\"></circle><circle cx=\"413.3090909090908\" cy=\"194.99999999999997\" r=\"5\"></circle><circle cx=\"377.45454545454544\" cy=\"232.50000000000003\" r=\"5\"></circle><circle cx=\"447.05454545454535\" cy=\"124.16666666666664\" r=\"5\"></circle><circle cx=\"326.83636363636367\" cy=\"194.99999999999997\" r=\"5\"></circle><circle cx=\"432.2909090909091\" cy=\"95.00000000000004\" r=\"5\"></circle><circle cx=\"259.3454545454545\" cy=\"194.99999999999997\" r=\"5\"></circle><circle cx=\"463.92727272727274\" cy=\"132.49999999999994\" r=\"5\"></circle><circle cx=\"316.2909090909091\" cy=\"224.1666666666666\" r=\"5\"></circle><circle cx=\"402.76363636363624\" cy=\"86.66666666666674\" r=\"5\"></circle><circle cx=\"421.74545454545455\" cy=\"132.49999999999994\" r=\"5\"></circle><circle cx=\"324.72727272727275\" cy=\"107.50000000000004\" r=\"5\"></circle><circle cx=\"457.5999999999999\" cy=\"103.33333333333336\" r=\"5\"></circle><circle cx=\"350.03636363636355\" cy=\"228.33333333333334\" r=\"5\"></circle><circle cx=\"326.83636363636367\" cy=\"207.5\" r=\"5\"></circle><circle cx=\"539.8545454545454\" cy=\"90.83333333333331\" r=\"5\"></circle><circle cx=\"280.43636363636364\" cy=\"161.66666666666657\" r=\"5\"></circle><circle cx=\"409.0909090909091\" cy=\"157.5\" r=\"5\"></circle><circle cx=\"434.3999999999999\" cy=\"124.16666666666664\" r=\"5\"></circle><circle cx=\"421.74545454545455\" cy=\"136.66666666666669\" r=\"5\"></circle><circle cx=\"335.27272727272725\" cy=\"365.83333333333337\" r=\"5\"></circle><circle cx=\"417.5272727272727\" cy=\"236.66666666666663\" r=\"5\"></circle><circle cx=\"390.1090909090909\" cy=\"328.33333333333337\" r=\"5\"></circle><circle cx=\"417.5272727272727\" cy=\"282.5\" r=\"5\"></circle><circle cx=\"366.9090909090909\" cy=\"311.66666666666663\" r=\"5\"></circle><circle cx=\"343.7090909090909\" cy=\"353.3333333333333\" r=\"5\"></circle><circle cx=\"320.5090909090909\" cy=\"307.5\" r=\"5\"></circle><circle cx=\"347.9272727272728\" cy=\"278.33333333333326\" r=\"5\"></circle><circle cx=\"276.21818181818173\" cy=\"357.5\" r=\"5\"></circle><circle cx=\"350.03636363636355\" cy=\"274.16666666666663\" r=\"5\"></circle><circle cx=\"225.59999999999997\" cy=\"345\" r=\"5\"></circle><circle cx=\"396.43636363636364\" cy=\"244.99999999999994\" r=\"5\"></circle><circle cx=\"322.61818181818177\" cy=\"345\" r=\"5\"></circle><circle cx=\"383.78181818181815\" cy=\"307.5\" r=\"5\"></circle><circle cx=\"328.9454545454544\" cy=\"307.5\" r=\"5\"></circle><circle cx=\"402.76363636363624\" cy=\"261.6666666666667\" r=\"5\"></circle><circle cx=\"248.79999999999995\" cy=\"353.3333333333333\" r=\"5\"></circle><circle cx=\"400.6545454545455\" cy=\"282.5\" r=\"5\"></circle><circle cx=\"337.38181818181823\" cy=\"311.66666666666663\" r=\"5\"></circle><circle cx=\"390.1090909090909\" cy=\"286.66666666666663\" r=\"5\"></circle><circle cx=\"421.74545454545455\" cy=\"319.99999999999994\" r=\"5\"></circle><circle cx=\"314.18181818181813\" cy=\"311.66666666666663\" r=\"5\"></circle><circle cx=\"343.7090909090909\" cy=\"311.66666666666663\" r=\"5\"></circle><circle cx=\"339.49090909090904\" cy=\"257.49999999999994\" r=\"5\"></circle><circle cx=\"267.78181818181815\" cy=\"370\" r=\"5\"></circle><circle cx=\"335.27272727272725\" cy=\"286.66666666666663\" r=\"5\"></circle><circle cx=\"301.5272727272727\" cy=\"319.99999999999994\" r=\"5\"></circle><circle cx=\"371.1272727272726\" cy=\"290.8333333333333\" r=\"5\"></circle><circle cx=\"379.5636363636364\" cy=\"319.99999999999994\" r=\"5\"></circle><circle cx=\"417.5272727272727\" cy=\"278.33333333333326\" r=\"5\"></circle><circle cx=\"360.5818181818181\" cy=\"278.33333333333326\" r=\"5\"></circle><circle cx=\"265.6727272727272\" cy=\"324.16666666666663\" r=\"5\"></circle><circle cx=\"314.18181818181813\" cy=\"311.66666666666663\" r=\"5\"></circle><circle cx=\"620\" cy=\"207.5\" r=\"5\"></circle><circle cx=\"398.5454545454545\" cy=\"299.1666666666666\" r=\"5\"></circle><circle cx=\"383.78181818181815\" cy=\"236.66666666666663\" r=\"5\"></circle><circle cx=\"261.4545454545455\" cy=\"345\" r=\"5\"></circle><circle cx=\"299.4181818181818\" cy=\"194.99999999999997\" r=\"5\"></circle><circle cx=\"290.98181818181814\" cy=\"349.1666666666667\" r=\"5\"></circle><circle cx=\"390.1090909090909\" cy=\"261.6666666666667\" r=\"5\"></circle><circle cx=\"263.56363636363636\" cy=\"345\" r=\"5\"></circle><circle cx=\"409.0909090909091\" cy=\"249.16666666666663\" r=\"5\"></circle><circle cx=\"318.3999999999999\" cy=\"345\" r=\"5\"></circle><circle cx=\"409.0909090909091\" cy=\"290.8333333333333\" r=\"5\"></circle><circle cx=\"428.07272727272726\" cy=\"253.33333333333326\" r=\"5\"></circle><circle cx=\"282.5454545454545\" cy=\"336.66666666666663\" r=\"5\"></circle><circle cx=\"322.61818181818177\" cy=\"336.66666666666663\" r=\"5\"></circle><circle cx=\"428.07272727272726\" cy=\"253.33333333333326\" r=\"5\"></circle><circle cx=\"309.9636363636363\" cy=\"361.66666666666663\" r=\"5\"></circle><circle cx=\"316.2909090909091\" cy=\"257.49999999999994\" r=\"5\"></circle><circle cx=\"345.8181818181818\" cy=\"324.16666666666663\" r=\"5\"></circle><circle cx=\"385.890909090909\" cy=\"328.33333333333337\" r=\"5\"></circle><circle cx=\"314.18181818181813\" cy=\"315.83333333333326\" r=\"5\"></circle><circle cx=\"419.6363636363636\" cy=\"290.8333333333333\" r=\"5\"></circle><circle cx=\"343.7090909090909\" cy=\"315.83333333333326\" r=\"5\"></circle><circle cx=\"312.07272727272726\" cy=\"274.16666666666663\" r=\"5\"></circle><circle cx=\"286.7636363636363\" cy=\"336.66666666666663\" r=\"5\"></circle><circle cx=\"322.61818181818177\" cy=\"290.8333333333333\" r=\"5\"></circle><circle cx=\"274.1090909090909\" cy=\"311.66666666666663\" r=\"5\"></circle><circle cx=\"425.9636363636363\" cy=\"278.33333333333326\" r=\"5\"></circle><circle cx=\"318.3999999999999\" cy=\"340.8333333333333\" r=\"5\"></circle><circle cx=\"337.38181818181823\" cy=\"294.99999999999994\" r=\"5\"></circle><circle cx=\"326.83636363636367\" cy=\"336.66666666666663\" r=\"5\"></circle><circle cx=\"508.21818181818173\" cy=\"261.6666666666667\" r=\"5\"></circle><circle cx=\"328.9454545454544\" cy=\"324.16666666666663\" r=\"5\"></circle><circle cx=\"413.3090909090908\" cy=\"215.83333333333331\" r=\"5\"></circle><circle cx=\"337.38181818181823\" cy=\"315.83333333333326\" r=\"5\"></circle><circle cx=\"406.98181818181814\" cy=\"240.83333333333331\" r=\"5\"></circle><circle cx=\"280.43636363636364\" cy=\"324.16666666666663\" r=\"5\"></circle><circle cx=\"432.2909090909091\" cy=\"290.8333333333333\" r=\"5\"></circle><circle cx=\"369.01818181818186\" cy=\"290.8333333333333\" r=\"5\"></circle><circle cx=\"341.5999999999999\" cy=\"265.8333333333333\" r=\"5\"></circle><circle cx=\"379.5636363636364\" cy=\"265.8333333333333\" r=\"5\"></circle><circle cx=\"343.7090909090909\" cy=\"299.1666666666666\" r=\"5\"></circle><circle cx=\"341.5999999999999\" cy=\"290.8333333333333\" r=\"5\"></circle><circle cx=\"388\" cy=\"249.16666666666663\" r=\"5\"></circle><circle cx=\"364.8\" cy=\"324.16666666666663\" r=\"5\"></circle><circle cx=\"440.72727272727275\" cy=\"236.66666666666663\" r=\"5\"></circle><circle cx=\"316.2909090909091\" cy=\"340.8333333333333\" r=\"5\"></circle><circle cx=\"316.2909090909091\" cy=\"232.50000000000003\" r=\"5\"></circle><circle cx=\"398.5454545454545\" cy=\"311.66666666666663\" r=\"5\"></circle><circle cx=\"470.25454545454545\" cy=\"265.8333333333333\" r=\"5\"></circle><circle cx=\"362.69090909090903\" cy=\"307.5\" r=\"5\"></circle><circle cx=\"417.5272727272727\" cy=\"253.33333333333326\" r=\"5\"></circle><circle cx=\"309.9636363636363\" cy=\"340.8333333333333\" r=\"5\"></circle><circle cx=\"434.3999999999999\" cy=\"194.99999999999997\" r=\"5\"></circle><circle cx=\"278.32727272727266\" cy=\"315.83333333333326\" r=\"5\"></circle><circle cx=\"444.9454545454544\" cy=\"324.16666666666663\" r=\"5\"></circle><circle cx=\"364.8\" cy=\"332.5\" r=\"5\"></circle><circle cx=\"461.81818181818187\" cy=\"207.5\" r=\"5\"></circle><circle cx=\"364.8\" cy=\"290.8333333333333\" r=\"5\"></circle><circle cx=\"463.92727272727274\" cy=\"203.33333333333326\" r=\"5\"></circle><circle cx=\"322.61818181818177\" cy=\"311.66666666666663\" r=\"5\"></circle><circle cx=\"406.98181818181814\" cy=\"244.99999999999994\" r=\"5\"></circle><circle cx=\"301.5272727272727\" cy=\"303.3333333333333\" r=\"5\"></circle><circle cx=\"434.3999999999999\" cy=\"261.6666666666667\" r=\"5\"></circle><circle cx=\"404.8727272727272\" cy=\"257.49999999999994\" r=\"5\"></circle><circle cx=\"352.1454545454545\" cy=\"307.5\" r=\"5\"></circle><circle cx=\"383.78181818181815\" cy=\"315.83333333333326\" r=\"5\"></circle><circle cx=\"440.72727272727275\" cy=\"228.33333333333334\" r=\"5\"></circle><circle cx=\"385.890909090909\" cy=\"290.8333333333333\" r=\"5\"></circle><circle cx=\"541.9636363636363\" cy=\"207.5\" r=\"5\"></circle><circle cx=\"358.4727272727273\" cy=\"270\" r=\"5\"></circle><circle cx=\"398.5454545454545\" cy=\"290.8333333333333\" r=\"5\"></circle><circle cx=\"360.5818181818181\" cy=\"340.8333333333333\" r=\"5\"></circle><circle cx=\"350.03636363636355\" cy=\"244.99999999999994\" r=\"5\"></circle><circle cx=\"242.4727272727273\" cy=\"303.3333333333333\" r=\"5\"></circle><circle cx=\"489.23636363636354\" cy=\"257.49999999999994\" r=\"5\"></circle><circle cx=\"276.21818181818173\" cy=\"332.5\" r=\"5\"></circle><circle cx=\"377.45454545454544\" cy=\"286.66666666666663\" r=\"5\"></circle><circle cx=\"428.07272727272726\" cy=\"282.5\" r=\"5\"></circle><circle cx=\"413.3090909090908\" cy=\"253.33333333333326\" r=\"5\"></circle><circle cx=\"280.43636363636364\" cy=\"282.5\" r=\"5\"></circle><circle cx=\"449.16363636363633\" cy=\"236.66666666666663\" r=\"5\"></circle><circle cx=\"337.38181818181823\" cy=\"328.33333333333337\" r=\"5\"></circle><circle cx=\"525.090909090909\" cy=\"249.16666666666663\" r=\"5\"></circle><circle cx=\"301.5272727272727\" cy=\"261.6666666666667\" r=\"5\"></circle><circle cx=\"392.21818181818173\" cy=\"240.83333333333331\" r=\"5\"></circle><circle cx=\"358.4727272727273\" cy=\"345\" r=\"5\"></circle><circle cx=\"350.03636363636355\" cy=\"319.99999999999994\" r=\"5\"></circle><circle cx=\"425.9636363636363\" cy=\"261.6666666666667\" r=\"5\"></circle><circle cx=\"316.2909090909091\" cy=\"299.1666666666666\" r=\"5\"></circle><circle cx=\"415.4181818181818\" cy=\"244.99999999999994\" r=\"5\"></circle></g></svg></figure>"
      ],
      "text/plain": [
       "<IPython.core.display.HTML object>"
      ]
     },
     "metadata": {},
     "output_type": "display_data"
    }
   ],
   "source": [
    "Plot.plot(\n",
    "    {\n",
    "        \"x\": {\"label\": \"Beak Length\"},\n",
    "        \"y\": {\"label\": \"Beak Depth\"},\n",
    "        \"marks\": [\n",
    "            Plot.dot(\n",
    "                penguins_df,\n",
    "                {\n",
    "                    \"x\": \"Beak Length (mm)\",\n",
    "                    \"y\": \"Beak Depth (mm)\",\n",
    "                    \"fill\": \"blue\",\n",
    "                    \"r\": 5,\n",
    "                },\n",
    "            )\n",
    "        ],\n",
    "    }\n",
    ")"
   ]
  },
  {
   "cell_type": "markdown",
   "id": "OPN2XAuJ4qR8",
   "metadata": {
    "id": "OPN2XAuJ4qR8"
   },
   "source": [
    "We can see that there is no noticeable positive or negative correlation between these measures."
   ]
  },
  {
   "cell_type": "markdown",
   "id": "rmwu2ys14vG8",
   "metadata": {
    "id": "rmwu2ys14vG8"
   },
   "source": [
    "##### Solution 2"
   ]
  },
  {
   "cell_type": "code",
   "execution_count": 48,
   "id": "-mehKfEO4wEb",
   "metadata": {
    "colab": {
     "base_uri": "https://localhost:8080/",
     "height": 484
    },
    "id": "-mehKfEO4wEb",
    "outputId": "6a1f1391-b576-4f15-c86f-87126143516c"
   },
   "outputs": [
    {
     "data": {
      "text/html": [
       "<figure class=\"plot-d6a7b5-figure\" style=\"max-width: initial; padding: 0px 5px 5px 5px; color: rgb(0, 0, 0); background-color: rgb(255, 255, 255);\" typstbg=\"#FFFFFF\" typstfg=\"#000000\" typstcaption=\"#777777\"><div class=\"plot-d6a7b5-swatches plot-d6a7b5-swatches-wrap\"><style>:where(.plot-d6a7b5-swatches) {\n",
       "  font-family: system-ui, sans-serif;\n",
       "  font-size: 10px;\n",
       "  margin-bottom: 0.5em;\n",
       "}\n",
       ":where(.plot-d6a7b5-swatch > svg) {\n",
       "  margin-right: 0.5em;\n",
       "  overflow: visible;\n",
       "}\n",
       ":where(.plot-d6a7b5-swatches-wrap) {\n",
       "  display: flex;\n",
       "  align-items: center;\n",
       "  min-height: 33px;\n",
       "  flex-wrap: wrap;\n",
       "}\n",
       ":where(.plot-d6a7b5-swatches-wrap .plot-d6a7b5-swatch) {\n",
       "  display: inline-flex;\n",
       "  align-items: center;\n",
       "  margin-right: 1em;\n",
       "}</style><span class=\"plot-d6a7b5-swatch\"><svg width=\"15\" height=\"15\" fill=\"#4269d0\" xmlns=\"http://www.w3.org/2000/svg\" xmlns:xlink=\"http://www.w3.org/1999/xlink\" style=\"color: rgb(0, 0, 0); background-color: rgb(255, 255, 255);\"><rect width=\"100%\" height=\"100%\"></rect></svg>Adelie</span><span class=\"plot-d6a7b5-swatch\"><svg width=\"15\" height=\"15\" fill=\"#efb118\" xmlns=\"http://www.w3.org/2000/svg\" xmlns:xlink=\"http://www.w3.org/1999/xlink\" style=\"color: rgb(0, 0, 0); background-color: rgb(255, 255, 255);\"><rect width=\"100%\" height=\"100%\"></rect></svg>Chinstrap</span><span class=\"plot-d6a7b5-swatch\"><svg width=\"15\" height=\"15\" fill=\"#ff725c\" xmlns=\"http://www.w3.org/2000/svg\" xmlns:xlink=\"http://www.w3.org/1999/xlink\" style=\"color: rgb(0, 0, 0); background-color: rgb(255, 255, 255);\"><rect width=\"100%\" height=\"100%\"></rect></svg>Gentoo</span></div><svg class=\"plot-d6a7b5\" fill=\"currentColor\" font-family=\"system-ui, sans-serif\" font-size=\"10\" text-anchor=\"middle\" width=\"640\" height=\"400\" viewBox=\"0 0 640 400\" xmlns=\"http://www.w3.org/2000/svg\" xmlns:xlink=\"http://www.w3.org/1999/xlink\" style=\"color: rgb(0, 0, 0); background-color: rgb(255, 255, 255);\"><style>:where(.plot-d6a7b5) {\n",
       "  --plot-background: white;\n",
       "  display: block;\n",
       "  height: auto;\n",
       "  height: intrinsic;\n",
       "  max-width: 100%;\n",
       "}\n",
       ":where(.plot-d6a7b5 text),\n",
       ":where(.plot-d6a7b5 tspan) {\n",
       "  white-space: pre;\n",
       "}</style><g aria-label=\"y-axis tick\" aria-hidden=\"true\" fill=\"none\" stroke=\"currentColor\"><path transform=\"translate(40,332.5)\" d=\"M0,0L-6,0\"></path><path transform=\"translate(40,290.8333333333333)\" d=\"M0,0L-6,0\"></path><path transform=\"translate(40,249.16666666666663)\" d=\"M0,0L-6,0\"></path><path transform=\"translate(40,207.5)\" d=\"M0,0L-6,0\"></path><path transform=\"translate(40,165.83333333333331)\" d=\"M0,0L-6,0\"></path><path transform=\"translate(40,124.16666666666664)\" d=\"M0,0L-6,0\"></path><path transform=\"translate(40,82.50000000000001)\" d=\"M0,0L-6,0\"></path><path transform=\"translate(40,40.83333333333334)\" d=\"M0,0L-6,0\"></path></g><g aria-label=\"y-axis tick label\" text-anchor=\"end\" font-variant=\"tabular-nums\" transform=\"translate(-9,0)\"><text y=\"0.32em\" transform=\"translate(40,332.5)\">14</text><text y=\"0.32em\" transform=\"translate(40,290.8333333333333)\">15</text><text y=\"0.32em\" transform=\"translate(40,249.16666666666663)\">16</text><text y=\"0.32em\" transform=\"translate(40,207.5)\">17</text><text y=\"0.32em\" transform=\"translate(40,165.83333333333331)\">18</text><text y=\"0.32em\" transform=\"translate(40,124.16666666666664)\">19</text><text y=\"0.32em\" transform=\"translate(40,82.50000000000001)\">20</text><text y=\"0.32em\" transform=\"translate(40,40.83333333333334)\">21</text></g><g aria-label=\"y-axis label\" text-anchor=\"start\" transform=\"translate(-37,-17)\"><text y=\"0.71em\" transform=\"translate(40,20)\">↑ Beak Depth</text></g><g aria-label=\"x-axis tick\" aria-hidden=\"true\" fill=\"none\" stroke=\"currentColor\"><path transform=\"translate(101.16363636363633,370)\" d=\"M0,0L0,6\"></path><path transform=\"translate(206.6181818181818,370)\" d=\"M0,0L0,6\"></path><path transform=\"translate(312.07272727272726,370)\" d=\"M0,0L0,6\"></path><path transform=\"translate(417.5272727272727,370)\" d=\"M0,0L0,6\"></path><path transform=\"translate(522.9818181818182,370)\" d=\"M0,0L0,6\"></path></g><g aria-label=\"x-axis tick label\" font-variant=\"tabular-nums\" transform=\"translate(0,9)\"><text y=\"0.71em\" transform=\"translate(101.16363636363633,370)\">35</text><text y=\"0.71em\" transform=\"translate(206.6181818181818,370)\">40</text><text y=\"0.71em\" transform=\"translate(312.07272727272726,370)\">45</text><text y=\"0.71em\" transform=\"translate(417.5272727272727,370)\">50</text><text y=\"0.71em\" transform=\"translate(522.9818181818182,370)\">55</text></g><g aria-label=\"x-axis label\" text-anchor=\"end\" transform=\"translate(17,27)\"><text transform=\"translate(620,370)\">Beak Length →</text></g><g aria-label=\"dot\"><circle cx=\"187.63636363636363\" cy=\"136.66666666666669\" r=\"5\" fill=\"#4269d0\"></circle><circle cx=\"196.07272727272726\" cy=\"190.8333333333334\" r=\"5\" fill=\"#4269d0\"></circle><circle cx=\"212.94545454545448\" cy=\"165.83333333333331\" r=\"5\" fill=\"#4269d0\"></circle><circle cx=\"137.01818181818186\" cy=\"111.66666666666664\" r=\"5\" fill=\"#4269d0\"></circle><circle cx=\"191.85454545454536\" cy=\"57.49999999999994\" r=\"5\" fill=\"#4269d0\"></circle><circle cx=\"183.41818181818178\" cy=\"174.16666666666663\" r=\"5\" fill=\"#4269d0\"></circle><circle cx=\"189.74545454545455\" cy=\"99.16666666666661\" r=\"5\" fill=\"#4269d0\"></circle><circle cx=\"82.18181818181819\" cy=\"161.66666666666657\" r=\"5\" fill=\"#4269d0\"></circle><circle cx=\"248.79999999999995\" cy=\"74.1666666666667\" r=\"5\" fill=\"#4269d0\"></circle><circle cx=\"160.21818181818173\" cy=\"203.33333333333326\" r=\"5\" fill=\"#4269d0\"></circle><circle cx=\"160.21818181818173\" cy=\"194.99999999999997\" r=\"5\" fill=\"#4269d0\"></circle><circle cx=\"229.8181818181818\" cy=\"182.49999999999994\" r=\"5\" fill=\"#4269d0\"></circle><circle cx=\"177.09090909090907\" cy=\"32.500000000000036\" r=\"5\" fill=\"#4269d0\"></circle><circle cx=\"92.72727272727272\" cy=\"36.66666666666661\" r=\"5\" fill=\"#4269d0\"></circle><circle cx=\"134.9090909090909\" cy=\"174.16666666666663\" r=\"5\" fill=\"#4269d0\"></circle><circle cx=\"179.20000000000005\" cy=\"124.16666666666664\" r=\"5\" fill=\"#4269d0\"></circle><circle cx=\"259.3454545454545\" cy=\"53.33333333333337\" r=\"5\" fill=\"#4269d0\"></circle><circle cx=\"88.50909090909084\" cy=\"149.1666666666667\" r=\"5\" fill=\"#4269d0\"></circle><circle cx=\"333.16363636363633\" cy=\"20\" r=\"5\" fill=\"#4269d0\"></circle><circle cx=\"160.21818181818173\" cy=\"153.3333333333333\" r=\"5\" fill=\"#4269d0\"></circle><circle cx=\"158.10909090909095\" cy=\"136.66666666666669\" r=\"5\" fill=\"#4269d0\"></circle><circle cx=\"120.14545454545447\" cy=\"115.83333333333334\" r=\"5\" fill=\"#4269d0\"></circle><circle cx=\"168.65454545454548\" cy=\"161.66666666666657\" r=\"5\" fill=\"#4269d0\"></circle><circle cx=\"181.3090909090908\" cy=\"199.16666666666669\" r=\"5\" fill=\"#4269d0\"></circle><circle cx=\"107.49090909090901\" cy=\"128.33333333333337\" r=\"5\" fill=\"#4269d0\"></circle><circle cx=\"219.27272727272725\" cy=\"140.83333333333326\" r=\"5\" fill=\"#4269d0\"></circle><circle cx=\"217.16363636363636\" cy=\"170.00000000000003\" r=\"5\" fill=\"#4269d0\"></circle><circle cx=\"162.32727272727266\" cy=\"140.83333333333326\" r=\"5\" fill=\"#4269d0\"></circle><circle cx=\"217.16363636363636\" cy=\"128.33333333333337\" r=\"5\" fill=\"#4269d0\"></circle><circle cx=\"196.07272727272726\" cy=\"220\" r=\"5\" fill=\"#4269d0\"></circle><circle cx=\"147.5636363636364\" cy=\"161.66666666666657\" r=\"5\" fill=\"#4269d0\"></circle><circle cx=\"196.07272727272726\" cy=\"174.16666666666663\" r=\"5\" fill=\"#4269d0\"></circle><circle cx=\"225.59999999999997\" cy=\"128.33333333333337\" r=\"5\" fill=\"#4269d0\"></circle><circle cx=\"130.69090909090903\" cy=\"207.5\" r=\"5\" fill=\"#4269d0\"></circle><circle cx=\"189.74545454545455\" cy=\"36.66666666666661\" r=\"5\" fill=\"#4269d0\"></circle><circle cx=\"181.3090909090908\" cy=\"82.50000000000001\" r=\"5\" fill=\"#4269d0\"></circle><circle cx=\"253.01818181818183\" cy=\"145\" r=\"5\" fill=\"#4269d0\"></circle><circle cx=\"156\" cy=\"111.66666666666664\" r=\"5\" fill=\"#4269d0\"></circle><circle cx=\"202.39999999999992\" cy=\"119.99999999999996\" r=\"5\" fill=\"#4269d0\"></circle><circle cx=\"132.79999999999998\" cy=\"165.83333333333331\" r=\"5\" fill=\"#4269d0\"></circle><circle cx=\"223.490909090909\" cy=\"149.1666666666667\" r=\"5\" fill=\"#4269d0\"></circle><circle cx=\"122.25454545454542\" cy=\"145\" r=\"5\" fill=\"#4269d0\"></circle><circle cx=\"293.09090909090907\" cy=\"95.00000000000004\" r=\"5\" fill=\"#4269d0\"></circle><circle cx=\"143.34545454545452\" cy=\"211.6666666666667\" r=\"5\" fill=\"#4269d0\"></circle><circle cx=\"198.18181818181816\" cy=\"132.49999999999994\" r=\"5\" fill=\"#4269d0\"></circle><circle cx=\"229.8181818181818\" cy=\"124.16666666666664\" r=\"5\" fill=\"#4269d0\"></circle><circle cx=\"153.89090909090908\" cy=\"128.33333333333337\" r=\"5\" fill=\"#4269d0\"></circle><circle cx=\"122.25454545454542\" cy=\"170.00000000000003\" r=\"5\" fill=\"#4269d0\"></circle><circle cx=\"255.1272727272726\" cy=\"32.500000000000036\" r=\"5\" fill=\"#4269d0\"></circle><circle cx=\"198.18181818181816\" cy=\"178.33333333333337\" r=\"5\" fill=\"#4269d0\"></circle><circle cx=\"208.72727272727272\" cy=\"128.33333333333337\" r=\"5\" fill=\"#4269d0\"></circle><circle cx=\"101.16363636363633\" cy=\"170.00000000000003\" r=\"5\" fill=\"#4269d0\"></circle><circle cx=\"248.79999999999995\" cy=\"103.33333333333336\" r=\"5\" fill=\"#4269d0\"></circle><circle cx=\"90.6181818181818\" cy=\"161.66666666666657\" r=\"5\" fill=\"#4269d0\"></circle><circle cx=\"236.14545454545447\" cy=\"140.83333333333326\" r=\"5\" fill=\"#4269d0\"></circle><circle cx=\"185.5272727272727\" cy=\"186.66666666666666\" r=\"5\" fill=\"#4269d0\"></circle><circle cx=\"219.27272727272725\" cy=\"132.49999999999994\" r=\"5\" fill=\"#4269d0\"></circle><circle cx=\"132.79999999999998\" cy=\"224.1666666666666\" r=\"5\" fill=\"#4269d0\"></circle><circle cx=\"156\" cy=\"119.99999999999996\" r=\"5\" fill=\"#4269d0\"></circle><circle cx=\"115.92727272727274\" cy=\"211.6666666666667\" r=\"5\" fill=\"#4269d0\"></circle><circle cx=\"234.03636363636355\" cy=\"36.66666666666661\" r=\"5\" fill=\"#4269d0\"></circle><circle cx=\"156\" cy=\"207.5\" r=\"5\" fill=\"#4269d0\"></circle><circle cx=\"229.8181818181818\" cy=\"157.5\" r=\"5\" fill=\"#4269d0\"></circle><circle cx=\"130.69090909090903\" cy=\"203.33333333333326\" r=\"5\" fill=\"#4269d0\"></circle><circle cx=\"240.36363636363637\" cy=\"165.83333333333331\" r=\"5\" fill=\"#4269d0\"></circle><circle cx=\"111.70909090909089\" cy=\"240.83333333333331\" r=\"5\" fill=\"#4269d0\"></circle><circle cx=\"229.8181818181818\" cy=\"119.99999999999996\" r=\"5\" fill=\"#4269d0\"></circle><circle cx=\"120.14545454545447\" cy=\"224.1666666666666\" r=\"5\" fill=\"#4269d0\"></circle><circle cx=\"244.58181818181808\" cy=\"107.50000000000004\" r=\"5\" fill=\"#4269d0\"></circle><circle cx=\"69.52727272727269\" cy=\"124.16666666666664\" r=\"5\" fill=\"#4269d0\"></circle><circle cx=\"200.2909090909091\" cy=\"149.1666666666667\" r=\"5\" fill=\"#4269d0\"></circle><circle cx=\"198.18181818181816\" cy=\"199.16666666666669\" r=\"5\" fill=\"#4269d0\"></circle><circle cx=\"328.9454545454544\" cy=\"128.33333333333337\" r=\"5\" fill=\"#4269d0\"></circle><circle cx=\"111.70909090909089\" cy=\"186.66666666666666\" r=\"5\" fill=\"#4269d0\"></circle><circle cx=\"265.6727272727272\" cy=\"145\" r=\"5\" fill=\"#4269d0\"></circle><circle cx=\"225.59999999999997\" cy=\"215.83333333333331\" r=\"5\" fill=\"#4269d0\"></circle><circle cx=\"147.5636363636364\" cy=\"107.50000000000004\" r=\"5\" fill=\"#4269d0\"></circle><circle cx=\"126.4727272727273\" cy=\"244.99999999999994\" r=\"5\" fill=\"#4269d0\"></circle><circle cx=\"250.90909090909093\" cy=\"119.99999999999996\" r=\"5\" fill=\"#4269d0\"></circle><circle cx=\"92.72727272727272\" cy=\"199.16666666666669\" r=\"5\" fill=\"#4269d0\"></circle><circle cx=\"267.78181818181815\" cy=\"182.49999999999994\" r=\"5\" fill=\"#4269d0\"></circle><circle cx=\"137.01818181818186\" cy=\"132.49999999999994\" r=\"5\" fill=\"#4269d0\"></circle><circle cx=\"103.27272727272725\" cy=\"107.50000000000004\" r=\"5\" fill=\"#4269d0\"></circle><circle cx=\"149.67272727272717\" cy=\"174.16666666666663\" r=\"5\" fill=\"#4269d0\"></circle><circle cx=\"234.03636363636355\" cy=\"69.99999999999997\" r=\"5\" fill=\"#4269d0\"></circle><circle cx=\"128.58181818181808\" cy=\"103.33333333333336\" r=\"5\" fill=\"#4269d0\"></circle><circle cx=\"141.2363636363636\" cy=\"140.83333333333326\" r=\"5\" fill=\"#4269d0\"></circle><circle cx=\"170.7636363636363\" cy=\"115.83333333333334\" r=\"5\" fill=\"#4269d0\"></circle><circle cx=\"183.41818181818178\" cy=\"132.49999999999994\" r=\"5\" fill=\"#4269d0\"></circle><circle cx=\"115.92727272727274\" cy=\"165.83333333333331\" r=\"5\" fill=\"#4269d0\"></circle><circle cx=\"229.8181818181818\" cy=\"161.66666666666657\" r=\"5\" fill=\"#4269d0\"></circle><circle cx=\"80.07272727272724\" cy=\"203.33333333333326\" r=\"5\" fill=\"#4269d0\"></circle><circle cx=\"198.18181818181816\" cy=\"161.66666666666657\" r=\"5\" fill=\"#4269d0\"></circle><circle cx=\"126.4727272727273\" cy=\"194.99999999999997\" r=\"5\" fill=\"#4269d0\"></circle><circle cx=\"223.490909090909\" cy=\"128.33333333333337\" r=\"5\" fill=\"#4269d0\"></circle><circle cx=\"166.54545454545453\" cy=\"140.83333333333326\" r=\"5\" fill=\"#4269d0\"></circle><circle cx=\"212.94545454545448\" cy=\"145\" r=\"5\" fill=\"#4269d0\"></circle><circle cx=\"61.09090909090909\" cy=\"244.99999999999994\" r=\"5\" fill=\"#4269d0\"></circle><circle cx=\"274.1090909090909\" cy=\"145\" r=\"5\" fill=\"#4269d0\"></circle><circle cx=\"101.16363636363633\" cy=\"170.00000000000003\" r=\"5\" fill=\"#4269d0\"></circle><circle cx=\"227.7090909090909\" cy=\"82.50000000000001\" r=\"5\" fill=\"#4269d0\"></circle><circle cx=\"158.10909090909095\" cy=\"249.16666666666663\" r=\"5\" fill=\"#4269d0\"></circle><circle cx=\"160.21818181818173\" cy=\"82.50000000000001\" r=\"5\" fill=\"#4269d0\"></circle><circle cx=\"162.32727272727266\" cy=\"140.83333333333326\" r=\"5\" fill=\"#4269d0\"></circle><circle cx=\"200.2909090909091\" cy=\"128.33333333333337\" r=\"5\" fill=\"#4269d0\"></circle><circle cx=\"177.09090909090907\" cy=\"199.16666666666669\" r=\"5\" fill=\"#4269d0\"></circle><circle cx=\"168.65454545454548\" cy=\"82.50000000000001\" r=\"5\" fill=\"#4269d0\"></circle><circle cx=\"166.54545454545453\" cy=\"207.5\" r=\"5\" fill=\"#4269d0\"></circle><circle cx=\"274.1090909090909\" cy=\"124.16666666666664\" r=\"5\" fill=\"#4269d0\"></circle><circle cx=\"166.54545454545453\" cy=\"228.33333333333334\" r=\"5\" fill=\"#4269d0\"></circle><circle cx=\"324.72727272727275\" cy=\"69.99999999999997\" r=\"5\" fill=\"#4269d0\"></circle><circle cx=\"200.2909090909091\" cy=\"178.33333333333337\" r=\"5\" fill=\"#4269d0\"></circle><circle cx=\"253.01818181818183\" cy=\"103.33333333333336\" r=\"5\" fill=\"#4269d0\"></circle><circle cx=\"198.18181818181816\" cy=\"53.33333333333337\" r=\"5\" fill=\"#4269d0\"></circle><circle cx=\"263.56363636363636\" cy=\"153.3333333333333\" r=\"5\" fill=\"#4269d0\"></circle><circle cx=\"177.09090909090907\" cy=\"207.5\" r=\"5\" fill=\"#4269d0\"></circle><circle cx=\"149.67272727272717\" cy=\"61.66666666666668\" r=\"5\" fill=\"#4269d0\"></circle><circle cx=\"115.92727272727274\" cy=\"207.5\" r=\"5\" fill=\"#4269d0\"></circle><circle cx=\"229.8181818181818\" cy=\"140.83333333333326\" r=\"5\" fill=\"#4269d0\"></circle><circle cx=\"126.4727272727273\" cy=\"199.16666666666669\" r=\"5\" fill=\"#4269d0\"></circle><circle cx=\"158.10909090909095\" cy=\"90.83333333333331\" r=\"5\" fill=\"#4269d0\"></circle><circle cx=\"210.83636363636367\" cy=\"207.5\" r=\"5\" fill=\"#4269d0\"></circle><circle cx=\"236.14545454545447\" cy=\"145\" r=\"5\" fill=\"#4269d0\"></circle><circle cx=\"105.3818181818182\" cy=\"253.33333333333326\" r=\"5\" fill=\"#4269d0\"></circle><circle cx=\"219.27272727272725\" cy=\"124.16666666666664\" r=\"5\" fill=\"#4269d0\"></circle><circle cx=\"181.3090909090908\" cy=\"182.49999999999994\" r=\"5\" fill=\"#4269d0\"></circle><circle cx=\"238.2545454545454\" cy=\"153.3333333333333\" r=\"5\" fill=\"#4269d0\"></circle><circle cx=\"185.5272727272727\" cy=\"203.33333333333326\" r=\"5\" fill=\"#4269d0\"></circle><circle cx=\"293.09090909090907\" cy=\"165.83333333333331\" r=\"5\" fill=\"#4269d0\"></circle><circle cx=\"174.98181818181814\" cy=\"170.00000000000003\" r=\"5\" fill=\"#4269d0\"></circle><circle cx=\"272\" cy=\"115.83333333333334\" r=\"5\" fill=\"#4269d0\"></circle><circle cx=\"139.12727272727264\" cy=\"145\" r=\"5\" fill=\"#4269d0\"></circle><circle cx=\"153.89090909090908\" cy=\"145\" r=\"5\" fill=\"#4269d0\"></circle><circle cx=\"166.54545454545453\" cy=\"182.49999999999994\" r=\"5\" fill=\"#4269d0\"></circle><circle cx=\"229.8181818181818\" cy=\"186.66666666666666\" r=\"5\" fill=\"#4269d0\"></circle><circle cx=\"113.81818181818181\" cy=\"186.66666666666666\" r=\"5\" fill=\"#4269d0\"></circle><circle cx=\"210.83636363636367\" cy=\"78.33333333333329\" r=\"5\" fill=\"#4269d0\"></circle><circle cx=\"143.34545454545452\" cy=\"228.33333333333334\" r=\"5\" fill=\"#4269d0\"></circle><circle cx=\"200.2909090909091\" cy=\"170.00000000000003\" r=\"5\" fill=\"#4269d0\"></circle><circle cx=\"210.83636363636367\" cy=\"203.33333333333326\" r=\"5\" fill=\"#4269d0\"></circle><circle cx=\"219.27272727272725\" cy=\"199.16666666666669\" r=\"5\" fill=\"#4269d0\"></circle><circle cx=\"40\" cy=\"270\" r=\"5\" fill=\"#4269d0\"></circle><circle cx=\"221.38181818181823\" cy=\"207.5\" r=\"5\" fill=\"#4269d0\"></circle><circle cx=\"149.67272727272717\" cy=\"215.83333333333331\" r=\"5\" fill=\"#4269d0\"></circle><circle cx=\"185.5272727272727\" cy=\"136.66666666666669\" r=\"5\" fill=\"#4269d0\"></circle><circle cx=\"189.74545454545455\" cy=\"140.83333333333326\" r=\"5\" fill=\"#4269d0\"></circle><circle cx=\"134.9090909090909\" cy=\"149.1666666666667\" r=\"5\" fill=\"#4269d0\"></circle><circle cx=\"122.25454545454542\" cy=\"174.16666666666663\" r=\"5\" fill=\"#4269d0\"></circle><circle cx=\"160.21818181818173\" cy=\"161.66666666666657\" r=\"5\" fill=\"#4269d0\"></circle><circle cx=\"122.25454545454542\" cy=\"203.33333333333326\" r=\"5\" fill=\"#4269d0\"></circle><circle cx=\"238.2545454545454\" cy=\"145\" r=\"5\" fill=\"#4269d0\"></circle><circle cx=\"343.7090909090909\" cy=\"170.00000000000003\" r=\"5\" fill=\"#efb118\"></circle><circle cx=\"417.5272727272727\" cy=\"103.33333333333336\" r=\"5\" fill=\"#efb118\"></circle><circle cx=\"444.9454545454544\" cy=\"115.83333333333334\" r=\"5\" fill=\"#efb118\"></circle><circle cx=\"320.5090909090909\" cy=\"136.66666666666669\" r=\"5\" fill=\"#efb118\"></circle><circle cx=\"474.47272727272735\" cy=\"90.83333333333331\" r=\"5\" fill=\"#efb118\"></circle><circle cx=\"316.2909090909091\" cy=\"174.16666666666663\" r=\"5\" fill=\"#efb118\"></circle><circle cx=\"335.27272727272725\" cy=\"157.5\" r=\"5\" fill=\"#efb118\"></circle><circle cx=\"444.9454545454544\" cy=\"157.5\" r=\"5\" fill=\"#efb118\"></circle><circle cx=\"333.16363636363633\" cy=\"128.33333333333337\" r=\"5\" fill=\"#efb118\"></circle><circle cx=\"444.9454545454544\" cy=\"86.66666666666674\" r=\"5\" fill=\"#efb118\"></circle><circle cx=\"345.8181818181818\" cy=\"174.16666666666663\" r=\"5\" fill=\"#efb118\"></circle><circle cx=\"453.38181818181823\" cy=\"69.99999999999997\" r=\"5\" fill=\"#efb118\"></circle><circle cx=\"354.2545454545454\" cy=\"194.99999999999997\" r=\"5\" fill=\"#efb118\"></circle><circle cx=\"459.7090909090909\" cy=\"161.66666666666657\" r=\"5\" fill=\"#efb118\"></circle><circle cx=\"331.0545454545454\" cy=\"203.33333333333326\" r=\"5\" fill=\"#efb118\"></circle><circle cx=\"428.07272727272726\" cy=\"99.16666666666661\" r=\"5\" fill=\"#efb118\"></circle><circle cx=\"423.85454545454536\" cy=\"82.50000000000001\" r=\"5\" fill=\"#efb118\"></circle><circle cx=\"586.2545454545455\" cy=\"174.16666666666663\" r=\"5\" fill=\"#efb118\"></circle><circle cx=\"341.5999999999999\" cy=\"140.83333333333326\" r=\"5\" fill=\"#efb118\"></circle><circle cx=\"400.6545454545455\" cy=\"157.5\" r=\"5\" fill=\"#efb118\"></circle><circle cx=\"257.2363636363636\" cy=\"194.99999999999997\" r=\"5\" fill=\"#efb118\"></circle><circle cx=\"385.890909090909\" cy=\"186.66666666666666\" r=\"5\" fill=\"#efb118\"></circle><circle cx=\"274.1090909090909\" cy=\"224.1666666666666\" r=\"5\" fill=\"#efb118\"></circle><circle cx=\"430.18181818181813\" cy=\"107.50000000000004\" r=\"5\" fill=\"#efb118\"></circle><circle cx=\"347.9272727272728\" cy=\"170.00000000000003\" r=\"5\" fill=\"#efb118\"></circle><circle cx=\"459.7090909090909\" cy=\"124.16666666666664\" r=\"5\" fill=\"#efb118\"></circle><circle cx=\"428.07272727272726\" cy=\"149.1666666666667\" r=\"5\" fill=\"#efb118\"></circle><circle cx=\"406.98181818181814\" cy=\"124.16666666666664\" r=\"5\" fill=\"#efb118\"></circle><circle cx=\"341.5999999999999\" cy=\"174.16666666666663\" r=\"5\" fill=\"#efb118\"></circle><circle cx=\"476.58181818181805\" cy=\"82.50000000000001\" r=\"5\" fill=\"#efb118\"></circle><circle cx=\"225.59999999999997\" cy=\"224.1666666666666\" r=\"5\" fill=\"#efb118\"></circle><circle cx=\"506.109090909091\" cy=\"49.16666666666664\" r=\"5\" fill=\"#efb118\"></circle><circle cx=\"259.3454545454545\" cy=\"220\" r=\"5\" fill=\"#efb118\"></circle><circle cx=\"438.6181818181818\" cy=\"132.49999999999994\" r=\"5\" fill=\"#efb118\"></circle><circle cx=\"411.2\" cy=\"140.83333333333326\" r=\"5\" fill=\"#efb118\"></circle><circle cx=\"364.8\" cy=\"215.83333333333331\" r=\"5\" fill=\"#efb118\"></circle><circle cx=\"366.9090909090909\" cy=\"153.3333333333333\" r=\"5\" fill=\"#efb118\"></circle><circle cx=\"459.7090909090909\" cy=\"53.33333333333337\" r=\"5\" fill=\"#efb118\"></circle><circle cx=\"352.1454545454545\" cy=\"224.1666666666666\" r=\"5\" fill=\"#efb118\"></circle><circle cx=\"491.3454545454545\" cy=\"86.66666666666674\" r=\"5\" fill=\"#efb118\"></circle><circle cx=\"396.43636363636364\" cy=\"103.33333333333336\" r=\"5\" fill=\"#efb118\"></circle><circle cx=\"337.38181818181823\" cy=\"186.66666666666666\" r=\"5\" fill=\"#efb118\"></circle><circle cx=\"436.50909090909084\" cy=\"119.99999999999996\" r=\"5\" fill=\"#efb118\"></circle><circle cx=\"322.61818181818177\" cy=\"207.5\" r=\"5\" fill=\"#efb118\"></circle><circle cx=\"436.50909090909084\" cy=\"170.00000000000003\" r=\"5\" fill=\"#efb118\"></circle><circle cx=\"434.3999999999999\" cy=\"145\" r=\"5\" fill=\"#efb118\"></circle><circle cx=\"419.6363636363636\" cy=\"170.00000000000003\" r=\"5\" fill=\"#efb118\"></circle><circle cx=\"396.43636363636364\" cy=\"99.16666666666661\" r=\"5\" fill=\"#efb118\"></circle><circle cx=\"449.16363636363633\" cy=\"136.66666666666669\" r=\"5\" fill=\"#efb118\"></circle><circle cx=\"413.3090909090908\" cy=\"194.99999999999997\" r=\"5\" fill=\"#efb118\"></circle><circle cx=\"377.45454545454544\" cy=\"232.50000000000003\" r=\"5\" fill=\"#efb118\"></circle><circle cx=\"447.05454545454535\" cy=\"124.16666666666664\" r=\"5\" fill=\"#efb118\"></circle><circle cx=\"326.83636363636367\" cy=\"194.99999999999997\" r=\"5\" fill=\"#efb118\"></circle><circle cx=\"432.2909090909091\" cy=\"95.00000000000004\" r=\"5\" fill=\"#efb118\"></circle><circle cx=\"259.3454545454545\" cy=\"194.99999999999997\" r=\"5\" fill=\"#efb118\"></circle><circle cx=\"463.92727272727274\" cy=\"132.49999999999994\" r=\"5\" fill=\"#efb118\"></circle><circle cx=\"316.2909090909091\" cy=\"224.1666666666666\" r=\"5\" fill=\"#efb118\"></circle><circle cx=\"402.76363636363624\" cy=\"86.66666666666674\" r=\"5\" fill=\"#efb118\"></circle><circle cx=\"421.74545454545455\" cy=\"132.49999999999994\" r=\"5\" fill=\"#efb118\"></circle><circle cx=\"324.72727272727275\" cy=\"107.50000000000004\" r=\"5\" fill=\"#efb118\"></circle><circle cx=\"457.5999999999999\" cy=\"103.33333333333336\" r=\"5\" fill=\"#efb118\"></circle><circle cx=\"350.03636363636355\" cy=\"228.33333333333334\" r=\"5\" fill=\"#efb118\"></circle><circle cx=\"326.83636363636367\" cy=\"207.5\" r=\"5\" fill=\"#efb118\"></circle><circle cx=\"539.8545454545454\" cy=\"90.83333333333331\" r=\"5\" fill=\"#efb118\"></circle><circle cx=\"280.43636363636364\" cy=\"161.66666666666657\" r=\"5\" fill=\"#efb118\"></circle><circle cx=\"409.0909090909091\" cy=\"157.5\" r=\"5\" fill=\"#efb118\"></circle><circle cx=\"434.3999999999999\" cy=\"124.16666666666664\" r=\"5\" fill=\"#efb118\"></circle><circle cx=\"421.74545454545455\" cy=\"136.66666666666669\" r=\"5\" fill=\"#efb118\"></circle><circle cx=\"335.27272727272725\" cy=\"365.83333333333337\" r=\"5\" fill=\"#ff725c\"></circle><circle cx=\"417.5272727272727\" cy=\"236.66666666666663\" r=\"5\" fill=\"#ff725c\"></circle><circle cx=\"390.1090909090909\" cy=\"328.33333333333337\" r=\"5\" fill=\"#ff725c\"></circle><circle cx=\"417.5272727272727\" cy=\"282.5\" r=\"5\" fill=\"#ff725c\"></circle><circle cx=\"366.9090909090909\" cy=\"311.66666666666663\" r=\"5\" fill=\"#ff725c\"></circle><circle cx=\"343.7090909090909\" cy=\"353.3333333333333\" r=\"5\" fill=\"#ff725c\"></circle><circle cx=\"320.5090909090909\" cy=\"307.5\" r=\"5\" fill=\"#ff725c\"></circle><circle cx=\"347.9272727272728\" cy=\"278.33333333333326\" r=\"5\" fill=\"#ff725c\"></circle><circle cx=\"276.21818181818173\" cy=\"357.5\" r=\"5\" fill=\"#ff725c\"></circle><circle cx=\"350.03636363636355\" cy=\"274.16666666666663\" r=\"5\" fill=\"#ff725c\"></circle><circle cx=\"225.59999999999997\" cy=\"345\" r=\"5\" fill=\"#ff725c\"></circle><circle cx=\"396.43636363636364\" cy=\"244.99999999999994\" r=\"5\" fill=\"#ff725c\"></circle><circle cx=\"322.61818181818177\" cy=\"345\" r=\"5\" fill=\"#ff725c\"></circle><circle cx=\"383.78181818181815\" cy=\"307.5\" r=\"5\" fill=\"#ff725c\"></circle><circle cx=\"328.9454545454544\" cy=\"307.5\" r=\"5\" fill=\"#ff725c\"></circle><circle cx=\"402.76363636363624\" cy=\"261.6666666666667\" r=\"5\" fill=\"#ff725c\"></circle><circle cx=\"248.79999999999995\" cy=\"353.3333333333333\" r=\"5\" fill=\"#ff725c\"></circle><circle cx=\"400.6545454545455\" cy=\"282.5\" r=\"5\" fill=\"#ff725c\"></circle><circle cx=\"337.38181818181823\" cy=\"311.66666666666663\" r=\"5\" fill=\"#ff725c\"></circle><circle cx=\"390.1090909090909\" cy=\"286.66666666666663\" r=\"5\" fill=\"#ff725c\"></circle><circle cx=\"421.74545454545455\" cy=\"319.99999999999994\" r=\"5\" fill=\"#ff725c\"></circle><circle cx=\"314.18181818181813\" cy=\"311.66666666666663\" r=\"5\" fill=\"#ff725c\"></circle><circle cx=\"343.7090909090909\" cy=\"311.66666666666663\" r=\"5\" fill=\"#ff725c\"></circle><circle cx=\"339.49090909090904\" cy=\"257.49999999999994\" r=\"5\" fill=\"#ff725c\"></circle><circle cx=\"267.78181818181815\" cy=\"370\" r=\"5\" fill=\"#ff725c\"></circle><circle cx=\"335.27272727272725\" cy=\"286.66666666666663\" r=\"5\" fill=\"#ff725c\"></circle><circle cx=\"301.5272727272727\" cy=\"319.99999999999994\" r=\"5\" fill=\"#ff725c\"></circle><circle cx=\"371.1272727272726\" cy=\"290.8333333333333\" r=\"5\" fill=\"#ff725c\"></circle><circle cx=\"379.5636363636364\" cy=\"319.99999999999994\" r=\"5\" fill=\"#ff725c\"></circle><circle cx=\"417.5272727272727\" cy=\"278.33333333333326\" r=\"5\" fill=\"#ff725c\"></circle><circle cx=\"360.5818181818181\" cy=\"278.33333333333326\" r=\"5\" fill=\"#ff725c\"></circle><circle cx=\"265.6727272727272\" cy=\"324.16666666666663\" r=\"5\" fill=\"#ff725c\"></circle><circle cx=\"314.18181818181813\" cy=\"311.66666666666663\" r=\"5\" fill=\"#ff725c\"></circle><circle cx=\"620\" cy=\"207.5\" r=\"5\" fill=\"#ff725c\"></circle><circle cx=\"398.5454545454545\" cy=\"299.1666666666666\" r=\"5\" fill=\"#ff725c\"></circle><circle cx=\"383.78181818181815\" cy=\"236.66666666666663\" r=\"5\" fill=\"#ff725c\"></circle><circle cx=\"261.4545454545455\" cy=\"345\" r=\"5\" fill=\"#ff725c\"></circle><circle cx=\"299.4181818181818\" cy=\"194.99999999999997\" r=\"5\" fill=\"#ff725c\"></circle><circle cx=\"290.98181818181814\" cy=\"349.1666666666667\" r=\"5\" fill=\"#ff725c\"></circle><circle cx=\"390.1090909090909\" cy=\"261.6666666666667\" r=\"5\" fill=\"#ff725c\"></circle><circle cx=\"263.56363636363636\" cy=\"345\" r=\"5\" fill=\"#ff725c\"></circle><circle cx=\"409.0909090909091\" cy=\"249.16666666666663\" r=\"5\" fill=\"#ff725c\"></circle><circle cx=\"318.3999999999999\" cy=\"345\" r=\"5\" fill=\"#ff725c\"></circle><circle cx=\"409.0909090909091\" cy=\"290.8333333333333\" r=\"5\" fill=\"#ff725c\"></circle><circle cx=\"428.07272727272726\" cy=\"253.33333333333326\" r=\"5\" fill=\"#ff725c\"></circle><circle cx=\"282.5454545454545\" cy=\"336.66666666666663\" r=\"5\" fill=\"#ff725c\"></circle><circle cx=\"322.61818181818177\" cy=\"336.66666666666663\" r=\"5\" fill=\"#ff725c\"></circle><circle cx=\"428.07272727272726\" cy=\"253.33333333333326\" r=\"5\" fill=\"#ff725c\"></circle><circle cx=\"309.9636363636363\" cy=\"361.66666666666663\" r=\"5\" fill=\"#ff725c\"></circle><circle cx=\"316.2909090909091\" cy=\"257.49999999999994\" r=\"5\" fill=\"#ff725c\"></circle><circle cx=\"345.8181818181818\" cy=\"324.16666666666663\" r=\"5\" fill=\"#ff725c\"></circle><circle cx=\"385.890909090909\" cy=\"328.33333333333337\" r=\"5\" fill=\"#ff725c\"></circle><circle cx=\"314.18181818181813\" cy=\"315.83333333333326\" r=\"5\" fill=\"#ff725c\"></circle><circle cx=\"419.6363636363636\" cy=\"290.8333333333333\" r=\"5\" fill=\"#ff725c\"></circle><circle cx=\"343.7090909090909\" cy=\"315.83333333333326\" r=\"5\" fill=\"#ff725c\"></circle><circle cx=\"312.07272727272726\" cy=\"274.16666666666663\" r=\"5\" fill=\"#ff725c\"></circle><circle cx=\"286.7636363636363\" cy=\"336.66666666666663\" r=\"5\" fill=\"#ff725c\"></circle><circle cx=\"322.61818181818177\" cy=\"290.8333333333333\" r=\"5\" fill=\"#ff725c\"></circle><circle cx=\"274.1090909090909\" cy=\"311.66666666666663\" r=\"5\" fill=\"#ff725c\"></circle><circle cx=\"425.9636363636363\" cy=\"278.33333333333326\" r=\"5\" fill=\"#ff725c\"></circle><circle cx=\"318.3999999999999\" cy=\"340.8333333333333\" r=\"5\" fill=\"#ff725c\"></circle><circle cx=\"337.38181818181823\" cy=\"294.99999999999994\" r=\"5\" fill=\"#ff725c\"></circle><circle cx=\"326.83636363636367\" cy=\"336.66666666666663\" r=\"5\" fill=\"#ff725c\"></circle><circle cx=\"508.21818181818173\" cy=\"261.6666666666667\" r=\"5\" fill=\"#ff725c\"></circle><circle cx=\"328.9454545454544\" cy=\"324.16666666666663\" r=\"5\" fill=\"#ff725c\"></circle><circle cx=\"413.3090909090908\" cy=\"215.83333333333331\" r=\"5\" fill=\"#ff725c\"></circle><circle cx=\"337.38181818181823\" cy=\"315.83333333333326\" r=\"5\" fill=\"#ff725c\"></circle><circle cx=\"406.98181818181814\" cy=\"240.83333333333331\" r=\"5\" fill=\"#ff725c\"></circle><circle cx=\"280.43636363636364\" cy=\"324.16666666666663\" r=\"5\" fill=\"#ff725c\"></circle><circle cx=\"432.2909090909091\" cy=\"290.8333333333333\" r=\"5\" fill=\"#ff725c\"></circle><circle cx=\"369.01818181818186\" cy=\"290.8333333333333\" r=\"5\" fill=\"#ff725c\"></circle><circle cx=\"341.5999999999999\" cy=\"265.8333333333333\" r=\"5\" fill=\"#ff725c\"></circle><circle cx=\"379.5636363636364\" cy=\"265.8333333333333\" r=\"5\" fill=\"#ff725c\"></circle><circle cx=\"343.7090909090909\" cy=\"299.1666666666666\" r=\"5\" fill=\"#ff725c\"></circle><circle cx=\"341.5999999999999\" cy=\"290.8333333333333\" r=\"5\" fill=\"#ff725c\"></circle><circle cx=\"388\" cy=\"249.16666666666663\" r=\"5\" fill=\"#ff725c\"></circle><circle cx=\"364.8\" cy=\"324.16666666666663\" r=\"5\" fill=\"#ff725c\"></circle><circle cx=\"440.72727272727275\" cy=\"236.66666666666663\" r=\"5\" fill=\"#ff725c\"></circle><circle cx=\"316.2909090909091\" cy=\"340.8333333333333\" r=\"5\" fill=\"#ff725c\"></circle><circle cx=\"316.2909090909091\" cy=\"232.50000000000003\" r=\"5\" fill=\"#ff725c\"></circle><circle cx=\"398.5454545454545\" cy=\"311.66666666666663\" r=\"5\" fill=\"#ff725c\"></circle><circle cx=\"470.25454545454545\" cy=\"265.8333333333333\" r=\"5\" fill=\"#ff725c\"></circle><circle cx=\"362.69090909090903\" cy=\"307.5\" r=\"5\" fill=\"#ff725c\"></circle><circle cx=\"417.5272727272727\" cy=\"253.33333333333326\" r=\"5\" fill=\"#ff725c\"></circle><circle cx=\"309.9636363636363\" cy=\"340.8333333333333\" r=\"5\" fill=\"#ff725c\"></circle><circle cx=\"434.3999999999999\" cy=\"194.99999999999997\" r=\"5\" fill=\"#ff725c\"></circle><circle cx=\"278.32727272727266\" cy=\"315.83333333333326\" r=\"5\" fill=\"#ff725c\"></circle><circle cx=\"444.9454545454544\" cy=\"324.16666666666663\" r=\"5\" fill=\"#ff725c\"></circle><circle cx=\"364.8\" cy=\"332.5\" r=\"5\" fill=\"#ff725c\"></circle><circle cx=\"461.81818181818187\" cy=\"207.5\" r=\"5\" fill=\"#ff725c\"></circle><circle cx=\"364.8\" cy=\"290.8333333333333\" r=\"5\" fill=\"#ff725c\"></circle><circle cx=\"463.92727272727274\" cy=\"203.33333333333326\" r=\"5\" fill=\"#ff725c\"></circle><circle cx=\"322.61818181818177\" cy=\"311.66666666666663\" r=\"5\" fill=\"#ff725c\"></circle><circle cx=\"406.98181818181814\" cy=\"244.99999999999994\" r=\"5\" fill=\"#ff725c\"></circle><circle cx=\"301.5272727272727\" cy=\"303.3333333333333\" r=\"5\" fill=\"#ff725c\"></circle><circle cx=\"434.3999999999999\" cy=\"261.6666666666667\" r=\"5\" fill=\"#ff725c\"></circle><circle cx=\"404.8727272727272\" cy=\"257.49999999999994\" r=\"5\" fill=\"#ff725c\"></circle><circle cx=\"352.1454545454545\" cy=\"307.5\" r=\"5\" fill=\"#ff725c\"></circle><circle cx=\"383.78181818181815\" cy=\"315.83333333333326\" r=\"5\" fill=\"#ff725c\"></circle><circle cx=\"440.72727272727275\" cy=\"228.33333333333334\" r=\"5\" fill=\"#ff725c\"></circle><circle cx=\"385.890909090909\" cy=\"290.8333333333333\" r=\"5\" fill=\"#ff725c\"></circle><circle cx=\"541.9636363636363\" cy=\"207.5\" r=\"5\" fill=\"#ff725c\"></circle><circle cx=\"358.4727272727273\" cy=\"270\" r=\"5\" fill=\"#ff725c\"></circle><circle cx=\"398.5454545454545\" cy=\"290.8333333333333\" r=\"5\" fill=\"#ff725c\"></circle><circle cx=\"360.5818181818181\" cy=\"340.8333333333333\" r=\"5\" fill=\"#ff725c\"></circle><circle cx=\"350.03636363636355\" cy=\"244.99999999999994\" r=\"5\" fill=\"#ff725c\"></circle><circle cx=\"242.4727272727273\" cy=\"303.3333333333333\" r=\"5\" fill=\"#ff725c\"></circle><circle cx=\"489.23636363636354\" cy=\"257.49999999999994\" r=\"5\" fill=\"#ff725c\"></circle><circle cx=\"276.21818181818173\" cy=\"332.5\" r=\"5\" fill=\"#ff725c\"></circle><circle cx=\"377.45454545454544\" cy=\"286.66666666666663\" r=\"5\" fill=\"#ff725c\"></circle><circle cx=\"428.07272727272726\" cy=\"282.5\" r=\"5\" fill=\"#ff725c\"></circle><circle cx=\"413.3090909090908\" cy=\"253.33333333333326\" r=\"5\" fill=\"#ff725c\"></circle><circle cx=\"280.43636363636364\" cy=\"282.5\" r=\"5\" fill=\"#ff725c\"></circle><circle cx=\"449.16363636363633\" cy=\"236.66666666666663\" r=\"5\" fill=\"#ff725c\"></circle><circle cx=\"337.38181818181823\" cy=\"328.33333333333337\" r=\"5\" fill=\"#ff725c\"></circle><circle cx=\"525.090909090909\" cy=\"249.16666666666663\" r=\"5\" fill=\"#ff725c\"></circle><circle cx=\"301.5272727272727\" cy=\"261.6666666666667\" r=\"5\" fill=\"#ff725c\"></circle><circle cx=\"392.21818181818173\" cy=\"240.83333333333331\" r=\"5\" fill=\"#ff725c\"></circle><circle cx=\"358.4727272727273\" cy=\"345\" r=\"5\" fill=\"#ff725c\"></circle><circle cx=\"350.03636363636355\" cy=\"319.99999999999994\" r=\"5\" fill=\"#ff725c\"></circle><circle cx=\"425.9636363636363\" cy=\"261.6666666666667\" r=\"5\" fill=\"#ff725c\"></circle><circle cx=\"316.2909090909091\" cy=\"299.1666666666666\" r=\"5\" fill=\"#ff725c\"></circle><circle cx=\"415.4181818181818\" cy=\"244.99999999999994\" r=\"5\" fill=\"#ff725c\"></circle></g></svg></figure>"
      ],
      "text/plain": [
       "<IPython.core.display.HTML object>"
      ]
     },
     "metadata": {},
     "output_type": "display_data"
    }
   ],
   "source": [
    "Plot.plot(\n",
    "    {\n",
    "        \"x\": {\"label\": \"Beak Length\"},\n",
    "        \"y\": {\"label\": \"Beak Depth\"},\n",
    "        \"color\": {\"legend\": True},\n",
    "        \"marks\": [\n",
    "            Plot.dot(\n",
    "                penguins_df,\n",
    "                {\n",
    "                    \"x\": \"Beak Length (mm)\",\n",
    "                    \"y\": \"Beak Depth (mm)\",\n",
    "                    \"fill\": \"Species\",\n",
    "                    \"r\": 5,\n",
    "                },\n",
    "            )\n",
    "        ],\n",
    "    }\n",
    ")"
   ]
  },
  {
   "cell_type": "markdown",
   "id": "XeZB0_7M5A4h",
   "metadata": {
    "id": "XeZB0_7M5A4h"
   },
   "source": [
    "We can see that these features do a pretty good job of defining three clusters, one for each species of penguin."
   ]
  },
  {
   "cell_type": "markdown",
   "id": "1ubDR7Fa5JV3",
   "metadata": {
    "id": "1ubDR7Fa5JV3"
   },
   "source": [
    "##### Solution 3"
   ]
  },
  {
   "cell_type": "markdown",
   "id": "rKHu4M6I5NLe",
   "metadata": {
    "id": "rKHu4M6I5NLe"
   },
   "source": [
    "Both island and sex are categorical variables so we are left with bar charts. A grouped bar chart would work well here as it allows comparisons across islands and sexes at the same time."
   ]
  },
  {
   "cell_type": "code",
   "execution_count": 49,
   "id": "9q_tRtLt6Lbu",
   "metadata": {
    "colab": {
     "base_uri": "https://localhost:8080/",
     "height": 286
    },
    "id": "9q_tRtLt6Lbu",
    "outputId": "47cdb738-baea-41f9-9437-05b41bf2fd4e"
   },
   "outputs": [
    {
     "data": {
      "text/html": [
       "<div><style>\n",
       ".dataframe > thead > tr,\n",
       ".dataframe > tbody > tr {\n",
       "  text-align: right;\n",
       "  white-space: pre-wrap;\n",
       "}\n",
       "</style>\n",
       "<small>shape: (6, 3)</small><table border=\"1\" class=\"dataframe\"><thead><tr><th>Island</th><th>Sex</th><th>Body Mass (g)</th></tr><tr><td>str</td><td>str</td><td>f64</td></tr></thead><tbody><tr><td>&quot;Torgersen&quot;</td><td>&quot;FEMALE&quot;</td><td>3395.833333</td></tr><tr><td>&quot;Dream&quot;</td><td>&quot;FEMALE&quot;</td><td>3446.311475</td></tr><tr><td>&quot;Torgersen&quot;</td><td>&quot;MALE&quot;</td><td>4034.782609</td></tr><tr><td>&quot;Dream&quot;</td><td>&quot;MALE&quot;</td><td>3987.096774</td></tr><tr><td>&quot;Biscoe&quot;</td><td>&quot;FEMALE&quot;</td><td>4319.375</td></tr><tr><td>&quot;Biscoe&quot;</td><td>&quot;MALE&quot;</td><td>5104.518072</td></tr></tbody></table></div>"
      ],
      "text/plain": [
       "shape: (6, 3)\n",
       "┌───────────┬────────┬───────────────┐\n",
       "│ Island    ┆ Sex    ┆ Body Mass (g) │\n",
       "│ ---       ┆ ---    ┆ ---           │\n",
       "│ str       ┆ str    ┆ f64           │\n",
       "╞═══════════╪════════╪═══════════════╡\n",
       "│ Torgersen ┆ FEMALE ┆ 3395.833333   │\n",
       "│ Dream     ┆ FEMALE ┆ 3446.311475   │\n",
       "│ Torgersen ┆ MALE   ┆ 4034.782609   │\n",
       "│ Dream     ┆ MALE   ┆ 3987.096774   │\n",
       "│ Biscoe    ┆ FEMALE ┆ 4319.375      │\n",
       "│ Biscoe    ┆ MALE   ┆ 5104.518072   │\n",
       "└───────────┴────────┴───────────────┘"
      ]
     },
     "execution_count": 49,
     "metadata": {},
     "output_type": "execute_result"
    }
   ],
   "source": [
    "mass = (\n",
    "    penguins_df.filter(pl.col(\"Sex\").is_in([\"MALE\", \"FEMALE\"]))\n",
    "    .group_by(\"Island\", \"Sex\")\n",
    "    .agg(pl.col(\"Body Mass (g)\").mean())\n",
    ")\n",
    "mass"
   ]
  },
  {
   "cell_type": "code",
   "execution_count": 50,
   "id": "l-D02ra_48EW",
   "metadata": {
    "colab": {
     "base_uri": "https://localhost:8080/",
     "height": 514
    },
    "id": "l-D02ra_48EW",
    "outputId": "39b389ee-a031-409f-c40e-22be789c7535"
   },
   "outputs": [
    {
     "data": {
      "text/html": [
       "<figure class=\"plot-d6a7b5-figure\" style=\"max-width: initial; padding: 0px 5px 5px 5px; color: rgb(0, 0, 0); background-color: rgb(255, 255, 255);\" typstbg=\"#FFFFFF\" typstfg=\"#000000\" typstcaption=\"#777777\"><div class=\"plot-d6a7b5-swatches plot-d6a7b5-swatches-wrap\"><style>:where(.plot-d6a7b5-swatches) {\n",
       "  font-family: system-ui, sans-serif;\n",
       "  font-size: 10px;\n",
       "  margin-bottom: 0.5em;\n",
       "}\n",
       ":where(.plot-d6a7b5-swatch > svg) {\n",
       "  margin-right: 0.5em;\n",
       "  overflow: visible;\n",
       "}\n",
       ":where(.plot-d6a7b5-swatches-wrap) {\n",
       "  display: flex;\n",
       "  align-items: center;\n",
       "  min-height: 33px;\n",
       "  flex-wrap: wrap;\n",
       "}\n",
       ":where(.plot-d6a7b5-swatches-wrap .plot-d6a7b5-swatch) {\n",
       "  display: inline-flex;\n",
       "  align-items: center;\n",
       "  margin-right: 1em;\n",
       "}</style><span class=\"plot-d6a7b5-swatch\"><svg width=\"15\" height=\"15\" fill=\"#4269d0\" xmlns=\"http://www.w3.org/2000/svg\" xmlns:xlink=\"http://www.w3.org/1999/xlink\" style=\"color: rgb(0, 0, 0); background-color: rgb(255, 255, 255);\"><rect width=\"100%\" height=\"100%\"></rect></svg>FEMALE</span><span class=\"plot-d6a7b5-swatch\"><svg width=\"15\" height=\"15\" fill=\"#efb118\" xmlns=\"http://www.w3.org/2000/svg\" xmlns:xlink=\"http://www.w3.org/1999/xlink\" style=\"color: rgb(0, 0, 0); background-color: rgb(255, 255, 255);\"><rect width=\"100%\" height=\"100%\"></rect></svg>MALE</span></div><svg class=\"plot-d6a7b5\" fill=\"currentColor\" font-family=\"system-ui, sans-serif\" font-size=\"10\" text-anchor=\"middle\" width=\"640\" height=\"430\" viewBox=\"0 0 640 430\" xmlns=\"http://www.w3.org/2000/svg\" xmlns:xlink=\"http://www.w3.org/1999/xlink\" style=\"color: rgb(0, 0, 0); background-color: rgb(255, 255, 255);\"><style>:where(.plot-d6a7b5) {\n",
       "  --plot-background: white;\n",
       "  display: block;\n",
       "  height: auto;\n",
       "  height: intrinsic;\n",
       "  max-width: 100%;\n",
       "}\n",
       ":where(.plot-d6a7b5 text),\n",
       ":where(.plot-d6a7b5 tspan) {\n",
       "  white-space: pre;\n",
       "}</style><g aria-label=\"fx-axis tick label\" transform=\"translate(0,9)\"><g transform=\"translate(1,0)\"><text y=\"0.71em\" transform=\"translate(151,400)\">Biscoe</text></g><g transform=\"translate(192,0)\"><text y=\"0.71em\" transform=\"translate(151,400)\">Dream</text></g><g transform=\"translate(383,0)\"><text y=\"0.71em\" transform=\"translate(151,400)\">Torgersen</text></g></g><g aria-label=\"fx-axis label\" transform=\"translate(0,27)\"><text transform=\"translate(343,400)\">Island</text></g><g aria-label=\"y-axis tick\" aria-hidden=\"true\"><g fill=\"none\" stroke=\"currentColor\" transform=\"translate(1,0)\"><path transform=\"translate(65,400)\" d=\"M0,0L-6,0\"></path><path transform=\"translate(65,362.7780728152475)\" d=\"M0,0L-6,0\"></path><path transform=\"translate(65,325.55614563049505)\" d=\"M0,0L-6,0\"></path><path transform=\"translate(65,288.3342184457426)\" d=\"M0,0L-6,0\"></path><path transform=\"translate(65,251.11229126099013)\" d=\"M0,0L-6,0\"></path><path transform=\"translate(65,213.8903640762377)\" d=\"M0,0L-6,0\"></path><path transform=\"translate(65,176.66843689148521)\" d=\"M0,0L-6,0\"></path><path transform=\"translate(65,139.44650970673277)\" d=\"M0,0L-6,0\"></path><path transform=\"translate(65,102.2245825219803)\" d=\"M0,0L-6,0\"></path><path transform=\"translate(65,65.00265533722782)\" d=\"M0,0L-6,0\"></path><path transform=\"translate(65,27.780728152475366)\" d=\"M0,0L-6,0\"></path></g></g><g aria-label=\"y-axis tick label\" transform=\"translate(-9,0)\"><g text-anchor=\"end\" font-variant=\"tabular-nums\" transform=\"translate(1,0)\"><text y=\"0.32em\" transform=\"translate(65,400)\">0</text><text y=\"0.32em\" transform=\"translate(65,362.7780728152475)\">500</text><text y=\"0.32em\" transform=\"translate(65,325.55614563049505)\">1,000</text><text y=\"0.32em\" transform=\"translate(65,288.3342184457426)\">1,500</text><text y=\"0.32em\" transform=\"translate(65,251.11229126099013)\">2,000</text><text y=\"0.32em\" transform=\"translate(65,213.8903640762377)\">2,500</text><text y=\"0.32em\" transform=\"translate(65,176.66843689148521)\">3,000</text><text y=\"0.32em\" transform=\"translate(65,139.44650970673277)\">3,500</text><text y=\"0.32em\" transform=\"translate(65,102.2245825219803)\">4,000</text><text y=\"0.32em\" transform=\"translate(65,65.00265533722782)\">4,500</text><text y=\"0.32em\" transform=\"translate(65,27.780728152475366)\">5,000</text></g></g><g aria-label=\"y-axis label\" text-anchor=\"start\" transform=\"translate(-62,-17)\"><text y=\"0.71em\" transform=\"translate(66,20)\">↑ Body Mass</text></g><g aria-label=\"bar\"><g transform=\"translate(1,0)\"><rect x=\"74\" width=\"73\" y=\"78.44907653271964\" height=\"321.55092346728037\" fill=\"#4269d0\"></rect><rect x=\"155\" width=\"73\" y=\"20\" height=\"380\" fill=\"#efb118\"></rect></g><g transform=\"translate(192,0)\"><rect x=\"74\" width=\"73\" y=\"143.4432904126365\" height=\"256.5567095873635\" fill=\"#4269d0\"></rect><rect x=\"155\" width=\"73\" y=\"103.18514838481259\" height=\"296.8148516151874\" fill=\"#efb118\"></rect></g><g transform=\"translate(383,0)\"><rect x=\"74\" width=\"73\" y=\"147.2010778702228\" height=\"252.7989221297772\" fill=\"#4269d0\"></rect><rect x=\"155\" width=\"73\" y=\"99.63523106564968\" height=\"300.3647689343503\" fill=\"#efb118\"></rect></g></g></svg></figure>"
      ],
      "text/plain": [
       "<IPython.core.display.HTML object>"
      ]
     },
     "metadata": {},
     "output_type": "display_data"
    }
   ],
   "source": [
    "Plot.plot(\n",
    "    {\n",
    "        \"marginLeft\": 65,\n",
    "        \"x\": {\"axis\": None},\n",
    "        \"y\": {\"label\": \"Body Mass\"},\n",
    "        \"color\": {\"legend\": True},\n",
    "        \"marks\": [\n",
    "            Plot.barY(\n",
    "                mass, {\"x\": \"Sex\", \"y\": \"Body Mass (g)\", \"fx\": \"Island\", \"fill\": \"Sex\"}\n",
    "            )\n",
    "        ],\n",
    "    }\n",
    ")"
   ]
  },
  {
   "cell_type": "markdown",
   "id": "0Hjuzv4kEHGb",
   "metadata": {
    "id": "0Hjuzv4kEHGb"
   },
   "source": [
    "We can see that male penguins have more mass than female penguins on average, and that Biscoe tends to have larger penguins than the other two islands."
   ]
  }
 ],
 "metadata": {
  "colab": {
   "collapsed_sections": [
    "6169bd25-0dd8-4630-9714-6bd838e96506"
   ],
   "provenance": []
  },
  "dfnotebook": false,
  "enable_tags": true,
  "kernelspec": {
   "display_name": "fount",
   "language": "python",
   "name": "python3"
  },
  "language_info": {
   "codemirror_mode": {
    "name": "ipython",
    "version": 3
   },
   "file_extension": ".py",
   "mimetype": "text/x-python",
   "name": "python",
   "nbconvert_exporter": "python",
   "pygments_lexer": "ipython3",
   "version": "3.12.7"
  }
 },
 "nbformat": 4,
 "nbformat_minor": 5
}
